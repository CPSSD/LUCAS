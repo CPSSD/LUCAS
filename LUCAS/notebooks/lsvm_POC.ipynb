{
 "cells": [
  {
   "cell_type": "markdown",
   "metadata": {},
   "source": [
    "# SVM Binary Classification: Proof of Concept\n",
    "\n",
    "In this notebook I demonstrate the use of a leading ML algorithm, Support Vector Machine, as a binary classifier for Genuine and Deceptive reviews over the small ground truth Chicago Hotel dataset.\n",
    "\n",
    "The accuracies produced in this notebook are not to be trusted as they are based on a very small dataset (1600 samples) with a TINY testing set (480 samples). However, it shows a proof of concept using simple Bag-Of-Words features such as count vectorization and Tf-idf to give a baseline model to improve on with larger datasets and more features.\n",
    "\n",
    "Without further ado, let's continue.\n",
    "\n",
    "We start by importing the modules we need."
   ]
  },
  {
   "cell_type": "code",
   "execution_count": 1,
   "metadata": {},
   "outputs": [],
   "source": [
    "import os\n",
    "import numpy as np\n",
    "import pandas as pd\n",
    "import matplotlib.pyplot as plt"
   ]
  },
  {
   "cell_type": "code",
   "execution_count": 2,
   "metadata": {},
   "outputs": [],
   "source": [
    "neg_deceptive_folder_path = r\"../data/hotels/negative_polarity/deceptive_from_MTurk/\"\n",
    "neg_true_folder_path = r'../data/hotels/negative_polarity/truthful_from_Web/'\n",
    "pos_deceptive_folder_path = r'../data/hotels/positive_polarity/deceptive_from_MTurk/'\n",
    "pos_true_folder_path = r'../data/hotels/positive_polarity/truthful_from_TripAdvisor/'\n",
    "\n",
    "sentiment_class = []\n",
    "reviews = []\n",
    "deceptive_class =[]\n",
    "\n",
    "for i in range(1,6):\n",
    "    positive_true = pos_true_folder_path + 'fold' + str(i) \n",
    "    positive_deceptive = pos_deceptive_folder_path + 'fold' + str(i)\n",
    "    negative_true = neg_true_folder_path + 'fold' + str(i) \n",
    "    negative_deceptive = neg_deceptive_folder_path + 'fold' + str(i) \n",
    "    for data_file in sorted(os.listdir(negative_deceptive)):\n",
    "      sentiment_class.append('negative')\n",
    "      deceptive_class.append(str(data_file.split('_')[0]))\n",
    "      with open(os.path.join(negative_deceptive, data_file)) as f:\n",
    "        contents = f.read()\n",
    "        reviews.append(contents)\n",
    "    for data_file in sorted(os.listdir(negative_true)):\n",
    "      sentiment_class.append('negative')\n",
    "      deceptive_class.append(str(data_file.split('_')[0]))\n",
    "      with open(os.path.join(negative_true, data_file)) as f:\n",
    "        contents = f.read()\n",
    "        reviews.append(contents)\n",
    "    for data_file in sorted(os.listdir(positive_deceptive)):\n",
    "      sentiment_class.append('positive')\n",
    "      deceptive_class.append(str(data_file.split('_')[0]))\n",
    "      with open(os.path.join(positive_deceptive, data_file)) as f:\n",
    "        contents = f.read()\n",
    "        reviews.append(contents)\n",
    "    for data_file in sorted(os.listdir(positive_true)):\n",
    "      sentiment_class.append('positive')\n",
    "      deceptive_class.append(str(data_file.split('_')[0]))\n",
    "      with open(os.path.join(positive_true, data_file)) as f:\n",
    "        contents = f.read()\n",
    "        reviews.append(contents)\n",
    "\n",
    "\n",
    "df = pd.DataFrame({'sentiment':sentiment_class,'review':reviews,'deceptive':deceptive_class})\n",
    "\n",
    "df.loc[df['deceptive']=='d','deceptive']=1\n",
    "df.loc[df['deceptive']=='t','deceptive']=0\n",
    "\n",
    "df.loc[df['sentiment']=='positive','sentiment']=1\n",
    "df.loc[df['sentiment']=='negative','sentiment']=0\n",
    "\n",
    "X = df['review']\n",
    "\n",
    "y = np.asarray(df['deceptive'],dtype=int)"
   ]
  },
  {
   "cell_type": "markdown",
   "metadata": {},
   "source": [
    "Then, we split our data into training and testing. Experiment shows that 70/30 split is ideal. The random_state parameter lets us shuffle our data randomly."
   ]
  },
  {
   "cell_type": "code",
   "execution_count": 3,
   "metadata": {},
   "outputs": [],
   "source": [
    "from sklearn.model_selection import train_test_split\n",
    "\n",
    "X_train,X_test,y_train,y_test = train_test_split(X,y,test_size=0.3,random_state=42)"
   ]
  },
  {
   "cell_type": "code",
   "execution_count": 4,
   "metadata": {},
   "outputs": [],
   "source": [
    "from sklearn.feature_extraction.text import CountVectorizer\n",
    "from sklearn.feature_extraction.text import TfidfTransformer\n",
    "\n",
    "cv = CountVectorizer()\n",
    "tfidf = TfidfTransformer()"
   ]
  },
  {
   "cell_type": "code",
   "execution_count": 5,
   "metadata": {},
   "outputs": [],
   "source": [
    "X_train_count = cv.fit_transform(X_train) # Transforming the Training reviews to count vectors and fitting for TF-idf\n",
    "X_test_count = cv.transform(X_test) # Only transforming the test reviews to count vectors\n",
    "\n",
    "X_train_tfidf = tfidf.fit_transform(X_train_count) # Transforming the fitted training Count Vectors to Tfidf vectors\n",
    "X_test_tfidf = tfidf.transform(X_test_count) # Transforming test count vectors to tf-df vectors"
   ]
  },
  {
   "cell_type": "code",
   "execution_count": 8,
   "metadata": {},
   "outputs": [],
   "source": [
    "from sklearn import svm\n",
    "\n",
    "lsvm = svm.LinearSVC()"
   ]
  },
  {
   "cell_type": "code",
   "execution_count": 9,
   "metadata": {},
   "outputs": [
    {
     "data": {
      "text/plain": [
       "LinearSVC(C=1.0, class_weight=None, dual=True, fit_intercept=True,\n",
       "     intercept_scaling=1, loss='squared_hinge', max_iter=1000,\n",
       "     multi_class='ovr', penalty='l2', random_state=None, tol=0.0001,\n",
       "     verbose=0)"
      ]
     },
     "execution_count": 9,
     "metadata": {},
     "output_type": "execute_result"
    }
   ],
   "source": [
    "lsvm.fit(X_train_tfidf ,y_train)"
   ]
  },
  {
   "cell_type": "code",
   "execution_count": 10,
   "metadata": {},
   "outputs": [],
   "source": [
    "y_predictions = lsvm.predict(X_test_tfidf)"
   ]
  },
  {
   "cell_type": "code",
   "execution_count": 11,
   "metadata": {},
   "outputs": [
    {
     "name": "stdout",
     "output_type": "stream",
     "text": [
      "                                                Review Genuine(0)/Deceptive(1)\n",
      "0    I traveled to Chicago recently with my giant G...               Deceptive\n",
      "1    The Ambassador Hotel is located in Downtown Ch...               Deceptive\n",
      "2    I stayed here for a weekend while visiting som...                 Genuine\n",
      "3    My wife and I brought our daughter downtown fo...                 Genuine\n",
      "4    Booked this on priceline for an insanely low p...                 Genuine\n",
      "5    We arrived for a weekend stay and really enjoy...                 Genuine\n",
      "6    This is a great hotel! The views are fabulous,...                 Genuine\n",
      "7    Couldn't have asked for a better home base for...                 Genuine\n",
      "8    Just back from spending Memorial Day weekend i...                 Genuine\n",
      "9    Don't ever stay at this hotel!, Conrad Chicago...               Deceptive\n",
      "10   The Ambassador East Hotel is a business that c...               Deceptive\n",
      "11   I just had a conference there. They have bed b...               Deceptive\n",
      "12   Whatever you do, do NOT stay at the Homewood S...               Deceptive\n",
      "13   We became an Ambassador member just before spe...                 Genuine\n",
      "14   Recently returned from a two-night stay at Amb...               Deceptive\n",
      "15   After arriving at the Sofitel Chicago Water To...               Deceptive\n",
      "16   The James Hotel in Chicago looks nice on the w...               Deceptive\n",
      "17   For the price of the Marriott we spent a night...                 Genuine\n",
      "18   What was supposed to be a fun weekend getaway ...               Deceptive\n",
      "19   Home away from home! The suites are amazing wi...               Deceptive\n",
      "20   This is a review of a first class hotel the In...               Deceptive\n",
      "21   The magnificent mile in Chicago is a great pla...               Deceptive\n",
      "22   This was our second time staying here. We were...                 Genuine\n",
      "23   I booked my weekend Chicago stay at the Hard R...               Deceptive\n",
      "24   I had a business trip coming up in Chicago and...               Deceptive\n",
      "25   I stayed at the Millennium Knickerbocker Hotel...               Deceptive\n",
      "26   The Omni is in a fabulous location on Michigan...                 Genuine\n",
      "27   The Amalfi Hotel in Chicago was by far one of ...               Deceptive\n",
      "28   I recently stayed at the Affinia Hotel in Chic...               Deceptive\n",
      "29   I recently stayed at the Omni Chicago Hotel an...               Deceptive\n",
      "..                                                 ...                     ...\n",
      "450  I went to Chicago and We made a reservation to...               Deceptive\n",
      "451  I recently stayed at the Amalfi Hotel Chicago ...               Deceptive\n",
      "452  The concierge was so helpful. Without hesitati...                 Genuine\n",
      "453  We were disappointed with this hotel. The staf...                 Genuine\n",
      "454  Terrible experience, I will not stay here agai...               Deceptive\n",
      "455  If you want a 5-star hotel with 1-star service...               Deceptive\n",
      "456  My husband and I and our 10 month old took a q...                 Genuine\n",
      "457  Just what I needed at James: I can't tell you ...               Deceptive\n",
      "458  Having traveled to Chicago on business once be...               Deceptive\n",
      "459  The Ambassador East is a particularly crappy p...                 Genuine\n",
      "460  I booked this hotel for a business trip since ...                 Genuine\n",
      "461  I would not recommend this hotel. Although it ...                 Genuine\n",
      "462  The InterContinental Chicago is located in the...               Deceptive\n",
      "463  The Hard Rock should stick to restaurants. Aft...               Deceptive\n",
      "464  Going to the Internet Retailer 2010 at the las...                 Genuine\n",
      "465  This hotel was chosen by my husband's company ...                 Genuine\n",
      "466  I can't recall another time I've had to deal w...               Deceptive\n",
      "467  Me and my business associate had a job in Chic...               Deceptive\n",
      "468  The service was only subpar and then rooms nee...               Deceptive\n",
      "469  We stayed here because of the enthusiastic pos...                 Genuine\n",
      "470  The Swissotel Chicago hotel aspires to be a to...               Deceptive\n",
      "471  The location of this hotel was excellent as it...                 Genuine\n",
      "472  We stayed at the Palmer House Hilton in early ...                 Genuine\n",
      "473  We were hungry and tired when we checked into ...                 Genuine\n",
      "474  I actually booked this reservation with the ho...                 Genuine\n",
      "475  Don't let the website fool you. I stayed at th...               Deceptive\n",
      "476  Stayed here for 5 nights while visiting Chicag...                 Genuine\n",
      "477  my husband and l stayed here after a very hect...               Deceptive\n",
      "478  Me and my wife recently stayed at the Hilton C...               Deceptive\n",
      "479  The best service!!! The staff here was incredi...                 Genuine\n",
      "\n",
      "[480 rows x 2 columns]\n",
      "              precision    recall  f1-score   support\n",
      "\n",
      "   Deceptive       0.89      0.86      0.88       240\n",
      "     Genuine       0.87      0.89      0.88       240\n",
      "\n",
      "   micro avg       0.88      0.88      0.88       480\n",
      "   macro avg       0.88      0.88      0.88       480\n",
      "weighted avg       0.88      0.88      0.88       480\n",
      "\n",
      "Overall accuracy:  0.8770833333333333\n"
     ]
    }
   ],
   "source": [
    "from sklearn import metrics\n",
    "\n",
    "yp=[\"Genuine\" if prediction == 0 else \"Deceptive\" for prediction in list(y_predictions)]\n",
    "output_fm = pd.DataFrame({'Review':list(X_test) ,'Genuine(0)/Deceptive(1)':yp})\n",
    "print(output_fm)\n",
    "print(metrics.classification_report(y_test, y_predictions, target_names=set(yp)))\n",
    "\n",
    "print(\"Overall accuracy: \", lsvm.score(X_test_tfidf, y_test))"
   ]
  },
  {
   "cell_type": "code",
   "execution_count": null,
   "metadata": {},
   "outputs": [],
   "source": []
  }
 ],
 "metadata": {
  "kernelspec": {
   "display_name": "Python (lucas)",
   "language": "python",
   "name": "lucas"
  },
  "language_info": {
   "codemirror_mode": {
    "name": "ipython",
    "version": 3
   },
   "file_extension": ".py",
   "mimetype": "text/x-python",
   "name": "python",
   "nbconvert_exporter": "python",
   "pygments_lexer": "ipython3",
   "version": "3.7.1"
  },
  "toc": {
   "base_numbering": 1,
   "nav_menu": {},
   "number_sections": true,
   "sideBar": true,
   "skip_h1_title": false,
   "title_cell": "Table of Contents",
   "title_sidebar": "Contents",
   "toc_cell": false,
   "toc_position": {},
   "toc_section_display": true,
   "toc_window_display": false
  }
 },
 "nbformat": 4,
 "nbformat_minor": 2
}
