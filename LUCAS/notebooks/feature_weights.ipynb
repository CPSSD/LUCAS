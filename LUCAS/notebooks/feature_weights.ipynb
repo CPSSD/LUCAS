{
 "cells": [
  {
   "cell_type": "markdown",
   "metadata": {},
   "source": [
    "# Ranking feature importance based on class membership feature weights"
   ]
  },
  {
   "cell_type": "markdown",
   "metadata": {},
   "source": [
    "In order to get more insight into how our classifiers are making a decision, and display this insight in our webapp, we wish to gather an idea of feature classification importance. The inspiration for this came from this image:\n",
    "![Representation of feature weights](https://blog.openai.com/content/images/2017/04/sentiment-prediction.png)\n",
    "\n",
    "<sup>(you can find the full animation in OpenAI's Sentiment Neuron research paper [here](https://blog.openai.com/unsupervised-sentiment-neuron/) )</sup>"
   ]
  },
  {
   "cell_type": "markdown",
   "metadata": {},
   "source": [
    "To demonstrate how this is done, we use the LinearSVM classifer that was shown to be the best performer in the cross-comparison notebook. We simply extract the coefficients after training the classifier, match vocabularly indices to coefficients, and return them in tuples. Let's begin the process below, by importing the libraries we need, and setting up the classifier as before."
   ]
  },
  {
   "cell_type": "code",
   "execution_count": 1,
   "metadata": {},
   "outputs": [],
   "source": [
    "import os\n",
    "import numpy as np\n",
    "import pandas as pd\n",
    "import matplotlib.pyplot as plt\n",
    "from sklearn import metrics\n",
    "from sklearn.feature_extraction.text import CountVectorizer\n",
    "from sklearn.feature_extraction.text import TfidfTransformer\n",
    "from sklearn.svm import NuSVC\n",
    "from sklearn.model_selection import train_test_split\n",
    "from get_df import get_data_frame"
   ]
  },
  {
   "cell_type": "code",
   "execution_count": 5,
   "metadata": {},
   "outputs": [
    {
     "data": {
      "text/plain": [
       "LinearSVC(C=1.0, class_weight=None, dual=True, fit_intercept=True,\n",
       "     intercept_scaling=1, loss='squared_hinge', max_iter=1000,\n",
       "     multi_class='ovr', penalty='l2', random_state=0, tol=0.0001,\n",
       "     verbose=0)"
      ]
     },
     "execution_count": 5,
     "metadata": {},
     "output_type": "execute_result"
    }
   ],
   "source": [
    "data_fm = get_data_frame()\n",
    "\n",
    "data_fm.loc[data_fm['deceptive']=='d','deceptive']=1\n",
    "data_fm.loc[data_fm['deceptive']=='t','deceptive']=0\n",
    "\n",
    "data_fm.loc[data_fm['sentiment']=='positive','sentiment']=1\n",
    "data_fm.loc[data_fm['sentiment']=='negative','sentiment']=0\n",
    "\n",
    "data_x = data_fm['review']\n",
    "\n",
    "data_y = np.asarray(data_fm['deceptive'],dtype=int)\n",
    "\n",
    "X_train, X_test, y_train, y_test = train_test_split(data_x, data_y, test_size=0.3, random_state=0)\n",
    "\n",
    "cv = CountVectorizer()\n",
    "tfidf = TfidfTransformer()\n",
    "\n",
    "X_train_count = cv.fit_transform(X_train) # Transforming the Training reviews to count vectors and fitting for TF-idf\n",
    "X_test_count = cv.transform(X_test) # Only transforming the test reviews to count vectors\n",
    "\n",
    "X_train_tfidf = tfidf.fit_transform(X_train_count) # Transforming the fitted training Count Vectors\n",
    "X_test_tfidf = tfidf.transform(X_test_count) \n",
    "\n",
    "feature_names = cv.get_feature_names()\n",
    "\n",
    "model = LinearSVC(random_state=0) # Starting seed\n",
    "model.fit(X_train_tfidf, y_train) \n"
   ]
  },
  {
   "cell_type": "markdown",
   "metadata": {},
   "source": [
    "We then define a function to help us visualise the coefficient weights."
   ]
  },
  {
   "cell_type": "code",
   "execution_count": 7,
   "metadata": {},
   "outputs": [],
   "source": [
    "def plot_coefficients(classifier, feature_names, top_features=20):\n",
    " coef = classifier.coef_.ravel()\n",
    " top_positive_coefficients = np.argsort(coef)[-top_features:]\n",
    " top_negative_coefficients = np.argsort(coef)[:top_features]\n",
    " top_coefficients = np.hstack([top_negative_coefficients, top_positive_coefficients])\n",
    " # create plot\n",
    " plt.figure(figsize=(15, 5))\n",
    " colors = ['red' if c < 0 else 'blue' for c in coef[top_coefficients]]\n",
    " plt.bar(np.arange(2 * top_features), coef[top_coefficients], color=colors)\n",
    " feature_names = np.array(feature_names)\n",
    " print(top_coefficients)\n",
    " print(coef[top_coefficients])\n",
    " print(feature_names[top_coefficients])\n",
    " plt.xticks(np.arange(1, 1 + 2 * top_features), feature_names[top_coefficients], rotation=60, ha='right')\n",
    " plt.show()"
   ]
  },
  {
   "cell_type": "markdown",
   "metadata": {},
   "source": [
    "Now let's run our model over our test set and plot the feature coefficients."
   ]
  },
  {
   "cell_type": "code",
   "execution_count": 8,
   "metadata": {},
   "outputs": [
    {
     "name": "stdout",
     "output_type": "stream",
     "text": [
      "                                                Review True(0)/Deceptive(1)\n",
      "0      (0, 8153)\\t0.06649075057280888\\n  (0, 8136)\\...              Genuine\n",
      "1      (0, 8067)\\t0.057664501423470314\\n  (0, 8039)...            Deceptive\n",
      "2      (0, 8115)\\t0.10299399585475007\\n  (0, 8082)\\...              Genuine\n",
      "3      (0, 8082)\\t0.07548347852701458\\n  (0, 8069)\\...              Genuine\n",
      "4      (0, 8153)\\t0.03647649120716597\\n  (0, 8115)\\...            Deceptive\n",
      "5      (0, 8153)\\t0.03518636481873234\\n  (0, 8115)\\...              Genuine\n",
      "6      (0, 8094)\\t0.04737467595730813\\n  (0, 8067)\\...            Deceptive\n",
      "7      (0, 8153)\\t0.04437056918219143\\n  (0, 8003)\\...            Deceptive\n",
      "8      (0, 8145)\\t0.12771110389490228\\n  (0, 8039)\\...              Genuine\n",
      "9      (0, 8067)\\t0.07472075779268482\\n  (0, 8047)\\...              Genuine\n",
      "10     (0, 8115)\\t0.10567803265159474\\n  (0, 8100)\\...              Genuine\n",
      "11     (0, 8115)\\t0.05611106669814392\\n  (0, 8094)\\...            Deceptive\n",
      "12     (0, 8115)\\t0.04537108378505962\\n  (0, 8067)\\...              Genuine\n",
      "13     (0, 8156)\\t0.06261110723663989\\n  (0, 8153)\\...            Deceptive\n",
      "14     (0, 8153)\\t0.09391180961598992\\n  (0, 8115)\\...              Genuine\n",
      "15     (0, 8067)\\t0.04901970502199256\\n  (0, 7992)\\...              Genuine\n",
      "16     (0, 8153)\\t0.06578461947652416\\n  (0, 8147)\\...              Genuine\n",
      "17     (0, 8014)\\t0.05121924185940201\\n  (0, 7991)\\...            Deceptive\n",
      "18     (0, 8136)\\t0.0430350797205801\\n  (0, 8115)\\t...              Genuine\n",
      "19     (0, 8067)\\t0.10269120837500467\\n  (0, 7992)\\...              Genuine\n",
      "20     (0, 8115)\\t0.05008426184606424\\n  (0, 8100)\\...            Deceptive\n",
      "21     (0, 7991)\\t0.07916330641441341\\n  (0, 7956)\\...            Deceptive\n",
      "22     (0, 8145)\\t0.22370077481252673\\n  (0, 8067)\\...            Deceptive\n",
      "23     (0, 8067)\\t0.05258332595717137\\n  (0, 8007)\\...            Deceptive\n",
      "24     (0, 8111)\\t0.10844730794992109\\n  (0, 8069)\\...            Deceptive\n",
      "25     (0, 8082)\\t0.0940630708637407\\n  (0, 8067)\\t...            Deceptive\n",
      "26     (0, 8156)\\t0.14170299310844184\\n  (0, 8153)\\...              Genuine\n",
      "27     (0, 8089)\\t0.1314171665936435\\n  (0, 8067)\\t...            Deceptive\n",
      "28     (0, 8136)\\t0.2831956490620249\\n  (0, 8068)\\t...              Genuine\n",
      "29     (0, 8115)\\t0.03571331414488647\\n  (0, 8111)\\...            Deceptive\n",
      "..                                                 ...                  ...\n",
      "450    (0, 8115)\\t0.06956020430258238\\n  (0, 7992)\\...            Deceptive\n",
      "451    (0, 8156)\\t0.086812278854302\\n  (0, 8115)\\t0...            Deceptive\n",
      "452    (0, 8039)\\t0.10549987264203976\\n  (0, 8007)\\...              Genuine\n",
      "453    (0, 8156)\\t0.0724521017014596\\n  (0, 8153)\\t...              Genuine\n",
      "454    (0, 8153)\\t0.12276283634892819\\n  (0, 8007)\\...              Genuine\n",
      "455    (0, 8115)\\t0.058247883870103566\\n  (0, 7992)...              Genuine\n",
      "456    (0, 8153)\\t0.03963212202366543\\n  (0, 8115)\\...            Deceptive\n",
      "457    (0, 8085)\\t0.1413364998873469\\n  (0, 8067)\\t...            Deceptive\n",
      "458    (0, 8069)\\t0.0819007203550614\\n  (0, 8067)\\t...              Genuine\n",
      "459    (0, 8115)\\t0.04597825603312307\\n  (0, 7992)\\...              Genuine\n",
      "460    (0, 8134)\\t0.22827518469375857\\n  (0, 7964)\\...              Genuine\n",
      "461    (0, 8115)\\t0.04960676211875615\\n  (0, 8111)\\...            Deceptive\n",
      "462    (0, 8153)\\t0.03336347800700389\\n  (0, 8136)\\...            Deceptive\n",
      "463    (0, 8153)\\t0.05854116166323811\\n  (0, 8115)\\...            Deceptive\n",
      "464    (0, 8153)\\t0.08578455292481366\\n  (0, 8145)\\...              Genuine\n",
      "465    (0, 8156)\\t0.09265912489733841\\n  (0, 8067)\\...              Genuine\n",
      "466    (0, 8039)\\t0.08574522253657504\\n  (0, 7925)\\...            Deceptive\n",
      "467    (0, 8153)\\t0.061159013734955914\\n  (0, 8115)...            Deceptive\n",
      "468    (0, 8115)\\t0.04153208660686489\\n  (0, 8067)\\...              Genuine\n",
      "469    (0, 8153)\\t0.07275827909033944\\n  (0, 7954)\\...              Genuine\n",
      "470    (0, 8115)\\t0.04242019555772234\\n  (0, 7988)\\...              Genuine\n",
      "471    (0, 8156)\\t0.08171375983807426\\n  (0, 8115)\\...              Genuine\n",
      "472    (0, 8153)\\t0.04194564027932346\\n  (0, 8128)\\...            Deceptive\n",
      "473    (0, 8082)\\t0.06343223398118833\\n  (0, 8078)\\...              Genuine\n",
      "474    (0, 8153)\\t0.06601776205342631\\n  (0, 8067)\\...              Genuine\n",
      "475    (0, 8094)\\t0.1106132003888227\\n  (0, 8036)\\t...              Genuine\n",
      "476    (0, 8153)\\t0.07723022903589145\\n  (0, 8067)\\...            Deceptive\n",
      "477    (0, 8115)\\t0.06621900649430917\\n  (0, 8067)\\...              Genuine\n",
      "478    (0, 8153)\\t0.08236771726076315\\n  (0, 8116)\\...              Genuine\n",
      "479    (0, 8100)\\t0.08417790802472219\\n  (0, 8067)\\...              Genuine\n",
      "\n",
      "[480 rows x 2 columns]\n",
      "              precision    recall  f1-score   support\n",
      "\n",
      "   Deceptive       0.87      0.91      0.89       227\n",
      "     Genuine       0.92      0.88      0.90       253\n",
      "\n",
      "   micro avg       0.89      0.89      0.89       480\n",
      "   macro avg       0.89      0.89      0.89       480\n",
      "weighted avg       0.89      0.89      0.89       480\n",
      "\n",
      "[2988 4306 1128 3519 1712 5518 6958 5670 6627 1762 7891 5708 6032 6046\n",
      " 1256 2356 5001 1257 4296 1689  772 3494 2683 3020 8007 6325 5872 2757\n",
      " 7436  676 3683 4327 5848 2921 7772 3640 4608 4392 4757 1446]\n",
      "[-1.79967009 -1.75774497 -1.45192518 -1.31197512 -1.2875331  -1.28263069\n",
      " -1.26776163 -1.10685856 -1.1041069  -1.07507042 -1.04202977 -1.02920301\n",
      " -0.99643079 -0.991642   -0.98663971 -0.98053037 -0.96707068 -0.92935306\n",
      " -0.92453042 -0.90738066  0.92358742  0.92604398  0.93436663  0.94281407\n",
      "  0.95643986  0.96592149  0.96780891  0.99784757  1.02438127  1.05382307\n",
      "  1.06429103  1.06517743  1.07092736  1.11235386  1.18928615  1.25389295\n",
      "  1.30770345  1.65112042  2.22207622  3.27813982]\n",
      "['floor' 'location' 'breakfast' 'helpful' 'conference' 'priceline'\n",
      " 'street' 'quiet' 'small' 'construction' 'walk' 'rate' 'returned'\n",
      " 'reviews' 'call' 'doorman' 'on' 'called' 'lobby' 'concierge' 'available'\n",
      " 'heart' 'ever' 'food' 'when' 'seemed' 'relaxing' 'experience' 'towels'\n",
      " 'ask' 'husband' 'looking' 'regency' 'finally' 'vacation' 'hotel'\n",
      " 'millennium' 'luxury' 'my' 'chicago']\n"
     ]
    },
    {
     "data": {
      "image/png": "[encoded data removed]",
      "text/plain": [
       "<Figure size 1080x360 with 1 Axes>"
      ]
     },
     "metadata": {
      "needs_background": "light"
     },
     "output_type": "display_data"
    }
   ],
   "source": [
    "y_predictions = model.predict(X_test_tfidf)\n",
    "\n",
    "yp=[\"Genuine\" if prediction == 0 else \"Deceptive\" for prediction in list(y_predictions)]\n",
    "output_fm = pd.DataFrame({'Review':list(X_test_tfidf) ,'True(0)/Deceptive(1)':yp})\n",
    "print(output_fm)\n",
    "print(metrics.classification_report(y_test, y_predictions, target_names=set(yp)))\n",
    "plot_coefficients(model, cv.get_feature_names())"
   ]
  },
  {
   "cell_type": "code",
   "execution_count": null,
   "metadata": {},
   "outputs": [],
   "source": []
  }
 ],
 "metadata": {
  "kernelspec": {
   "display_name": "Python (lucas)",
   "language": "python",
   "name": "lucas"
  },
  "language_info": {
   "codemirror_mode": {
    "name": "ipython",
    "version": 3
   },
   "file_extension": ".py",
   "mimetype": "text/x-python",
   "name": "python",
   "nbconvert_exporter": "python",
   "pygments_lexer": "ipython3",
   "version": "3.7.1"
  },
  "toc": {
   "base_numbering": 1,
   "nav_menu": {},
   "number_sections": true,
   "sideBar": true,
   "skip_h1_title": false,
   "title_cell": "Table of Contents",
   "title_sidebar": "Contents",
   "toc_cell": false,
   "toc_position": {},
   "toc_section_display": true,
   "toc_window_display": false
  }
 },
 "nbformat": 4,
 "nbformat_minor": 2
}
