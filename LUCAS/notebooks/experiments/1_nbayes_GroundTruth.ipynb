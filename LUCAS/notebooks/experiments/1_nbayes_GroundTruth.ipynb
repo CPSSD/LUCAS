{
 "cells": [
  {
   "cell_type": "markdown",
   "metadata": {},
   "source": [
    "# Training & Testing on Single Domain (Ground Truth)"
   ]
  },
  {
   "cell_type": "markdown",
   "metadata": {},
   "source": [
    "This experiment uses a 'ground truth' labelled dataset of NYC Resteraunt reviews from Yelp. This dataset has 359,052 reviews so should be sufficient for training.\n",
    "\n",
    "The aim of this experiment is to produce a benchmark from which we can compare our explorative experiments. This is the first of a number of experiments using statistical modelling, all of which are done with the aim of finding a benchmark. \n",
    "\n",
    "This time we will use:\n",
    "* Bag of words to convert our review description to usable predictor features\n",
    "* Date ordinals to convert our dates to usable predictor features\n",
    "* Complement Naive Bayes to produce our model"
   ]
  },
  {
   "cell_type": "markdown",
   "metadata": {},
   "source": [
    "First, to access our project files we add the project directory to PYTHONPATH"
   ]
  },
  {
   "cell_type": "code",
   "execution_count": 1,
   "metadata": {},
   "outputs": [],
   "source": [
    "import sys, os\n",
    "sys.path.append(os.path.join(os.getcwd(), '..'))"
   ]
  },
  {
   "cell_type": "markdown",
   "metadata": {},
   "source": [
    "Our data is located in the following file:"
   ]
  },
  {
   "cell_type": "code",
   "execution_count": 2,
   "metadata": {},
   "outputs": [],
   "source": [
    "data_file_path = 'data/yelpNYC'"
   ]
  },
  {
   "cell_type": "markdown",
   "metadata": {},
   "source": [
    "Our data is in protobuf format, so we read it into the ReviewSet protobuffer."
   ]
  },
  {
   "cell_type": "code",
   "execution_count": 3,
   "metadata": {},
   "outputs": [],
   "source": [
    "from protos import review_set_pb2\n",
    "review_set = review_set_pb2.ReviewSet()\n",
    "with open(data_file_path, 'rb') as f:\n",
    "  review_set.ParseFromString(f.read())"
   ]
  },
  {
   "cell_type": "markdown",
   "metadata": {},
   "source": [
    "Let's take a look at our data. We use the following features from our data:\n",
    "* Review Content. The actual text description of the restaurant.\n",
    "* Date user left review.\n",
    "* ID of the user that left the review\n",
    "* ID of the product the review is being left on\n",
    "\n",
    "And also the label (Fake = True, Genuine = False)"
   ]
  },
  {
   "cell_type": "code",
   "execution_count": 4,
   "metadata": {},
   "outputs": [
    {
     "data": {
      "text/html": [
       "<div>\n",
       "<style scoped>\n",
       "    .dataframe tbody tr th:only-of-type {\n",
       "        vertical-align: middle;\n",
       "    }\n",
       "\n",
       "    .dataframe tbody tr th {\n",
       "        vertical-align: top;\n",
       "    }\n",
       "\n",
       "    .dataframe thead th {\n",
       "        text-align: right;\n",
       "    }\n",
       "</style>\n",
       "<table border=\"1\" class=\"dataframe\">\n",
       "  <thead>\n",
       "    <tr style=\"text-align: right;\">\n",
       "      <th></th>\n",
       "      <th>review content</th>\n",
       "      <th>date</th>\n",
       "      <th>user id</th>\n",
       "      <th>product id</th>\n",
       "      <th>label</th>\n",
       "    </tr>\n",
       "  </thead>\n",
       "  <tbody>\n",
       "    <tr>\n",
       "      <th>0</th>\n",
       "      <td>The food at snack is a selection of popular Gr...</td>\n",
       "      <td>2014-12-08</td>\n",
       "      <td>923</td>\n",
       "      <td>0</td>\n",
       "      <td>True</td>\n",
       "    </tr>\n",
       "    <tr>\n",
       "      <th>1</th>\n",
       "      <td>This little place in Soho is wonderful. I had ...</td>\n",
       "      <td>2013-05-16</td>\n",
       "      <td>924</td>\n",
       "      <td>0</td>\n",
       "      <td>True</td>\n",
       "    </tr>\n",
       "    <tr>\n",
       "      <th>2</th>\n",
       "      <td>ordered lunch for 15 from Snack last Friday.  ...</td>\n",
       "      <td>2013-07-01</td>\n",
       "      <td>925</td>\n",
       "      <td>0</td>\n",
       "      <td>True</td>\n",
       "    </tr>\n",
       "    <tr>\n",
       "      <th>3</th>\n",
       "      <td>This is a beautiful quaint little restaurant o...</td>\n",
       "      <td>2011-07-28</td>\n",
       "      <td>926</td>\n",
       "      <td>0</td>\n",
       "      <td>True</td>\n",
       "    </tr>\n",
       "    <tr>\n",
       "      <th>4</th>\n",
       "      <td>Snack is great place for a  casual sit down lu...</td>\n",
       "      <td>2010-11-01</td>\n",
       "      <td>927</td>\n",
       "      <td>0</td>\n",
       "      <td>True</td>\n",
       "    </tr>\n",
       "  </tbody>\n",
       "</table>\n",
       "</div>"
      ],
      "text/plain": [
       "                                      review content        date  user id  \\\n",
       "0  The food at snack is a selection of popular Gr...  2014-12-08      923   \n",
       "1  This little place in Soho is wonderful. I had ...  2013-05-16      924   \n",
       "2  ordered lunch for 15 from Snack last Friday.  ...  2013-07-01      925   \n",
       "3  This is a beautiful quaint little restaurant o...  2011-07-28      926   \n",
       "4  Snack is great place for a  casual sit down lu...  2010-11-01      927   \n",
       "\n",
       "   product id  label  \n",
       "0           0   True  \n",
       "1           0   True  \n",
       "2           0   True  \n",
       "3           0   True  \n",
       "4           0   True  "
      ]
     },
     "execution_count": 4,
     "metadata": {},
     "output_type": "execute_result"
    }
   ],
   "source": [
    "import pandas\n",
    "\n",
    "frame_data = {\n",
    "    \"review content\": [],\n",
    "    \"date\": [],\n",
    "    \"user id\": [],\n",
    "    \"product id\": [],\n",
    "    \"label\": []\n",
    "}\n",
    "for review in review_set.reviews:  \n",
    "  frame_data[\"review content\"].append(review.review_content)\n",
    "  frame_data[\"date\"].append(review.date)\n",
    "  frame_data[\"user id\"].append(review.user_id)\n",
    "  frame_data[\"product id\"].append(review.product_id)\n",
    "  frame_data[\"label\"].append(review.label)\n",
    "\n",
    "data_frame = pandas.DataFrame(frame_data)\n",
    "data_frame.head()"
   ]
  },
  {
   "cell_type": "markdown",
   "metadata": {},
   "source": [
    "Now we will shuffle our dataset. Since we will be doing cross validation we will prepare our entire sample set, and we  split it later during cross validation."
   ]
  },
  {
   "cell_type": "code",
   "execution_count": 5,
   "metadata": {},
   "outputs": [],
   "source": [
    "from sklearn.utils import shuffle\n",
    "X_reviews = shuffle(review_set.reviews)"
   ]
  },
  {
   "cell_type": "markdown",
   "metadata": {},
   "source": [
    "Next we will convert our review content into features. We will use Bag of Words to convert the text to a usable format. In scikit-learn the Bag of Words format is created using a CountVectorizer."
   ]
  },
  {
   "cell_type": "code",
   "execution_count": 6,
   "metadata": {},
   "outputs": [
    {
     "data": {
      "text/plain": [
       "(359052, 128280)"
      ]
     },
     "execution_count": 6,
     "metadata": {},
     "output_type": "execute_result"
    }
   ],
   "source": [
    "X_review_content = [x.review_content for x in X_reviews]\n",
    "\n",
    "from sklearn.feature_extraction.text import CountVectorizer\n",
    "count_vect = CountVectorizer()\n",
    "X_counts = count_vect.fit_transform(X_review_content)\n",
    "X_counts.shape"
   ]
  },
  {
   "cell_type": "markdown",
   "metadata": {},
   "source": [
    "Next we convert the dates to numerical ordinals, so we can use them as a feature."
   ]
  },
  {
   "cell_type": "code",
   "execution_count": 7,
   "metadata": {},
   "outputs": [],
   "source": [
    "from datetime import datetime as dt\n",
    "def extract_date_ordinals(reviews):\n",
    "  return [dt.strptime(x.date, '%Y-%m-%d').date().toordinal() for x in reviews]\n",
    "\n",
    "X_date_ordinals = extract_date_ordinals(X_reviews)"
   ]
  },
  {
   "cell_type": "markdown",
   "metadata": {},
   "source": [
    "Next we can simply read our user ids and product ids. They are already numbers."
   ]
  },
  {
   "cell_type": "code",
   "execution_count": 8,
   "metadata": {},
   "outputs": [],
   "source": [
    "X_user_ids = [x.user_id for x in X_reviews]\n",
    "X_product_ids = [x.product_id for x in X_reviews]"
   ]
  },
  {
   "cell_type": "markdown",
   "metadata": {},
   "source": [
    "Now we put our features together. The sparse features from Bag of Words overshadows our dense features (date). We put this into a format we can train/test on:"
   ]
  },
  {
   "cell_type": "code",
   "execution_count": 9,
   "metadata": {},
   "outputs": [],
   "source": [
    "from scipy.sparse import coo_matrix, hstack\n",
    "def format_column(features_row):\n",
    "  return coo_matrix([[x] for x in features_row])\n",
    "\n",
    "def stack_features(counts, ordinals, user_ids, product_ids):\n",
    "  return hstack([counts, format_column(ordinals), format_column(user_ids), format_column(product_ids)])\n",
    "\n",
    "predictor_data = stack_features(X_counts, X_date_ordinals, X_user_ids, X_product_ids)"
   ]
  },
  {
   "cell_type": "markdown",
   "metadata": {},
   "source": [
    "And preparing the targets:"
   ]
  },
  {
   "cell_type": "code",
   "execution_count": 10,
   "metadata": {},
   "outputs": [],
   "source": [
    "targets = [1 if x.label else 0 for x in X_reviews]"
   ]
  },
  {
   "cell_type": "markdown",
   "metadata": {},
   "source": [
    "We will use Complement Naive Bayes to generate our model."
   ]
  },
  {
   "cell_type": "code",
   "execution_count": 11,
   "metadata": {},
   "outputs": [],
   "source": [
    "from sklearn.naive_bayes import ComplementNB\n",
    "cnb = ComplementNB()"
   ]
  },
  {
   "cell_type": "markdown",
   "metadata": {},
   "source": [
    "Alright! Now let's test what we have. We will use cross validation here, splitting our set into 10."
   ]
  },
  {
   "cell_type": "code",
   "execution_count": 12,
   "metadata": {},
   "outputs": [
    {
     "data": {
      "text/plain": [
       "{'fit_time': array([1.18505359, 1.26089787, 1.03071284, 1.01075435, 1.01910639,\n",
       "        1.06638956, 1.01255083, 1.01158953, 1.01455379, 1.02667451]),\n",
       " 'score_time': array([0.05481863, 0.05596185, 0.03254151, 0.03274274, 0.03354454,\n",
       "        0.03227592, 0.03401256, 0.03233457, 0.03264117, 0.03322887]),\n",
       " 'test_score': array([0.66158859, 0.66055812, 0.65671476, 0.66189495, 0.66420654,\n",
       "        0.66252611, 0.6621919 , 0.6637422 , 0.65884024, 0.65931373])}"
      ]
     },
     "execution_count": 12,
     "metadata": {},
     "output_type": "execute_result"
    }
   ],
   "source": [
    "from sklearn.model_selection import cross_validate\n",
    "cross_validate(cnb, predictor_data, targets, cv=10, return_train_score=False)"
   ]
  },
  {
   "cell_type": "markdown",
   "metadata": {},
   "source": [
    "* When the only features were review_content (Bag of words) and date, the score was around 0.52. Adding user_id and product_id increased this to around 0.66\n",
    "* When then reducing the number of genuine reviews to match the number of fake reviews, the accuracy increases to 0.88.\n",
    "* When using Multinomail NB with reduced size genuine reviews it is also around 0.88.\n",
    "* Using MultinomialNB with all data gives us around 0.66"
   ]
  }
 ],
 "metadata": {
  "kernelspec": {
   "display_name": "Python [default]",
   "language": "python",
   "name": "python3"
  },
  "language_info": {
   "codemirror_mode": {
    "name": "ipython",
    "version": 3
   },
   "file_extension": ".py",
   "mimetype": "text/x-python",
   "name": "python",
   "nbconvert_exporter": "python",
   "pygments_lexer": "ipython3",
   "version": "3.7.1"
  },
  "toc": {
   "base_numbering": 1,
   "nav_menu": {},
   "number_sections": true,
   "sideBar": true,
   "skip_h1_title": false,
   "title_cell": "Table of Contents",
   "title_sidebar": "Contents",
   "toc_cell": false,
   "toc_position": {},
   "toc_section_display": true,
   "toc_window_display": false
  }
 },
 "nbformat": 4,
 "nbformat_minor": 2
}
