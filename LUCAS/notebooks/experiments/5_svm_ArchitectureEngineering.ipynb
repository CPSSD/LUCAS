{
 "cells": [
  {
   "cell_type": "markdown",
   "metadata": {},
   "source": [
    "# A deeper look at SVM architectures"
   ]
  },
  {
   "cell_type": "markdown",
   "metadata": {},
   "source": [
    "In the last experiment that we ran, where we used a LinearSVM without changing any of the deafult parameters or feaure engineering, we achieved an accuracy of 63%. It also gave us convergence warnings for the linear kernel.\n",
    "In this notebook we will iterate over the SVM design and try different approaches to the problem using this classifier.\n",
    "Let's import what we need."
   ]
  },
  {
   "cell_type": "code",
   "execution_count": 13,
   "metadata": {},
   "outputs": [],
   "source": [
    "import nltk\n",
    "import numpy as np\n",
    "import pandas as pd\n",
    "import matplotlib.pyplot as plt\n",
    "from exp4_data_feature_extraction import get_balanced_dataset\n",
    "from scripts import training_helpers"
   ]
  },
  {
   "cell_type": "code",
   "execution_count": 14,
   "metadata": {},
   "outputs": [],
   "source": [
    "from sklearn.pipeline import Pipeline\n",
    "from sklearn.svm import LinearSVC\n",
    "from sklearn.svm import NuSVC"
   ]
  },
  {
   "cell_type": "code",
   "execution_count": 15,
   "metadata": {},
   "outputs": [],
   "source": [
    "reviews_set, fake_reviews, genuine_reviews, unused_genuine_reviews = get_balanced_dataset()"
   ]
  },
  {
   "cell_type": "code",
   "execution_count": 133,
   "metadata": {},
   "outputs": [],
   "source": [
    "all_reviews = reviews_set\n",
    "\n",
    "X = [x.review_content for x in all_reviews]\n",
    "y = [1 if x.label else 0 for x in all_reviews]"
   ]
  },
  {
   "cell_type": "markdown",
   "metadata": {},
   "source": [
    "## Start with Logistic Regression\n",
    "\n",
    "\n",
    "~~## No AUROC or F1 Score with LinearSVC~~\n",
    "\n",
    "~~Since LinearSVC uses LibLinear it is not possible to retrieve the probabilities to calculate the AUROC or F1 score. The SVC implementations in sklearn have an option to return probabilities which can be used to calculate the AUC, however Liblinear does not provide this. It is possible to use CalibratedClassifierCV to obtain probabilities, however this also tries to tune the hyperparameters and severely limits the amount of data we can ue. If we want to use LinearSVC we will have to leave this out for now. It is also possible to use SVC with a linear kernel, but the LinearSVM is known to perform better.~~\n",
    "\n",
    "~~Instead of this, I will use Logistic Regression which is very similar to LinearSVC, and performs similarly. Logistic regression will allow me to view these metrics and once I have explored how to improve this I can switch back to LinearSVC. Both classifiers attempt to divide the samples, and logistic regression is known to do a good job at producing a wide margin in it's division, which is what SVMs try to do.~~"
   ]
  },
  {
   "cell_type": "code",
   "execution_count": 17,
   "metadata": {},
   "outputs": [],
   "source": [
    "from sklearn.metrics import roc_auc_score\n",
    "\n",
    "def auroc_score_from_probabilities(probabilities, labels):\n",
    "  true_probabilities = [probabilities[i][1] for i in range(0, len(labels))]\n",
    "  return roc_auc_score(labels, true_probabilities)"
   ]
  },
  {
   "cell_type": "code",
   "execution_count": 18,
   "metadata": {},
   "outputs": [
    {
     "name": "stderr",
     "output_type": "stream",
     "text": [
      "test_uses_correct_probabilities (__main__.TestRocScoreFromProbabilities) ... /home/stefan/anaconda3/lib/python3.7/site-packages/ipykernel_launcher.py:8: DeprecationWarning: Please use assertEqual instead.\n",
      "  \n",
      "ok\n",
      "\n",
      "----------------------------------------------------------------------\n",
      "Ran 1 test in 0.003s\n",
      "\n",
      "OK\n"
     ]
    },
    {
     "data": {
      "text/plain": [
       "<unittest.main.TestProgram at 0x7f37ddc4d0b8>"
      ]
     },
     "execution_count": 18,
     "metadata": {},
     "output_type": "execute_result"
    }
   ],
   "source": [
    "import unittest\n",
    "\n",
    "class TestRocScoreFromProbabilities(unittest.TestCase):\n",
    "  \n",
    "  def test_uses_correct_probabilities(self):\n",
    "    probabilities = [[0.9, 0.1], [0.1, 0.9]]\n",
    "    labels = [0, 1]\n",
    "    self.assertEquals(1, auroc_score_from_probabilities(probabilities, labels))\n",
    "\n",
    "unittest.main(argv=[''], verbosity=2, exit=False)"
   ]
  },
  {
   "cell_type": "markdown",
   "metadata": {},
   "source": [
    "We define a function to automate the process of cross validation and finding the accuracy, the mean and the variance:"
   ]
  },
  {
   "cell_type": "code",
   "execution_count": 19,
   "metadata": {},
   "outputs": [],
   "source": [
    "from sklearn.model_selection import StratifiedKFold\n",
    "from sklearn.feature_extraction.text import CountVectorizer\n",
    "from sklearn.metrics import accuracy_score, f1_score, log_loss\n",
    "import numpy as np\n",
    "def run_cross_validate(model, X, y, get_features_fn, cv=5):\n",
    "  skfSplitter = StratifiedKFold(n_splits=cv)\n",
    "  metrics = {\n",
    "    \"accuracies\": [],\n",
    "    \"auroc\": [],\n",
    "    \"f1 scores\": [],\n",
    "    \"log loss\": []\n",
    "  }\n",
    "    \n",
    "  false_negatives = 0\n",
    "  false_positives = 0\n",
    "  for train_indices, test_indices in skfSplitter.split(X, y):\n",
    "    training_X = get_features_fn([X[x] for x in train_indices], fit=True)\n",
    "    training_y = [y[x] for x in train_indices]\n",
    "    test_X = get_features_fn([X[x] for x in test_indices])\n",
    "    test_y = [y[x] for x in test_indices]\n",
    "  \n",
    "    model.fit(training_X, training_y)\n",
    "    probabilities = model.predict_proba(test_X)\n",
    "    \n",
    "    predicted = [0 if x[0] > x[1] else 1 for x in probabilities]\n",
    "    for i in range(0, len(predicted)):\n",
    "      if (predicted[i] == 0 and test_y[i] == 1):\n",
    "        false_negatives+=1\n",
    "      if (predicted[i] == 1 and test_y[i] == 0):\n",
    "        false_positives+=1\n",
    "    \n",
    "    metrics[\"accuracies\"].append(accuracy_score(test_y, predicted))\n",
    "    metrics[\"auroc\"].append(auroc_score_from_probabilities(probabilities, test_y))\n",
    "    metrics[\"f1 scores\"].append(f1_score(test_y, predicted))\n",
    "    metrics[\"log loss\"].append(log_loss(test_y, probabilities))\n",
    "\n",
    "  num_samples = len(X)\n",
    "  metrics[\"mean accuracy\"] = np.mean(metrics[\"accuracies\"])\n",
    "  metrics[\"mean variance\"] = np.var(metrics[\"accuracies\"])\n",
    "  metrics[\"mean auroc\"] = np.mean(metrics[\"auroc\"])\n",
    "  metrics[\"mean f1 scores\"] = np.mean(metrics[\"f1 scores\"])\n",
    "  metrics[\"mean log loss\"] = np.mean(metrics[\"log loss\"])\n",
    "  metrics[\"false negatives rate\"] = (false_negatives / cv) / num_samples\n",
    "  metrics[\"false positives rate\"] = (false_positives / cv) / num_samples\n",
    "  return metrics"
   ]
  },
  {
   "cell_type": "code",
   "execution_count": 20,
   "metadata": {},
   "outputs": [],
   "source": [
    "from sklearn.linear_model import LogisticRegression\n",
    "classifier = LogisticRegression(solver=\"liblinear\")"
   ]
  },
  {
   "cell_type": "code",
   "execution_count": 21,
   "metadata": {},
   "outputs": [
    {
     "data": {
      "text/plain": [
       "{'accuracies': [0.6290927268182954,\n",
       "  0.6260934766308422,\n",
       "  0.622,\n",
       "  0.6186546636659165,\n",
       "  0.6314078519629908],\n",
       " 'auroc': [0.674600336732139,\n",
       "  0.662692647715114,\n",
       "  0.6595396089641201,\n",
       "  0.6634598501148327,\n",
       "  0.6728436811060747],\n",
       " 'f1 scores': [0.6490066225165562,\n",
       "  0.6407300672430355,\n",
       "  0.637410071942446,\n",
       "  0.6356033452807646,\n",
       "  0.6473684210526315],\n",
       " 'log loss': [0.8076657932390442,\n",
       "  0.833224635660126,\n",
       "  0.8415995707594071,\n",
       "  0.8324635908498775,\n",
       "  0.8138489881298778],\n",
       " 'mean accuracy': 0.6254497438156089,\n",
       " 'mean variance': 2.145172328504902e-05,\n",
       " 'mean auroc': 0.6666272249264562,\n",
       " 'mean f1 scores': 0.6420237056070868,\n",
       " 'mean log loss': 0.8257605157276666,\n",
       " 'false negatives rate': 0.03295,\n",
       " 'false positives rate': 0.041960000000000004}"
      ]
     },
     "execution_count": 21,
     "metadata": {},
     "output_type": "execute_result"
    }
   ],
   "source": [
    "from sklearn.feature_extraction.text import CountVectorizer\n",
    "cVec = CountVectorizer()\n",
    "def get_features(predictor_set, fit=False):\n",
    "  if fit:\n",
    "    return cVec.fit_transform(predictor_set)\n",
    "  return cVec.transform(predictor_set)\n",
    "run_cross_validate(classifier, X, y, get_features)"
   ]
  },
  {
   "cell_type": "markdown",
   "metadata": {},
   "source": [
    "## Metrics to evaluate\n",
    "\n",
    "### Accuracy\n",
    "This is the percentage of correct classifications. The higher the better, however it is not appropriate in all cases.\n",
    "\n",
    "This metric falls to the imbalanced classification problem. When there are many more of one class, the classifier can choose it much more, or all the time, to achieve a high accuracy.\n",
    "\n",
    "### False Positives, False Negatives\n",
    "False positives are samples that were classified as fake, but were in fact genuine. False negatives are samples that were classified as genuine, but were in fact fake. We want to reduce both of these values as much as possible. True positives and true negatives are the adverse values which we want to maximise, although they correlate to false positives and negatives so there's no need to include them here.\n",
    "\n",
    "One important question here is **False negatives vs False positives**? Is it worse to falsely suggest that something is fake, or is it worse to falsely suggest that something is genuine? Probably in this system a human might be paid to read those suspicious reviews. It would be good to catch all the fake reviews, plus some genuine ones, because this is just like filtering the huge number of reviews to make a human's job easier. In this case it is better to reduce false negatives. If humans are not reviewing the system, then this would be a different situation, it would probably be better to reduce false positives.\n",
    "\n",
    "### Recall\n",
    "Of all the fake reviews, what percentage were identified as fake? This is not subject to the imbalanced\n",
    "classification problem. We aim to maximise it as an indication of how well we are really identifying our fake reviews. \n",
    "\n",
    "We cannot focus solely on recall, because we could identify all reviews as fake and achieve 100% recall. Precision must be included in the consideration.\n",
    "\n",
    "### Precision\n",
    "Of all the reviews identified as fake, what percentage are actually fake? If we classify all reviews as fake, then our precision will be low. If we classify all reviews as genuine, then we wont have any precision either.\n",
    "\n",
    "In our case it might be more important to have a high recall, if we don't want to miss any fake reviews. Otherwise if we want to be as accurate as possible we can balance recall and precision.\n",
    "\n",
    "### F1 Score\n",
    "This is a harmonic mean of precision and recall. Because of this it punishes extreme values such as a recall of or a precision of 0.0\n",
    "\n",
    "This also acts as a single number metric representing precision and recall.\n",
    "\n",
    "### Area Under Curve (AUC) \n",
    "This gives us a measure of discrimination, how well we correctly classify both classes. This does not use a 'Yes' or 'No' which can make it more interesting than accuracy.\n",
    "\n",
    "At different classification thresholds, how well do we predict fake reviews as 'more fake' than genuine reviews. We plot the true positive rate against the false positive rate to get a graph. Changing the threshold allows us to create a graph because at low thresholds we will have more fake reviews, increasing the true positives rate. Decreasing the treshold means we will have less genuine reviews, decreasing the true negative rate, which therefore increases the false positive rate.\n",
    "\n",
    "An AUC of 0.8 means the chance of the model distinguishing positive and negative classes is 80%.\n",
    "\n",
    "### Mean Squared Error\n",
    "The average of the square difference between the original values and the predicted values. Adds focus to large errors, and is easier to compute than mean absolute error.\n",
    "\n",
    "The closer the mean squared error is to zero the better. It incorporates the variance and the bias of the estimator\n",
    "\n",
    "### Logarithmic loss\n",
    "This takes into account the uncertainty of a prediction, taking into account how far away from the actual label the prediction is. As the probability approaches correct the log loss reduces only very little. As the probability approaches incorrect the log loss increases rapidly. This means that confident incorrect values are highly penalized.\n",
    "\n",
    "We aim to minimize log loss.\n",
    "\n",
    "### Cohen's Kappa\n",
    "A reliability metric used when there is more than one classifier. Computes an agreement percentage of the used classifiers. It is out of scope at this stage."
   ]
  },
  {
   "cell_type": "markdown",
   "metadata": {},
   "source": [
    "## Current Results\n",
    "\n",
    "Our results show quite normal results. The AUROC score and F1 score above are as expected, reflective of similar work in this field. We can see that the variance is not very large, so we can depend on our scores.\n",
    "\n",
    "Since there is nothing alarming, the next thing to consider is improving features or trying to find more predictive features. We might see better results if convert our bow to tfidf. ~~We might see better results if we preprocess our text to lemmatize and remove stopwords. Since bag of words is our main feature here, this should hopefully be influential. In this case we are removing all of the stopwords, which may be a bad idea. We can't know for sure unless we experiment.~~"
   ]
  },
  {
   "cell_type": "code",
   "execution_count": 57,
   "metadata": {},
   "outputs": [],
   "source": [
    "def tf_idf_bag_of_words(cv, tfidf, predictor_set, fit):\n",
    "  if fit:\n",
    "    return tfidf.fit_transform(cv.fit_transform(predictor_set))\n",
    "  else:\n",
    "    return tfidf.transform(cv.transform(predictor_set))"
   ]
  },
  {
   "cell_type": "code",
   "execution_count": 22,
   "metadata": {},
   "outputs": [
    {
     "data": {
      "text/plain": [
       "{'accuracies': [0.6523369157710572,\n",
       "  0.6570857285678581,\n",
       "  0.66425,\n",
       "  0.6614153538384596,\n",
       "  0.6631657914478619],\n",
       " 'auroc': [0.7170031989053457,\n",
       "  0.716968341281871,\n",
       "  0.7200749951687392,\n",
       "  0.7161055019092074,\n",
       "  0.7171423969120514],\n",
       " 'f1 scores': [0.6574735286875153,\n",
       "  0.6568284142071036,\n",
       "  0.6669972725018597,\n",
       "  0.6621756487025948,\n",
       "  0.6618127039919659],\n",
       " 'log loss': [0.615738420115528,\n",
       "  0.6172708805448116,\n",
       "  0.6148862153132552,\n",
       "  0.6180723830800674,\n",
       "  0.6177006818375328],\n",
       " 'mean accuracy': 0.6596507579250475,\n",
       " 'mean variance': 1.933878994497638e-05,\n",
       " 'mean auroc': 0.717458886835443,\n",
       " 'mean f1 scores': 0.6610575136182077,\n",
       " 'mean log loss': 0.616733716178239,\n",
       " 'false negatives rate': 0.03375,\n",
       " 'false positives rate': 0.034319999999999996}"
      ]
     },
     "execution_count": 22,
     "metadata": {},
     "output_type": "execute_result"
    }
   ],
   "source": [
    "from sklearn.feature_extraction.text import TfidfTransformer\n",
    "\n",
    "count_vectorizer = CountVectorizer()\n",
    "tfidf_transformer = TfidfTransformer()\n",
    "def get_features(predictor_features, fit=False):\n",
    "  return tf_idf_bag_of_words(count_vectorizer, tfidf_transformer, predictor_set, fit)\n",
    "\n",
    "run_cross_validate(classifier, X, y, get_features)"
   ]
  },
  {
   "cell_type": "markdown",
   "metadata": {},
   "source": [
    "Looks like switching to Tfidf had a positive effect on our results, which is not unexpected. Let's have a look at our vocabulary, to see what words are actually in our bag of words. Let's try to clean our features more, hopefully a smaller number of features, more concentrated with quality words will improve accuracy. Currently our bag of words has the following shape: ~~Let's be adventurous and try using a bag of words that only includes stopwords, on the hypothesis that it is the way people say things that is predictive of a fake review, rather than what they talk about.~~ "
   ]
  },
  {
   "cell_type": "code",
   "execution_count": 23,
   "metadata": {},
   "outputs": [
    {
     "data": {
      "text/plain": [
       "(20000, 33653)"
      ]
     },
     "execution_count": 23,
     "metadata": {},
     "output_type": "execute_result"
    }
   ],
   "source": [
    "count_vectorizer = CountVectorizer()\n",
    "count_vectorizer.fit_transform(X).shape"
   ]
  },
  {
   "cell_type": "markdown",
   "metadata": {},
   "source": [
    "Let's set a low limit for the min document frequency. This cleans out everything from the typos to the random jibberish:"
   ]
  },
  {
   "cell_type": "code",
   "execution_count": 24,
   "metadata": {},
   "outputs": [
    {
     "data": {
      "text/plain": [
       "(20000, 11533)"
      ]
     },
     "execution_count": 24,
     "metadata": {},
     "output_type": "execute_result"
    }
   ],
   "source": [
    "count_vectorizer = CountVectorizer(min_df=4)\n",
    "count_vectorizer.fit_transform(X).shape"
   ]
  },
  {
   "cell_type": "code",
   "execution_count": 25,
   "metadata": {},
   "outputs": [
    {
     "data": {
      "text/plain": [
       "{'accuracies': [0.6518370407398151,\n",
       "  0.6550862284428893,\n",
       "  0.66525,\n",
       "  0.6559139784946236,\n",
       "  0.6636659164791198],\n",
       " 'auroc': [0.71634402750229,\n",
       "  0.7159391043564783,\n",
       "  0.7199524948931135,\n",
       "  0.7156260114447396,\n",
       "  0.7168274889857265],\n",
       " 'f1 scores': [0.6573185731857318,\n",
       "  0.6563745019920318,\n",
       "  0.6681536555142503,\n",
       "  0.6575410652065704,\n",
       "  0.6624843161856964],\n",
       " 'log loss': [0.6160163377452522,\n",
       "  0.6176232360162895,\n",
       "  0.6149526840588501,\n",
       "  0.6183856677609213,\n",
       "  0.6180224249695648],\n",
       " 'mean accuracy': 0.6583506328312895,\n",
       " 'mean variance': 2.6974801977417865e-05,\n",
       " 'mean auroc': 0.7169378254364696,\n",
       " 'mean f1 scores': 0.6603744224168562,\n",
       " 'mean log loss': 0.6170000701101755,\n",
       " 'false negatives rate': 0.0337,\n",
       " 'false positives rate': 0.03463}"
      ]
     },
     "execution_count": 25,
     "metadata": {},
     "output_type": "execute_result"
    }
   ],
   "source": [
    "run_cross_validate(classifier, X, y, get_features)"
   ]
  },
  {
   "cell_type": "markdown",
   "metadata": {},
   "source": [
    "Now let's try adding reviewer features, which have been proven to be predictive:"
   ]
  },
  {
   "cell_type": "code",
   "execution_count": 59,
   "metadata": {},
   "outputs": [],
   "source": [
    "from sklearn.preprocessing import StandardScaler\n",
    "\n",
    "def scaled_reviewer_features(reviews):\n",
    "  reviewer_reviews = reviews_by_reviewer(reviews)\n",
    "  reviewer_predictors = [list(reviewer_features(x.user_id, reviewer_reviews)) for x in reviews]\n",
    "  return StandardScaler().fit_transform(reviewer_predictors)"
   ]
  },
  {
   "cell_type": "code",
   "execution_count": 60,
   "metadata": {},
   "outputs": [
    {
     "data": {
      "text/plain": [
       "{'accuracies': [0.6563359160209947,\n",
       "  0.6598350412396901,\n",
       "  0.6695,\n",
       "  0.6666666666666666,\n",
       "  0.6649162290572643],\n",
       " 'auroc': [0.7182167189655957,\n",
       "  0.71681791626874,\n",
       "  0.7240008790019778,\n",
       "  0.7220881271957886,\n",
       "  0.7216891771223268],\n",
       " 'f1 scores': [0.659400544959128,\n",
       "  0.6576100628930817,\n",
       "  0.6734189723320159,\n",
       "  0.6681603186457555,\n",
       "  0.6629778672032193],\n",
       " 'mean accuracy': 0.663450770596923,\n",
       " 'mean variance': 2.2555477364558655e-05,\n",
       " 'mean auroc': 0.7205625637108858,\n",
       " 'mean f1 scores': 0.6643135532066401}"
      ]
     },
     "execution_count": 60,
     "metadata": {},
     "output_type": "execute_result"
    }
   ],
   "source": [
    "from exp2_feature_extraction import reviewer_features, reviews_by_reviewer\n",
    "from scipy.sparse import coo_matrix, hstack\n",
    "\n",
    "count_vectorizer = CountVectorizer(max_features=1000, min_df=4)\n",
    "tfidf_transformer = TfidfTransformer()\n",
    "def get_features(predictor_features, fit=False):\n",
    "  predictor_features_text = [x.review_content for x in predictor_features]\n",
    "  bow = tf_idf_bag_of_words(count_vectorizer, tfidf_transformer, predictor_features_text, fit)\n",
    "  reviewer_scaled = scaled_reviewer_features(predictor_features)\n",
    "  return hstack([coo_matrix(reviewer_scaled), bow])\n",
    "\n",
    "run_cross_validate(LogisticRegression(solver=\"liblinear\"), all_reviews, y, get_features)"
   ]
  },
  {
   "cell_type": "markdown",
   "metadata": {},
   "source": [
    "Let's try adding some more features, this time for review details like date posted, the id of the reviewer and the id of the product:"
   ]
  },
  {
   "cell_type": "code",
   "execution_count": 118,
   "metadata": {},
   "outputs": [
    {
     "data": {
      "text/plain": [
       "{'accuracies': [0.7035741064733817,\n",
       "  0.6990752311922019,\n",
       "  0.69625,\n",
       "  0.6959239809952488,\n",
       "  0.6999249812453113],\n",
       " 'auroc': [0.7701071016098474,\n",
       "  0.7670836088210028,\n",
       "  0.7634824678355526,\n",
       "  0.7595476631530712,\n",
       "  0.7664173583051901],\n",
       " 'f1 scores': [0.7090284592737979,\n",
       "  0.699,\n",
       "  0.6979865771812079,\n",
       "  0.6984126984126984,\n",
       "  0.7007481296758105],\n",
       " 'mean accuracy': 0.6989496599812288,\n",
       " 'mean variance': 7.759084479286259e-06,\n",
       " 'mean auroc': 0.7653276399449328,\n",
       " 'mean f1 scores': 0.7010351729087029}"
      ]
     },
     "execution_count": 118,
     "metadata": {},
     "output_type": "execute_result"
    }
   ],
   "source": [
    "count_vectorizer = CountVectorizer(max_features=1000, min_df=4)\n",
    "tfidf_transformer = TfidfTransformer()\n",
    "\n",
    "from datetime import datetime as dt\n",
    "def extract_date_ordinals(reviews):\n",
    "  return [dt.strptime(x.date, '%Y-%m-%d').date().toordinal() for x in reviews]\n",
    "\n",
    "def get_features(predictor_features, fit=False):\n",
    "  predictor_features_text = [x.review_content for x in predictor_features]\n",
    "  bow = tf_idf_bag_of_words(count_vectorizer, tfidf_transformer, predictor_features_text, fit)\n",
    "  reviewer_scaled = scaled_reviewer_features(predictor_features)\n",
    "\n",
    "  date_ordinals = extract_date_ordinals(predictor_features)\n",
    "  review_details = StandardScaler().fit_transform([[date_ordinals[i], predictor_features[i].user_id, predictor_features[i].product_id] for i in range(len(predictor_features))])\n",
    "    \n",
    "  return hstack([coo_matrix(reviewer_scaled), coo_matrix(review_details), bow])\n",
    "\n",
    "run_cross_validate(LogisticRegression(solver=\"liblinear\"), all_reviews, y, get_features)"
   ]
  },
  {
   "cell_type": "markdown",
   "metadata": {},
   "source": [
    "Looks like this gave us a boost. Now let's try adding structural details:"
   ]
  },
  {
   "cell_type": "code",
   "execution_count": 134,
   "metadata": {},
   "outputs": [
    {
     "data": {
      "text/plain": [
       "{'accuracies': [0.7207344351932398,\n",
       "  0.7172150246994128,\n",
       "  0.7180451127819549,\n",
       "  0.719753930280246,\n",
       "  0.7177654881004163],\n",
       " 'auroc': [0.7941542649374345,\n",
       "  0.7921109198984456,\n",
       "  0.7930493710459263,\n",
       "  0.7926693562443541,\n",
       "  0.791249333855305],\n",
       " 'f1 scores': [0.7200124591185173,\n",
       "  0.7167486151739592,\n",
       "  0.7184562404988677,\n",
       "  0.7193877551020409,\n",
       "  0.718098311817279],\n",
       " 'mean accuracy': 0.7187027982110539,\n",
       " 'mean variance': 1.7513995686725878e-06,\n",
       " 'mean auroc': 0.792646649196293,\n",
       " 'mean f1 scores': 0.7185406763421328}"
      ]
     },
     "execution_count": 134,
     "metadata": {},
     "output_type": "execute_result"
    }
   ],
   "source": [
    "from exp2_feature_extraction import sentiment_features, find_words\n",
    "from nltk.sentiment.vader import SentimentIntensityAnalyzer\n",
    "\n",
    "count_vectorizer = CountVectorizer(max_features=10000, min_df=4, ngram_range=(1, 2))\n",
    "tfidf_transformer = TfidfTransformer()\n",
    "\n",
    "def get_features(predictor_features, fit=False):\n",
    "  predictor_features_text = [x.review_content for x in predictor_features]\n",
    "  bow = tf_idf_bag_of_words(count_vectorizer, tfidf_transformer, predictor_features_text, fit)\n",
    "  reviewer_scaled = scaled_reviewer_features(predictor_features)\n",
    "\n",
    "  date_ordinals = extract_date_ordinals(predictor_features)\n",
    "  \n",
    "  review_details = [[date_ordinals[i], predictor_features[i].user_id, predictor_features[i].product_id] for i in range(len(predictor_features))]\n",
    "  review_scaled = StandardScaler().fit_transform(review_details)\n",
    "\n",
    "  return hstack([coo_matrix(reviewer_scaled), coo_matrix(review_scaled), bow])\n",
    "\n",
    "run_cross_validate(LogisticRegression(solver=\"liblinear\"), all_reviews, y, get_features)"
   ]
  },
  {
   "cell_type": "markdown",
   "metadata": {},
   "source": [
    "Adding bigrams gives us a tiny boost, and now we're closing in on a good statistical benchmark. Let's switch to SVC as we should have more tweakable options. We have to drop some of our metrics based on probabilities because the underlying implementation of LinearSVC does not expose them to us:"
   ]
  },
  {
   "cell_type": "code",
   "execution_count": 135,
   "metadata": {},
   "outputs": [],
   "source": [
    "def run_cross_validate(model, X, y, get_features_fn, cv=5):\n",
    "  skfSplitter = StratifiedKFold(n_splits=cv)\n",
    "  metrics = { \"accuracies\": [], \"auroc\": [], \"f1 scores\": [] }\n",
    "    \n",
    "  for train_indices, test_indices in skfSplitter.split(X, y):\n",
    "    training_X = get_features_fn([X[x] for x in train_indices], fit=True)\n",
    "    training_y = [y[x] for x in train_indices]\n",
    "    test_X = get_features_fn([X[x] for x in test_indices])\n",
    "    test_y = [y[x] for x in test_indices]\n",
    "  \n",
    "    model.fit(training_X, training_y)\n",
    "    scores = model.decision_function(test_X)\n",
    "    \n",
    "    predicted = [1 if score >= 0 else 0 for score in scores]\n",
    "    metrics[\"accuracies\"].append(accuracy_score(test_y, predicted))\n",
    "    metrics[\"auroc\"].append(roc_auc_score(test_y, scores))\n",
    "    metrics[\"f1 scores\"].append(f1_score(test_y, predicted))\n",
    "\n",
    "  num_samples = len(X)\n",
    "  metrics[\"mean accuracy\"] = np.mean(metrics[\"accuracies\"])\n",
    "  metrics[\"mean variance\"] = np.var(metrics[\"accuracies\"])\n",
    "  metrics[\"mean auroc\"] = np.mean(metrics[\"auroc\"])\n",
    "  metrics[\"mean f1 scores\"] = np.mean(metrics[\"f1 scores\"])\n",
    "  return metrics"
   ]
  },
  {
   "cell_type": "code",
   "execution_count": 137,
   "metadata": {},
   "outputs": [
    {
     "data": {
      "text/plain": [
       "{'accuracies': [0.7110413818814465,\n",
       "  0.7094168453102184,\n",
       "  0.7098117193810973,\n",
       "  0.7104020381532343,\n",
       "  0.7101845522898155],\n",
       " 'auroc': [0.783419792835397,\n",
       "  0.7821408596582322,\n",
       "  0.7823409564325181,\n",
       "  0.7830343720488236,\n",
       "  0.7806408518058535],\n",
       " 'f1 scores': [0.7117131078944922,\n",
       "  0.7090371752994246,\n",
       "  0.71113997649533,\n",
       "  0.7115223917551298,\n",
       "  0.7109389525875426],\n",
       " 'mean accuracy': 0.7101713074031626,\n",
       " 'mean variance': 3.017916598229258e-07,\n",
       " 'mean auroc': 0.7823153665561648,\n",
       " 'mean f1 scores': 0.7108703208063838}"
      ]
     },
     "execution_count": 137,
     "metadata": {},
     "output_type": "execute_result"
    }
   ],
   "source": [
    "run_cross_validate(LinearSVC(max_iter=5000), all_reviews, y, get_features)"
   ]
  },
  {
   "cell_type": "markdown",
   "metadata": {},
   "source": [
    "It looks like the accuracy is pretty similar, about 08% lower. Now let's try running a grid search:"
   ]
  },
  {
   "cell_type": "code",
   "execution_count": 71,
   "metadata": {},
   "outputs": [
    {
     "data": {
      "text/plain": [
       "{'accuracies': [0.4988752811797051,\n",
       "  0.5023744063984004,\n",
       "  0.51225,\n",
       "  0.4988747186796699,\n",
       "  0.5001250312578145],\n",
       " 'auroc': [0.6055893637021945,\n",
       "  0.6228025329373307,\n",
       "  0.6281006632264923,\n",
       "  0.6247840792157267,\n",
       "  0.6178083308779352],\n",
       " 'f1 scores': [0.6502703645560789,\n",
       "  0.6531963072635428,\n",
       "  0.663910422049957,\n",
       "  0.6522040958000694,\n",
       "  0.6554042406481642],\n",
       " 'mean accuracy': 0.502499887503118,\n",
       " 'mean variance': 2.5400000278715447e-05,\n",
       " 'mean auroc': 0.6198169939919358,\n",
       " 'mean f1 scores': 0.6549970860635626}"
      ]
     },
     "execution_count": 71,
     "metadata": {},
     "output_type": "execute_result"
    }
   ],
   "source": [
    "from sklearn.svm import NuSVC\n",
    "run_cross_validate(NuSVC(kernel=\"sigmoid\", gamma=\"scale\"), all_reviews, y, get_features)"
   ]
  },
  {
   "cell_type": "code",
   "execution_count": null,
   "metadata": {},
   "outputs": [],
   "source": [
    "import string\n",
    "\n",
    "from exp2_feature_extraction import find_words\n",
    "x_words = [find_words(x) for x in X]\n",
    "\n",
    "count_vectorizer.fit_transform([\" \".join([y for y in x if y not in string.punctuation]) for x in x_words]).shape"
   ]
  },
  {
   "cell_type": "code",
   "execution_count": null,
   "metadata": {},
   "outputs": [],
   "source": [
    "from sklearn.preprocessing import StandardScaler\n",
    "\n",
    "count_vectorizer.set_params(vocabulary=None, stop_words=None)\n",
    "\n",
    "count_vectorizer = CountVectorizer()\n",
    "model = Pipeline([\n",
    "  ('cv', count_vectorizer),\n",
    "  ('tfidf', TfidfTransformer()),\n",
    "  ('classifier', LogisticRegression(solver=\"liblinear\"))\n",
    "])\n",
    "run_cross_validate(model, X, y)"
   ]
  },
  {
   "cell_type": "code",
   "execution_count": null,
   "metadata": {},
   "outputs": [],
   "source": []
  },
  {
   "cell_type": "code",
   "execution_count": null,
   "metadata": {},
   "outputs": [],
   "source": [
    "from exp2_feature_extraction import find_words, preprocess_words\n",
    "def preprocess(review_content): # Not adding bigrams yet\n",
    "  return \" \".join(preprocess_words(find_words(review_content), bigrams=False))"
   ]
  },
  {
   "cell_type": "code",
   "execution_count": null,
   "metadata": {},
   "outputs": [],
   "source": [
    "review_content = all_reviews[0].review_content\n",
    "print(review_content)\n",
    "preprocess(review_content)"
   ]
  },
  {
   "cell_type": "code",
   "execution_count": null,
   "metadata": {},
   "outputs": [],
   "source": [
    "X_lemmatized = [preprocess(x.review_content) for x in all_reviews]"
   ]
  },
  {
   "cell_type": "markdown",
   "metadata": {},
   "source": [
    "Results for lemmatized words with all stopwords and all words with <= 3 characters removed:"
   ]
  },
  {
   "cell_type": "code",
   "execution_count": null,
   "metadata": {},
   "outputs": [],
   "source": [
    "run_cross_validate(model, X_lemmatized, y)"
   ]
  },
  {
   "cell_type": "markdown",
   "metadata": {},
   "source": [
    "This shows only a slightly better result. Perhaps the different versions of words people use are actually important, and perhaps stopwords are important here too. At least more important than other tasks, for example identifying sentiment or topic. Let's try lemmatizing, but without removing stopwords."
   ]
  },
  {
   "cell_type": "code",
   "execution_count": null,
   "metadata": {},
   "outputs": [],
   "source": [
    "def preprocess(review_content): # Not adding bigrams yet\n",
    "  return \" \".join(preprocess_words(find_words(review_content), bigrams=False, stopwords=[]))"
   ]
  },
  {
   "cell_type": "code",
   "execution_count": null,
   "metadata": {},
   "outputs": [],
   "source": [
    "review_content = all_reviews[0].review_content\n",
    "print(review_content)\n",
    "preprocess(review_content)"
   ]
  },
  {
   "cell_type": "code",
   "execution_count": null,
   "metadata": {},
   "outputs": [],
   "source": [
    "training_helpers.get_accuracy(model, [preprocess(x.review_content) for x in all_reviews], y, 5)"
   ]
  },
  {
   "cell_type": "code",
   "execution_count": null,
   "metadata": {},
   "outputs": [],
   "source": []
  }
 ],
 "metadata": {
  "kernelspec": {
   "display_name": "Python 3",
   "language": "python",
   "name": "python3"
  },
  "language_info": {
   "codemirror_mode": {
    "name": "ipython",
    "version": 3
   },
   "file_extension": ".py",
   "mimetype": "text/x-python",
   "name": "python",
   "nbconvert_exporter": "python",
   "pygments_lexer": "ipython3",
   "version": "3.7.0"
  },
  "toc": {
   "base_numbering": 1,
   "nav_menu": {},
   "number_sections": true,
   "sideBar": true,
   "skip_h1_title": false,
   "title_cell": "Table of Contents",
   "title_sidebar": "Contents",
   "toc_cell": false,
   "toc_position": {},
   "toc_section_display": true,
   "toc_window_display": false
  }
 },
 "nbformat": 4,
 "nbformat_minor": 2
}
