{
 "cells": [
  {
   "cell_type": "markdown",
   "metadata": {},
   "source": [
    "# Training & Testing on Single Domain (Ground Truth)"
   ]
  },
  {
   "cell_type": "markdown",
   "metadata": {},
   "source": [
    "This experiment uses a 'ground truth' labelled dataset of NYC Resteraunt reviews from Yelp. This dataset has 359,052 reviews so should be sufficient for training.\n",
    "\n",
    "The aim of this experiment is to produce a benchmark from which we can compare our explorative experiments. This is the first of a number of experiments using statistical modelling, all of which are done with the aim of finding a benchmark. \n",
    "\n",
    "We will use Complement Naive Bayes to produce a model, and Bag of Words to convert our text features to usable predictor features."
   ]
  },
  {
   "cell_type": "markdown",
   "metadata": {},
   "source": [
    "First, to access out project files we add the project directory to PYTHONPATH"
   ]
  },
  {
   "cell_type": "code",
   "execution_count": 1,
   "metadata": {},
   "outputs": [],
   "source": [
    "import sys, os\n",
    "sys.path.append(os.path.join(os.getcwd(), '..'))\n",
    "from protos import review_set_pb2"
   ]
  },
  {
   "cell_type": "markdown",
   "metadata": {},
   "source": [
    "Our data is located in the following file:"
   ]
  },
  {
   "cell_type": "code",
   "execution_count": 2,
   "metadata": {},
   "outputs": [],
   "source": [
    "data_file_path = 'data/yelpNYC'"
   ]
  },
  {
   "cell_type": "markdown",
   "metadata": {},
   "source": [
    "Our data is in protobuf format, so we read it into the ReviewSet protobuffer."
   ]
  },
  {
   "cell_type": "code",
   "execution_count": 3,
   "metadata": {},
   "outputs": [],
   "source": [
    "review_set = review_set_pb2.ReviewSet()\n",
    "with open(data_file_path, 'rb') as f:\n",
    "  review_set.ParseFromString(f.read())"
   ]
  },
  {
   "cell_type": "markdown",
   "metadata": {},
   "source": [
    "Let's take a look at our data. At this stage we use 5 features from our data:\n",
    "* Review Content. The actual text description of the restaurant.\n",
    "* Date user left review.\n",
    "* Label (Fake = True, Genuine = False)"
   ]
  },
  {
   "cell_type": "code",
   "execution_count": 4,
   "metadata": {},
   "outputs": [
    {
     "data": {
      "text/html": [
       "<div>\n",
       "<style scoped>\n",
       "    .dataframe tbody tr th:only-of-type {\n",
       "        vertical-align: middle;\n",
       "    }\n",
       "\n",
       "    .dataframe tbody tr th {\n",
       "        vertical-align: top;\n",
       "    }\n",
       "\n",
       "    .dataframe thead th {\n",
       "        text-align: right;\n",
       "    }\n",
       "</style>\n",
       "<table border=\"1\" class=\"dataframe\">\n",
       "  <thead>\n",
       "    <tr style=\"text-align: right;\">\n",
       "      <th></th>\n",
       "      <th>review content</th>\n",
       "      <th>date</th>\n",
       "      <th>label</th>\n",
       "    </tr>\n",
       "  </thead>\n",
       "  <tbody>\n",
       "    <tr>\n",
       "      <th>0</th>\n",
       "      <td>The food at snack is a selection of popular Gr...</td>\n",
       "      <td>2014-12-08</td>\n",
       "      <td>True</td>\n",
       "    </tr>\n",
       "    <tr>\n",
       "      <th>1</th>\n",
       "      <td>This little place in Soho is wonderful. I had ...</td>\n",
       "      <td>2013-05-16</td>\n",
       "      <td>True</td>\n",
       "    </tr>\n",
       "    <tr>\n",
       "      <th>2</th>\n",
       "      <td>ordered lunch for 15 from Snack last Friday.  ...</td>\n",
       "      <td>2013-07-01</td>\n",
       "      <td>True</td>\n",
       "    </tr>\n",
       "    <tr>\n",
       "      <th>3</th>\n",
       "      <td>This is a beautiful quaint little restaurant o...</td>\n",
       "      <td>2011-07-28</td>\n",
       "      <td>True</td>\n",
       "    </tr>\n",
       "    <tr>\n",
       "      <th>4</th>\n",
       "      <td>Snack is great place for a  casual sit down lu...</td>\n",
       "      <td>2010-11-01</td>\n",
       "      <td>True</td>\n",
       "    </tr>\n",
       "  </tbody>\n",
       "</table>\n",
       "</div>"
      ],
      "text/plain": [
       "                                      review content        date  label\n",
       "0  The food at snack is a selection of popular Gr...  2014-12-08   True\n",
       "1  This little place in Soho is wonderful. I had ...  2013-05-16   True\n",
       "2  ordered lunch for 15 from Snack last Friday.  ...  2013-07-01   True\n",
       "3  This is a beautiful quaint little restaurant o...  2011-07-28   True\n",
       "4  Snack is great place for a  casual sit down lu...  2010-11-01   True"
      ]
     },
     "execution_count": 4,
     "metadata": {},
     "output_type": "execute_result"
    }
   ],
   "source": [
    "import pandas\n",
    "\n",
    "frame_data = {\n",
    "    \"review content\": [],\n",
    "    \"date\": [],\n",
    "    \"label\": []\n",
    "}\n",
    "for review in review_set.reviews:  \n",
    "  frame_data[\"review content\"].append(review.review_content)\n",
    "  frame_data[\"date\"].append(review.date)\n",
    "  frame_data[\"label\"].append(review.label)\n",
    "\n",
    "data_frame = pandas.DataFrame(frame_data)\n",
    "data_frame.head()"
   ]
  },
  {
   "cell_type": "markdown",
   "metadata": {},
   "source": [
    "Next we will split our sample into a training set and a test set:"
   ]
  },
  {
   "cell_type": "code",
   "execution_count": 37,
   "metadata": {},
   "outputs": [
    {
     "data": {
      "text/plain": [
       "('Training set size:', 269289, 'Test set size:', 89763)"
      ]
     },
     "execution_count": 37,
     "metadata": {},
     "output_type": "execute_result"
    }
   ],
   "source": [
    "from sklearn.model_selection import train_test_split\n",
    "training_set, test_set = train_test_split(review_set.reviews)\n",
    "\"Training set size:\", len(training_set), \"Test set size:\", len(test_set)"
   ]
  },
  {
   "cell_type": "markdown",
   "metadata": {},
   "source": [
    "Next we will convert our review content to a format that can be used as a feature, using Bag of Words. In scikit learn the Bag of Words is created using a CountVectorizer. We transform our test set into the same feature format to correspond with the Bag of Words created for our training set."
   ]
  },
  {
   "cell_type": "code",
   "execution_count": 6,
   "metadata": {},
   "outputs": [],
   "source": [
    "get_review_content = lambda review: review.review_content\n",
    "training_set_review_content = map(get_review_content, training_set)\n",
    "test_set_review_content = map(get_review_content, test_set)\n",
    "\n",
    "from sklearn.feature_extraction.text import CountVectorizer\n",
    "count_vect = CountVectorizer()\n",
    "train_counts = count_vect.fit_transform(training_set_review_content)\n",
    "test_counts = count_vect.transform(test_set_review_content)"
   ]
  },
  {
   "cell_type": "markdown",
   "metadata": {},
   "source": [
    "Next we convert the dates to numerical 'ordinal's, so we can use them as a feature:"
   ]
  },
  {
   "cell_type": "code",
   "execution_count": 26,
   "metadata": {},
   "outputs": [],
   "source": [
    "from datetime import datetime as dt\n",
    "\n",
    "to_date_ordinal = lambda review: [dt.strptime(review.date, '%Y-%m-%d').date().toordinal()]\n",
    "train_date_ordinals = list(map(to_date_ordinal, training_set))\n",
    "test_date_ordinals = list(map(to_date_ordinal, test_set))"
   ]
  },
  {
   "cell_type": "markdown",
   "metadata": {},
   "source": [
    "Now we put our features together. The sparse features from Bag of Words loom over our dense features (date). We put this into a format we can train/test on:"
   ]
  },
  {
   "cell_type": "code",
   "execution_count": 36,
   "metadata": {},
   "outputs": [],
   "source": [
    "from scipy.sparse import coo_matrix, hstack\n",
    "predictor_data = hstack([train_counts,coo_matrix(train_date_ordinals)])"
   ]
  },
  {
   "cell_type": "markdown",
   "metadata": {},
   "source": [
    "And preparing the targets:"
   ]
  },
  {
   "cell_type": "code",
   "execution_count": 42,
   "metadata": {},
   "outputs": [],
   "source": [
    "targets = [1 if x.label else 0 for x in review_set.reviews]"
   ]
  },
  {
   "cell_type": "code",
   "execution_count": null,
   "metadata": {},
   "outputs": [],
   "source": []
  }
 ],
 "metadata": {
  "kernelspec": {
   "display_name": "Python 3",
   "language": "python",
   "name": "python3"
  },
  "language_info": {
   "codemirror_mode": {
    "name": "ipython",
    "version": 3
   },
   "file_extension": ".py",
   "mimetype": "text/x-python",
   "name": "python",
   "nbconvert_exporter": "python",
   "pygments_lexer": "ipython3",
   "version": "3.7.0"
  }
 },
 "nbformat": 4,
 "nbformat_minor": 2
}
