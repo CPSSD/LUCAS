{
 "cells": [
  {
   "cell_type": "markdown",
   "metadata": {},
   "source": [
    "# Proof-of-concept: Classification of review deception via a neural network"
   ]
  },
  {
   "cell_type": "markdown",
   "metadata": {},
   "source": [
    "We now wish to move on to a deep-learning approach to fake review opinion spam detection, shown in numerous papers and studies to be an effective method of classification. \n",
    "In this notebook, in a similar fashion to the other notebooks in this directory, we will use the small dataset with minimal features and set up POC of basic neural network architectures using Tensorflow and Keras.\n",
    "Let's start by importing the modules we need."
   ]
  },
  {
   "cell_type": "code",
   "execution_count": 25,
   "metadata": {},
   "outputs": [],
   "source": [
    "import numpy as np\n",
    "import pandas as pd\n",
    "import tensorflow as tf\n",
    "from tensorflow import keras\n",
    "from keras.preprocessing import text\n",
    "import matplotlib.pyplot as plt\n",
    "from sklearn.model_selection import train_test_split"
   ]
  },
  {
   "cell_type": "markdown",
   "metadata": {},
   "source": [
    "Now, let's start by getting our data. We use the get_data_frame function from the training helpers file, and split it into our X and Y (data and labels). \n",
    "\n",
    "It's been shown that a 70/30 train/test split is generally quite good, with a 70/30 train/validation split on the training data.\n",
    "\n",
    "Training data is used to adjust weights, validation is used to make sure that these weight changes result in an increase in accuracy. Test data is used to run the final set of weights over data it's never seen before for final validation and to produce an accuracy."
   ]
  },
  {
   "cell_type": "code",
   "execution_count": 33,
   "metadata": {},
   "outputs": [],
   "source": [
    "from scripts import training_helpers as th\n",
    "df = th.get_data_frame()\n",
    "\n",
    "X = df['review']\n",
    "y = df['deceptive']\n",
    "\n",
    "X_train, X_test, y_train, y_test = train_test_split(X, y, test_size=0.3)"
   ]
  },
  {
   "cell_type": "markdown",
   "metadata": {},
   "source": [
    "We're dealing with a tonne of features, so let's use the keras Tokenizer, which lets us choose a number of the most commonly occuring words in our vocab. We'll set this number to 2000, to get rid of the least important ones, and then fit it on our data."
   ]
  },
  {
   "cell_type": "code",
   "execution_count": 27,
   "metadata": {},
   "outputs": [],
   "source": [
    "NUM_WORDS = 2000\n",
    "tokenizer = text.Tokenizer(num_words=NUM_WORDS)\n",
    "tokenizer.fit_on_texts(X)"
   ]
  },
  {
   "cell_type": "markdown",
   "metadata": {},
   "source": [
    "Now let's define a function that takes a list of reviews and converts it to a list of tfidf vectors based on the above dictionary."
   ]
  },
  {
   "cell_type": "code",
   "execution_count": 28,
   "metadata": {},
   "outputs": [],
   "source": [
    "def tokenize(data):\n",
    "    return tokenizer.texts_to_matrix(data, mode='tfidf')\n",
    "\n",
    "train_data = tokenize(X_train)\n",
    "test_data = tokenize(X_test)"
   ]
  },
  {
   "cell_type": "markdown",
   "metadata": {},
   "source": [
    "Lets take a look at these tfidf vectors and the shape of them."
   ]
  },
  {
   "cell_type": "code",
   "execution_count": 29,
   "metadata": {},
   "outputs": [
    {
     "name": "stdout",
     "output_type": "stream",
     "text": [
      "[0.        1.9429853 1.6775115 ... 0.        0.        0.       ]\n"
     ]
    }
   ],
   "source": [
    "print(train_data[0])"
   ]
  },
  {
   "cell_type": "markdown",
   "metadata": {},
   "source": [
    "Looks good. Now that our data is prepared, lets create our neural network.\n",
    "\n",
    "Let's create a basic network with one hidden layer of 4 nodes, fully connected (Dense). \n",
    "\n",
    "The first layer needs to specify the size of the input in 'input_shape', which is the number of features in an input. Its output size will be the first parameter (4). In this case, we use a very small number of nodes as it's a very small dataset, so 4 is optimal to prevent overfitting.\n",
    "\n",
    "The following layers can infer the size.\n",
    "\n",
    "We use the Adam optimizer, which is a replacement optimizer for stochastic gradient descent, and the binary_crossentropy loss function, which is the binary log loss function."
   ]
  },
  {
   "cell_type": "code",
   "execution_count": 7,
   "metadata": {},
   "outputs": [
    {
     "name": "stdout",
     "output_type": "stream",
     "text": [
      "_________________________________________________________________\n",
      "Layer (type)                 Output Shape              Param #   \n",
      "=================================================================\n",
      "dense (Dense)                (None, 4)                 8004      \n",
      "_________________________________________________________________\n",
      "dense_1 (Dense)              (None, 4)                 20        \n",
      "_________________________________________________________________\n",
      "dense_2 (Dense)              (None, 1)                 5         \n",
      "=================================================================\n",
      "Total params: 8,029\n",
      "Trainable params: 8,029\n",
      "Non-trainable params: 0\n",
      "_________________________________________________________________\n"
     ]
    }
   ],
   "source": [
    "model = keras.Sequential([\n",
    "    keras.layers.Dense(4, activation=tf.nn.relu, input_shape=(NUM_WORDS,)),\n",
    "    keras.layers.Dense(4, activation=tf.nn.relu),\n",
    "    keras.layers.Dense(1, activation=tf.nn.sigmoid)\n",
    "])\n",
    " \n",
    "model.compile(optimizer='adam',\n",
    "              loss='binary_crossentropy',\n",
    "              metrics=['accuracy'])\n",
    "\n",
    "model.summary()"
   ]
  },
  {
   "cell_type": "markdown",
   "metadata": {},
   "source": [
    "Now let's train and validate the model. We fit it on the training data, using 70% for training (weight adjustment) and 30% for validation. Validation is important as it's data that hasn't been seen in the training, so we get a feel for how well the model generalizes and make sure overfitting does not occur. In general, how good a model is can be judged based on how low it's validation loss is.\n",
    "\n",
    "Batch size is how many chunks we want to split out data up into. We cant pass the entire dataset in one epoch, so we split it up into chunks of size n, where n is the batch size. The number of iterations it takes to complete one epoch is the training size / batch size."
   ]
  },
  {
   "cell_type": "code",
   "execution_count": 8,
   "metadata": {},
   "outputs": [
    {
     "name": "stdout",
     "output_type": "stream",
     "text": [
      "Train on 784 samples, validate on 336 samples\n",
      "Epoch 1/25\n",
      " - 3s - loss: 0.6572 - acc: 0.6059 - val_loss: 0.5594 - val_acc: 0.7827\n",
      "Epoch 2/25\n",
      " - 1s - loss: 0.3476 - acc: 0.9031 - val_loss: 0.3623 - val_acc: 0.8661\n",
      "Epoch 3/25\n",
      " - 1s - loss: 0.1447 - acc: 0.9668 - val_loss: 0.3416 - val_acc: 0.8631\n",
      "Epoch 4/25\n",
      " - 1s - loss: 0.0679 - acc: 0.9885 - val_loss: 0.3209 - val_acc: 0.8631\n",
      "Epoch 5/25\n",
      " - 1s - loss: 0.0352 - acc: 0.9974 - val_loss: 0.3241 - val_acc: 0.8631\n",
      "Epoch 6/25\n",
      " - 1s - loss: 0.0202 - acc: 0.9987 - val_loss: 0.3367 - val_acc: 0.8661\n",
      "Epoch 7/25\n",
      " - 1s - loss: 0.0125 - acc: 0.9987 - val_loss: 0.3500 - val_acc: 0.8690\n",
      "Epoch 8/25\n",
      " - 1s - loss: 0.0085 - acc: 0.9987 - val_loss: 0.3629 - val_acc: 0.8720\n",
      "Epoch 9/25\n",
      " - 1s - loss: 0.0062 - acc: 0.9987 - val_loss: 0.3745 - val_acc: 0.8720\n",
      "Epoch 10/25\n",
      " - 1s - loss: 0.0049 - acc: 0.9987 - val_loss: 0.3875 - val_acc: 0.8750\n",
      "Epoch 11/25\n",
      " - 1s - loss: 0.0039 - acc: 0.9987 - val_loss: 0.3967 - val_acc: 0.8661\n",
      "Epoch 12/25\n",
      " - 1s - loss: 0.0033 - acc: 0.9987 - val_loss: 0.4086 - val_acc: 0.8810\n",
      "Epoch 13/25\n",
      " - 1s - loss: 0.0028 - acc: 0.9987 - val_loss: 0.4171 - val_acc: 0.8750\n",
      "Epoch 14/25\n",
      " - 1s - loss: 0.0024 - acc: 0.9987 - val_loss: 0.4264 - val_acc: 0.8720\n",
      "Epoch 15/25\n",
      " - 1s - loss: 0.0021 - acc: 0.9987 - val_loss: 0.4385 - val_acc: 0.8780\n",
      "Epoch 16/25\n",
      " - 1s - loss: 0.0011 - acc: 1.0000 - val_loss: 0.4453 - val_acc: 0.8750\n",
      "Epoch 17/25\n",
      " - 1s - loss: 8.7913e-04 - acc: 1.0000 - val_loss: 0.4544 - val_acc: 0.8720\n",
      "Epoch 18/25\n",
      " - 1s - loss: 7.1072e-04 - acc: 1.0000 - val_loss: 0.4622 - val_acc: 0.8661\n",
      "Epoch 19/25\n",
      " - 1s - loss: 5.9477e-04 - acc: 1.0000 - val_loss: 0.4709 - val_acc: 0.8720\n",
      "Epoch 20/25\n",
      " - 1s - loss: 4.9869e-04 - acc: 1.0000 - val_loss: 0.4786 - val_acc: 0.8720\n",
      "Epoch 21/25\n",
      " - 1s - loss: 4.2153e-04 - acc: 1.0000 - val_loss: 0.4866 - val_acc: 0.8690\n",
      "Epoch 22/25\n",
      " - 1s - loss: 3.6028e-04 - acc: 1.0000 - val_loss: 0.4940 - val_acc: 0.8720\n",
      "Epoch 23/25\n",
      " - 1s - loss: 3.0919e-04 - acc: 1.0000 - val_loss: 0.5017 - val_acc: 0.8631\n",
      "Epoch 24/25\n",
      " - 1s - loss: 2.6626e-04 - acc: 1.0000 - val_loss: 0.5091 - val_acc: 0.8690\n",
      "Epoch 25/25\n",
      " - 1s - loss: 2.3031e-04 - acc: 1.0000 - val_loss: 0.5162 - val_acc: 0.8690\n"
     ]
    }
   ],
   "source": [
    "history = model.fit(train_data,\n",
    "                      y_train,\n",
    "                      epochs=25,\n",
    "                      batch_size=4,\n",
    "                      validation_split=0.3,\n",
    "                      verbose=2)"
   ]
  },
  {
   "cell_type": "markdown",
   "metadata": {},
   "source": [
    "We can see above that the validation loss consistently decreases as the epochs go on, and validation accuracy consistently increases. If the validation loss is decreasing up until the end, then increase the number of epochs or reduce the batch size.\n",
    "\n",
    "From the val_acc seen at the end of every epoch, we can predict the value of accuracy on the test data. Lets evaluate the model and give it a try."
   ]
  },
  {
   "cell_type": "code",
   "execution_count": 9,
   "metadata": {},
   "outputs": [
    {
     "name": "stdout",
     "output_type": "stream",
     "text": [
      "480/480 [==============================] - 0s 120us/step\n",
      "['loss', 'acc'] [0.692434874176979, 0.8354166666666667]\n"
     ]
    }
   ],
   "source": [
    "results = model.evaluate(test_data, y_test)\n",
    "print(model.metrics_names, results)"
   ]
  },
  {
   "cell_type": "markdown",
   "metadata": {},
   "source": [
    "Yup, the accuracy is about as predicted! And we have a pretty low loss too. This indicates a good model that will generalize well.\n",
    "Let's plot the training and validation losses."
   ]
  },
  {
   "cell_type": "code",
   "execution_count": 10,
   "metadata": {
    "scrolled": true
   },
   "outputs": [
    {
     "data": {
      "text/plain": [
       "<matplotlib.legend.Legend at 0x1a3a648588>"
      ]
     },
     "execution_count": 10,
     "metadata": {},
     "output_type": "execute_result"
    },
    {
     "data": {
      "image/png": "[encoded data removed]",
      "text/plain": [
       "<Figure size 432x288 with 1 Axes>"
      ]
     },
     "metadata": {
      "needs_background": "light"
     },
     "output_type": "display_data"
    }
   ],
   "source": [
    "acc = history.history['acc']\n",
    "val_acc = history.history['val_acc']\n",
    "loss = history.history['loss']\n",
    "val_loss = history.history['val_loss']\n",
    "\n",
    "epochs = range(1, len(acc) + 1)\n",
    "\n",
    "# \"bo\" is for \"blue dot\"\n",
    "plt.plot(epochs, loss, 'bo', label='Training loss')\n",
    "# b is for \"solid blue line\"\n",
    "plt.plot(epochs, val_loss, 'b', label='Validation loss')\n",
    "plt.title('Training and validation loss')\n",
    "plt.xlabel('Epochs')\n",
    "plt.ylabel('Loss')\n",
    "plt.legend()"
   ]
  },
  {
   "cell_type": "code",
   "execution_count": 11,
   "metadata": {},
   "outputs": [
    {
     "data": {
      "text/plain": [
       "<matplotlib.legend.Legend at 0x1a40b13ac8>"
      ]
     },
     "execution_count": 11,
     "metadata": {},
     "output_type": "execute_result"
    },
    {
     "data": {
      "image/png": "[encoded data removed]",
      "text/plain": [
       "<Figure size 432x288 with 1 Axes>"
      ]
     },
     "metadata": {
      "needs_background": "light"
     },
     "output_type": "display_data"
    }
   ],
   "source": [
    "# \"bo\" is for \"blue dot\"\n",
    "plt.plot(epochs, acc, 'ro', label='Training accuracy')\n",
    "# b is for \"solid blue line\"\n",
    "plt.plot(epochs, val_acc, 'r', label='Validation accuracy')\n",
    "plt.title('Training and validation accuracy')\n",
    "plt.xlabel('Epochs')\n",
    "plt.ylabel('Accuracy')\n",
    "plt.legend()"
   ]
  },
  {
   "cell_type": "markdown",
   "metadata": {},
   "source": [
    "# Convolutional Model\n",
    "\n",
    "Until an experiment is performed to generate embeddings of our input data, we are still using bow features.\n",
    "\n",
    "One paper [Semi-supervised Convolutional Neural Networks for text categorization via region embedding](https://papers.nips.cc/paper/5849-semi-supervised-convolutional-neural-networks-for-text-categorization-via-region-embedding.pdf) builds a semi supervised convolutional network using bow by using unsupervised learning to produce two-view embeddings of the words. This however is a lot of work for a proof of concept, so we will not try to perform the same work.\n",
    "\n",
    "However this model is not expected to be very predictive on bag of words because the word order is not preserved. Word order is important for Convolutional Networks, using embeddings this would be preserved because each row would represent the next word in the sentence. By treating the bag of words as two dimensional input, with row number of one, we can drop in our embeddings with the same process as before, but with a greater number of rows."
   ]
  },
  {
   "cell_type": "code",
   "execution_count": 12,
   "metadata": {},
   "outputs": [
    {
     "data": {
      "text/plain": [
       "(1120, 2000)"
      ]
     },
     "execution_count": 12,
     "metadata": {},
     "output_type": "execute_result"
    }
   ],
   "source": [
    "train_data.shape"
   ]
  },
  {
   "cell_type": "markdown",
   "metadata": {},
   "source": [
    "In our input data we have 1120 samples and a vocabulary of size 2000, which will be our number of columns. Each input or 'image' in the context of Convolutional networks will be an image with 1 row, 2000 columns and depth 1. We will have 1120 of these input images. "
   ]
  },
  {
   "cell_type": "code",
   "execution_count": 13,
   "metadata": {},
   "outputs": [
    {
     "data": {
      "text/plain": [
       "(1120, 1, 2000, 1)"
      ]
     },
     "execution_count": 13,
     "metadata": {},
     "output_type": "execute_result"
    }
   ],
   "source": [
    "batches = 1120\n",
    "convolutional_data = np.array(np.split(np.array([[[y] for y in z] for z in train_data]), batches))\n",
    "convolutional_data.shape"
   ]
  },
  {
   "cell_type": "markdown",
   "metadata": {},
   "source": [
    "Based on findings in a paper [A Sensitivity Analysis of (and Practitioners’ Guide to) Convolutional Neural Networks for Sentence Classification](https://arxiv.org/pdf/1510.03820.pdf) we will make a number of decisions:\n",
    "\n",
    "* We will use the ReLU implementation as our activation function.\n",
    "* While working with only sliding one direction over the data, we will use a filter size of 10\n",
    "* We will try 50 filters for our POC\n",
    "* Our vocab size is magnitudes of order larger than our filter size. We'll pool the result of each convolution to 1 value.\n",
    "* We can start with 1 convolutional layer, like other research has, [Convolutional neural networks for sentence classification](https://www.aclweb.org/anthology/D14-1181)\n",
    "* We'll include a dropout layer to mitigate overfitting."
   ]
  },
  {
   "cell_type": "code",
   "execution_count": 14,
   "metadata": {
    "scrolled": true
   },
   "outputs": [],
   "source": [
    "from keras import layers\n",
    "from keras.activations import relu\n",
    "\n",
    "model = keras.Sequential([\n",
    "    keras.layers.Conv2D(\n",
    "        filters=50,\n",
    "        kernel_size=(1, 10),\n",
    "        data_format=\"channels_last\",\n",
    "        input_shape=(1, 2000, 1),\n",
    "        activation=relu),\n",
    "    keras.layers.MaxPooling2D(pool_size=(1, 10)),\n",
    "    keras.layers.Dropout(0.2),\n",
    "    keras.layers.Flatten(),\n",
    "    keras.layers.Dense(2, activation='softmax')\n",
    "])"
   ]
  },
  {
   "cell_type": "code",
   "execution_count": 15,
   "metadata": {},
   "outputs": [],
   "source": [
    "model.compile(\n",
    "    loss=keras.losses.categorical_crossentropy,\n",
    "    optimizer='adam',\n",
    "    metrics=['accuracy'])"
   ]
  },
  {
   "cell_type": "markdown",
   "metadata": {},
   "source": [
    "We will convert our targets to represent two classes, with arrays of length 2, where element 0 will be 1 for class 0, and element 1 will be 1 for class 1:"
   ]
  },
  {
   "cell_type": "code",
   "execution_count": 16,
   "metadata": {},
   "outputs": [
    {
     "data": {
      "text/plain": [
       "(1120, 2)"
      ]
     },
     "execution_count": 16,
     "metadata": {},
     "output_type": "execute_result"
    }
   ],
   "source": [
    "convolutional_targets = keras.utils.to_categorical(y_train)\n",
    "convolutional_targets.shape"
   ]
  },
  {
   "cell_type": "code",
   "execution_count": 17,
   "metadata": {},
   "outputs": [
    {
     "name": "stdout",
     "output_type": "stream",
     "text": [
      "Train on 896 samples, validate on 224 samples\n",
      "Epoch 1/12\n",
      "896/896 [==============================] - 2s 3ms/step - loss: 0.6727 - acc: 0.5681 - val_loss: 0.5510 - val_acc: 0.7054\n",
      "Epoch 2/12\n",
      "896/896 [==============================] - 2s 2ms/step - loss: 0.5225 - acc: 0.7288 - val_loss: 0.5210 - val_acc: 0.6964\n",
      "Epoch 3/12\n",
      "896/896 [==============================] - 2s 2ms/step - loss: 0.4653 - acc: 0.7801 - val_loss: 0.4960 - val_acc: 0.7321\n",
      "Epoch 4/12\n",
      "896/896 [==============================] - 2s 2ms/step - loss: 0.4265 - acc: 0.8036 - val_loss: 0.5139 - val_acc: 0.7500\n",
      "Epoch 5/12\n",
      "896/896 [==============================] - 2s 2ms/step - loss: 0.3818 - acc: 0.8359 - val_loss: 0.4769 - val_acc: 0.7545\n",
      "Epoch 6/12\n",
      "896/896 [==============================] - 2s 2ms/step - loss: 0.3458 - acc: 0.8415 - val_loss: 0.4860 - val_acc: 0.7634\n",
      "Epoch 7/12\n",
      "896/896 [==============================] - 2s 2ms/step - loss: 0.3365 - acc: 0.8538 - val_loss: 0.5004 - val_acc: 0.7455\n",
      "Epoch 8/12\n",
      "896/896 [==============================] - 2s 2ms/step - loss: 0.3141 - acc: 0.8717 - val_loss: 0.4998 - val_acc: 0.7589\n",
      "Epoch 9/12\n",
      "896/896 [==============================] - 2s 2ms/step - loss: 0.2653 - acc: 0.9007 - val_loss: 0.4946 - val_acc: 0.7545\n",
      "Epoch 10/12\n",
      "896/896 [==============================] - 2s 2ms/step - loss: 0.2546 - acc: 0.8951 - val_loss: 0.4999 - val_acc: 0.7634\n",
      "Epoch 11/12\n",
      "896/896 [==============================] - 2s 2ms/step - loss: 0.2260 - acc: 0.9141 - val_loss: 0.4944 - val_acc: 0.7589\n",
      "Epoch 12/12\n",
      "896/896 [==============================] - 2s 2ms/step - loss: 0.2139 - acc: 0.9208 - val_loss: 0.5814 - val_acc: 0.7500\n"
     ]
    }
   ],
   "source": [
    "num_epochs = 12\n",
    "conv_history = model.fit(\n",
    "    convolutional_data,\n",
    "    convolutional_targets,\n",
    "    validation_split=0.2,\n",
    "    epochs=num_epochs,\n",
    "    verbose=1).history"
   ]
  },
  {
   "cell_type": "code",
   "execution_count": 18,
   "metadata": {},
   "outputs": [],
   "source": [
    "epochs = range(1, num_epochs+1)"
   ]
  },
  {
   "cell_type": "code",
   "execution_count": 19,
   "metadata": {},
   "outputs": [
    {
     "data": {
      "text/plain": [
       "<matplotlib.legend.Legend at 0x7f2d15d22ef0>"
      ]
     },
     "execution_count": 19,
     "metadata": {},
     "output_type": "execute_result"
    },
    {
     "data": {
      "image/png": "[encoded data removed]",
      "text/plain": [
       "<Figure size 432x288 with 1 Axes>"
      ]
     },
     "metadata": {
      "needs_background": "light"
     },
     "output_type": "display_data"
    }
   ],
   "source": [
    "plt.plot(epochs, conv_history['loss'], 'bo', label='Training loss')\n",
    "plt.plot(epochs, conv_history['val_loss'], 'b', label='Validation loss')\n",
    "plt.title('Training and validation loss')\n",
    "plt.xlabel('Epochs')\n",
    "plt.ylabel('Loss')\n",
    "plt.legend()"
   ]
  },
  {
   "cell_type": "markdown",
   "metadata": {},
   "source": [
    "We can see that the both the training loss and validation loss start by decreasing, until the validation loss begins to rise again. This shows that after a short number of epochs we start to see overfitting, where the model is fit to well to our data. Adding dropout layers helps reduce this effect, but we are using such a small dataset that it is likely too easy to reproduce what the model is training on."
   ]
  },
  {
   "cell_type": "code",
   "execution_count": 20,
   "metadata": {},
   "outputs": [
    {
     "data": {
      "text/plain": [
       "<matplotlib.legend.Legend at 0x7f2d15cf59e8>"
      ]
     },
     "execution_count": 20,
     "metadata": {},
     "output_type": "execute_result"
    },
    {
     "data": {
      "image/png": "[encoded data removed]",
      "text/plain": [
       "<Figure size 432x288 with 1 Axes>"
      ]
     },
     "metadata": {
      "needs_background": "light"
     },
     "output_type": "display_data"
    }
   ],
   "source": [
    "plt.plot(epochs, conv_history['acc'], 'ro', label='Training accuracy')\n",
    "plt.plot(epochs, conv_history['val_acc'], 'r', label='Validation accuracy')\n",
    "plt.title('Training and validation accuracy')\n",
    "plt.xlabel('Epochs')\n",
    "plt.ylabel('Accuracy')\n",
    "plt.legend()"
   ]
  },
  {
   "cell_type": "markdown",
   "metadata": {},
   "source": [
    "Our training accuracy increases consistently, as the model fits more and more closely to the training set. The validation increases but quickly levels out, as the model is not becoming more predictive on unseen data.\n",
    "\n",
    "We should also note that with such a small dataset our results are highly variable."
   ]
  }
 ],
 "metadata": {
  "kernelspec": {
   "display_name": "Python 3",
   "language": "python",
   "name": "python3"
  },
  "language_info": {
   "codemirror_mode": {
    "name": "ipython",
    "version": 3
   },
   "file_extension": ".py",
   "mimetype": "text/x-python",
   "name": "python",
   "nbconvert_exporter": "python",
   "pygments_lexer": "ipython3",
   "version": "3.6.7"
  },
  "toc": {
   "base_numbering": 1,
   "nav_menu": {},
   "number_sections": true,
   "sideBar": true,
   "skip_h1_title": false,
   "title_cell": "Table of Contents",
   "title_sidebar": "Contents",
   "toc_cell": false,
   "toc_position": {},
   "toc_section_display": true,
   "toc_window_display": false
  }
 },
 "nbformat": 4,
 "nbformat_minor": 2
}
