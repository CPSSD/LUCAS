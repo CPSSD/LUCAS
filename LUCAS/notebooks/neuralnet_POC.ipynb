{
 "cells": [
  {
   "cell_type": "markdown",
   "metadata": {},
   "source": [
    "# Proof-of-concept: Classification of review deception via a neural network"
   ]
  },
  {
   "cell_type": "markdown",
   "metadata": {},
   "source": [
    "We now wish to move on to a deep-learning approach to fake review opinion spam detection, shown in numerous papers and studies to be an effective method of classification. \n",
    "In this notebook, in a similar fashion to the other notebooks in this directory, we will use the small dataset with minimal features and set up a very basic neural network using Tensorflow and Keras.\n",
    "Let's start by importing the modules we need."
   ]
  },
  {
   "cell_type": "code",
   "execution_count": 2,
   "metadata": {},
   "outputs": [],
   "source": [
    "import numpy as np\n",
    "import pandas as pd\n",
    "import tensorflow as tf\n",
    "from tensorflow import keras\n",
    "from keras.preprocessing import text\n",
    "import matplotlib.pyplot as plt\n",
    "from sklearn.model_selection import train_test_split"
   ]
  },
  {
   "cell_type": "markdown",
   "metadata": {},
   "source": [
    "Now, let's start by getting our data. We use the get_data_frame function from the training helpers file, and split it into our X and Y (data and labels). \n",
    "\n",
    "It's been shown that a 70/30 train/test split is generally quite good, with a 70/30 train/validation split on the training data.\n",
    "\n",
    "Training data is used to adjust weights, validation is used to make sure that these weight changes result in an increase in accuracy. Test data is used to run the final set of weights over data it's never seen before for final validation and to produce an accuracy."
   ]
  },
  {
   "cell_type": "code",
   "execution_count": 3,
   "metadata": {},
   "outputs": [],
   "source": [
    "from scripts import training_helpers as th\n",
    "df = th.get_data_frame()\n",
    "\n",
    "X = df['review']\n",
    "y = df['deceptive']\n",
    "\n",
    "X_train, X_test, y_train, y_test = train_test_split(X, y, test_size=0.3)"
   ]
  },
  {
   "cell_type": "markdown",
   "metadata": {},
   "source": [
    "Now let's take a look at the vocab size of our data. "
   ]
  },
  {
   "cell_type": "code",
   "execution_count": 4,
   "metadata": {},
   "outputs": [
    {
     "name": "stdout",
     "output_type": "stream",
     "text": [
      "19309\n"
     ]
    }
   ],
   "source": [
    "def find_vocab_size(reviews):\n",
    "  words = set()\n",
    "  for review in reviews:\n",
    "    for word in review.split():\n",
    "      words.add(word)\n",
    "  return len(words)\n",
    "\n",
    "print(find_vocab_size(X))"
   ]
  },
  {
   "cell_type": "markdown",
   "metadata": {},
   "source": [
    "This is a tonne of features, so let's use the keras Tokenizer, which lets us choose a number of the most commonly occuring words in our vocab. We'll set this number to 2000, to get rid of the least important ones, and then fit it on our data."
   ]
  },
  {
   "cell_type": "code",
   "execution_count": 5,
   "metadata": {},
   "outputs": [],
   "source": [
    "NUM_WORDS = 2000\n",
    "tokenizer = text.Tokenizer(num_words=NUM_WORDS)\n",
    "tokenizer.fit_on_texts(X)"
   ]
  },
  {
   "cell_type": "markdown",
   "metadata": {},
   "source": [
    "Now let's define a function that takes a list of reviews and converts it to a list of tfidf vectors based on the above dictionary."
   ]
  },
  {
   "cell_type": "code",
   "execution_count": 6,
   "metadata": {},
   "outputs": [],
   "source": [
    "def tokenize(data):\n",
    "    return tokenizer.texts_to_matrix(data, mode='tfidf')\n",
    "\n",
    "train_data = tokenize(X_train)\n",
    "test_data = tokenize(X_test)"
   ]
  },
  {
   "cell_type": "markdown",
   "metadata": {},
   "source": [
    "Lets take a look at these tfidf vectors and the shape of them."
   ]
  },
  {
   "cell_type": "code",
   "execution_count": 7,
   "metadata": {},
   "outputs": [
    {
     "name": "stdout",
     "output_type": "stream",
     "text": [
      "[0.         2.70758825 1.83437642 ... 0.         0.         0.        ]\n"
     ]
    }
   ],
   "source": [
    "print(train_data[0])"
   ]
  },
  {
   "cell_type": "markdown",
   "metadata": {},
   "source": [
    "Looks good. Now that our data is prepared, lets create our neural network.\n",
    "\n",
    "Let's create a basic network with one hidden layer of 4 nodes, fully connected (Dense). \n",
    "\n",
    "The first layer needs to specify the size of the input in 'input_shape', which is the number of features in an input. Its output size will be the first parameter (4). In this case, we use a very small number of nodes as it's a very small dataset, so 4 is optimal to prevent overfitting.\n",
    "\n",
    "The following layers can infer the size.\n",
    "\n",
    "We use the Adam optimizer, which is a replacement optimizer for stochastic gradient descent, and the binary_crossentropy loss function, which is the binary log loss function."
   ]
  },
  {
   "cell_type": "code",
   "execution_count": 8,
   "metadata": {},
   "outputs": [
    {
     "name": "stdout",
     "output_type": "stream",
     "text": [
      "_________________________________________________________________\n",
      "Layer (type)                 Output Shape              Param #   \n",
      "=================================================================\n",
      "dense (Dense)                (None, 4)                 8004      \n",
      "_________________________________________________________________\n",
      "dense_1 (Dense)              (None, 4)                 20        \n",
      "_________________________________________________________________\n",
      "dense_2 (Dense)              (None, 1)                 5         \n",
      "=================================================================\n",
      "Total params: 8,029\n",
      "Trainable params: 8,029\n",
      "Non-trainable params: 0\n",
      "_________________________________________________________________\n"
     ]
    }
   ],
   "source": [
    "model = keras.Sequential([\n",
    "    keras.layers.Dense(4, activation=tf.nn.relu, input_shape=(NUM_WORDS,)),\n",
    "    keras.layers.Dense(4, activation=tf.nn.relu),\n",
    "    keras.layers.Dense(1, activation=tf.nn.sigmoid)\n",
    "])\n",
    " \n",
    "model.compile(optimizer='adam',\n",
    "              loss='binary_crossentropy',\n",
    "              metrics=['accuracy'])\n",
    "\n",
    "model.summary()"
   ]
  },
  {
   "cell_type": "markdown",
   "metadata": {},
   "source": [
    "Now let's train and validate the model. We fit it on the training data, using 70% for training (weight adjustment) and 30% for validation. Validation is important as it's data that hasn't been seen in the training, so we get a feel for how well the model generalizes and make sure overfitting does not occur. In general, how good a model is can be judged based on how low it's validation loss is.\n",
    "\n",
    "Batch size is how many chunks we want to split out data up into. We cant pass the entire dataset in one epoch, so we split it up into chunks of size n, where n is the batch size. The number of iterations it takes to complete one epoch is the training size / batch size."
   ]
  },
  {
   "cell_type": "code",
   "execution_count": 9,
   "metadata": {},
   "outputs": [
    {
     "name": "stdout",
     "output_type": "stream",
     "text": [
      "Train on 784 samples, validate on 336 samples\n",
      "Epoch 1/12\n",
      " - 1s - loss: 0.6831 - acc: 0.5191 - val_loss: 0.6695 - val_acc: 0.6131\n",
      "Epoch 2/12\n",
      " - 0s - loss: 0.6014 - acc: 0.6939 - val_loss: 0.6078 - val_acc: 0.6994\n",
      "Epoch 3/12\n",
      " - 0s - loss: 0.4964 - acc: 0.8304 - val_loss: 0.5587 - val_acc: 0.7143\n",
      "Epoch 4/12\n",
      " - 0s - loss: 0.4195 - acc: 0.9094 - val_loss: 0.5380 - val_acc: 0.7500\n",
      "Epoch 5/12\n",
      " - 0s - loss: 0.3705 - acc: 0.9554 - val_loss: 0.5452 - val_acc: 0.7589\n",
      "Epoch 6/12\n",
      " - 0s - loss: 0.3386 - acc: 0.9783 - val_loss: 0.5587 - val_acc: 0.7500\n",
      "Epoch 7/12\n",
      " - 0s - loss: 0.3151 - acc: 0.9860 - val_loss: 0.5702 - val_acc: 0.7470\n",
      "Epoch 8/12\n",
      " - 0s - loss: 0.2979 - acc: 0.9923 - val_loss: 0.5878 - val_acc: 0.7500\n",
      "Epoch 9/12\n",
      " - 0s - loss: 0.2816 - acc: 0.9949 - val_loss: 0.5954 - val_acc: 0.7500\n",
      "Epoch 10/12\n",
      " - 0s - loss: 0.2668 - acc: 0.9962 - val_loss: 0.5985 - val_acc: 0.7560\n",
      "Epoch 11/12\n",
      " - 0s - loss: 0.2544 - acc: 0.9962 - val_loss: 0.5956 - val_acc: 0.7589\n",
      "Epoch 12/12\n",
      " - 0s - loss: 0.2424 - acc: 0.9962 - val_loss: 0.6362 - val_acc: 0.7500\n"
     ]
    }
   ],
   "source": [
    "history = model.fit(train_data,\n",
    "                      y_train,\n",
    "                      epochs=12,\n",
    "                      batch_size=16,\n",
    "                      validation_split=0.3,\n",
    "                      verbose=2)"
   ]
  },
  {
   "cell_type": "markdown",
   "metadata": {},
   "source": [
    "We can see above that the validation loss consistently decreases as the epochs go on, and validation accuracy consistently increases. If the validation loss is decreasing up until the end, then increase the number of epochs or reduce the batch size.\n",
    "\n",
    "From the val_acc seen at the end of every epoch, we can predict the value of accuracy on the test data. Lets evaluate the model and give it a try."
   ]
  },
  {
   "cell_type": "code",
   "execution_count": 10,
   "metadata": {},
   "outputs": [
    {
     "name": "stdout",
     "output_type": "stream",
     "text": [
      "480/480 [==============================] - 0s 106us/step\n",
      "['loss', 'acc'] [0.6707378367582957, 0.75]\n"
     ]
    }
   ],
   "source": [
    "results = model.evaluate(test_data, y_test)\n",
    "print(model.metrics_names, results)"
   ]
  },
  {
   "cell_type": "markdown",
   "metadata": {},
   "source": [
    "Yup, the accuracy is about as predicted! And we have a pretty low loss too. This indicates a good model that will generalize well.\n",
    "Let's plot the training and validation losses."
   ]
  },
  {
   "cell_type": "code",
   "execution_count": 11,
   "metadata": {
    "scrolled": true
   },
   "outputs": [
    {
     "data": {
      "text/plain": [
       "<matplotlib.legend.Legend at 0x7fca70e9c4a8>"
      ]
     },
     "execution_count": 11,
     "metadata": {},
     "output_type": "execute_result"
    },
    {
     "data": {
      "image/png": "[encoded data removed]",
      "text/plain": [
       "<Figure size 432x288 with 1 Axes>"
      ]
     },
     "metadata": {
      "needs_background": "light"
     },
     "output_type": "display_data"
    }
   ],
   "source": [
    "acc = history.history['acc']\n",
    "val_acc = history.history['val_acc']\n",
    "loss = history.history['loss']\n",
    "val_loss = history.history['val_loss']\n",
    "\n",
    "epochs = range(1, len(acc) + 1)\n",
    "\n",
    "# \"bo\" is for \"blue dot\"\n",
    "plt.plot(epochs, loss, 'bo', label='Training loss')\n",
    "# b is for \"solid blue line\"\n",
    "plt.plot(epochs, val_loss, 'b', label='Validation loss')\n",
    "plt.title('Training and validation loss')\n",
    "plt.xlabel('Epochs')\n",
    "plt.ylabel('Loss')\n",
    "plt.legend()"
   ]
  },
  {
   "cell_type": "code",
   "execution_count": 12,
   "metadata": {},
   "outputs": [
    {
     "data": {
      "text/plain": [
       "<matplotlib.legend.Legend at 0x7fca705d6f98>"
      ]
     },
     "execution_count": 12,
     "metadata": {},
     "output_type": "execute_result"
    },
    {
     "data": {
      "image/png": "[encoded data removed]",
      "text/plain": [
       "<Figure size 432x288 with 1 Axes>"
      ]
     },
     "metadata": {
      "needs_background": "light"
     },
     "output_type": "display_data"
    }
   ],
   "source": [
    "# \"bo\" is for \"blue dot\"\n",
    "plt.plot(epochs, acc, 'ro', label='Training accuracy')\n",
    "# b is for \"solid blue line\"\n",
    "plt.plot(epochs, val_acc, 'r', label='Validation accuracy')\n",
    "plt.title('Training and validation accuracy')\n",
    "plt.xlabel('Epochs')\n",
    "plt.ylabel('Accuracy')\n",
    "plt.legend()"
   ]
  },
  {
   "cell_type": "markdown",
   "metadata": {},
   "source": [
    "# Convolutional Model\n",
    "\n",
    "Until an experiment is performed to generate embeddings of our input data, we are still using bow features.\n",
    "\n",
    "One paper [Semi-supervised Convolutional Neural Networks for text categorization via region embedding](https://papers.nips.cc/paper/5849-semi-supervised-convolutional-neural-networks-for-text-categorization-via-region-embedding.pdf) builds a semi supervised convolutional network using bow by using unsupervised learning to produce two-view embeddings of the words. This however is a lot of work for a proof of concept, so we will not try to perform the same work.\n",
    "\n",
    "Based on findings in a paper [A Sensitivity Analysis of (and Practitioners’ Guide to) Convolutional Neural Networks for Sentence Classification](https://arxiv.org/pdf/1510.03820.pdf) we will make a number of decisions:\n",
    "\n",
    "* We will use the ReLU implementation as our activation function.\n",
    "* While working with only sliding one direction over the data, we will use a filter size of 10\n",
    "* We will try 50 filters for our POC\n",
    "* Our vocab size is magnitudes of order larger than our filter size. We'll use global max pooling on our dataset\n",
    "* We can start with 1 convolutional layer, like other research has, [Convolutional neural networks for sentence classification](https://www.aclweb.org/anthology/D14-1181)\n",
    "* We'll include a dropout layer to mitigate overfitting.\n",
    "\n",
    "However this model is not expected to be very predictive at all on bag of words because the word order is not preserved. Word order is important for Convolutional Networks. By treating the bag of words as two dimensional input, with a height of one, we can drop in our embeddings with the same process as before, but with a greater height."
   ]
  },
  {
   "cell_type": "code",
   "execution_count": 13,
   "metadata": {},
   "outputs": [
    {
     "data": {
      "text/plain": [
       "(1120, 2000)"
      ]
     },
     "execution_count": 13,
     "metadata": {},
     "output_type": "execute_result"
    }
   ],
   "source": [
    "train_data.shape"
   ]
  },
  {
   "cell_type": "code",
   "execution_count": 85,
   "metadata": {},
   "outputs": [
    {
     "data": {
      "text/plain": [
       "(1120, 1, 2000, 1)"
      ]
     },
     "execution_count": 85,
     "metadata": {},
     "output_type": "execute_result"
    }
   ],
   "source": [
    "batches = 1120\n",
    "convolutional_data = np.array(np.split(np.array([[[y] for y in z] for z in train_data]), batches))\n",
    "convolutional_data.shape"
   ]
  },
  {
   "cell_type": "code",
   "execution_count": 98,
   "metadata": {
    "scrolled": true
   },
   "outputs": [],
   "source": [
    "from keras import layers\n",
    "from keras.activations import relu\n",
    "\n",
    "# input shape\n",
    "\n",
    "model = keras.Sequential([\n",
    "    keras.layers.Conv2D(filters=50, kernel_size=(1, 10), input_shape=(1, 2000, 1), activation=relu),\n",
    "    keras.layers.MaxPooling2D(pool_size=(1, 10)),\n",
    "    keras.layers.Dropout(0.2),\n",
    "    keras.layers.Flatten(),\n",
    "    keras.layers.Dense(2, activation='softmax')\n",
    "])"
   ]
  },
  {
   "cell_type": "code",
   "execution_count": 99,
   "metadata": {},
   "outputs": [],
   "source": [
    "model.compile(\n",
    "    loss=keras.losses.categorical_crossentropy,\n",
    "    optimizer='adam',\n",
    "    metrics=['accuracy'])"
   ]
  },
  {
   "cell_type": "code",
   "execution_count": 100,
   "metadata": {},
   "outputs": [
    {
     "data": {
      "text/plain": [
       "(1120, 2)"
      ]
     },
     "execution_count": 100,
     "metadata": {},
     "output_type": "execute_result"
    }
   ],
   "source": [
    "convolutional_targets = keras.utils.to_categorical(y_train)\n",
    "convolutional_targets.shape"
   ]
  },
  {
   "cell_type": "code",
   "execution_count": 101,
   "metadata": {},
   "outputs": [
    {
     "name": "stdout",
     "output_type": "stream",
     "text": [
      "Train on 896 samples, validate on 224 samples\n",
      "Epoch 1/12\n",
      "896/896 [==============================] - 3s 3ms/step - loss: 0.6622 - acc: 0.6071 - val_loss: 0.6477 - val_acc: 0.6205\n",
      "Epoch 2/12\n",
      "896/896 [==============================] - 1s 1ms/step - loss: 0.4902 - acc: 0.7779 - val_loss: 0.6423 - val_acc: 0.6652\n",
      "Epoch 3/12\n",
      "896/896 [==============================] - 1s 1ms/step - loss: 0.4427 - acc: 0.7935 - val_loss: 0.6501 - val_acc: 0.6696\n",
      "Epoch 4/12\n",
      "896/896 [==============================] - 1s 1ms/step - loss: 0.4078 - acc: 0.8092 - val_loss: 0.6465 - val_acc: 0.6652\n",
      "Epoch 5/12\n",
      "896/896 [==============================] - 1s 1ms/step - loss: 0.3578 - acc: 0.8426 - val_loss: 0.6486 - val_acc: 0.6741\n",
      "Epoch 6/12\n",
      "896/896 [==============================] - 1s 1ms/step - loss: 0.3550 - acc: 0.8382 - val_loss: 0.7300 - val_acc: 0.6741\n",
      "Epoch 7/12\n",
      "896/896 [==============================] - 1s 1ms/step - loss: 0.3053 - acc: 0.8817 - val_loss: 0.7120 - val_acc: 0.6562\n",
      "Epoch 8/12\n",
      "896/896 [==============================] - 1s 1ms/step - loss: 0.2809 - acc: 0.8828 - val_loss: 0.7238 - val_acc: 0.6518\n",
      "Epoch 9/12\n",
      "896/896 [==============================] - 1s 2ms/step - loss: 0.2675 - acc: 0.8917 - val_loss: 0.7289 - val_acc: 0.6607\n",
      "Epoch 10/12\n",
      "896/896 [==============================] - 1s 1ms/step - loss: 0.2396 - acc: 0.9051 - val_loss: 0.7598 - val_acc: 0.6607\n",
      "Epoch 11/12\n",
      "896/896 [==============================] - 1s 1ms/step - loss: 0.2249 - acc: 0.9152 - val_loss: 0.8073 - val_acc: 0.6473\n",
      "Epoch 12/12\n",
      "896/896 [==============================] - 1s 1ms/step - loss: 0.2054 - acc: 0.9174 - val_loss: 0.7711 - val_acc: 0.6607\n"
     ]
    }
   ],
   "source": [
    "num_epochs = 12\n",
    "conv_history = model.fit(\n",
    "    convolutional_data,\n",
    "    convolutional_targets,\n",
    "    validation_split=0.2,\n",
    "    epochs=num_epochs,\n",
    "    verbose=1).history"
   ]
  },
  {
   "cell_type": "code",
   "execution_count": 102,
   "metadata": {},
   "outputs": [],
   "source": [
    "epochs = range(1, num_epochs+1)"
   ]
  },
  {
   "cell_type": "code",
   "execution_count": 103,
   "metadata": {},
   "outputs": [
    {
     "data": {
      "text/plain": [
       "<matplotlib.legend.Legend at 0x7fc93a0c4da0>"
      ]
     },
     "execution_count": 103,
     "metadata": {},
     "output_type": "execute_result"
    },
    {
     "data": {
      "image/png": "[encoded data removed]",
      "text/plain": [
       "<Figure size 432x288 with 1 Axes>"
      ]
     },
     "metadata": {
      "needs_background": "light"
     },
     "output_type": "display_data"
    }
   ],
   "source": [
    "#acc = conv_history['acc']\n",
    "#val_acc = conv_history['val_acc']\n",
    "\n",
    "# \"bo\" is for \"blue dot\"\n",
    "plt.plot(epochs, conv_history['loss'], 'bo', label='Training loss')\n",
    "# b is for \"solid blue line\"\n",
    "plt.plot(epochs, conv_history['val_loss'], 'b', label='Validation loss')\n",
    "plt.title('Training and validation loss')\n",
    "plt.xlabel('Epochs')\n",
    "plt.ylabel('Loss')\n",
    "plt.legend()"
   ]
  },
  {
   "cell_type": "code",
   "execution_count": 104,
   "metadata": {},
   "outputs": [
    {
     "data": {
      "text/plain": [
       "<matplotlib.legend.Legend at 0x7fc93a0ae9b0>"
      ]
     },
     "execution_count": 104,
     "metadata": {},
     "output_type": "execute_result"
    },
    {
     "data": {
      "image/png": "[encoded data removed]",
      "text/plain": [
       "<Figure size 432x288 with 1 Axes>"
      ]
     },
     "metadata": {
      "needs_background": "light"
     },
     "output_type": "display_data"
    }
   ],
   "source": [
    "# \"bo\" is for \"blue dot\"\n",
    "plt.plot(epochs, conv_history['acc'], 'ro', label='Training accuracy')\n",
    "# b is for \"solid blue line\"\n",
    "plt.plot(epochs, conv_history['val_acc'], 'r', label='Validation accuracy')\n",
    "plt.title('Training and validation accuracy')\n",
    "plt.xlabel('Epochs')\n",
    "plt.ylabel('Accuracy')\n",
    "plt.legend()"
   ]
  },
  {
   "cell_type": "code",
   "execution_count": null,
   "metadata": {},
   "outputs": [],
   "source": []
  }
 ],
 "metadata": {
  "kernelspec": {
   "display_name": "Python 3",
   "language": "python",
   "name": "python3"
  },
  "language_info": {
   "codemirror_mode": {
    "name": "ipython",
    "version": 3
   },
   "file_extension": ".py",
   "mimetype": "text/x-python",
   "name": "python",
   "nbconvert_exporter": "python",
   "pygments_lexer": "ipython3",
   "version": "3.6.6"
  },
  "toc": {
   "base_numbering": 1,
   "nav_menu": {},
   "number_sections": true,
   "sideBar": true,
   "skip_h1_title": false,
   "title_cell": "Table of Contents",
   "title_sidebar": "Contents",
   "toc_cell": false,
   "toc_position": {},
   "toc_section_display": true,
   "toc_window_display": false
  }
 },
 "nbformat": 4,
 "nbformat_minor": 2
}
