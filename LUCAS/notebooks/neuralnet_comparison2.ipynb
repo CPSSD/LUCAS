{
 "cells": [
  {
   "cell_type": "markdown",
   "metadata": {},
   "source": [
    "# Comparison of Neural Models 2\n",
    "\n",
    "## Feedforward Neural Network\n",
    "\n",
    "Following an experiment to compare neural models, we discovered odd results showing that bag of words could outperform embeddings. This experiment attempts to tweak the embeddings to show the expected results under the assumption that the problem is not the amount of data. If the problem is the amount of data we will investigate this in another experiment."
   ]
  },
  {
   "cell_type": "markdown",
   "metadata": {},
   "source": [
    "Again, we will show Bag of Words results:"
   ]
  },
  {
   "cell_type": "code",
   "execution_count": 8,
   "metadata": {},
   "outputs": [],
   "source": [
    "from scripts import training_helpers\n",
    "from scripts.cross_validate import run_cross_validate\n",
    "from tensorflow.keras.preprocessing.text import text_to_word_sequence, Tokenizer\n",
    "from tensorflow.keras.activations import relu, sigmoid\n",
    "from tensorflow.keras import Sequential\n",
    "from keras.preprocessing.sequence import pad_sequences\n",
    "from tensorflow.keras.layers import Conv2D, Dense, Dropout, Flatten, Embedding, MaxPooling2D\n",
    "from tensorflow.keras.regularizers import l2\n",
    "from pandas import DataFrame\n",
    "from seaborn import boxplot\n",
    "import matplotlib.pyplot as plt\n",
    "import json\n",
    "\n",
    "import gensim\n",
    "import numpy as np\n",
    "\n",
    "read_existing_embeddings = True"
   ]
  },
  {
   "cell_type": "code",
   "execution_count": 2,
   "metadata": {},
   "outputs": [],
   "source": [
    "data_frame = training_helpers.get_data_frame()\n",
    "raw_features = data_frame['review']\n",
    "labels = [x for x in data_frame['deceptive']]\n",
    "\n",
    "tokenizer = Tokenizer()\n",
    "tokenizer.fit_on_texts(raw_features)\n",
    "bow_features = tokenizer.texts_to_matrix(raw_features, mode='tfidf')"
   ]
  },
  {
   "cell_type": "code",
   "execution_count": 3,
   "metadata": {},
   "outputs": [],
   "source": [
    "corpus_words = tokenizer.word_index\n",
    "corpus_vocab_size = len(corpus_words)+1"
   ]
  },
  {
   "cell_type": "code",
   "execution_count": 4,
   "metadata": {},
   "outputs": [
    {
     "name": "stdout",
     "output_type": "stream",
     "text": [
      "Fitting with:  (1440, 9839) labels (1440,)\n",
      "160/160 [==============================] - 0s 144us/step\n",
      "Fitting with:  (1440, 9839) labels (1440,)\n",
      "160/160 [==============================] - 0s 155us/step\n",
      "Fitting with:  (1440, 9839) labels (1440,)\n",
      "160/160 [==============================] - 0s 139us/step\n",
      "Fitting with:  (1440, 9839) labels (1440,)\n",
      "160/160 [==============================] - 0s 172us/step\n",
      "Fitting with:  (1440, 9839) labels (1440,)\n",
      "160/160 [==============================] - 0s 172us/step\n",
      "Fitting with:  (1440, 9839) labels (1440,)\n",
      "160/160 [==============================] - 0s 190us/step\n",
      "Fitting with:  (1440, 9839) labels (1440,)\n",
      "160/160 [==============================] - 0s 199us/step\n",
      "Fitting with:  (1440, 9839) labels (1440,)\n",
      "160/160 [==============================] - 0s 219us/step\n",
      "Fitting with:  (1440, 9839) labels (1440,)\n",
      "160/160 [==============================] - 0s 129us/step\n",
      "Fitting with:  (1440, 9839) labels (1440,)\n",
      "160/160 [==============================] - 0s 196us/step\n"
     ]
    }
   ],
   "source": [
    "def get_ff_bow_model():\n",
    "  model = Sequential([\n",
    "      Dense(16, activation=relu, input_shape=(corpus_vocab_size,), kernel_regularizer=l2(0.01)),\n",
    "      Dropout(0.25),\n",
    "      Dense(8, activation=relu, kernel_regularizer=l2(0.01)),\n",
    "      Dense(1, activation=sigmoid)\n",
    "  ])\n",
    "  model.compile(optimizer='adam', loss='binary_crossentropy', metrics=['accuracy'])\n",
    "  return model\n",
    "\n",
    "ff_bow_scores = run_cross_validate(get_ff_bow_model, bow_features, labels, cv=10, verbose=0)"
   ]
  },
  {
   "cell_type": "markdown",
   "metadata": {},
   "source": [
    "And now we will get results for embeddings. This time I will use Word2Vec. Although this was not trained directly on words from our dataset, the Word2Vec has a higher dimensionality (making it harder to run on our machines) and so may show better results."
   ]
  },
  {
   "cell_type": "code",
   "execution_count": 4,
   "metadata": {},
   "outputs": [],
   "source": [
    "embedding_matrix = None\n",
    "embedding_length = 0\n",
    "if read_existing_embeddings:\n",
    "  embedding_length=300\n",
    "  embedding_matrix = np.zeros((corpus_vocab_size, embedding_length))\n",
    "  with open('data.json', 'r') as infile:\n",
    "      data = json.load(infile)\n",
    "      for i in range(len(data)):\n",
    "          embedding_matrix[i] = np.array(data[i], dtype=np.float32)\n",
    "else:\n",
    "  word_vectors = gensim.models.KeyedVectors.load_word2vec_format(\"../data/GoogleNews-vectors-negative300.bin\",\n",
    "                                                                 binary=True)\n",
    "  embedding_length = word_vectors.vector_size\n",
    "    \n",
    "  embedding_matrix = np.zeros((corpus_vocab_size, embedding_length))\n",
    "  for word, index in corpus_words.items():\n",
    "    if word in word_vectors.vocab:\n",
    "      embedding_matrix[index] = np.array(word_vectors[word], dtype=np.float32)\n",
    "\n",
    "  with open('data.json', 'w') as outfile:\n",
    "      json.dump(embedding_matrix.tolist(), outfile)"
   ]
  },
  {
   "cell_type": "code",
   "execution_count": 6,
   "metadata": {},
   "outputs": [],
   "source": [
    "def get_ff_wv_model():\n",
    "  model_ff_wv = Sequential([\n",
    "      Embedding(corpus_vocab_size, embedding_length, weights=[embedding_matrix], trainable=False,\n",
    "                input_length=corpus_vocab_size),\n",
    "      Flatten(),\n",
    "      Dense(16, activation=relu, kernel_regularizer=l2(0.01)),\n",
    "      Dropout(0.25),\n",
    "      Dense(8, activation=relu, kernel_regularizer=l2(0.01)),\n",
    "      Dense(1, activation=sigmoid)\n",
    "  ])\n",
    "  model_ff_wv.compile(optimizer='adam', loss='binary_crossentropy', metrics=['accuracy'])\n",
    "  return model_ff_wv"
   ]
  },
  {
   "cell_type": "code",
   "execution_count": 7,
   "metadata": {
    "scrolled": true
   },
   "outputs": [
    {
     "name": "stdout",
     "output_type": "stream",
     "text": [
      "Fitting with:  (1280, 9839) labels (1280,)\n",
      "Train on 896 samples, validate on 384 samples\n",
      "Epoch 1/12\n",
      "896/896 [==============================] - 42s 47ms/step - loss: 1.0891 - acc: 0.5882 - val_loss: 1.2110 - val_acc: 0.6198\n",
      "Epoch 2/12\n",
      "896/896 [==============================] - 38s 43ms/step - loss: 1.2013 - acc: 0.7132 - val_loss: 1.3584 - val_acc: 0.6745\n",
      "Epoch 3/12\n",
      "896/896 [==============================] - 38s 42ms/step - loss: 1.2186 - acc: 0.7333 - val_loss: 1.4261 - val_acc: 0.7005\n",
      "Epoch 4/12\n",
      "896/896 [==============================] - 38s 42ms/step - loss: 1.2512 - acc: 0.7054 - val_loss: 1.3712 - val_acc: 0.6484\n",
      "Epoch 5/12\n",
      "896/896 [==============================] - 38s 43ms/step - loss: 1.2558 - acc: 0.7533 - val_loss: 1.4386 - val_acc: 0.6719\n",
      "320/320 [==============================] - 2s 7ms/step\n",
      "Fitting with:  (1280, 9839) labels (1280,)\n",
      "Train on 896 samples, validate on 384 samples\n",
      "Epoch 1/12\n",
      "896/896 [==============================] - 42s 47ms/step - loss: 0.9364 - acc: 0.5569 - val_loss: 1.0129 - val_acc: 0.6198\n",
      "Epoch 2/12\n",
      "896/896 [==============================] - 40s 44ms/step - loss: 1.1214 - acc: 0.6853 - val_loss: 1.2568 - val_acc: 0.6693\n",
      "Epoch 3/12\n",
      "896/896 [==============================] - 42s 47ms/step - loss: 1.2156 - acc: 0.7355 - val_loss: 1.3580 - val_acc: 0.6823\n",
      "Epoch 4/12\n",
      "896/896 [==============================] - 42s 47ms/step - loss: 1.2638 - acc: 0.7533 - val_loss: 1.5648 - val_acc: 0.6693\n",
      "Epoch 5/12\n",
      "896/896 [==============================] - 42s 47ms/step - loss: 1.2139 - acc: 0.7879 - val_loss: 1.4685 - val_acc: 0.6354\n",
      "320/320 [==============================] - 2s 7ms/step\n",
      "Fitting with:  (1280, 9839) labels (1280,)\n",
      "Train on 896 samples, validate on 384 samples\n",
      "Epoch 1/12\n",
      "896/896 [==============================] - 47s 52ms/step - loss: 1.1827 - acc: 0.6306 - val_loss: 1.3397 - val_acc: 0.6823\n",
      "Epoch 2/12\n",
      "896/896 [==============================] - 42s 47ms/step - loss: 1.1347 - acc: 0.7779 - val_loss: 1.4744 - val_acc: 0.7135\n",
      "Epoch 3/12\n",
      "896/896 [==============================] - 43s 47ms/step - loss: 1.2657 - acc: 0.7746 - val_loss: 1.3647 - val_acc: 0.6979\n",
      "Epoch 4/12\n",
      "896/896 [==============================] - 42s 47ms/step - loss: 1.2354 - acc: 0.8013 - val_loss: 1.5523 - val_acc: 0.6901\n",
      "Epoch 5/12\n",
      "896/896 [==============================] - 42s 47ms/step - loss: 1.2216 - acc: 0.8114 - val_loss: 1.4533 - val_acc: 0.7109\n",
      "320/320 [==============================] - 2s 7ms/step\n",
      "Fitting with:  (1280, 9839) labels (1280,)\n",
      "Train on 896 samples, validate on 384 samples\n",
      "Epoch 1/12\n",
      "896/896 [==============================] - 51s 57ms/step - loss: 0.9980 - acc: 0.5904 - val_loss: 1.1417 - val_acc: 0.6328\n",
      "Epoch 2/12\n",
      "896/896 [==============================] - 42s 47ms/step - loss: 1.2157 - acc: 0.6775 - val_loss: 1.3167 - val_acc: 0.6797\n",
      "Epoch 3/12\n",
      "896/896 [==============================] - 42s 47ms/step - loss: 1.2370 - acc: 0.7243 - val_loss: 1.2874 - val_acc: 0.6875\n",
      "Epoch 4/12\n",
      "896/896 [==============================] - 42s 47ms/step - loss: 1.2164 - acc: 0.7143 - val_loss: 1.3321 - val_acc: 0.6797\n",
      "Epoch 5/12\n",
      "896/896 [==============================] - 42s 47ms/step - loss: 1.2309 - acc: 0.7355 - val_loss: 1.3525 - val_acc: 0.6901\n",
      "320/320 [==============================] - 2s 7ms/step\n",
      "Fitting with:  (1280, 9839) labels (1280,)\n",
      "Train on 896 samples, validate on 384 samples\n",
      "Epoch 1/12\n",
      "896/896 [==============================] - 64s 71ms/step - loss: 0.9597 - acc: 0.5413 - val_loss: 1.0838 - val_acc: 0.5859\n",
      "Epoch 2/12\n",
      "896/896 [==============================] - 42s 47ms/step - loss: 1.0716 - acc: 0.6696 - val_loss: 1.1920 - val_acc: 0.6693\n",
      "Epoch 3/12\n",
      "896/896 [==============================] - 42s 47ms/step - loss: 1.0781 - acc: 0.7277 - val_loss: 1.0938 - val_acc: 0.6823\n",
      "Epoch 4/12\n",
      "896/896 [==============================] - 44s 49ms/step - loss: 1.0370 - acc: 0.7277 - val_loss: 1.2011 - val_acc: 0.6536\n",
      "Epoch 5/12\n",
      "896/896 [==============================] - 42s 47ms/step - loss: 1.0845 - acc: 0.7779 - val_loss: 1.2248 - val_acc: 0.6979\n",
      "320/320 [==============================] - 2s 7ms/step\n"
     ]
    }
   ],
   "source": [
    "ff_wv_scores = run_cross_validate(get_ff_wv_model, bow_features, labels, cv=5)"
   ]
  },
  {
   "cell_type": "code",
   "execution_count": 8,
   "metadata": {},
   "outputs": [
    {
     "name": "stdout",
     "output_type": "stream",
     "text": [
      "Bag of words:  [0.875, 0.8625, 0.88125, 0.88125, 0.86875, 0.91875, 0.875, 0.8625, 0.88125, 0.8875]\n",
      "Word vectors:  [0.628125, 0.709375, 0.665625, 0.703125, 0.659375]\n"
     ]
    }
   ],
   "source": [
    "print (\"Bag of words: \", ff_bow_scores['accuracies'])\n",
    "print (\"Word vectors: \", ff_wv_scores['accuracies'])\n",
    "\n",
    "ff_scores_entries =[('Bag of Words', x) for x in ff_bow_scores['accuracies']] + [('Word Vectors', x) for x in ff_wv_scores['accuracies']]\n",
    "ff_scores_data_frame = DataFrame(ff_scores_entries, columns=['input type', 'accuracy'])"
   ]
  },
  {
   "cell_type": "code",
   "execution_count": 9,
   "metadata": {},
   "outputs": [
    {
     "data": {
      "image/png": "[encoded data removed]",
      "text/plain": [
       "<Figure size 432x288 with 1 Axes>"
      ]
     },
     "metadata": {
      "needs_background": "light"
     },
     "output_type": "display_data"
    }
   ],
   "source": [
    "boxplot(x='input type', y='accuracy', data=ff_scores_data_frame)\n",
    "plt.show()"
   ]
  },
  {
   "cell_type": "markdown",
   "metadata": {},
   "source": [
    "It looks like word vectors are doing better now! Although they should be more accurate than Bag of Words, unless this is an exceptional case. The next step here is to investigate how BoW and word vectors perform on more data, since a small amount of data is a case known to cause results like this. It is also very unlikely Bag of Words will perform as well on a large dataset."
   ]
  },
  {
   "cell_type": "markdown",
   "metadata": {},
   "source": [
    "## Convolutional Neural Network"
   ]
  },
  {
   "cell_type": "markdown",
   "metadata": {},
   "source": [
    "Research has shown that word embeddings perform better than Bag of Words (Convolutional Neural Networks for Sentence Classification, Yoon Kim 2014). We will our convolutional network on Word2Vec embeddings to see if we obtain an improved accuracy. First we will obtain results for bag of words again:"
   ]
  },
  {
   "cell_type": "code",
   "execution_count": 38,
   "metadata": {},
   "outputs": [
    {
     "data": {
      "text/plain": [
       "(1600, 1, 9839, 1)"
      ]
     },
     "execution_count": 38,
     "metadata": {},
     "output_type": "execute_result"
    }
   ],
   "source": [
    "batches = 1600\n",
    "convolutional_data = np.array(np.split(np.array([[[y] for y in z] for z in bow_features]), batches))\n",
    "convolutional_data.shape"
   ]
  },
  {
   "cell_type": "code",
   "execution_count": 39,
   "metadata": {
    "scrolled": true
   },
   "outputs": [
    {
     "name": "stdout",
     "output_type": "stream",
     "text": [
      "Fitting with:  (1440, 1, 9839, 1) labels (1440, 2)\n",
      "Train on 1007 samples, validate on 433 samples\n",
      "Epoch 1/12\n",
      "1007/1007 [==============================] - 9s 9ms/step - loss: 0.4154 - acc: 0.8093 - val_loss: 0.7797 - val_acc: 0.6189\n",
      "Epoch 2/12\n",
      "1007/1007 [==============================] - 8s 8ms/step - loss: 0.1201 - acc: 0.9593 - val_loss: 0.9390 - val_acc: 0.6143\n",
      "Epoch 3/12\n",
      "1007/1007 [==============================] - 9s 9ms/step - loss: 0.0768 - acc: 0.9811 - val_loss: 0.9623 - val_acc: 0.6143\n",
      "Epoch 4/12\n",
      "1007/1007 [==============================] - 8s 8ms/step - loss: 0.0413 - acc: 0.9871 - val_loss: 1.0925 - val_acc: 0.6051\n",
      "Epoch 5/12\n",
      "1007/1007 [==============================] - 9s 9ms/step - loss: 0.0225 - acc: 0.9980 - val_loss: 1.4042 - val_acc: 0.6028\n",
      "160/160 [==============================] - 1s 4ms/step\n",
      "Fitting with:  (1440, 1, 9839, 1) labels (1440, 2)\n",
      "Train on 1007 samples, validate on 433 samples\n",
      "Epoch 1/12\n",
      "1007/1007 [==============================] - 10s 10ms/step - loss: 0.4260 - acc: 0.7915 - val_loss: 0.6652 - val_acc: 0.6721\n",
      "Epoch 2/12\n",
      "1007/1007 [==============================] - 8s 8ms/step - loss: 0.1243 - acc: 0.9593 - val_loss: 0.8342 - val_acc: 0.6143\n",
      "Epoch 3/12\n",
      "1007/1007 [==============================] - 8s 8ms/step - loss: 0.0695 - acc: 0.9801 - val_loss: 0.9113 - val_acc: 0.6143\n",
      "Epoch 4/12\n",
      "1007/1007 [==============================] - 7s 7ms/step - loss: 0.0395 - acc: 0.9930 - val_loss: 1.0827 - val_acc: 0.6097\n",
      "Epoch 5/12\n",
      "1007/1007 [==============================] - 8s 8ms/step - loss: 0.0217 - acc: 0.9990 - val_loss: 1.4048 - val_acc: 0.5866\n",
      "160/160 [==============================] - 1s 4ms/step\n",
      "Fitting with:  (1440, 1, 9839, 1) labels (1440, 2)\n",
      "Train on 1007 samples, validate on 433 samples\n",
      "Epoch 1/12\n",
      "1007/1007 [==============================] - 9s 9ms/step - loss: 0.4536 - acc: 0.7865 - val_loss: 0.7148 - val_acc: 0.6074\n",
      "Epoch 2/12\n",
      "1007/1007 [==============================] - 8s 8ms/step - loss: 0.1378 - acc: 0.9573 - val_loss: 0.7478 - val_acc: 0.6443\n",
      "Epoch 3/12\n",
      "1007/1007 [==============================] - 8s 8ms/step - loss: 0.0764 - acc: 0.9801 - val_loss: 0.9156 - val_acc: 0.6189\n",
      "Epoch 4/12\n",
      "1007/1007 [==============================] - 8s 8ms/step - loss: 0.0407 - acc: 0.9921 - val_loss: 1.0163 - val_acc: 0.6259\n",
      "Epoch 5/12\n",
      "1007/1007 [==============================] - 8s 8ms/step - loss: 0.0281 - acc: 0.9980 - val_loss: 1.1084 - val_acc: 0.6259\n",
      "160/160 [==============================] - 1s 4ms/step\n",
      "Fitting with:  (1440, 1, 9839, 1) labels (1440, 2)\n",
      "Train on 1007 samples, validate on 433 samples\n",
      "Epoch 1/12\n",
      "1007/1007 [==============================] - 9s 9ms/step - loss: 0.4359 - acc: 0.7865 - val_loss: 0.6604 - val_acc: 0.6443\n",
      "Epoch 2/12\n",
      "1007/1007 [==============================] - 8s 8ms/step - loss: 0.1356 - acc: 0.9513 - val_loss: 0.7891 - val_acc: 0.6305\n",
      "Epoch 3/12\n",
      "1007/1007 [==============================] - 8s 8ms/step - loss: 0.0752 - acc: 0.9752 - val_loss: 0.9207 - val_acc: 0.6351\n",
      "Epoch 4/12\n",
      "1007/1007 [==============================] - 8s 8ms/step - loss: 0.0403 - acc: 0.9911 - val_loss: 1.0398 - val_acc: 0.6143\n",
      "Epoch 5/12\n",
      "1007/1007 [==============================] - 8s 8ms/step - loss: 0.0254 - acc: 0.9970 - val_loss: 1.2071 - val_acc: 0.5958\n",
      "160/160 [==============================] - 1s 4ms/step\n",
      "Fitting with:  (1440, 1, 9839, 1) labels (1440, 2)\n",
      "Train on 1007 samples, validate on 433 samples\n",
      "Epoch 1/12\n",
      "1007/1007 [==============================] - 10s 10ms/step - loss: 0.4518 - acc: 0.7766 - val_loss: 0.7762 - val_acc: 0.6005\n",
      "Epoch 2/12\n",
      "1007/1007 [==============================] - 8s 8ms/step - loss: 0.1332 - acc: 0.9553 - val_loss: 0.7796 - val_acc: 0.6351\n",
      "Epoch 3/12\n",
      "1007/1007 [==============================] - 8s 8ms/step - loss: 0.0774 - acc: 0.9791 - val_loss: 1.0630 - val_acc: 0.6051\n",
      "Epoch 4/12\n",
      "1007/1007 [==============================] - 9s 8ms/step - loss: 0.0478 - acc: 0.9871 - val_loss: 1.0660 - val_acc: 0.6328\n",
      "Epoch 5/12\n",
      "1007/1007 [==============================] - 9s 9ms/step - loss: 0.0238 - acc: 0.9980 - val_loss: 1.2081 - val_acc: 0.6443\n",
      "160/160 [==============================] - 1s 4ms/step\n",
      "Fitting with:  (1440, 1, 9839, 1) labels (1440, 2)\n",
      "Train on 1007 samples, validate on 433 samples\n",
      "Epoch 1/12\n",
      "1007/1007 [==============================] - 10s 10ms/step - loss: 0.4275 - acc: 0.7905 - val_loss: 0.6714 - val_acc: 0.6559\n",
      "Epoch 2/12\n",
      "1007/1007 [==============================] - 8s 8ms/step - loss: 0.1216 - acc: 0.9633 - val_loss: 0.8006 - val_acc: 0.6328\n",
      "Epoch 3/12\n",
      "1007/1007 [==============================] - 8s 8ms/step - loss: 0.0662 - acc: 0.9831 - val_loss: 0.9595 - val_acc: 0.6189\n",
      "Epoch 4/12\n",
      "1007/1007 [==============================] - 9s 9ms/step - loss: 0.0373 - acc: 0.9930 - val_loss: 1.0529 - val_acc: 0.5982\n",
      "Epoch 5/12\n",
      "1007/1007 [==============================] - 8s 8ms/step - loss: 0.0223 - acc: 1.0000 - val_loss: 1.3163 - val_acc: 0.5958\n",
      "160/160 [==============================] - 1s 4ms/step\n",
      "Fitting with:  (1440, 1, 9839, 1) labels (1440, 2)\n",
      "Train on 1007 samples, validate on 433 samples\n",
      "Epoch 1/12\n",
      "1007/1007 [==============================] - 9s 9ms/step - loss: 0.4201 - acc: 0.7944 - val_loss: 0.6994 - val_acc: 0.6536\n",
      "Epoch 2/12\n",
      "1007/1007 [==============================] - 8s 8ms/step - loss: 0.1264 - acc: 0.9603 - val_loss: 0.8321 - val_acc: 0.6282\n",
      "Epoch 3/12\n",
      "1007/1007 [==============================] - 9s 9ms/step - loss: 0.0656 - acc: 0.9861 - val_loss: 1.0260 - val_acc: 0.6097\n",
      "Epoch 4/12\n",
      "1007/1007 [==============================] - 9s 9ms/step - loss: 0.0359 - acc: 0.9950 - val_loss: 1.3723 - val_acc: 0.5889\n",
      "Epoch 5/12\n",
      "1007/1007 [==============================] - 9s 8ms/step - loss: 0.0206 - acc: 1.0000 - val_loss: 1.3757 - val_acc: 0.5912\n",
      "160/160 [==============================] - 1s 4ms/step\n",
      "Fitting with:  (1440, 1, 9839, 1) labels (1440, 2)\n",
      "Train on 1007 samples, validate on 433 samples\n",
      "Epoch 1/12\n",
      "1007/1007 [==============================] - 10s 10ms/step - loss: 0.4649 - acc: 0.7656 - val_loss: 0.6972 - val_acc: 0.6467\n",
      "Epoch 2/12\n",
      "1007/1007 [==============================] - 8s 8ms/step - loss: 0.1442 - acc: 0.9573 - val_loss: 0.7018 - val_acc: 0.6605\n",
      "Epoch 3/12\n",
      "1007/1007 [==============================] - 8s 8ms/step - loss: 0.0873 - acc: 0.9762 - val_loss: 0.8550 - val_acc: 0.6328\n",
      "Epoch 4/12\n",
      "1007/1007 [==============================] - 8s 8ms/step - loss: 0.0512 - acc: 0.9891 - val_loss: 1.1547 - val_acc: 0.5982\n",
      "Epoch 5/12\n",
      "1007/1007 [==============================] - 8s 8ms/step - loss: 0.0388 - acc: 0.9901 - val_loss: 1.1154 - val_acc: 0.6259\n",
      "160/160 [==============================] - 1s 4ms/step\n",
      "Fitting with:  (1440, 1, 9839, 1) labels (1440, 2)\n",
      "Train on 1007 samples, validate on 433 samples\n",
      "Epoch 1/12\n",
      "1007/1007 [==============================] - 11s 11ms/step - loss: 0.4866 - acc: 0.7498 - val_loss: 0.7086 - val_acc: 0.6328\n",
      "Epoch 2/12\n",
      "1007/1007 [==============================] - 9s 9ms/step - loss: 0.1414 - acc: 0.9494 - val_loss: 0.7206 - val_acc: 0.6628\n",
      "Epoch 3/12\n",
      "1007/1007 [==============================] - 9s 9ms/step - loss: 0.0763 - acc: 0.9811 - val_loss: 0.8427 - val_acc: 0.6582\n",
      "Epoch 4/12\n",
      "1007/1007 [==============================] - 9s 9ms/step - loss: 0.0460 - acc: 0.9901 - val_loss: 1.0458 - val_acc: 0.6236\n",
      "Epoch 5/12\n",
      "1007/1007 [==============================] - 9s 9ms/step - loss: 0.0255 - acc: 0.9980 - val_loss: 1.1191 - val_acc: 0.6189\n",
      "160/160 [==============================] - 1s 4ms/step\n",
      "Fitting with:  (1440, 1, 9839, 1) labels (1440, 2)\n",
      "Train on 1007 samples, validate on 433 samples\n",
      "Epoch 1/12\n",
      "1007/1007 [==============================] - 10s 10ms/step - loss: 0.4436 - acc: 0.7805 - val_loss: 0.6769 - val_acc: 0.6351\n",
      "Epoch 2/12\n",
      "1007/1007 [==============================] - 8s 8ms/step - loss: 0.1286 - acc: 0.9533 - val_loss: 0.7343 - val_acc: 0.6397\n",
      "Epoch 3/12\n",
      "1007/1007 [==============================] - 8s 8ms/step - loss: 0.0720 - acc: 0.9791 - val_loss: 0.9275 - val_acc: 0.6074\n",
      "Epoch 4/12\n",
      "1007/1007 [==============================] - 8s 8ms/step - loss: 0.0413 - acc: 0.9921 - val_loss: 1.1031 - val_acc: 0.5958\n",
      "Epoch 5/12\n",
      "1007/1007 [==============================] - 8s 8ms/step - loss: 0.0274 - acc: 0.9970 - val_loss: 1.2255 - val_acc: 0.5797\n",
      "160/160 [==============================] - 1s 3ms/step\n"
     ]
    }
   ],
   "source": [
    "def get_conv_bow_model():\n",
    "  model = Sequential([\n",
    "      Conv2D(\n",
    "          filters=50,\n",
    "          kernel_size=(1, 10),\n",
    "          data_format=\"channels_last\",\n",
    "          input_shape=(1, corpus_vocab_size, 1),\n",
    "          activation=relu),\n",
    "      MaxPooling2D(pool_size=(1, 10)),\n",
    "      Dropout(0.2),\n",
    "      Flatten(),\n",
    "      Dense(2, activation='softmax')\n",
    "  ])\n",
    "  model.compile(\n",
    "      loss='binary_crossentropy',\n",
    "      optimizer='adam',\n",
    "      metrics=['accuracy'])\n",
    "  return model\n",
    "\n",
    "conv_bow_scores = run_cross_validate(get_conv_bow_model, convolutional_data, labels, cv=10, categorical=True)"
   ]
  },
  {
   "cell_type": "markdown",
   "metadata": {},
   "source": [
    "We filter out reviews with more than 300 words because a small number have an exceptionally large number of words and dramatically increase the memory requirements. These reviews are rare and are not expected to provide much value, while also preventing this experiment from being run on a normal machine, so I will filter them out"
   ]
  },
  {
   "cell_type": "code",
   "execution_count": 36,
   "metadata": {},
   "outputs": [],
   "source": [
    "reviews_words = []\n",
    "conv_wv_labels = []\n",
    "for i, raw_feature in enumerate(raw_features):\n",
    "    word_sequence = text_to_word_sequence(raw_feature)\n",
    "    if len(word_sequence) > 300:\n",
    "        continue\n",
    "    conv_wv_labels.append(labels[i])\n",
    "    reviews_words.append(word_sequence)\n",
    "max_review_len = max([len(x) for x in reviews_words])\n",
    "\n",
    "vectorized_reviews = np.zeros((len(reviews_words), 1, max_review_len, 300))\n",
    "for i, review in enumerate(reviews_words):\n",
    "    for j, word in enumerate(review):\n",
    "        vectorized_reviews[i][0][j] = [x for x in embedding_matrix[corpus_words[word]]]"
   ]
  },
  {
   "cell_type": "code",
   "execution_count": 37,
   "metadata": {
    "scrolled": true
   },
   "outputs": [
    {
     "name": "stdout",
     "output_type": "stream",
     "text": [
      "Fitting with:  (1254, 1, 300, 300) labels (1254, 2)\n",
      "Train on 877 samples, validate on 377 samples\n",
      "Epoch 1/12\n",
      "877/877 [==============================] - 8s 9ms/step - loss: 0.6703 - acc: 0.5656 - val_loss: 0.6150 - val_acc: 0.6737\n",
      "Epoch 2/12\n",
      "877/877 [==============================] - 7s 8ms/step - loss: 0.4994 - acc: 0.7491 - val_loss: 0.5233 - val_acc: 0.7188\n",
      "Epoch 3/12\n",
      "877/877 [==============================] - 7s 8ms/step - loss: 0.2804 - acc: 0.8871 - val_loss: 0.5103 - val_acc: 0.7560\n",
      "Epoch 4/12\n",
      "877/877 [==============================] - 7s 9ms/step - loss: 0.1215 - acc: 0.9749 - val_loss: 0.5896 - val_acc: 0.7480\n",
      "Epoch 5/12\n",
      "877/877 [==============================] - 7s 8ms/step - loss: 0.0411 - acc: 0.9977 - val_loss: 0.5659 - val_acc: 0.7533\n",
      "Epoch 6/12\n",
      "877/877 [==============================] - 8s 9ms/step - loss: 0.0179 - acc: 1.0000 - val_loss: 0.5962 - val_acc: 0.7666\n",
      "Epoch 7/12\n",
      "877/877 [==============================] - 7s 8ms/step - loss: 0.0087 - acc: 1.0000 - val_loss: 0.6003 - val_acc: 0.7692\n",
      "252/252 [==============================] - 1s 3ms/step\n",
      "Fitting with:  (1254, 1, 300, 300) labels (1254, 2)\n",
      "Train on 877 samples, validate on 377 samples\n",
      "Epoch 1/12\n",
      "877/877 [==============================] - 8s 9ms/step - loss: 0.6795 - acc: 0.5530 - val_loss: 0.6402 - val_acc: 0.6207\n",
      "Epoch 2/12\n",
      "877/877 [==============================] - 7s 8ms/step - loss: 0.5136 - acc: 0.7548 - val_loss: 0.5188 - val_acc: 0.7533\n",
      "Epoch 3/12\n",
      "877/877 [==============================] - 7s 8ms/step - loss: 0.2888 - acc: 0.8997 - val_loss: 0.4976 - val_acc: 0.7692\n",
      "Epoch 4/12\n",
      "877/877 [==============================] - 8s 9ms/step - loss: 0.1243 - acc: 0.9772 - val_loss: 0.4873 - val_acc: 0.7772\n",
      "Epoch 5/12\n",
      "877/877 [==============================] - 7s 9ms/step - loss: 0.0388 - acc: 0.9989 - val_loss: 0.5377 - val_acc: 0.7798\n",
      "Epoch 6/12\n",
      "877/877 [==============================] - 8s 9ms/step - loss: 0.0157 - acc: 1.0000 - val_loss: 0.5269 - val_acc: 0.7984\n",
      "Epoch 7/12\n",
      "877/877 [==============================] - 7s 8ms/step - loss: 0.0080 - acc: 1.0000 - val_loss: 0.5536 - val_acc: 0.7639\n",
      "Epoch 8/12\n",
      "877/877 [==============================] - 7s 8ms/step - loss: 0.0051 - acc: 1.0000 - val_loss: 0.5557 - val_acc: 0.7745\n",
      "252/252 [==============================] - 1s 3ms/step\n",
      "Fitting with:  (1255, 1, 300, 300) labels (1255, 2)\n",
      "Train on 878 samples, validate on 377 samples\n",
      "Epoch 1/12\n",
      "878/878 [==============================] - 8s 9ms/step - loss: 0.6611 - acc: 0.5683 - val_loss: 0.5982 - val_acc: 0.6737\n",
      "Epoch 2/12\n",
      "878/878 [==============================] - 7s 8ms/step - loss: 0.4534 - acc: 0.8018 - val_loss: 0.5432 - val_acc: 0.7082\n",
      "Epoch 3/12\n",
      "878/878 [==============================] - 7s 8ms/step - loss: 0.1998 - acc: 0.9396 - val_loss: 0.5480 - val_acc: 0.7480\n",
      "Epoch 4/12\n",
      "878/878 [==============================] - 7s 8ms/step - loss: 0.0631 - acc: 0.9920 - val_loss: 0.6016 - val_acc: 0.7241\n",
      "Epoch 5/12\n",
      "878/878 [==============================] - 7s 8ms/step - loss: 0.0247 - acc: 0.9977 - val_loss: 0.6193 - val_acc: 0.7427\n",
      "Epoch 6/12\n",
      "878/878 [==============================] - 8s 9ms/step - loss: 0.0107 - acc: 1.0000 - val_loss: 0.6673 - val_acc: 0.7374\n",
      "251/251 [==============================] - 1s 4ms/step\n",
      "Fitting with:  (1255, 1, 300, 300) labels (1255, 2)\n",
      "Train on 878 samples, validate on 377 samples\n",
      "Epoch 1/12\n",
      "878/878 [==============================] - 8s 10ms/step - loss: 0.6294 - acc: 0.6207 - val_loss: 0.6388 - val_acc: 0.6605\n",
      "Epoch 2/12\n",
      "878/878 [==============================] - 8s 9ms/step - loss: 0.4074 - acc: 0.8064 - val_loss: 0.5437 - val_acc: 0.7374\n",
      "Epoch 3/12\n",
      "878/878 [==============================] - 7s 8ms/step - loss: 0.1881 - acc: 0.9396 - val_loss: 0.5386 - val_acc: 0.7454\n",
      "Epoch 4/12\n",
      "878/878 [==============================] - 7s 8ms/step - loss: 0.0700 - acc: 0.9954 - val_loss: 0.5646 - val_acc: 0.7454\n",
      "Epoch 5/12\n",
      "878/878 [==============================] - 7s 8ms/step - loss: 0.0202 - acc: 1.0000 - val_loss: 0.7156 - val_acc: 0.7666\n",
      "Epoch 6/12\n",
      "878/878 [==============================] - 7s 8ms/step - loss: 0.0105 - acc: 1.0000 - val_loss: 0.6859 - val_acc: 0.7294\n",
      "Epoch 7/12\n",
      "878/878 [==============================] - 7s 8ms/step - loss: 0.0052 - acc: 1.0000 - val_loss: 0.6885 - val_acc: 0.7401\n",
      "251/251 [==============================] - 1s 3ms/step\n",
      "Fitting with:  (1256, 1, 300, 300) labels (1256, 2)\n",
      "Train on 879 samples, validate on 377 samples\n",
      "Epoch 1/12\n",
      "879/879 [==============================] - 8s 9ms/step - loss: 0.6488 - acc: 0.6166 - val_loss: 0.6236 - val_acc: 0.6578\n",
      "Epoch 2/12\n",
      "879/879 [==============================] - 7s 8ms/step - loss: 0.3916 - acc: 0.8419 - val_loss: 0.5349 - val_acc: 0.7560\n",
      "Epoch 3/12\n",
      "879/879 [==============================] - 7s 8ms/step - loss: 0.1415 - acc: 0.9727 - val_loss: 0.5533 - val_acc: 0.7454\n",
      "Epoch 4/12\n",
      "879/879 [==============================] - 7s 8ms/step - loss: 0.0449 - acc: 0.9977 - val_loss: 0.5919 - val_acc: 0.7507\n",
      "Epoch 5/12\n",
      "879/879 [==============================] - 7s 8ms/step - loss: 0.0209 - acc: 0.9989 - val_loss: 0.5999 - val_acc: 0.7560\n",
      "Epoch 6/12\n",
      "879/879 [==============================] - 7s 8ms/step - loss: 0.0088 - acc: 1.0000 - val_loss: 0.6312 - val_acc: 0.7507\n",
      "250/250 [==============================] - 1s 3ms/step\n",
      "Fitting with:  (1256, 1, 300, 300) labels (1256, 2)\n",
      "Train on 879 samples, validate on 377 samples\n",
      "Epoch 1/12\n",
      "879/879 [==============================] - 8s 9ms/step - loss: 0.6585 - acc: 0.5973 - val_loss: 0.6021 - val_acc: 0.6711\n",
      "Epoch 2/12\n",
      "879/879 [==============================] - 7s 8ms/step - loss: 0.4230 - acc: 0.8055 - val_loss: 0.5247 - val_acc: 0.7374\n",
      "Epoch 3/12\n",
      "879/879 [==============================] - 7s 8ms/step - loss: 0.1802 - acc: 0.9454 - val_loss: 0.5668 - val_acc: 0.7454\n",
      "Epoch 4/12\n",
      "879/879 [==============================] - 7s 8ms/step - loss: 0.0631 - acc: 0.9954 - val_loss: 0.5973 - val_acc: 0.7401\n",
      "Epoch 5/12\n",
      "879/879 [==============================] - 7s 8ms/step - loss: 0.0183 - acc: 1.0000 - val_loss: 0.6069 - val_acc: 0.7586\n",
      "Epoch 6/12\n",
      "879/879 [==============================] - 7s 8ms/step - loss: 0.0102 - acc: 0.9989 - val_loss: 0.6607 - val_acc: 0.7401\n",
      "250/250 [==============================] - 1s 3ms/step\n"
     ]
    }
   ],
   "source": [
    "def get_conv_wv_model():\n",
    "  model = Sequential([\n",
    "      Conv2D(\n",
    "          filters=50,\n",
    "          kernel_size=(10, 300),\n",
    "          data_format=\"channels_first\",\n",
    "          input_shape=(1, 300, 300),\n",
    "          activation=relu),\n",
    "      MaxPooling2D(strides=(1, 1), pool_size=(2, 1), data_format=\"channels_first\"),\n",
    "      Dropout(0.2),\n",
    "      Flatten(),\n",
    "      Dense(2, activation='softmax')\n",
    "  ])\n",
    "  model.compile(\n",
    "      loss='binary_crossentropy',\n",
    "      optimizer='adam',\n",
    "      metrics=['accuracy'])\n",
    "  return model\n",
    "\n",
    "conv_wv_scores = run_cross_validate(get_conv_wv_model, vectorized_reviews, conv_wv_labels, cv=6, categorical=True)"
   ]
  },
  {
   "cell_type": "code",
   "execution_count": 40,
   "metadata": {},
   "outputs": [
    {
     "name": "stdout",
     "output_type": "stream",
     "text": [
      "Bag of words:  [0.7875, 0.7875, 0.8125, 0.85, 0.775, 0.80625, 0.80625, 0.81875, 0.83125, 0.86875]\n",
      "Word vectors:  [0.7579365050981915, 0.7936507917585827, 0.7808764971109975, 0.75697211060391, 0.7879999980926514, 0.7599999990463256]\n"
     ]
    }
   ],
   "source": [
    "print (\"Bag of words: \", conv_bow_scores['accuracies'])\n",
    "print (\"Word vectors: \", conv_wv_scores['accuracies'])\n",
    "\n",
    "conv_scores_entries =[('Bag of Words', x) for x in conv_bow_scores['accuracies']] + [('Word Vectors', x) for x in conv_wv_scores['accuracies']]\n",
    "conv_scores_data_frame = DataFrame(conv_scores_entries, columns=['input type', 'accuracy'])"
   ]
  },
  {
   "cell_type": "code",
   "execution_count": 41,
   "metadata": {},
   "outputs": [
    {
     "data": {
      "image/png": "[encoded data removed]",
      "text/plain": [
       "<Figure size 432x288 with 1 Axes>"
      ]
     },
     "metadata": {
      "needs_background": "light"
     },
     "output_type": "display_data"
    }
   ],
   "source": [
    "boxplot(x='input type', y='accuracy', data=conv_scores_data_frame)\n",
    "plt.show()"
   ]
  },
  {
   "cell_type": "markdown",
   "metadata": {},
   "source": [
    "Again our results look better. If this continues to be consistent we know that Word2Vec has some property that is beneficial, which may be training on more data, or it may be the higher vector dimensionality."
   ]
  }
 ],
 "metadata": {
  "kernelspec": {
   "display_name": "Python 3",
   "language": "python",
   "name": "python3"
  },
  "language_info": {
   "codemirror_mode": {
    "name": "ipython",
    "version": 3
   },
   "file_extension": ".py",
   "mimetype": "text/x-python",
   "name": "python",
   "nbconvert_exporter": "python",
   "pygments_lexer": "ipython3",
   "version": "3.6.6"
  }
 },
 "nbformat": 4,
 "nbformat_minor": 2
}
