{
 "cells": [
  {
   "cell_type": "markdown",
   "metadata": {},
   "source": [
    "# Comparison of Neural Models 2\n",
    "\n",
    "## Feedforward Neural Network\n",
    "\n",
    "Following an experiment to compare neural models, we discovered odd results showing that bag of words could outperform embeddings. This experiment attempts to tweak the embeddings to show the expected results under the assumption that the problem is not the amount of data. If the problem is the amount of data we will investigate this in another experiment."
   ]
  },
  {
   "cell_type": "markdown",
   "metadata": {},
   "source": [
    "Again, we will show Bag of Words results:"
   ]
  },
  {
   "cell_type": "code",
   "execution_count": 8,
   "metadata": {},
   "outputs": [],
   "source": [
    "from scripts import training_helpers\n",
    "from scripts.cross_validate import run_cross_validate\n",
    "from tensorflow.keras.preprocessing.text import text_to_word_sequence, Tokenizer\n",
    "from tensorflow.keras.activations import relu, sigmoid\n",
    "from tensorflow.keras import Sequential\n",
    "from keras.preprocessing.sequence import pad_sequences\n",
    "from tensorflow.keras.layers import Conv2D, Dense, Dropout, Flatten, Embedding, MaxPooling2D\n",
    "from tensorflow.keras.regularizers import l2\n",
    "from pandas import DataFrame\n",
    "from seaborn import boxplot\n",
    "import matplotlib.pyplot as plt\n",
    "import json\n",
    "\n",
    "import gensim\n",
    "import numpy as np\n",
    "\n",
    "read_existing_embeddings = True"
   ]
  },
  {
   "cell_type": "code",
   "execution_count": 2,
   "metadata": {},
   "outputs": [],
   "source": [
    "data_frame = training_helpers.get_data_frame()\n",
    "raw_features = data_frame['review']\n",
    "labels = [x for x in data_frame['deceptive']]\n",
    "\n",
    "tokenizer = Tokenizer()\n",
    "tokenizer.fit_on_texts(raw_features)\n",
    "bow_features = tokenizer.texts_to_matrix(raw_features, mode='tfidf')"
   ]
  },
  {
   "cell_type": "code",
   "execution_count": 3,
   "metadata": {},
   "outputs": [],
   "source": [
    "corpus_words = tokenizer.word_index\n",
    "corpus_vocab_size = len(corpus_words)+1"
   ]
  },
  {
   "cell_type": "code",
   "execution_count": 4,
   "metadata": {},
   "outputs": [
    {
     "name": "stdout",
     "output_type": "stream",
     "text": [
      "Fitting with:  (1440, 9839) labels (1440,)\n",
      "160/160 [==============================] - 0s 144us/step\n",
      "Fitting with:  (1440, 9839) labels (1440,)\n",
      "160/160 [==============================] - 0s 155us/step\n",
      "Fitting with:  (1440, 9839) labels (1440,)\n",
      "160/160 [==============================] - 0s 139us/step\n",
      "Fitting with:  (1440, 9839) labels (1440,)\n",
      "160/160 [==============================] - 0s 172us/step\n",
      "Fitting with:  (1440, 9839) labels (1440,)\n",
      "160/160 [==============================] - 0s 172us/step\n",
      "Fitting with:  (1440, 9839) labels (1440,)\n",
      "160/160 [==============================] - 0s 190us/step\n",
      "Fitting with:  (1440, 9839) labels (1440,)\n",
      "160/160 [==============================] - 0s 199us/step\n",
      "Fitting with:  (1440, 9839) labels (1440,)\n",
      "160/160 [==============================] - 0s 219us/step\n",
      "Fitting with:  (1440, 9839) labels (1440,)\n",
      "160/160 [==============================] - 0s 129us/step\n",
      "Fitting with:  (1440, 9839) labels (1440,)\n",
      "160/160 [==============================] - 0s 196us/step\n"
     ]
    }
   ],
   "source": [
    "def get_ff_bow_model():\n",
    "  model = Sequential([\n",
    "      Dense(16, activation=relu, input_shape=(corpus_vocab_size,), kernel_regularizer=l2(0.01)),\n",
    "      Dropout(0.25),\n",
    "      Dense(8, activation=relu, kernel_regularizer=l2(0.01)),\n",
    "      Dense(1, activation=sigmoid)\n",
    "  ])\n",
    "  model.compile(optimizer='adam', loss='binary_crossentropy', metrics=['accuracy'])\n",
    "  return model\n",
    "\n",
    "ff_bow_scores = run_cross_validate(get_ff_bow_model, bow_features, labels, cv=10, verbose=0)"
   ]
  },
  {
   "cell_type": "markdown",
   "metadata": {},
   "source": [
    "And now we will get results for embeddings. This time I will use Word2Vec. Although this was not trained directly on words from our dataset, the Word2Vec has a higher dimensionality (making it harder to run on our machines) and so may show better results."
   ]
  },
  {
   "cell_type": "code",
   "execution_count": 4,
   "metadata": {},
   "outputs": [],
   "source": [
    "embedding_matrix = None\n",
    "embedding_length = 0\n",
    "if read_existing_embeddings:\n",
    "  embedding_length=300\n",
    "  embedding_matrix = np.zeros((corpus_vocab_size, embedding_length))\n",
    "  with open('data.json', 'r') as infile:\n",
    "      data = json.load(infile)\n",
    "      for i in range(len(data)):\n",
    "          embedding_matrix[i] = np.array(data[i], dtype=np.float32)\n",
    "else:\n",
    "  word_vectors = gensim.models.KeyedVectors.load_word2vec_format(\"../data/GoogleNews-vectors-negative300.bin\",\n",
    "                                                                 binary=True)\n",
    "  embedding_length = word_vectors.vector_size\n",
    "    \n",
    "  embedding_matrix = np.zeros((corpus_vocab_size, embedding_length))\n",
    "  for word, index in corpus_words.items():\n",
    "    if word in word_vectors.vocab:\n",
    "      embedding_matrix[index] = np.array(word_vectors[word], dtype=np.float32)\n",
    "\n",
    "  with open('data.json', 'w') as outfile:\n",
    "      json.dump(embedding_matrix.tolist(), outfile)"
   ]
  },
  {
   "cell_type": "code",
   "execution_count": 6,
   "metadata": {},
   "outputs": [],
   "source": [
    "def get_ff_wv_model():\n",
    "  model_ff_wv = Sequential([\n",
    "      Embedding(corpus_vocab_size, embedding_length, weights=[embedding_matrix], trainable=False,\n",
    "                input_length=corpus_vocab_size),\n",
    "      Flatten(),\n",
    "      Dense(16, activation=relu, kernel_regularizer=l2(0.01)),\n",
    "      Dropout(0.25),\n",
    "      Dense(8, activation=relu, kernel_regularizer=l2(0.01)),\n",
    "      Dense(1, activation=sigmoid)\n",
    "  ])\n",
    "  model_ff_wv.compile(optimizer='adam', loss='binary_crossentropy', metrics=['accuracy'])\n",
    "  return model_ff_wv"
   ]
  },
  {
   "cell_type": "code",
   "execution_count": 7,
   "metadata": {
    "scrolled": true
   },
   "outputs": [
    {
     "name": "stdout",
     "output_type": "stream",
     "text": [
      "Fitting with:  (1280, 9839) labels (1280,)\n",
      "Train on 896 samples, validate on 384 samples\n",
      "Epoch 1/12\n",
      "896/896 [==============================] - 42s 47ms/step - loss: 1.0891 - acc: 0.5882 - val_loss: 1.2110 - val_acc: 0.6198\n",
      "Epoch 2/12\n",
      "896/896 [==============================] - 38s 43ms/step - loss: 1.2013 - acc: 0.7132 - val_loss: 1.3584 - val_acc: 0.6745\n",
      "Epoch 3/12\n",
      "896/896 [==============================] - 38s 42ms/step - loss: 1.2186 - acc: 0.7333 - val_loss: 1.4261 - val_acc: 0.7005\n",
      "Epoch 4/12\n",
      "896/896 [==============================] - 38s 42ms/step - loss: 1.2512 - acc: 0.7054 - val_loss: 1.3712 - val_acc: 0.6484\n",
      "Epoch 5/12\n",
      "896/896 [==============================] - 38s 43ms/step - loss: 1.2558 - acc: 0.7533 - val_loss: 1.4386 - val_acc: 0.6719\n",
      "320/320 [==============================] - 2s 7ms/step\n",
      "Fitting with:  (1280, 9839) labels (1280,)\n",
      "Train on 896 samples, validate on 384 samples\n",
      "Epoch 1/12\n",
      "896/896 [==============================] - 42s 47ms/step - loss: 0.9364 - acc: 0.5569 - val_loss: 1.0129 - val_acc: 0.6198\n",
      "Epoch 2/12\n",
      "896/896 [==============================] - 40s 44ms/step - loss: 1.1214 - acc: 0.6853 - val_loss: 1.2568 - val_acc: 0.6693\n",
      "Epoch 3/12\n",
      "896/896 [==============================] - 42s 47ms/step - loss: 1.2156 - acc: 0.7355 - val_loss: 1.3580 - val_acc: 0.6823\n",
      "Epoch 4/12\n",
      "896/896 [==============================] - 42s 47ms/step - loss: 1.2638 - acc: 0.7533 - val_loss: 1.5648 - val_acc: 0.6693\n",
      "Epoch 5/12\n",
      "896/896 [==============================] - 42s 47ms/step - loss: 1.2139 - acc: 0.7879 - val_loss: 1.4685 - val_acc: 0.6354\n",
      "320/320 [==============================] - 2s 7ms/step\n",
      "Fitting with:  (1280, 9839) labels (1280,)\n",
      "Train on 896 samples, validate on 384 samples\n",
      "Epoch 1/12\n",
      "896/896 [==============================] - 47s 52ms/step - loss: 1.1827 - acc: 0.6306 - val_loss: 1.3397 - val_acc: 0.6823\n",
      "Epoch 2/12\n",
      "896/896 [==============================] - 42s 47ms/step - loss: 1.1347 - acc: 0.7779 - val_loss: 1.4744 - val_acc: 0.7135\n",
      "Epoch 3/12\n",
      "896/896 [==============================] - 43s 47ms/step - loss: 1.2657 - acc: 0.7746 - val_loss: 1.3647 - val_acc: 0.6979\n",
      "Epoch 4/12\n",
      "896/896 [==============================] - 42s 47ms/step - loss: 1.2354 - acc: 0.8013 - val_loss: 1.5523 - val_acc: 0.6901\n",
      "Epoch 5/12\n",
      "896/896 [==============================] - 42s 47ms/step - loss: 1.2216 - acc: 0.8114 - val_loss: 1.4533 - val_acc: 0.7109\n",
      "320/320 [==============================] - 2s 7ms/step\n",
      "Fitting with:  (1280, 9839) labels (1280,)\n",
      "Train on 896 samples, validate on 384 samples\n",
      "Epoch 1/12\n",
      "896/896 [==============================] - 51s 57ms/step - loss: 0.9980 - acc: 0.5904 - val_loss: 1.1417 - val_acc: 0.6328\n",
      "Epoch 2/12\n",
      "896/896 [==============================] - 42s 47ms/step - loss: 1.2157 - acc: 0.6775 - val_loss: 1.3167 - val_acc: 0.6797\n",
      "Epoch 3/12\n",
      "896/896 [==============================] - 42s 47ms/step - loss: 1.2370 - acc: 0.7243 - val_loss: 1.2874 - val_acc: 0.6875\n",
      "Epoch 4/12\n",
      "896/896 [==============================] - 42s 47ms/step - loss: 1.2164 - acc: 0.7143 - val_loss: 1.3321 - val_acc: 0.6797\n",
      "Epoch 5/12\n",
      "896/896 [==============================] - 42s 47ms/step - loss: 1.2309 - acc: 0.7355 - val_loss: 1.3525 - val_acc: 0.6901\n",
      "320/320 [==============================] - 2s 7ms/step\n",
      "Fitting with:  (1280, 9839) labels (1280,)\n",
      "Train on 896 samples, validate on 384 samples\n",
      "Epoch 1/12\n",
      "896/896 [==============================] - 64s 71ms/step - loss: 0.9597 - acc: 0.5413 - val_loss: 1.0838 - val_acc: 0.5859\n",
      "Epoch 2/12\n",
      "896/896 [==============================] - 42s 47ms/step - loss: 1.0716 - acc: 0.6696 - val_loss: 1.1920 - val_acc: 0.6693\n",
      "Epoch 3/12\n",
      "896/896 [==============================] - 42s 47ms/step - loss: 1.0781 - acc: 0.7277 - val_loss: 1.0938 - val_acc: 0.6823\n",
      "Epoch 4/12\n",
      "896/896 [==============================] - 44s 49ms/step - loss: 1.0370 - acc: 0.7277 - val_loss: 1.2011 - val_acc: 0.6536\n",
      "Epoch 5/12\n",
      "896/896 [==============================] - 42s 47ms/step - loss: 1.0845 - acc: 0.7779 - val_loss: 1.2248 - val_acc: 0.6979\n",
      "320/320 [==============================] - 2s 7ms/step\n"
     ]
    }
   ],
   "source": [
    "ff_wv_scores = run_cross_validate(get_ff_wv_model, bow_features, labels, cv=5)"
   ]
  },
  {
   "cell_type": "code",
   "execution_count": 8,
   "metadata": {},
   "outputs": [
    {
     "name": "stdout",
     "output_type": "stream",
     "text": [
      "Bag of words:  [0.875, 0.8625, 0.88125, 0.88125, 0.86875, 0.91875, 0.875, 0.8625, 0.88125, 0.8875]\n",
      "Word vectors:  [0.628125, 0.709375, 0.665625, 0.703125, 0.659375]\n"
     ]
    }
   ],
   "source": [
    "print (\"Bag of words: \", ff_bow_scores['accuracies'])\n",
    "print (\"Word vectors: \", ff_wv_scores['accuracies'])\n",
    "\n",
    "ff_scores_entries =[('Bag of Words', x) for x in ff_bow_scores['accuracies']] + [('Word Vectors', x) for x in ff_wv_scores['accuracies']]\n",
    "ff_scores_data_frame = DataFrame(ff_scores_entries, columns=['input type', 'accuracy'])"
   ]
  },
  {
   "cell_type": "code",
   "execution_count": 9,
   "metadata": {},
   "outputs": [
    {
     "data": {
      "image/png": "[encoded data removed]",
      "text/plain": [
       "<Figure size 432x288 with 1 Axes>"
      ]
     },
     "metadata": {
      "needs_background": "light"
     },
     "output_type": "display_data"
    }
   ],
   "source": [
    "boxplot(x='input type', y='accuracy', data=ff_scores_data_frame)\n",
    "plt.show()"
   ]
  },
  {
   "cell_type": "markdown",
   "metadata": {},
   "source": [
    "It looks like word vectors are doing better now! Although they should be more accurate than Bag of Words, unless this is an exceptional case. The next step here is to investigate how BoW and word vectors perform on more data, since a small amount of data is a case known to cause results like this. It is also very unlikely Bag of Words will perform as well on a large dataset."
   ]
  },
  {
   "cell_type": "markdown",
   "metadata": {},
   "source": [
    "## Convolutional Neural Network"
   ]
  },
  {
   "cell_type": "markdown",
   "metadata": {},
   "source": [
    "Neural Networks were let down the most by word embeddings. Research has shown that word embeddings perform better than Bag of Words (Convolutional Neural Networks for Sentence Classification, Yoon Kim 2014). We will our convolutional network on Word2Vec embeddings to see if we obtain an improved accuracy:"
   ]
  },
  {
   "cell_type": "code",
   "execution_count": 11,
   "metadata": {},
   "outputs": [
    {
     "data": {
      "text/plain": [
       "(1600, 1, 9839, 1)"
      ]
     },
     "execution_count": 11,
     "metadata": {},
     "output_type": "execute_result"
    }
   ],
   "source": [
    "batches = 1600\n",
    "convolutional_data = np.array(np.split(np.array([[[y] for y in z] for z in bow_features]), batches))\n",
    "convolutional_data.shape"
   ]
  },
  {
   "cell_type": "code",
   "execution_count": 13,
   "metadata": {
    "scrolled": false
   },
   "outputs": [
    {
     "name": "stdout",
     "output_type": "stream",
     "text": [
      "Fitting with:  (1440, 1, 9839, 1) labels (1440, 2)\n",
      "Train on 1007 samples, validate on 433 samples\n",
      "Epoch 1/12\n",
      "1007/1007 [==============================] - 9s 9ms/step - loss: 0.4324 - acc: 0.7885 - val_loss: 0.6778 - val_acc: 0.6513\n",
      "Epoch 2/12\n",
      "1007/1007 [==============================] - 8s 8ms/step - loss: 0.1362 - acc: 0.9543 - val_loss: 0.7423 - val_acc: 0.6536\n",
      "Epoch 3/12\n",
      "1007/1007 [==============================] - 10s 10ms/step - loss: 0.0747 - acc: 0.9791 - val_loss: 1.0627 - val_acc: 0.6028\n",
      "Epoch 4/12\n",
      "1007/1007 [==============================] - 10s 10ms/step - loss: 0.0461 - acc: 0.9891 - val_loss: 1.0094 - val_acc: 0.6189\n",
      "Epoch 5/12\n",
      "1007/1007 [==============================] - 8s 8ms/step - loss: 0.0248 - acc: 0.9930 - val_loss: 1.3448 - val_acc: 0.6051\n",
      "160/160 [==============================] - 1s 4ms/step\n",
      "Fitting with:  (1440, 1, 9839, 1) labels (1440, 2)\n",
      "Train on 1007 samples, validate on 433 samples\n",
      "Epoch 1/12\n",
      "1007/1007 [==============================] - 9s 9ms/step - loss: 0.4264 - acc: 0.7994 - val_loss: 0.6557 - val_acc: 0.6443\n",
      "Epoch 2/12\n",
      "1007/1007 [==============================] - 9s 9ms/step - loss: 0.1387 - acc: 0.9553 - val_loss: 0.7479 - val_acc: 0.6305\n",
      "Epoch 3/12\n",
      "1007/1007 [==============================] - 9s 9ms/step - loss: 0.0733 - acc: 0.9742 - val_loss: 0.9434 - val_acc: 0.6259\n",
      "Epoch 4/12\n",
      "1007/1007 [==============================] - 9s 9ms/step - loss: 0.0415 - acc: 0.9940 - val_loss: 1.0827 - val_acc: 0.6166\n",
      "Epoch 5/12\n",
      "1007/1007 [==============================] - 9s 9ms/step - loss: 0.0261 - acc: 0.9940 - val_loss: 1.1967 - val_acc: 0.6282\n",
      "160/160 [==============================] - 1s 4ms/step\n",
      "Fitting with:  (1440, 1, 9839, 1) labels (1440, 2)\n",
      "Train on 1007 samples, validate on 433 samples\n",
      "Epoch 1/12\n",
      "1007/1007 [==============================] - 14s 14ms/step - loss: 0.4465 - acc: 0.7786 - val_loss: 0.6975 - val_acc: 0.6236\n",
      "Epoch 2/12\n",
      "1007/1007 [==============================] - 9s 9ms/step - loss: 0.1425 - acc: 0.9444 - val_loss: 0.8509 - val_acc: 0.6189\n",
      "Epoch 3/12\n",
      "1007/1007 [==============================] - 9s 8ms/step - loss: 0.0708 - acc: 0.9851 - val_loss: 0.9089 - val_acc: 0.6143\n",
      "Epoch 4/12\n",
      "1007/1007 [==============================] - 8s 8ms/step - loss: 0.0432 - acc: 0.9911 - val_loss: 1.0334 - val_acc: 0.6305\n",
      "Epoch 5/12\n",
      "1007/1007 [==============================] - 8s 8ms/step - loss: 0.0236 - acc: 0.9970 - val_loss: 1.1864 - val_acc: 0.6143\n",
      "160/160 [==============================] - 1s 4ms/step\n",
      "Fitting with:  (1440, 1, 9839, 1) labels (1440, 2)\n",
      "Train on 1007 samples, validate on 433 samples\n",
      "Epoch 1/12\n",
      "1007/1007 [==============================] - 9s 9ms/step - loss: 0.4243 - acc: 0.7885 - val_loss: 0.6911 - val_acc: 0.6374\n",
      "Epoch 2/12\n",
      "1007/1007 [==============================] - 8s 8ms/step - loss: 0.1245 - acc: 0.9643 - val_loss: 0.7451 - val_acc: 0.6674\n",
      "Epoch 3/12\n",
      "1007/1007 [==============================] - 12s 12ms/step - loss: 0.0765 - acc: 0.9752 - val_loss: 0.9545 - val_acc: 0.6374\n",
      "Epoch 4/12\n",
      "1007/1007 [==============================] - 9s 9ms/step - loss: 0.0450 - acc: 0.9911 - val_loss: 1.0052 - val_acc: 0.6189\n",
      "Epoch 5/12\n",
      "1007/1007 [==============================] - 8s 8ms/step - loss: 0.0233 - acc: 0.9970 - val_loss: 1.2420 - val_acc: 0.6028\n",
      "160/160 [==============================] - 1s 4ms/step\n",
      "Fitting with:  (1440, 1, 9839, 1) labels (1440, 2)\n",
      "Train on 1007 samples, validate on 433 samples\n",
      "Epoch 1/12\n",
      "1007/1007 [==============================] - 9s 9ms/step - loss: 0.4022 - acc: 0.8123 - val_loss: 0.7691 - val_acc: 0.6143\n",
      "Epoch 2/12\n",
      "1007/1007 [==============================] - 13s 13ms/step - loss: 0.1173 - acc: 0.9652 - val_loss: 0.8098 - val_acc: 0.6397\n",
      "Epoch 3/12\n",
      "1007/1007 [==============================] - 10s 10ms/step - loss: 0.0619 - acc: 0.9871 - val_loss: 0.8985 - val_acc: 0.6467\n",
      "Epoch 4/12\n",
      "1007/1007 [==============================] - 8s 8ms/step - loss: 0.0361 - acc: 0.9950 - val_loss: 1.0816 - val_acc: 0.6328\n",
      "Epoch 5/12\n",
      "1007/1007 [==============================] - 9s 9ms/step - loss: 0.0239 - acc: 0.9970 - val_loss: 1.3569 - val_acc: 0.5751\n",
      "160/160 [==============================] - 1s 4ms/step\n",
      "Fitting with:  (1440, 1, 9839, 1) labels (1440, 2)\n",
      "Train on 1007 samples, validate on 433 samples\n",
      "Epoch 1/12\n",
      "1007/1007 [==============================] - 10s 10ms/step - loss: 0.4439 - acc: 0.7746 - val_loss: 0.7618 - val_acc: 0.6513\n",
      "Epoch 2/12\n",
      "1007/1007 [==============================] - 11s 11ms/step - loss: 0.1520 - acc: 0.9513 - val_loss: 0.8029 - val_acc: 0.6443\n",
      "Epoch 3/12\n",
      "1007/1007 [==============================] - 10s 10ms/step - loss: 0.0742 - acc: 0.9801 - val_loss: 0.9421 - val_acc: 0.6328\n",
      "Epoch 4/12\n",
      "1007/1007 [==============================] - 8s 7ms/step - loss: 0.0462 - acc: 0.9881 - val_loss: 1.0902 - val_acc: 0.6005\n",
      "Epoch 5/12\n",
      "1007/1007 [==============================] - 7s 7ms/step - loss: 0.0291 - acc: 0.9970 - val_loss: 1.2390 - val_acc: 0.6005\n",
      "160/160 [==============================] - 1s 3ms/step\n",
      "Fitting with:  (1440, 1, 9839, 1) labels (1440, 2)\n",
      "Train on 1007 samples, validate on 433 samples\n",
      "Epoch 1/12\n",
      "1007/1007 [==============================] - 9s 8ms/step - loss: 0.4206 - acc: 0.7885 - val_loss: 0.7202 - val_acc: 0.6420\n",
      "Epoch 2/12\n",
      "1007/1007 [==============================] - 8s 8ms/step - loss: 0.1246 - acc: 0.9553 - val_loss: 0.8187 - val_acc: 0.6189\n",
      "Epoch 3/12\n",
      "1007/1007 [==============================] - 7s 7ms/step - loss: 0.0619 - acc: 0.9841 - val_loss: 0.9767 - val_acc: 0.6051\n",
      "Epoch 4/12\n",
      "1007/1007 [==============================] - 8s 8ms/step - loss: 0.0334 - acc: 0.9960 - val_loss: 1.1138 - val_acc: 0.5982\n",
      "Epoch 5/12\n",
      "1007/1007 [==============================] - 11s 11ms/step - loss: 0.0195 - acc: 0.9990 - val_loss: 1.1899 - val_acc: 0.6212\n",
      "160/160 [==============================] - 1s 3ms/step\n",
      "Fitting with:  (1440, 1, 9839, 1) labels (1440, 2)\n",
      "Train on 1007 samples, validate on 433 samples\n",
      "Epoch 1/12\n",
      "1007/1007 [==============================] - 9s 8ms/step - loss: 0.4442 - acc: 0.7865 - val_loss: 0.6634 - val_acc: 0.6420\n",
      "Epoch 2/12\n",
      "1007/1007 [==============================] - 7s 7ms/step - loss: 0.1395 - acc: 0.9553 - val_loss: 0.7723 - val_acc: 0.6397\n",
      "Epoch 3/12\n",
      "1007/1007 [==============================] - 7s 7ms/step - loss: 0.0818 - acc: 0.9772 - val_loss: 0.9780 - val_acc: 0.6166\n",
      "Epoch 4/12\n",
      "1007/1007 [==============================] - 7s 7ms/step - loss: 0.0547 - acc: 0.9851 - val_loss: 0.9796 - val_acc: 0.6351\n",
      "Epoch 5/12\n",
      "1007/1007 [==============================] - 7s 7ms/step - loss: 0.0315 - acc: 0.9960 - val_loss: 1.1264 - val_acc: 0.6236\n",
      "160/160 [==============================] - 1s 3ms/step\n",
      "Fitting with:  (1440, 1, 9839, 1) labels (1440, 2)\n",
      "Train on 1007 samples, validate on 433 samples\n",
      "Epoch 1/12\n",
      "1007/1007 [==============================] - 9s 8ms/step - loss: 0.4251 - acc: 0.7954 - val_loss: 0.6879 - val_acc: 0.6282\n",
      "Epoch 2/12\n",
      "1007/1007 [==============================] - 12s 11ms/step - loss: 0.1296 - acc: 0.9583 - val_loss: 0.7713 - val_acc: 0.6328\n",
      "Epoch 3/12\n",
      "1007/1007 [==============================] - 7s 7ms/step - loss: 0.0653 - acc: 0.9881 - val_loss: 0.8976 - val_acc: 0.6236\n",
      "Epoch 4/12\n",
      "1007/1007 [==============================] - 7s 7ms/step - loss: 0.0381 - acc: 0.9891 - val_loss: 0.9888 - val_acc: 0.6212\n",
      "Epoch 5/12\n",
      "1007/1007 [==============================] - 7s 7ms/step - loss: 0.0245 - acc: 0.9960 - val_loss: 1.1244 - val_acc: 0.6374\n",
      "160/160 [==============================] - 0s 3ms/step\n",
      "Fitting with:  (1440, 1, 9839, 1) labels (1440, 2)\n",
      "Train on 1007 samples, validate on 433 samples\n",
      "Epoch 1/12\n",
      "1007/1007 [==============================] - 9s 8ms/step - loss: 0.4590 - acc: 0.7676 - val_loss: 0.6749 - val_acc: 0.6397\n",
      "Epoch 2/12\n",
      "1007/1007 [==============================] - 7s 7ms/step - loss: 0.1401 - acc: 0.9513 - val_loss: 0.7494 - val_acc: 0.6467\n",
      "Epoch 3/12\n",
      "1007/1007 [==============================] - 7s 7ms/step - loss: 0.0717 - acc: 0.9811 - val_loss: 0.9037 - val_acc: 0.6120\n",
      "Epoch 4/12\n",
      "1007/1007 [==============================] - 10s 10ms/step - loss: 0.0403 - acc: 0.9930 - val_loss: 1.0770 - val_acc: 0.6097\n",
      "Epoch 5/12\n",
      "1007/1007 [==============================] - 10s 9ms/step - loss: 0.0257 - acc: 0.9970 - val_loss: 1.2016 - val_acc: 0.5935\n"
     ]
    },
    {
     "name": "stdout",
     "output_type": "stream",
     "text": [
      "160/160 [==============================] - 1s 3ms/step\n"
     ]
    }
   ],
   "source": [
    "def get_conv_bow_model():\n",
    "  model = Sequential([\n",
    "      Conv2D(\n",
    "          filters=50,\n",
    "          kernel_size=(1, 10),\n",
    "          data_format=\"channels_last\",\n",
    "          input_shape=(1, corpus_vocab_size, 1),\n",
    "          activation=relu),\n",
    "      MaxPooling2D(pool_size=(1, 10)),\n",
    "      Dropout(0.2),\n",
    "      Flatten(),\n",
    "      Dense(2, activation='softmax')\n",
    "  ])\n",
    "  model.compile(\n",
    "      loss='binary_crossentropy',\n",
    "      optimizer='adam',\n",
    "      metrics=['accuracy'])\n",
    "  return model\n",
    "\n",
    "conv_bow_scores = run_cross_validate(get_conv_bow_model, convolutional_data, labels, cv=10, categorical=True)"
   ]
  },
  {
   "cell_type": "code",
   "execution_count": 32,
   "metadata": {},
   "outputs": [],
   "source": [
    "reviews_words = [text_to_word_sequence(x) for x in raw_features]\n",
    "max_review_len = max([len(x) for x in reviews_words])\n",
    "\n",
    "vectorized_reviews = np.zeros((len(reviews_words), max_review_len, 300, 1))\n",
    "for i, review in enumerate(reviews_words):\n",
    "    for j, word in enumerate(review):\n",
    "        vectorized_reviews[i][j] = \n",
    "        np.append(review_vectors, embedding_matrix[corpus_words[word]])\n",
    "    np.append(vectorized_reviews, np.array(review_vectors))"
   ]
  },
  {
   "cell_type": "code",
   "execution_count": 24,
   "metadata": {},
   "outputs": [
    {
     "name": "stdout",
     "output_type": "stream",
     "text": [
      "Fitting with:  (1332,) labels (1332, 2)\n"
     ]
    },
    {
     "ename": "ValueError",
     "evalue": "Error when checking input: expected conv2d_13_input to have 4 dimensions, but got array with shape (1332, 1)",
     "output_type": "error",
     "traceback": [
      "\u001b[0;31m---------------------------------------------------------------------------\u001b[0m",
      "\u001b[0;31mValueError\u001b[0m                                Traceback (most recent call last)",
      "\u001b[0;32m<ipython-input-24-2579a718c94a>\u001b[0m in \u001b[0;36m<module>\u001b[0;34m\u001b[0m\n\u001b[1;32m     18\u001b[0m   \u001b[0;32mreturn\u001b[0m \u001b[0mmodel\u001b[0m\u001b[0;34m\u001b[0m\u001b[0m\n\u001b[1;32m     19\u001b[0m \u001b[0;34m\u001b[0m\u001b[0m\n\u001b[0;32m---> 20\u001b[0;31m \u001b[0mconv_wv_scores\u001b[0m \u001b[0;34m=\u001b[0m \u001b[0mrun_cross_validate\u001b[0m\u001b[0;34m(\u001b[0m\u001b[0mget_conv_wv_model\u001b[0m\u001b[0;34m,\u001b[0m \u001b[0mvectorized_reviews\u001b[0m\u001b[0;34m,\u001b[0m \u001b[0mlabels\u001b[0m\u001b[0;34m,\u001b[0m \u001b[0mcv\u001b[0m\u001b[0;34m=\u001b[0m\u001b[0;36m6\u001b[0m\u001b[0;34m,\u001b[0m \u001b[0mcategorical\u001b[0m\u001b[0;34m=\u001b[0m\u001b[0;32mTrue\u001b[0m\u001b[0;34m)\u001b[0m\u001b[0;34m\u001b[0m\u001b[0m\n\u001b[0m",
      "\u001b[0;32m~/Amazoff/LUCAS/scripts/cross_validate.py\u001b[0m in \u001b[0;36mrun_cross_validate\u001b[0;34m(get_model, X, y, cv, categorical, add_target_dim, verbose)\u001b[0m\n\u001b[1;32m     29\u001b[0m     model.fit(np.array(training_X), training_y, epochs=12, batch_size=16,\n\u001b[1;32m     30\u001b[0m               \u001b[0mvalidation_split\u001b[0m\u001b[0;34m=\u001b[0m\u001b[0;36m0.3\u001b[0m\u001b[0;34m,\u001b[0m \u001b[0mverbose\u001b[0m\u001b[0;34m=\u001b[0m\u001b[0mverbose\u001b[0m\u001b[0;34m,\u001b[0m\u001b[0;34m\u001b[0m\u001b[0m\n\u001b[0;32m---> 31\u001b[0;31m               callbacks=[EarlyStopping(monitor='val_loss', patience=4)])\n\u001b[0m\u001b[1;32m     32\u001b[0m     \u001b[0mmetrics\u001b[0m\u001b[0;34m[\u001b[0m\u001b[0;34m\"accuracies\"\u001b[0m\u001b[0;34m]\u001b[0m\u001b[0;34m.\u001b[0m\u001b[0mappend\u001b[0m\u001b[0;34m(\u001b[0m\u001b[0mmodel\u001b[0m\u001b[0;34m.\u001b[0m\u001b[0mevaluate\u001b[0m\u001b[0;34m(\u001b[0m\u001b[0mnp\u001b[0m\u001b[0;34m.\u001b[0m\u001b[0marray\u001b[0m\u001b[0;34m(\u001b[0m\u001b[0mtest_X\u001b[0m\u001b[0;34m)\u001b[0m\u001b[0;34m,\u001b[0m \u001b[0mtest_y\u001b[0m\u001b[0;34m)\u001b[0m\u001b[0;34m[\u001b[0m\u001b[0;36m1\u001b[0m\u001b[0;34m]\u001b[0m\u001b[0;34m)\u001b[0m\u001b[0;34m\u001b[0m\u001b[0m\n\u001b[1;32m     33\u001b[0m   \u001b[0;32mreturn\u001b[0m \u001b[0mmetrics\u001b[0m\u001b[0;34m\u001b[0m\u001b[0m\n",
      "\u001b[0;32m~/miniconda3/envs/lucas/lib/python3.6/site-packages/tensorflow/python/keras/engine/training.py\u001b[0m in \u001b[0;36mfit\u001b[0;34m(self, x, y, batch_size, epochs, verbose, callbacks, validation_split, validation_data, shuffle, class_weight, sample_weight, initial_epoch, steps_per_epoch, validation_steps, max_queue_size, workers, use_multiprocessing, **kwargs)\u001b[0m\n\u001b[1;32m   1534\u001b[0m         \u001b[0msteps_name\u001b[0m\u001b[0;34m=\u001b[0m\u001b[0;34m'steps_per_epoch'\u001b[0m\u001b[0;34m,\u001b[0m\u001b[0;34m\u001b[0m\u001b[0m\n\u001b[1;32m   1535\u001b[0m         \u001b[0msteps\u001b[0m\u001b[0;34m=\u001b[0m\u001b[0msteps_per_epoch\u001b[0m\u001b[0;34m,\u001b[0m\u001b[0;34m\u001b[0m\u001b[0m\n\u001b[0;32m-> 1536\u001b[0;31m         validation_split=validation_split)\n\u001b[0m\u001b[1;32m   1537\u001b[0m \u001b[0;34m\u001b[0m\u001b[0m\n\u001b[1;32m   1538\u001b[0m     \u001b[0;31m# Prepare validation data.\u001b[0m\u001b[0;34m\u001b[0m\u001b[0;34m\u001b[0m\u001b[0m\n",
      "\u001b[0;32m~/miniconda3/envs/lucas/lib/python3.6/site-packages/tensorflow/python/keras/engine/training.py\u001b[0m in \u001b[0;36m_standardize_user_data\u001b[0;34m(self, x, y, sample_weight, class_weight, batch_size, check_steps, steps_name, steps, validation_split)\u001b[0m\n\u001b[1;32m    990\u001b[0m         \u001b[0mx\u001b[0m\u001b[0;34m,\u001b[0m \u001b[0my\u001b[0m\u001b[0;34m,\u001b[0m \u001b[0msample_weight\u001b[0m \u001b[0;34m=\u001b[0m \u001b[0mnext_element\u001b[0m\u001b[0;34m\u001b[0m\u001b[0m\n\u001b[1;32m    991\u001b[0m     x, y, sample_weights = self._standardize_weights(x, y, sample_weight,\n\u001b[0;32m--> 992\u001b[0;31m                                                      class_weight, batch_size)\n\u001b[0m\u001b[1;32m    993\u001b[0m     \u001b[0;32mreturn\u001b[0m \u001b[0mx\u001b[0m\u001b[0;34m,\u001b[0m \u001b[0my\u001b[0m\u001b[0;34m,\u001b[0m \u001b[0msample_weights\u001b[0m\u001b[0;34m\u001b[0m\u001b[0m\n\u001b[1;32m    994\u001b[0m \u001b[0;34m\u001b[0m\u001b[0m\n",
      "\u001b[0;32m~/miniconda3/envs/lucas/lib/python3.6/site-packages/tensorflow/python/keras/engine/training.py\u001b[0m in \u001b[0;36m_standardize_weights\u001b[0;34m(self, x, y, sample_weight, class_weight, batch_size)\u001b[0m\n\u001b[1;32m   1115\u001b[0m         \u001b[0mfeed_input_shapes\u001b[0m\u001b[0;34m,\u001b[0m\u001b[0;34m\u001b[0m\u001b[0m\n\u001b[1;32m   1116\u001b[0m         \u001b[0mcheck_batch_axis\u001b[0m\u001b[0;34m=\u001b[0m\u001b[0;32mFalse\u001b[0m\u001b[0;34m,\u001b[0m  \u001b[0;31m# Don't enforce the batch size.\u001b[0m\u001b[0;34m\u001b[0m\u001b[0m\n\u001b[0;32m-> 1117\u001b[0;31m         exception_prefix='input')\n\u001b[0m\u001b[1;32m   1118\u001b[0m \u001b[0;34m\u001b[0m\u001b[0m\n\u001b[1;32m   1119\u001b[0m     \u001b[0;32mif\u001b[0m \u001b[0my\u001b[0m \u001b[0;32mis\u001b[0m \u001b[0;32mnot\u001b[0m \u001b[0;32mNone\u001b[0m\u001b[0;34m:\u001b[0m\u001b[0;34m\u001b[0m\u001b[0m\n",
      "\u001b[0;32m~/miniconda3/envs/lucas/lib/python3.6/site-packages/tensorflow/python/keras/engine/training_utils.py\u001b[0m in \u001b[0;36mstandardize_input_data\u001b[0;34m(data, names, shapes, check_batch_axis, exception_prefix)\u001b[0m\n\u001b[1;32m    321\u001b[0m                            \u001b[0;34m': expected '\u001b[0m \u001b[0;34m+\u001b[0m \u001b[0mnames\u001b[0m\u001b[0;34m[\u001b[0m\u001b[0mi\u001b[0m\u001b[0;34m]\u001b[0m \u001b[0;34m+\u001b[0m \u001b[0;34m' to have '\u001b[0m \u001b[0;34m+\u001b[0m\u001b[0;34m\u001b[0m\u001b[0m\n\u001b[1;32m    322\u001b[0m                            \u001b[0mstr\u001b[0m\u001b[0;34m(\u001b[0m\u001b[0mlen\u001b[0m\u001b[0;34m(\u001b[0m\u001b[0mshape\u001b[0m\u001b[0;34m)\u001b[0m\u001b[0;34m)\u001b[0m \u001b[0;34m+\u001b[0m \u001b[0;34m' dimensions, but got array '\u001b[0m\u001b[0;34m\u001b[0m\u001b[0m\n\u001b[0;32m--> 323\u001b[0;31m                            'with shape ' + str(data_shape))\n\u001b[0m\u001b[1;32m    324\u001b[0m         \u001b[0;32mif\u001b[0m \u001b[0;32mnot\u001b[0m \u001b[0mcheck_batch_axis\u001b[0m\u001b[0;34m:\u001b[0m\u001b[0;34m\u001b[0m\u001b[0m\n\u001b[1;32m    325\u001b[0m           \u001b[0mdata_shape\u001b[0m \u001b[0;34m=\u001b[0m \u001b[0mdata_shape\u001b[0m\u001b[0;34m[\u001b[0m\u001b[0;36m1\u001b[0m\u001b[0;34m:\u001b[0m\u001b[0;34m]\u001b[0m\u001b[0;34m\u001b[0m\u001b[0m\n",
      "\u001b[0;31mValueError\u001b[0m: Error when checking input: expected conv2d_13_input to have 4 dimensions, but got array with shape (1332, 1)"
     ]
    }
   ],
   "source": [
    "def get_conv_wv_model():\n",
    "  model = Sequential([\n",
    "      Conv2D(\n",
    "          filters=50,\n",
    "          kernel_size=(10, 300),\n",
    "          data_format=\"channels_first\",\n",
    "          input_shape=(1, 381, 300),\n",
    "          activation=relu),\n",
    "      MaxPooling2D(strides=(1, 1), pool_size=(2, 1), data_format=\"channels_first\"),\n",
    "      Dropout(0.2),\n",
    "      Flatten(),\n",
    "      Dense(2, activation='softmax')\n",
    "  ])\n",
    "  model.compile(\n",
    "      loss='binary_crossentropy',\n",
    "      optimizer='adam',\n",
    "      metrics=['accuracy'])\n",
    "  return model\n",
    "\n",
    "conv_wv_scores = run_cross_validate(get_conv_wv_model, vectorized_reviews, labels, cv=6, categorical=True)"
   ]
  },
  {
   "cell_type": "code",
   "execution_count": 34,
   "metadata": {},
   "outputs": [
    {
     "data": {
      "text/plain": [
       "(0,)"
      ]
     },
     "execution_count": 34,
     "metadata": {},
     "output_type": "execute_result"
    }
   ],
   "source": [
    "vectorized_reviews.shape"
   ]
  },
  {
   "cell_type": "code",
   "execution_count": null,
   "metadata": {},
   "outputs": [],
   "source": []
  }
 ],
 "metadata": {
  "kernelspec": {
   "display_name": "Python 3",
   "language": "python",
   "name": "python3"
  },
  "language_info": {
   "codemirror_mode": {
    "name": "ipython",
    "version": 3
   },
   "file_extension": ".py",
   "mimetype": "text/x-python",
   "name": "python",
   "nbconvert_exporter": "python",
   "pygments_lexer": "ipython3",
   "version": "3.6.6"
  }
 },
 "nbformat": 4,
 "nbformat_minor": 2
}
