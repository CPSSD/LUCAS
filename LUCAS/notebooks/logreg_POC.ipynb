{
 "cells": [
  {
   "cell_type": "markdown",
   "metadata": {},
   "source": [
    "# Logistic Regression Binary Classification: Proof of Concept\n",
    "\n",
    "In this notebook I demonstrate the use of another popular ML technique, Logistic Regression, as a binary classifier for Genuine and Deceptive reviews over the small ground truth Chicago Hotel dataset.\n",
    "\n",
    "The accuracies produced in this notebook are not to be trusted as they are based on a very small dataset (1600 samples) with a TINY testing set (480 samples). However, it shows a proof of concept using simple Bag-Of-Words features such as count vectorization and Tf-idf to give a baseline model to improve on with larger datasets and more features.\n",
    "\n",
    "Without further ado, let's continue.\n",
    "\n",
    "We start by importing the modules we need."
   ]
  },
  {
   "cell_type": "code",
   "execution_count": 1,
   "metadata": {},
   "outputs": [],
   "source": [
    "import os\n",
    "import numpy as np\n",
    "import pandas as pd"
   ]
  },
  {
   "cell_type": "markdown",
   "metadata": {},
   "source": [
    "Then, we pull our data files and process them using the Pandas module into easy to manipulate data frames.\n",
    "\n",
    "In this dataset, we have 1600 samples. 800 are deceptive and 800 are genuine, and there are 400 of each sentiment, positive and negative."
   ]
  },
  {
   "cell_type": "code",
   "execution_count": 2,
   "metadata": {},
   "outputs": [],
   "source": [
    "neg_deceptive_folder_path = r\"../data/hotels/negative_polarity/deceptive_from_MTurk/\"\n",
    "neg_true_folder_path = r'../data/hotels/negative_polarity/truthful_from_Web/'\n",
    "pos_deceptive_folder_path = r'../data/hotels/positive_polarity/deceptive_from_MTurk/'\n",
    "pos_true_folder_path = r'../data/hotels/positive_polarity/truthful_from_TripAdvisor/'\n",
    "\n",
    "sentiment_class = []\n",
    "reviews = []\n",
    "deceptive_class =[]\n",
    "\n",
    "for i in range(1,6):\n",
    "    positive_true = pos_true_folder_path + 'fold' + str(i) \n",
    "    positive_deceptive = pos_deceptive_folder_path + 'fold' + str(i)\n",
    "    negative_true = neg_true_folder_path + 'fold' + str(i) \n",
    "    negative_deceptive = neg_deceptive_folder_path + 'fold' + str(i) \n",
    "    for data_file in sorted(os.listdir(negative_deceptive)):\n",
    "      sentiment_class.append('negative')\n",
    "      deceptive_class.append(str(data_file.split('_')[0]))\n",
    "      with open(os.path.join(negative_deceptive, data_file)) as f:\n",
    "        contents = f.read()\n",
    "        reviews.append(contents)\n",
    "    for data_file in sorted(os.listdir(negative_true)):\n",
    "      sentiment_class.append('negative')\n",
    "      deceptive_class.append(str(data_file.split('_')[0]))\n",
    "      with open(os.path.join(negative_true, data_file)) as f:\n",
    "        contents = f.read()\n",
    "        reviews.append(contents)\n",
    "    for data_file in sorted(os.listdir(positive_deceptive)):\n",
    "      sentiment_class.append('positive')\n",
    "      deceptive_class.append(str(data_file.split('_')[0]))\n",
    "      with open(os.path.join(positive_deceptive, data_file)) as f:\n",
    "        contents = f.read()\n",
    "        reviews.append(contents)\n",
    "    for data_file in sorted(os.listdir(positive_true)):\n",
    "      sentiment_class.append('positive')\n",
    "      deceptive_class.append(str(data_file.split('_')[0]))\n",
    "      with open(os.path.join(positive_true, data_file)) as f:\n",
    "        contents = f.read()\n",
    "        reviews.append(contents)\n",
    "\n",
    "\n",
    "df = pd.DataFrame({'sentiment':sentiment_class,'review':reviews,'deceptive':deceptive_class})\n",
    "\n",
    "df.loc[df['deceptive']=='d','deceptive']=1\n",
    "df.loc[df['deceptive']=='t','deceptive']=0\n",
    "\n",
    "df.loc[df['sentiment']=='positive','sentiment']=1\n",
    "df.loc[df['sentiment']=='negative','sentiment']=0\n",
    "\n",
    "data_x = df['review']\n",
    "\n",
    "data_y = np.asarray(df['deceptive'],dtype=int)"
   ]
  },
  {
   "cell_type": "markdown",
   "metadata": {},
   "source": [
    "Then, we split our data into training and testing. Experiment shows that 70/30 split is ideal. The random_state parameter lets us shuffle our data randomly."
   ]
  },
  {
   "cell_type": "code",
   "execution_count": 3,
   "metadata": {},
   "outputs": [],
   "source": [
    "from sklearn.model_selection import train_test_split\n",
    "\n",
    "X_train, X_test, y_train, y_test = train_test_split(data_x, data_y, test_size=0.3, random_state=0)"
   ]
  },
  {
   "cell_type": "markdown",
   "metadata": {},
   "source": [
    "We now want to initialize our feature extractors, CountVectorizer and TfIdfVectorizer. Count vectorization simply turns reviews into vectors of word counts, and TfIdf vectorizer turns word count vectors into Tf-df vectors. \n"
   ]
  },
  {
   "cell_type": "code",
   "execution_count": 4,
   "metadata": {},
   "outputs": [],
   "source": [
    "from sklearn.feature_extraction.text import CountVectorizer\n",
    "from sklearn.feature_extraction.text import TfidfTransformer\n",
    "\n",
    "cv = CountVectorizer()\n",
    "tfidf = TfidfTransformer()"
   ]
  },
  {
   "cell_type": "markdown",
   "metadata": {},
   "source": [
    "Now we wish to fit the data into our feature extractors."
   ]
  },
  {
   "cell_type": "code",
   "execution_count": 5,
   "metadata": {},
   "outputs": [],
   "source": [
    "X_train_count = cv.fit_transform(X_train) # Transforming the Training reviews to count vectors and fitting for TF-idf\n",
    "X_test_count = cv.transform(X_test) # Only transforming the test reviews to count vectors\n",
    "\n",
    "X_train_tfidf = tfidf.fit_transform(X_train_count) # Transforming the fitted training Count Vectors to Tfidf vectors\n",
    "X_test_tfidf = tfidf.transform(X_test_count) # Transforming test count vectors to tf-df vectors"
   ]
  },
  {
   "cell_type": "markdown",
   "metadata": {},
   "source": [
    "And now we fit the logistic regression classifier to our Tf-idf vectors."
   ]
  },
  {
   "cell_type": "code",
   "execution_count": 6,
   "metadata": {},
   "outputs": [
    {
     "data": {
      "text/plain": [
       "LogisticRegression(C=1.0, class_weight=None, dual=False, fit_intercept=True,\n",
       "          intercept_scaling=1, max_iter=100, multi_class='warn',\n",
       "          n_jobs=None, penalty='l2', random_state=0, solver='lbfgs',\n",
       "          tol=0.0001, verbose=0, warm_start=False)"
      ]
     },
     "execution_count": 6,
     "metadata": {},
     "output_type": "execute_result"
    }
   ],
   "source": [
    "from sklearn.linear_model import LogisticRegression\n",
    "\n",
    "logreg = LogisticRegression(random_state=0, solver='lbfgs')\n",
    "logreg.fit(X_train_tfidf, y_train) "
   ]
  },
  {
   "cell_type": "markdown",
   "metadata": {},
   "source": [
    "And now we test our model on our training data."
   ]
  },
  {
   "cell_type": "code",
   "execution_count": 7,
   "metadata": {},
   "outputs": [],
   "source": [
    "y_predictions_logreg = logreg.predict(X_test_tfidf)"
   ]
  },
  {
   "cell_type": "markdown",
   "metadata": {},
   "source": [
    "Alright! Let's get our metrics."
   ]
  },
  {
   "cell_type": "code",
   "execution_count": 10,
   "metadata": {},
   "outputs": [
    {
     "name": "stdout",
     "output_type": "stream",
     "text": [
      "                                                Review True(0)/Deceptive(1)\n",
      "0    This hotel has the worst rooms we have stayed ...              Genuine\n",
      "1    Terrible experience, I will not stay here agai...            Deceptive\n",
      "2    Spent a wonderful night at the Amalfi with fri...              Genuine\n",
      "3    The concierge was so helpful. Without hesitati...              Genuine\n",
      "4    Oh my goodness, this has got to be one of the ...            Deceptive\n",
      "5    I booked two rooms four months in advance at t...              Genuine\n",
      "6    My husband and I made a reservation at the She...            Deceptive\n",
      "7    I travel to chicago quite often, and have stay...            Deceptive\n",
      "8    My husband and I and our 10 month old took a q...              Genuine\n",
      "9    My Family and I went to this hotel on holiday ...              Genuine\n",
      "10   Stayed at the Chicago Affinia Dec 10 thru Dec ...              Genuine\n",
      "11   I was really excited to be visiting Chicago fo...            Deceptive\n",
      "12   Attended a conference at the Palmer House and ...              Genuine\n",
      "13   Sofitel not-so-luxury Hotels I recently checke...            Deceptive\n",
      "14   I read the reviews on Trip Advisor for this pr...              Genuine\n",
      "15   This hotel does not belong in the same league ...              Genuine\n",
      "16   This review has two parts. . .I advise reading...              Genuine\n",
      "17   This is one of the best hotels I have ever bee...            Deceptive\n",
      "18   The hotel is excellently situated for visiting...              Genuine\n",
      "19   My $200 Gucci sunglasses were stolen out of my...              Genuine\n",
      "20   The Talbott Hotel was very classy, professiona...            Deceptive\n",
      "21   My family stayed at this hotel and walking int...            Deceptive\n",
      "22   I was going on a 3 day personal trip to Chicag...            Deceptive\n",
      "23   This hotel is one superior hotel. The prices a...            Deceptive\n",
      "24   My stay at the Homewood Suites in downtown Chi...            Deceptive\n",
      "25   My stay at the Ambassador East Hotel was a ple...            Deceptive\n",
      "26   Location is excellent, but don't valet your ca...              Genuine\n",
      "27   I am often traveling on business and I always ...            Deceptive\n",
      "28   It has been a couple of years since I stayed h...              Genuine\n",
      "29   I visited the Hotel Allegro Chicago while I wa...            Deceptive\n",
      "..                                                 ...                  ...\n",
      "450  Extravagant, Exuberant Experience! Our stay at...            Deceptive\n",
      "451  I stayed at the Knickerbocker Hotel the last t...            Deceptive\n",
      "452  I will never stay at Conrad Chicago again. The...            Deceptive\n",
      "453  We attended a Bachorette Party in Chicago in A...              Genuine\n",
      "454  I've used Priceline for every trip I've made b...              Genuine\n",
      "455  We got a spanking deal at this hotel for $99 a...              Genuine\n",
      "456  We enjoyed our stay at the James in Chicago ve...            Deceptive\n",
      "457  After a my stay at the Millennium Knickerbocke...            Deceptive\n",
      "458  Problems started when I booked the InterContin...              Genuine\n",
      "459  The hotel is beautiful. It is an excellent loc...              Genuine\n",
      "460  We stayed at the Omni between Christmas and Ne...              Genuine\n",
      "461  My wife and I were guests at the Hotel Allego ...            Deceptive\n",
      "462  I went to the Homewood Suites in Chicago which...            Deceptive\n",
      "463  My family and I stayed at the Sheraton Chicago...            Deceptive\n",
      "464  We arrived at 10:30 am on a Friday, and they h...              Genuine\n",
      "465  The room looked like a country club prison cel...              Genuine\n",
      "466  I only stayed here for five days, but I will d...            Deceptive\n",
      "467  This hotel was an absolute dream to stay in. I...            Deceptive\n",
      "468  We booked the Amalfi looking for a great bouti...              Genuine\n",
      "469  THIS HOTEL IS FANTASTIC. I stayed there on my ...            Deceptive\n",
      "470  Our stay at the Ambassador East Hotel was extr...              Genuine\n",
      "471  Not a good start when the front desk isn't wil...              Genuine\n",
      "472  The Hilton family would be outraged after hear...            Deceptive\n",
      "473  We spent a week in this hotel and were very pl...              Genuine\n",
      "474  Truly a tattered run down facility that you sh...              Genuine\n",
      "475  My stay at the Hilton was like living in luxur...            Deceptive\n",
      "476  I had really high hopes for this hotel. The lo...              Genuine\n",
      "477  Stayed here for 5 nights while visiting Chicag...              Genuine\n",
      "478  Nice big rooms but stinky mildew hallways, fai...              Genuine\n",
      "479  We traveled to Chicago to visit with our daugh...              Genuine\n",
      "\n",
      "[480 rows x 2 columns]\n",
      "              precision    recall  f1-score   support\n",
      "\n",
      "     Genuine       0.87      0.91      0.89       227\n",
      "   Deceptive       0.92      0.88      0.90       253\n",
      "\n",
      "   micro avg       0.90      0.90      0.90       480\n",
      "   macro avg       0.90      0.90      0.90       480\n",
      "weighted avg       0.90      0.90      0.90       480\n",
      "\n",
      "Overall score:  0.8958333333333334\n"
     ]
    }
   ],
   "source": [
    "from sklearn import metrics\n",
    "\n",
    "yp=[\"Genuine\" if prediction == 0 else \"Deceptive\" for prediction in list(y_predictions_logreg)]\n",
    "output_fm = pd.DataFrame({'Review':list(X_test) ,'True(0)/Deceptive(1)':yp})\n",
    "print(output_fm)\n",
    "print(metrics.classification_report(y_test, y_predictions_logreg, target_names=set(yp)))\n",
    "print('Overall score: ', logreg.score(X_test_tfidf, y_test))"
   ]
  },
  {
   "cell_type": "markdown",
   "metadata": {},
   "source": [
    "90% Accuracy! Let's wrap it up here boys, gg."
   ]
  },
  {
   "cell_type": "code",
   "execution_count": null,
   "metadata": {},
   "outputs": [],
   "source": []
  }
 ],
 "metadata": {
  "kernelspec": {
   "display_name": "Python (lucas)",
   "language": "python",
   "name": "lucas"
  },
  "language_info": {
   "codemirror_mode": {
    "name": "ipython",
    "version": 3
   },
   "file_extension": ".py",
   "mimetype": "text/x-python",
   "name": "python",
   "nbconvert_exporter": "python",
   "pygments_lexer": "ipython3",
   "version": "3.7.1"
  },
  "toc": {
   "base_numbering": 1,
   "nav_menu": {},
   "number_sections": true,
   "sideBar": true,
   "skip_h1_title": false,
   "title_cell": "Table of Contents",
   "title_sidebar": "Contents",
   "toc_cell": false,
   "toc_position": {},
   "toc_section_display": true,
   "toc_window_display": false
  }
 },
 "nbformat": 4,
 "nbformat_minor": 2
}
