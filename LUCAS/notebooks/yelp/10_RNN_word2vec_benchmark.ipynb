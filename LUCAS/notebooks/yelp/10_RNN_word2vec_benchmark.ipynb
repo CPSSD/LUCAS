{
 "cells": [
  {
   "cell_type": "markdown",
   "metadata": {},
   "source": [
    "# Recurrent Neural Network Benchmark\n",
    "This experiment will calculate a benchmark for Recurrent Neural Networks. We will use a simple standard for this, so that we know how these networks perform before any tuning or modification.\n",
    "\n",
    "LSTMs have been used in previous experiments, however this is the first one to use them on a substantial amount of data. For this reason we will treat this as our benchmark."
   ]
  },
  {
   "cell_type": "code",
   "execution_count": 1,
   "metadata": {},
   "outputs": [
    {
     "name": "stderr",
     "output_type": "stream",
     "text": [
      "Using TensorFlow backend.\n"
     ]
    }
   ],
   "source": [
    "from scripts.feature_extraction import get_balanced_dataset, get_entire_dataset, scaled_reviewer_features\n",
    "from notebooks.yelp.metrics import auroc, f1\n",
    "from scripts.cross_validate import run_single_cross_validate\n",
    "from tensorflow.keras.preprocessing.text import Tokenizer\n",
    "from tensorflow.keras import Sequential\n",
    "from tensorflow.keras.layers import Concatenate, Dense, Embedding, Input, LSTM\n",
    "from tensorflow.keras.models import Model\n",
    "from tensorflow.keras.activations import sigmoid\n",
    "from tensorflow.keras.callbacks import EarlyStopping\n",
    "from sklearn.model_selection import StratifiedKFold\n",
    "from keras import backend as K\n",
    "from keras import regularizers\n",
    "\n",
    "import numpy as np\n",
    "import gensim\n",
    "import sys\n",
    "import nltk\n",
    "\n",
    "import tensorflow as tf\n",
    "from keras.preprocessing.sequence import pad_sequences"
   ]
  },
  {
   "cell_type": "code",
   "execution_count": 2,
   "metadata": {},
   "outputs": [],
   "source": [
    "# Set CROSS_FOLD_NUM to whichever fold you would like to run\n",
    "CROSS_FOLD_NUM = 0\n",
    "units = 10"
   ]
  },
  {
   "cell_type": "code",
   "execution_count": 3,
   "metadata": {},
   "outputs": [],
   "source": [
    "all_reviews = get_balanced_dataset()"
   ]
  },
  {
   "cell_type": "code",
   "execution_count": 4,
   "metadata": {},
   "outputs": [],
   "source": [
    "def clean_review_content(review_content):\n",
    "      return \" \".join([x for x in nltk.word_tokenize(review_content) if x.isalpha()])\n",
    "\n",
    "reviews_contents = [clean_review_content(x.review_content) for x in all_reviews]\n",
    "labels = [1 if x.label else 0 for x in all_reviews]"
   ]
  },
  {
   "cell_type": "code",
   "execution_count": 5,
   "metadata": {},
   "outputs": [],
   "source": [
    "tokenizer = Tokenizer()\n",
    "tokenizer.fit_on_texts(reviews_contents)"
   ]
  },
  {
   "cell_type": "code",
   "execution_count": 6,
   "metadata": {},
   "outputs": [],
   "source": [
    "corpus_words = tokenizer.word_index\n",
    "corpus_vocab_size = len(corpus_words)+1"
   ]
  },
  {
   "cell_type": "markdown",
   "metadata": {},
   "source": [
    "We create sequences necessary to compute word vectors from our embedding matrix:"
   ]
  },
  {
   "cell_type": "code",
   "execution_count": 7,
   "metadata": {},
   "outputs": [],
   "source": [
    "predictors_sequences = pad_sequences(tokenizer.texts_to_sequences(reviews_contents))\n",
    "max_len = max([len(x) for x in predictors_sequences])"
   ]
  },
  {
   "cell_type": "markdown",
   "metadata": {},
   "source": [
    "We use pretrained word2vec vectors from Google, trained on a Google News corpus:"
   ]
  },
  {
   "cell_type": "code",
   "execution_count": 8,
   "metadata": {},
   "outputs": [],
   "source": [
    "word_vectors = gensim.models.KeyedVectors.load_word2vec_format(\"../../data/GoogleNews-vectors-negative300.bin\",\n",
    "                                                               binary=True)"
   ]
  },
  {
   "cell_type": "code",
   "execution_count": 9,
   "metadata": {},
   "outputs": [],
   "source": [
    "embedding_length = word_vectors.vector_size\n",
    "embedding_matrix = np.zeros((corpus_vocab_size, embedding_length))\n",
    "for word, index in corpus_words.items():\n",
    "  if word in word_vectors.vocab:\n",
    "    embedding_matrix[index] = np.array(word_vectors[word], dtype=np.float32)"
   ]
  },
  {
   "cell_type": "code",
   "execution_count": 13,
   "metadata": {},
   "outputs": [],
   "source": [
    "reviewer_features = scaled_reviewer_features(all_reviews, get_entire_dataset('../../data/yelpZip'))"
   ]
  },
  {
   "cell_type": "code",
   "execution_count": 14,
   "metadata": {},
   "outputs": [],
   "source": [
    "train_predictors_sequences = predictors_sequences[:-10000]\n",
    "train_reviewer_features = reviewer_features[:-10000]\n",
    "train_labels = labels[:-10000]"
   ]
  },
  {
   "cell_type": "markdown",
   "metadata": {},
   "source": [
    "Our LSTM model is basic. A similar experiment was ran in a distributed form (outside of this notebook) with 512 units in the LSTM. This experiment was consistently less accurate, so the 10 units here remain."
   ]
  },
  {
   "cell_type": "code",
   "execution_count": 10,
   "metadata": {},
   "outputs": [],
   "source": [
    "def get_lstm_wv_model():\n",
    "    i1 = Input(shape=(max_len,))\n",
    "    i2 = Input(shape=(5,))\n",
    "\n",
    "    l1 = Embedding(corpus_vocab_size, embedding_length, weights=[embedding_matrix], input_length=max_len, trainable=False)(i1)\n",
    "    l2 = LSTM(units)(l1)\n",
    "    l3 = Concatenate(axis=1)([l2, i2])\n",
    "    l4 = tf.keras.layers.Dense(8, activation=tf.nn.relu, kernel_regularizer=regularizers.l2(0.01))(l3)\n",
    "    l5 = tf.keras.layers.Dense(8, activation=tf.nn.relu, kernel_regularizer=regularizers.l2(0.01))(l4)\n",
    "    l6 = tf.keras.layers.Dense(1, activation=sigmoid)(l5)\n",
    "    model = Model(inputs=[i1, i2], outputs=l6)\n",
    "    model.compile(optimizer='adam', loss='binary_crossentropy', metrics=['accuracy', auroc, f1])\n",
    "    return model"
   ]
  },
  {
   "cell_type": "code",
   "execution_count": 11,
   "metadata": {},
   "outputs": [],
   "source": [
    "def evaluate_lstm_model(train_X, train_y, test_X, test_y):\n",
    "    lstm_model = get_lstm_wv_model()\n",
    "    lstm_model.fit([x for x in train_X], train_y, epochs=50, batch_size=256, validation_split=0.3, verbose=1, shuffle=False,\n",
    "                   callbacks=[EarlyStopping(monitor='val_loss', patience=6)])\n",
    "    return lstm_model.evaluate([x for x in test_X], test_y)"
   ]
  },
  {
   "cell_type": "code",
   "execution_count": null,
   "metadata": {},
   "outputs": [],
   "source": [
    "splitter = StratifiedKFold(n_splits=10, shuffle=True)\n",
    "rnn_wv_scores = run_single_cross_validate(evaluate_lstm_model, [train_predictors_sequences, train_reviewer_features], train_labels,\n",
    "                                          CROSS_FOLD_NUM, splitter, verbose=1, epochs=12, batch_size=64, shuffle=True)\n",
    "print(rnn_wv_scores)"
   ]
  },
  {
   "cell_type": "code",
   "execution_count": 2,
   "metadata": {},
   "outputs": [
    {
     "data": {
      "text/plain": [
       "{'loss': [0.5550563013851826,\n",
       "  0.5585482540537922,\n",
       "  0.5585852593673146,\n",
       "  0.5566633776662231,\n",
       "  0.5582062198800604,\n",
       "  0.5577220357677689,\n",
       "  0.5678035712159235,\n",
       "  0.5537652867940218,\n",
       "  0.5664126500654939,\n",
       "  0.5669196811269435],\n",
       " 'accuracies': [0.7289891623051472,\n",
       "  0.7294294089657924,\n",
       "  0.7298384348107178,\n",
       "  0.72915672507053,\n",
       "  0.7251346376834695,\n",
       "  0.7277251346498612,\n",
       "  0.7226123116858143,\n",
       "  0.7285431863315852,\n",
       "  0.7266343990850647,\n",
       "  0.7241120731036627],\n",
       " 'auroc': [0.8003564126244366,\n",
       "  0.8004373614024274,\n",
       "  0.7999588248603761,\n",
       "  0.79845744895749,\n",
       "  0.7968711187189134,\n",
       "  0.800911409587455,\n",
       "  0.7920290507308666,\n",
       "  0.802576947165517,\n",
       "  0.7953940453407221,\n",
       "  0.7948687213908844],\n",
       " 'f1-score': [0.737453129115861,\n",
       "  0.7419323356038295,\n",
       "  0.7405435847223508,\n",
       "  0.7410593826034999,\n",
       "  0.7243894092899636,\n",
       "  0.7329859303358638,\n",
       "  0.7376336395533281,\n",
       "  0.7446782862500542,\n",
       "  0.7371903413789747,\n",
       "  0.7443907539150012]}"
      ]
     },
     "execution_count": 2,
     "metadata": {},
     "output_type": "execute_result"
    }
   ],
   "source": [
    "rnn_wv_scores"
   ]
  },
  {
   "cell_type": "code",
   "execution_count": 8,
   "metadata": {},
   "outputs": [
    {
     "data": {
      "text/plain": [
       "Text(0.5, 1.0, 'Recurrent Neural Network Accuracies')"
      ]
     },
     "execution_count": 8,
     "metadata": {},
     "output_type": "execute_result"
    },
    {
     "data": {
      "image/png": "[encoded data removed]",
      "text/plain": [
       "<Figure size 432x288 with 1 Axes>"
      ]
     },
     "metadata": {
      "needs_background": "light"
     },
     "output_type": "display_data"
    }
   ],
   "source": [
    "from seaborn import boxplot\n",
    "from pandas import DataFrame\n",
    "boxplot(DataFrame([rnn_wv_scores['accuracies']])).set_title(\"Recurrent Neural Network Accuracies\")"
   ]
  },
  {
   "cell_type": "code",
   "execution_count": 7,
   "metadata": {},
   "outputs": [
    {
     "data": {
      "text/plain": [
       "Text(0.5, 1.0, 'Recurrent Neural Network AUC scores')"
      ]
     },
     "execution_count": 7,
     "metadata": {},
     "output_type": "execute_result"
    },
    {
     "data": {
      "image/png": "[encoded data removed]",
      "text/plain": [
       "<Figure size 432x288 with 1 Axes>"
      ]
     },
     "metadata": {
      "needs_background": "light"
     },
     "output_type": "display_data"
    }
   ],
   "source": [
    "boxplot(DataFrame([rnn_wv_scores['auroc']])).set_title(\"Recurrent Neural Network AUC scores\")"
   ]
  },
  {
   "cell_type": "code",
   "execution_count": 5,
   "metadata": {},
   "outputs": [
    {
     "data": {
      "text/plain": [
       "Text(0.5, 1.0, 'Recurrent Neural Network F1 scores')"
      ]
     },
     "execution_count": 5,
     "metadata": {},
     "output_type": "execute_result"
    },
    {
     "data": {
      "image/png": "[encoded data removed]",
      "text/plain": [
       "<Figure size 432x288 with 1 Axes>"
      ]
     },
     "metadata": {
      "needs_background": "light"
     },
     "output_type": "display_data"
    }
   ],
   "source": [
    "boxplot(DataFrame([rnn_wv_scores['f1-score']])).set_title(\"Recurrent Neural Network F1 scores\")"
   ]
  },
  {
   "cell_type": "markdown",
   "metadata": {},
   "source": [
    "These accuracies are higher than all previous neural benchmarking experiments. They are reliably between 68% and 70%, meaning that we can treat this as a benchmark for LSTM networks. Future modifications to the model can be compared to this to assess their effects."
   ]
  },
  {
   "cell_type": "code",
   "execution_count": null,
   "metadata": {},
   "outputs": [
    {
     "name": "stdout",
     "output_type": "stream",
     "text": [
      "Epoch 1/25\n",
      "146692/146692 [==============================] - 216s 1ms/step - loss: 0.6694 - acc: 0.6961 - auroc: 0.7535 - f1: 0.6970\n",
      "Epoch 2/25\n",
      "146692/146692 [==============================] - 215s 1ms/step - loss: 0.5848 - acc: 0.7202 - auroc: 0.7893 - f1: 0.7268\n",
      "Epoch 3/25\n",
      "146692/146692 [==============================] - 216s 1ms/step - loss: 0.5700 - acc: 0.7263 - auroc: 0.7966 - f1: 0.7340\n",
      "Epoch 4/25\n",
      "146692/146692 [==============================] - 215s 1ms/step - loss: 0.5625 - acc: 0.7299 - auroc: 0.8005 - f1: 0.7378\n",
      "Epoch 5/25\n",
      "146692/146692 [==============================] - 215s 1ms/step - loss: 0.5574 - acc: 0.7318 - auroc: 0.8033 - f1: 0.7396\n",
      "Epoch 6/25\n",
      "146692/146692 [==============================] - 215s 1ms/step - loss: 0.5533 - acc: 0.7331 - auroc: 0.8057 - f1: 0.7408\n",
      "Epoch 7/25\n",
      "146692/146692 [==============================] - 215s 1ms/step - loss: 0.5501 - acc: 0.7345 - auroc: 0.8076 - f1: 0.7421\n",
      "Epoch 8/25\n",
      "146692/146692 [==============================] - 216s 1ms/step - loss: 0.5474 - acc: 0.7357 - auroc: 0.8092 - f1: 0.7432\n",
      "Epoch 9/25\n",
      "146692/146692 [==============================] - 215s 1ms/step - loss: 0.5451 - acc: 0.7366 - auroc: 0.8106 - f1: 0.7440\n",
      "Epoch 10/25\n",
      "146692/146692 [==============================] - 215s 1ms/step - loss: 0.5430 - acc: 0.7374 - auroc: 0.8119 - f1: 0.7448\n",
      "Epoch 11/25\n",
      "146692/146692 [==============================] - 216s 1ms/step - loss: 0.5412 - acc: 0.7384 - auroc: 0.8132 - f1: 0.7456\n",
      "Epoch 12/25\n",
      "146692/146692 [==============================] - 215s 1ms/step - loss: 0.5394 - acc: 0.7393 - auroc: 0.8143 - f1: 0.7465\n",
      "Epoch 13/25\n",
      "146692/146692 [==============================] - 215s 1ms/step - loss: 0.5378 - acc: 0.7399 - auroc: 0.8153 - f1: 0.7472\n",
      "Epoch 14/25\n",
      "146692/146692 [==============================] - 216s 1ms/step - loss: 0.5363 - acc: 0.7410 - auroc: 0.8163 - f1: 0.7481\n",
      "Epoch 15/25\n",
      "146692/146692 [==============================] - 216s 1ms/step - loss: 0.5350 - acc: 0.7415 - auroc: 0.8172 - f1: 0.7487\n",
      "Epoch 16/25\n",
      " 30464/146692 [=====>........................] - ETA: 2:48 - loss: 0.5346 - acc: 0.7397 - auroc: 0.8178 - f1: 0.7451"
     ]
    }
   ],
   "source": [
    "lstm_model = get_lstm_wv_model()\n",
    "lstm_model.fit([train_predictors_sequences, train_reviewer_features], train_labels, epochs=25, batch_size=256, verbose=1, shuffle=False)"
   ]
  },
  {
   "cell_type": "code",
   "execution_count": 22,
   "metadata": {},
   "outputs": [],
   "source": [
    "test_predictors_sequences = predictors_sequences[-10000:]\n",
    "test_reviewer_features = reviewer_features[-10000:]\n",
    "test_labels = labels[-10000:]"
   ]
  },
  {
   "cell_type": "code",
   "execution_count": 24,
   "metadata": {},
   "outputs": [
    {
     "name": "stdout",
     "output_type": "stream",
     "text": [
      "10000/10000 [==============================] - 20s 2ms/step\n"
     ]
    },
    {
     "data": {
      "text/plain": [
       "[0.557976548576355, 0.7214, 0.7950065410227588, 0.7183396739006043]"
      ]
     },
     "execution_count": 24,
     "metadata": {},
     "output_type": "execute_result"
    }
   ],
   "source": [
    "test_scores = lstm_model.evaluate([test_predictors_sequences, test_reviewer_features], test_labels)\n",
    "test_scores"
   ]
  }
 ],
 "metadata": {
  "kernelspec": {
   "display_name": "Python 3",
   "language": "python",
   "name": "python3"
  },
  "language_info": {
   "codemirror_mode": {
    "name": "ipython",
    "version": 3
   },
   "file_extension": ".py",
   "mimetype": "text/x-python",
   "name": "python",
   "nbconvert_exporter": "python",
   "pygments_lexer": "ipython3",
   "version": "3.6.8"
  }
 },
 "nbformat": 4,
 "nbformat_minor": 2
}
