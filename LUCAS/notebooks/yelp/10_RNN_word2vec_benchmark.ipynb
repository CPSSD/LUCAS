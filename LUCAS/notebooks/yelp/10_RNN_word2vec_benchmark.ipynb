{
 "cells": [
  {
   "cell_type": "markdown",
   "metadata": {},
   "source": [
    "# Recurrent Neural Network Benchmark\n",
    "This experiment will calculate a benchmark for Recurrent Neural Networks. We will use a simple standard for this, so that we know how these networks perform before any tuning or modification.\n",
    "\n",
    "LSTMs have been used in previous experiments, however this is the first one to use them on a substantial amount of data. For this reason we will treat this as our benchmark."
   ]
  },
  {
   "cell_type": "code",
   "execution_count": 1,
   "metadata": {},
   "outputs": [
    {
     "name": "stderr",
     "output_type": "stream",
     "text": [
      "Using TensorFlow backend.\n"
     ]
    }
   ],
   "source": [
    "from exp8_feature_extraction import get_balanced_dataset\n",
    "from scripts.cross_validate import run_cross_validate\n",
    "from tensorflow.keras.preprocessing.text import Tokenizer\n",
    "from tensorflow.keras import Sequential\n",
    "from tensorflow.keras.layers import Dense, Embedding, LSTM\n",
    "from tensorflow.keras.activations import sigmoid\n",
    "\n",
    "import numpy as np\n",
    "import gensim\n",
    "\n",
    "import tensorflow as tf\n",
    "from keras.preprocessing.sequence import pad_sequences"
   ]
  },
  {
   "cell_type": "code",
   "execution_count": 2,
   "metadata": {},
   "outputs": [],
   "source": [
    "all_reviews = get_balanced_dataset()"
   ]
  },
  {
   "cell_type": "code",
   "execution_count": 3,
   "metadata": {},
   "outputs": [],
   "source": [
    "reviews_contents = [x.review_content for x in all_reviews]\n",
    "labels = [1 if x.label else 0 for x in all_reviews]"
   ]
  },
  {
   "cell_type": "code",
   "execution_count": 4,
   "metadata": {},
   "outputs": [],
   "source": [
    "tokenizer = Tokenizer()\n",
    "tokenizer.fit_on_texts(reviews_contents)"
   ]
  },
  {
   "cell_type": "code",
   "execution_count": null,
   "metadata": {},
   "outputs": [],
   "source": [
    "corpus_words = tokenizer.word_index\n",
    "corpus_vocab_size = len(corpus_words)+1"
   ]
  },
  {
   "cell_type": "markdown",
   "metadata": {},
   "source": [
    "We create sequences necessary to compute word vectors from our embedding matrix:"
   ]
  },
  {
   "cell_type": "code",
   "execution_count": null,
   "metadata": {},
   "outputs": [],
   "source": [
    "predictors_sequences = pad_sequences(tokenizer.texts_to_sequences(reviews_contents))\n",
    "max_len = max([len(x) for x in predictors_sequences])"
   ]
  },
  {
   "cell_type": "markdown",
   "metadata": {},
   "source": [
    "We use pretrained word2vec vectors from Google, trained on a Google News corpus:"
   ]
  },
  {
   "cell_type": "code",
   "execution_count": null,
   "metadata": {},
   "outputs": [],
   "source": [
    "word_vectors = gensim.models.KeyedVectors.load_word2vec_format(\"../../data/GoogleNews-vectors-negative300.bin\",\n",
    "                                                               binary=True)"
   ]
  },
  {
   "cell_type": "code",
   "execution_count": null,
   "metadata": {},
   "outputs": [],
   "source": [
    "embedding_length = word_vectors.vector_size\n",
    "embedding_matrix = np.zeros((corpus_vocab_size, embedding_length))\n",
    "for word, index in corpus_words.items():\n",
    "  if word in word_vectors.vocab:\n",
    "    embedding_matrix[index] = np.array(word_vectors[word], dtype=np.float32)"
   ]
  },
  {
   "cell_type": "markdown",
   "metadata": {},
   "source": [
    "Our LSTM model is basic. A similar experiment was ran in a distributed form (outside of this notebook) with 512 units in the LSTM. This experiment was consistently less accurate, so the 10 units here remain."
   ]
  },
  {
   "cell_type": "code",
   "execution_count": null,
   "metadata": {},
   "outputs": [],
   "source": [
    "def get_lstm_wv_model():\n",
    "  model = Sequential([\n",
    "        Embedding(corpus_vocab_size, embedding_length, weights=[embedding_matrix], input_length=max_len, trainable=False),\n",
    "        LSTM(10),\n",
    "        Dense(1, activation=sigmoid)\n",
    "  ])\n",
    "  model.compile(optimizer='adam', loss='binary_crossentropy', metrics=['accuracy'])\n",
    "  return model"
   ]
  },
  {
   "cell_type": "code",
   "execution_count": null,
   "metadata": {},
   "outputs": [
    {
     "name": "stdout",
     "output_type": "stream",
     "text": [
      "Fitting with:  (128745, 997) labels (128745,)\n",
      "Train on 90121 samples, validate on 38624 samples\n",
      "Epoch 1/12\n",
      "90121/90121 [==============================] - 1434s 16ms/step - loss: 0.6397 - acc: 0.6389 - val_loss: 0.6219 - val_acc: 0.6596\n",
      "Epoch 2/12\n",
      "90121/90121 [==============================] - 1431s 16ms/step - loss: 0.6150 - acc: 0.6675 - val_loss: 0.6103 - val_acc: 0.6701\n",
      "Epoch 3/12\n",
      "90121/90121 [==============================] - 1434s 16ms/step - loss: 0.6011 - acc: 0.6792 - val_loss: 0.6039 - val_acc: 0.6761\n",
      "Epoch 4/12\n",
      "90121/90121 [==============================] - 1434s 16ms/step - loss: 0.5923 - acc: 0.6852 - val_loss: 0.5977 - val_acc: 0.6772\n",
      "Epoch 5/12\n",
      "90121/90121 [==============================] - 1436s 16ms/step - loss: 0.5847 - acc: 0.6916 - val_loss: 0.6009 - val_acc: 0.6778\n",
      "Epoch 6/12\n",
      "90121/90121 [==============================] - 1433s 16ms/step - loss: 0.5794 - acc: 0.6942 - val_loss: 0.6030 - val_acc: 0.6742\n",
      "Epoch 7/12\n",
      "90121/90121 [==============================] - 1438s 16ms/step - loss: 0.5737 - acc: 0.6989 - val_loss: 0.5883 - val_acc: 0.6877\n",
      "Epoch 8/12\n",
      "90121/90121 [==============================] - 1434s 16ms/step - loss: 0.5681 - acc: 0.7048 - val_loss: 0.5860 - val_acc: 0.6887\n",
      "Epoch 9/12\n",
      "90121/90121 [==============================] - 1432s 16ms/step - loss: 0.5639 - acc: 0.7066 - val_loss: 0.6094 - val_acc: 0.6781\n",
      "Epoch 10/12\n",
      "90121/90121 [==============================] - 1435s 16ms/step - loss: 0.5605 - acc: 0.7087 - val_loss: 0.5941 - val_acc: 0.6862\n",
      "Epoch 11/12\n",
      "90121/90121 [==============================] - 1433s 16ms/step - loss: 0.5570 - acc: 0.7110 - val_loss: 0.5844 - val_acc: 0.6915\n",
      "Epoch 12/12\n",
      "90121/90121 [==============================] - 1434s 16ms/step - loss: 0.5528 - acc: 0.7147 - val_loss: 0.5825 - val_acc: 0.6930\n",
      "32188/32188 [==============================] - 219s 7ms/step\n",
      "Fitting with:  (128746, 997) labels (128746,)\n",
      "Train on 90122 samples, validate on 38624 samples\n",
      "Epoch 1/12\n",
      "90122/90122 [==============================] - 1386s 15ms/step - loss: 0.6354 - acc: 0.6406 - val_loss: 0.6191 - val_acc: 0.6627\n",
      "Epoch 2/12\n",
      "90122/90122 [==============================] - 1389s 15ms/step - loss: 0.6113 - acc: 0.6693 - val_loss: 0.6112 - val_acc: 0.6654\n",
      "Epoch 3/12\n",
      "90122/90122 [==============================] - 1390s 15ms/step - loss: 0.6013 - acc: 0.6779 - val_loss: 0.6021 - val_acc: 0.6746\n",
      "Epoch 4/12\n",
      "90122/90122 [==============================] - 1389s 15ms/step - loss: 0.5923 - acc: 0.6852 - val_loss: 0.6040 - val_acc: 0.6725\n",
      "Epoch 5/12\n",
      "90122/90122 [==============================] - 1390s 15ms/step - loss: 0.5854 - acc: 0.6917 - val_loss: 0.5975 - val_acc: 0.6802\n",
      "Epoch 6/12\n",
      "90122/90122 [==============================] - 1391s 15ms/step - loss: 0.5806 - acc: 0.6935 - val_loss: 0.6138 - val_acc: 0.6576\n",
      "Epoch 7/12\n",
      "90122/90122 [==============================] - 1386s 15ms/step - loss: 0.5741 - acc: 0.6979 - val_loss: 0.5925 - val_acc: 0.6821\n",
      "Epoch 8/12\n",
      "23872/90122 [======>.......................] - ETA: 15:00 - loss: 0.5690 - acc: 0.7032"
     ]
    }
   ],
   "source": [
    "rnn_wv_scores = run_cross_validate(get_lstm_wv_model, predictors_sequences, labels, cv=5, verbose=1, epochs=12, batch_size=64, shuffle=True)\n",
    "print(rnn_wv_scores)"
   ]
  },
  {
   "cell_type": "code",
   "execution_count": 2,
   "metadata": {},
   "outputs": [
    {
     "data": {
      "text/plain": [
       "{'accuracies': [0.6950416304360891,\n",
       "  0.6982105132199318,\n",
       "  0.6912513980809777,\n",
       "  0.6904436436383283,\n",
       "  0.688020380302973,\n",
       "  0.6965950043790753,\n",
       "  0.69551979126172,\n",
       "  0.6962465821970704,\n",
       "  0.6913373104944592,\n",
       "  0.6882301764407621],\n",
       " 'auc': [0.7641,\n",
       "  0.7698,\n",
       "  0.7581,\n",
       "  0.7606,\n",
       "  0.7578,\n",
       "  0.7668,\n",
       "  0.7589,\n",
       "  0.7611,\n",
       "  0.7648,\n",
       "  0.7575],\n",
       " 'f1-score': [0.7090406606652744,\n",
       "  0.6914587143164652,\n",
       "  0.6814917250421457,\n",
       "  0.6764793394810964,\n",
       "  0.6912317193856635,\n",
       "  0.6833695730645123,\n",
       "  0.6867502117434023,\n",
       "  0.7083452098884602,\n",
       "  0.7021526072471556,\n",
       "  0.6959992215137354]}"
      ]
     },
     "execution_count": 2,
     "metadata": {},
     "output_type": "execute_result"
    }
   ],
   "source": [
    "rnn_wv_scores"
   ]
  },
  {
   "cell_type": "code",
   "execution_count": 4,
   "metadata": {},
   "outputs": [
    {
     "data": {
      "text/plain": [
       "Text(0.5, 1.0, 'Recurrent Neural Network Accuracies')"
      ]
     },
     "execution_count": 4,
     "metadata": {},
     "output_type": "execute_result"
    },
    {
     "data": {
      "image/png": "[encoded data removed]",
      "text/plain": [
       "<Figure size 432x288 with 1 Axes>"
      ]
     },
     "metadata": {
      "needs_background": "light"
     },
     "output_type": "display_data"
    }
   ],
   "source": [
    "from seaborn import boxplot\n",
    "from pandas import DataFrame\n",
    "boxplot(DataFrame([rnn_wv_scores['accuracies']])).set_title(\"Recurrent Neural Network Accuracies\")"
   ]
  },
  {
   "cell_type": "code",
   "execution_count": 5,
   "metadata": {},
   "outputs": [
    {
     "data": {
      "text/plain": [
       "Text(0.5, 1.0, 'Recurrent Neural Network AUC scores')"
      ]
     },
     "execution_count": 5,
     "metadata": {},
     "output_type": "execute_result"
    },
    {
     "data": {
      "image/png": "[encoded data removed]",
      "text/plain": [
       "<Figure size 432x288 with 1 Axes>"
      ]
     },
     "metadata": {
      "needs_background": "light"
     },
     "output_type": "display_data"
    }
   ],
   "source": [
    "boxplot(DataFrame([rnn_wv_scores['auc']])).set_title(\"Recurrent Neural Network AUC scores\")"
   ]
  },
  {
   "cell_type": "code",
   "execution_count": 7,
   "metadata": {},
   "outputs": [
    {
     "data": {
      "text/plain": [
       "Text(0.5, 1.0, 'Recurrent Neural Network F1 scores')"
      ]
     },
     "execution_count": 7,
     "metadata": {},
     "output_type": "execute_result"
    },
    {
     "data": {
      "image/png": "[encoded data removed]",
      "text/plain": [
       "<Figure size 432x288 with 1 Axes>"
      ]
     },
     "metadata": {
      "needs_background": "light"
     },
     "output_type": "display_data"
    }
   ],
   "source": [
    "boxplot(DataFrame([rnn_wv_scores['f1-score']])).set_title(\"Recurrent Neural Network F1 scores\")"
   ]
  },
  {
   "cell_type": "markdown",
   "metadata": {},
   "source": [
    "These accuracies are higher than all previous neural benchmarking experiments. They are reliably between 68% and 70%, meaning that we can treat this as a benchmark for LSTM networks. Future modifications to the model can be compared to this to assess their effects."
   ]
  }
 ],
 "metadata": {
  "kernelspec": {
   "display_name": "Python 3",
   "language": "python",
   "name": "python3"
  },
  "language_info": {
   "codemirror_mode": {
    "name": "ipython",
    "version": 3
   },
   "file_extension": ".py",
   "mimetype": "text/x-python",
   "name": "python",
   "nbconvert_exporter": "python",
   "pygments_lexer": "ipython3",
   "version": "3.6.6"
  }
 },
 "nbformat": 4,
 "nbformat_minor": 2
}
