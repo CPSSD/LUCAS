{
 "cells": [
  {
   "cell_type": "markdown",
   "metadata": {},
   "source": [
    "# Convolutional Network Benchmark\n",
    "\n",
    "To obtain a benchmark for a basic convolutional network, we will create a simple network that informs us what to expect when using these networks. This will not contain any novel specializations, it is done to find a baseline which we can improve upon.\n",
    "\n",
    "The architecture used here is inspired by the research in the form of the paper ['A Sensitivity Analysis of (and Practitioners’ Guide to) Convolutional Neural Networks for Sentence Classification'](https://arxiv.org/pdf/1510.03820.pdf), and is not complex.\n",
    "\n",
    "While previous experiments have been done to find applicability of convolutional networks, this is the first to run it over a large set of data."
   ]
  },
  {
   "cell_type": "code",
   "execution_count": 2,
   "metadata": {},
   "outputs": [
    {
     "name": "stderr",
     "output_type": "stream",
     "text": [
      "Using TensorFlow backend.\n"
     ]
    }
   ],
   "source": [
    "from tensorflow.keras.layers import Concatenate, Conv2D, Dense, Dropout, Flatten, Input, MaxPooling2D\n",
    "from tensorflow.keras.activations import relu, sigmoid\n",
    "from tensorflow.keras.callbacks import EarlyStopping\n",
    "from tensorflow.keras.models import Model\n",
    "from keras import backend as K\n",
    "from keras import regularizers\n",
    "from notebooks.yelp.metrics import auroc, f1\n",
    "\n",
    "import matplotlib.pyplot as plt\n",
    "from seaborn import boxplot\n",
    "from pandas import DataFrame\n",
    "import numpy as np\n",
    "\n",
    "import tensorflow as tf"
   ]
  },
  {
   "cell_type": "code",
   "execution_count": 2,
   "metadata": {},
   "outputs": [],
   "source": [
    "CROSS_FOLD_NUM = 0 # Change this to whichever fold you wish to run\n",
    "max_review_words = 320"
   ]
  },
  {
   "cell_type": "code",
   "execution_count": 3,
   "metadata": {},
   "outputs": [],
   "source": [
    "def _decode_record(record):\n",
    "    example = tf.parse_single_example(record, {\n",
    "        'feature': tf.FixedLenFeature([300*max_review_words], tf.float32),\n",
    "        'reviewer': tf.FixedLenFeature([5], tf.float32),\n",
    "        'label': tf.FixedLenFeature([2], tf.int64),\n",
    "    })\n",
    "    example['feature'] = tf.reshape(example['feature'], [max_review_words, 300, 1])\n",
    "    return (example['feature'], example['reviewer']), example['label']"
   ]
  },
  {
   "cell_type": "code",
   "execution_count": 4,
   "metadata": {},
   "outputs": [],
   "source": [
    "filenames = ['../notebooks/yelp/conv-' + str(max_review_words) + '-' + str(i) + '.tfrecord' for i in range(10)]\n",
    "train_filenames = [x for i, x in enumerate(filenames) if i != CROSS_FOLD_NUM]\n",
    "\n",
    "epochs = 50\n",
    "steps = 193\n",
    "batch = 76"
   ]
  },
  {
   "cell_type": "code",
   "execution_count": 5,
   "metadata": {},
   "outputs": [],
   "source": [
    "train_dataset = tf.data.TFRecordDataset(train_filenames).map(_decode_record).repeat(epochs).batch(batch)\n",
    "validation_dataset = tf.data.TFRecordDataset(filenames[CROSS_FOLD_NUM]).map(_decode_record).repeat(epochs).batch(batch)"
   ]
  },
  {
   "cell_type": "code",
   "execution_count": 7,
   "metadata": {},
   "outputs": [],
   "source": [
    "def get_conv_wv_model():\n",
    "  i1 = Input(shape=(max_review_words, 300, 1))\n",
    "  i2 = Input(shape=(5,))\n",
    "\n",
    "  l1 = Conv2D(\n",
    "          filters=50,\n",
    "          kernel_size=(10, 300),\n",
    "          data_format=\"channels_last\",\n",
    "          activation=relu)(i1)\n",
    "  l2 = tf.keras.layers.GlobalMaxPooling2D(data_format=\"channels_last\")(l1)\n",
    "  l3 = Dropout(0.5)(l2)\n",
    "  l4 = Flatten()(l3)\n",
    "  l5 = Concatenate(axis=1)([l4, i2])\n",
    "  l6 = Dense(8, activation=tf.nn.relu, kernel_regularizer=regularizers.l2(0.01))(l5)\n",
    "  l8 = Dense(8, activation=tf.nn.relu, kernel_regularizer=regularizers.l2(0.01))(l6)\n",
    "  l9 = Dense(2, activation='softmax')(l8)\n",
    "  model = Model(inputs=[i1, i2], outputs=l9)\n",
    "  model.compile(\n",
    "      loss='binary_crossentropy',\n",
    "      optimizer='adam',\n",
    "      metrics=['accuracy', f1, auroc])\n",
    "  return model"
   ]
  },
  {
   "cell_type": "code",
   "execution_count": null,
   "metadata": {
    "scrolled": false
   },
   "outputs": [],
   "source": [
    "conv_model = get_conv_wv_model()\n",
    "history = conv_model.fit(train_dataset, steps_per_epoch=9*steps, epochs=epochs, validation_data=validation_dataset, validation_steps=steps)"
   ]
  },
  {
   "cell_type": "code",
   "execution_count": null,
   "metadata": {},
   "outputs": [],
   "source": [
    "print(\"Loss:\")\n",
    "loss = history.history['loss']\n",
    "print(loss)\n",
    "print(\"Accuracy:\")\n",
    "accuracy = history.history['acc']\n",
    "print(accuracy)\n",
    "print(\"F1:\")\n",
    "f1 = history.history['f1']\n",
    "print(f1)\n",
    "print(\"Validation Loss:\")\n",
    "val_loss = history.history['val_loss']\n",
    "print(val_loss)\n",
    "print(\"Validation Accuracy:\")\n",
    "val_accuracy = history.history['val_acc']\n",
    "print(val_accuracy)\n",
    "print(\"Validation F1:\")\n",
    "val_f1 = history.history['val_f1']\n",
    "print(val_f1)\n",
    "print(\"Validation AUROC:\")\n",
    "val_auroc = history.history['val_auroc']\n",
    "print(val_auroc)\n",
    "\n",
    "min_val_loss = 1\n",
    "best = None\n",
    "for loss, accuracy, f1, auroc in zip(val_loss, val_accuracy, val_f1, val_auroc):\n",
    "    if loss < min_val_loss:\n",
    "        min_val_loss = loss\n",
    "        best = { 'val_loss': loss, 'val_accuracy': accuracy, 'val_f1': f1, 'val_auroc': auroc}\n",
    "print(\"best:\", best)"
   ]
  },
  {
   "cell_type": "code",
   "execution_count": 7,
   "metadata": {},
   "outputs": [
    {
     "name": "stdout",
     "output_type": "stream",
     "text": [
      "{'loss': [0.5573880056334283, 0.5530669236282311, 0.5491127356346407, 0.5566119530040365, 0.5565374095205198, 0.5495906394998027, 0.5466714263580006, 0.5524530404589955, 0.5489470095523281, 0.5508732902262495], 'accuracies': [0.7285928550161846, 0.730042947729117, 0.7317971086872674, 0.7279110967804113, 0.7299563650022517, 0.7335696742324631, 0.734728660917035, 0.7271611665814651, 0.7335696729971337, 0.7302972424215604], 'f1': [0.7285928056030075, 0.7307854628618188, 0.7317970614359168, 0.7279110510732226, 0.7299563171332364, 0.7335696257457832, 0.734728611503858, 0.7271611208742764, 0.7335696248192861, 0.730297192699551], 'auroc': [0.7977088564858661, 0.8032417235771365, 0.8012691875523437, 0.7971480901241577, 0.7970379328194845, 0.8020956257568566, 0.8040077157891123, 0.7972344081892929, 0.8015950840542169, 0.8000518598572297]}\n",
      "Average loss: 0.5521252433516233\n",
      "Average accuracy: 0.730762679036489\n",
      "Average f1 score: 0.7308368873749957\n",
      "Average auroc: 0.8001390484205697\n"
     ]
    }
   ],
   "source": [
    "print(conv_wv_scores)\n",
    "\n",
    "def avg(lst):\n",
    "    return sum(lst)/len(lst)\n",
    "\n",
    "print(\"Average loss:\", avg(conv_wv_scores['loss']))\n",
    "print(\"Average accuracy:\", avg(conv_wv_scores['accuracies']))\n",
    "print(\"Average f1 score:\", avg(conv_wv_scores['f1']))\n",
    "print(\"Average auroc:\", avg(conv_wv_scores['auroc']))"
   ]
  },
  {
   "cell_type": "markdown",
   "metadata": {},
   "source": [
    "Convolutional networks perform significantly better than FFNNs and the results are not widely varying. This appears to be a confident benchmark for a simple convolutional network.\n",
    "\n",
    "The distribution of results is as follows:"
   ]
  },
  {
   "cell_type": "code",
   "execution_count": 8,
   "metadata": {},
   "outputs": [
    {
     "data": {
      "image/png": "[encoded data removed]",
      "text/plain": [
       "<Figure size 936x720 with 4 Axes>"
      ]
     },
     "metadata": {
      "needs_background": "light"
     },
     "output_type": "display_data"
    }
   ],
   "source": [
    "plt.rcParams['figure.figsize'] = [13, 10]\n",
    "plt.subplot(2, 2, 1)\n",
    "boxplot(DataFrame(conv_wv_scores['loss'])).set_title(\"Convolutional Network Losses\")\n",
    "plt.subplot(2, 2, 2)\n",
    "boxplot(DataFrame(conv_wv_scores['accuracies'])).set_title(\"Convolutional Network Accuracies\")\n",
    "plt.subplot(2, 2, 3)\n",
    "boxplot(DataFrame(conv_wv_scores['f1'])).set_title(\"Convolutional Network F1 Scores\")\n",
    "plt.subplot(2, 2, 4)\n",
    "boxplot(DataFrame(conv_wv_scores['auroc'])).set_title(\"Convolutional Network AUROC\")\n",
    "plt.show()"
   ]
  },
  {
   "cell_type": "code",
   "execution_count": 51,
   "metadata": {},
   "outputs": [],
   "source": [
    "epochs = 5\n",
    "steps = 293\n",
    "full_dataset = tf.data.TFRecordDataset(filenames).map(_decode_record).repeat(epochs).batch(46)"
   ]
  },
  {
   "cell_type": "markdown",
   "metadata": {},
   "source": [
    "Now let's try the model on unseen data:"
   ]
  },
  {
   "cell_type": "code",
   "execution_count": 58,
   "metadata": {},
   "outputs": [
    {
     "name": "stdout",
     "output_type": "stream",
     "text": [
      "Epoch 1/5\n",
      "2930/2930 [==============================] - 336s 115ms/step - loss: 0.6370 - acc: 0.6740 - auroc: 0.7377 - f1: 0.6740\n",
      "Epoch 2/5\n",
      "2930/2930 [==============================] - 335s 114ms/step - loss: 0.5921 - acc: 0.6961 - auroc: 0.7655 - f1: 0.6961\n",
      "Epoch 3/5\n",
      "2930/2930 [==============================] - 338s 115ms/step - loss: 0.5774 - acc: 0.7068 - auroc: 0.7784 - f1: 0.7068\n",
      "Epoch 4/5\n",
      "2930/2930 [==============================] - 338s 115ms/step - loss: 0.5661 - acc: 0.7166 - auroc: 0.7885 - f1: 0.7166\n",
      "Epoch 5/5\n",
      "2930/2930 [==============================] - 335s 114ms/step - loss: 0.5543 - acc: 0.7253 - auroc: 0.7985 - f1: 0.7253\n"
     ]
    }
   ],
   "source": [
    "conv_model = get_conv_wv_model()\n",
    "history = conv_model.fit(full_dataset, steps_per_epoch=10*steps, epochs=epochs)"
   ]
  },
{
   "cell_type": "code",
   "execution_count": 12,
   "metadata": {},
   "outputs": [],
   "source": [
    "steps = 10\n",
    "epochs = 5\n",
    "held_dataset = tf.data.TFRecordDataset(\"conv-320-test.tfrecord\").map(_decode_record).batch(100)"
   ]
  },
  {
   "cell_type": "code",
   "execution_count": 13,
   "metadata": {},
   "outputs": [
    {
     "name": "stdout",
     "output_type": "stream",
     "text": [
      "10/10 [==============================] - 2s 166ms/step\n"
     ]
    },
    {
     "data": {
      "text/plain": [
       "(['loss', 'acc', 'f1', 'auroc'],\n",
       " [0.5470670968294143,\n",
       "  0.7379999935626984,\n",
       "  0.7379999220371246,\n",
       "  0.8095299789086339])"
      ]
     },
     "execution_count": 13,
     "metadata": {},
     "output_type": "execute_result"
    }
   ],
   "source": [
    "evaluation = conv_model.evaluate(held_dataset, steps=steps)\n",
    "conv_model.metrics_names, evaluation"
   ]
  },
  {
   "cell_type": "markdown",
   "metadata": {},
   "source": [
    "The model performs similarly on the unseen data as the data used to create the model. There was some tweaking, so it is not unreasonable that the test result is different to the validation result."
   ]
  }
 ],
 "metadata": {
  "kernelspec": {
   "display_name": "Python 3",
   "language": "python",
   "name": "python3"
  },
  "language_info": {
   "codemirror_mode": {
    "name": "ipython",
    "version": 3
   },
   "file_extension": ".py",
   "mimetype": "text/x-python",
   "name": "python",
   "nbconvert_exporter": "python",
   "pygments_lexer": "ipython3",
   "version": "3.6.8"
  }
 },
 "nbformat": 4,
 "nbformat_minor": 2
}
