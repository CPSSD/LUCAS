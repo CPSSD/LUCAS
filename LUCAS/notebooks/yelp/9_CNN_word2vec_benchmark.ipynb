{
 "cells": [
  {
   "cell_type": "markdown",
   "metadata": {},
   "source": [
    "# Convolutional Network Benchmark\n",
    "\n",
    "To obtain a benchmark for a basic convolutional network, we will create a simple network that informs us what to expect when using these networks. This will not contain any novel specializations, it is done to find a baseline which we can improve upon.\n",
    "\n",
    "The architecture used here is inspired by the research in the form of the paper ['A Sensitivity Analysis of (and Practitioners’ Guide to) Convolutional Neural Networks for Sentence Classification'](https://arxiv.org/pdf/1510.03820.pdf), and is not complex.\n",
    "\n",
    "While previous experiments have been done to find applicability of convolutional networks, this is the first to run it over a large set of data."
   ]
  },
  {
   "cell_type": "code",
   "execution_count": 1,
   "metadata": {},
   "outputs": [
    {
     "name": "stderr",
     "output_type": "stream",
     "text": [
      "Using TensorFlow backend.\n"
     ]
    }
   ],
   "source": [
    "from exp8_feature_extraction import get_balanced_dataset\n",
    "from scripts.cross_validate import run_cross_validate\n",
    "from tensorflow.keras.preprocessing.text import text_to_word_sequence\n",
    "from tensorflow.keras import Sequential\n",
    "from tensorflow.keras.layers import Concatenate, Conv2D, Dense, Dropout, Flatten, Input, MaxPooling2D\n",
    "from tensorflow.keras.activations import relu, sigmoid\n",
    "from tensorflow.keras.models import Model\n",
    "from keras import regularizers\n",
    "\n",
    "import matplotlib.pyplot as plt\n",
    "import numpy as np\n",
    "import gensim\n",
    "from seaborn import boxplot\n",
    "from pandas import DataFrame\n",
    "\n",
    "import tensorflow as tf\n",
    "from keras.preprocessing.sequence import pad_sequences"
   ]
  },
  {
   "cell_type": "code",
   "execution_count": 2,
   "metadata": {},
   "outputs": [],
   "source": [
    "CROSS_FOLD_NUM = 0 # Change this to whichever fold you wish to run\n",
    "max_review_words = 218"
   ]
  },
  {
   "cell_type": "code",
   "execution_count": 3,
   "metadata": {},
   "outputs": [],
   "source": [
    "def _decode_record(record):\n",
    "    example = tf.parse_single_example(record, {\n",
    "        'feature': tf.FixedLenFeature([300*max_review_words], tf.float32),\n",
    "        'reviewer': tf.FixedLenFeature([5], tf.float32),\n",
    "        'label': tf.FixedLenFeature([2], tf.int64),\n",
    "    })\n",
    "    example['feature'] = tf.reshape(example['feature'], [max_review_words, 300, 1])\n",
    "    return (example['feature'], example['reviewer']), example['label']"
   ]
  },
  {
   "cell_type": "code",
   "execution_count": 4,
   "metadata": {},
   "outputs": [],
   "source": [
    "filenames = ['TEST-225-' + str(i) + '.tfrecord' for i in range(2)]\n",
    "train_filenames = [x for i, x in enumerate(filenames) if i != CROSS_FOLD_NUM]\n",
    "\n",
    "epochs = 12\n",
    "steps = 293"
   ]
  },
  {
   "cell_type": "code",
   "execution_count": 5,
   "metadata": {},
   "outputs": [],
   "source": [
    "train_dataset = tf.data.TFRecordDataset(train_filenames).map(_decode_record).repeat(epochs).batch(46)\n",
    "validation_dataset = tf.data.TFRecordDataset(filenames[CROSS_FOLD_NUM]).map(_decode_record).repeat(epochs).batch(46)"
   ]
  },
  {
   "cell_type": "code",
   "execution_count": 7,
   "metadata": {},
   "outputs": [],
   "source": [
    "def get_conv_wv_model():\n",
    "  i1 = Input(shape=(max_review_words, 300, 1))\n",
    "  i2 = Input(shape=(5,))\n",
    "\n",
    "  l1 = Conv2D(\n",
    "          filters=50,\n",
    "          kernel_size=(10, 300),\n",
    "          data_format=\"channels_last\",\n",
    "          activation=relu)(i1)\n",
    "  l2 = tf.keras.layers.GlobalMaxPooling2D(data_format=\"channels_last\")(l1)\n",
    "  l3 = Dropout(0.5)(l2)\n",
    "  l4 = Flatten()(l3)\n",
    "  l5 = Concatenate(axis=1)([l4, i2])\n",
    "  l6 = Dense(8, activation=tf.nn.relu, kernel_regularizer=regularizers.l2(0.01))(l5)\n",
    "  l8 = Dense(8, activation=tf.nn.relu, kernel_regularizer=regularizers.l2(0.01))(l6)\n",
    "  l9 = Dense(2, activation='softmax')(l8)\n",
    "  model = Model(inputs=[i1, i2], outputs=l9)\n",
    "  model.compile(\n",
    "      loss='binary_crossentropy',\n",
    "      optimizer='adam',\n",
    "      metrics=['accuracy'])\n",
    "  return model"
   ]
  },
  {
   "cell_type": "code",
   "execution_count": null,
   "metadata": {
    "scrolled": false
   },
   "outputs": [],
   "source": [
    "conv_model = get_conv_wv_model()\n",
    "history = conv_model.fit(train_dataset, steps_per_epoch=9*steps, epochs=epochs, validation_data=validation_dataset, validation_steps=steps)"
   ]
  },
  {
   "cell_type": "code",
   "execution_count": null,
   "metadata": {},
   "outputs": [],
   "source": [
    "print(\"Validation Loss:\")\n",
    "val_loss = history.history['val_loss']\n",
    "print(val_loss)\n",
    "print(\"Validation Accuracy:\")\n",
    "val_accuracy = history.history['val_acc']\n",
    "print(val_accuracy)\n",
    "print(\"Validation F1:\")\n",
    "val_f1 = history.history['val_f1']\n",
    "print(val_f1)\n",
    "\n",
    "min_val_loss = 1\n",
    "best = None\n",
    "for loss, accuracy, f1 in zip(val_loss, val_accuracy, val_f1):\n",
    "    if loss < min_val_loss:\n",
    "        min_val_loss = loss\n",
    "        best = { 'val_loss': loss, 'val_accuracy': accuracy, 'val_f1': f1 }\n",
    "print(\"best:\", best)"
   ]
  },
  {
   "cell_type": "code",
   "execution_count": 10,
   "metadata": {},
   "outputs": [
    {
     "name": "stdout",
     "output_type": "stream",
     "text": [
      "{'loss': [0.5714481531963413, 0.5705330361685248, 0.5726435979885452, 0.5717445115587411, 0.5776157323207465, 0.5763675441310674, 0.5784062919152881, 0.5681992454943804, 0.5710791625057065, 0.5722369383829853], 'accuracies': [0.7098976151935069, 0.711233122967209, 0.7064104499263568, 0.7056685010727762, 0.705742698073794, 0.7009200229986536, 0.706039476109853, 0.7114557111222589, 0.7096008357334462, 0.709452444782843], 'f1': [0.7098975576231504, 0.7112330631591354, 0.7064103907285697, 0.7056684424852755, 0.7057426380622915, 0.7009199638008664, 0.7060394177257812, 0.7114556513141853, 0.7096007765356591, 0.7094523859919135], 'auroc': [0.7825, 0.781, 0.7789, 0.7781, 0.7788, 0.779, 0.7733, 0.7825, 0.779, 0.7798]}\n",
      "Average loss: 0.5730274213662326\n",
      "Average accuracy: 0.7076420877980698\n",
      "Average f1 score: 0.7076420287426829\n",
      "Average auroc: 0.7792899999999999\n"
     ]
    }
   ],
   "source": [
    "print(conv_wv_scores)\n",
    "\n",
    "def avg(lst):\n",
    "    return sum(lst)/len(lst)\n",
    "\n",
    "print(\"Average loss:\", avg(conv_wv_scores['loss']))\n",
    "print(\"Average accuracy:\", avg(conv_wv_scores['accuracies']))\n",
    "print(\"Average f1 score:\", avg(conv_wv_scores['f1']))\n",
    "print(\"Average auroc:\", avg(conv_wv_scores['auroc']))"
   ]
  },
  {
   "cell_type": "markdown",
   "metadata": {},
   "source": [
    "Convolutional networks perform significantly better than FFNNs and the results are not widely varying. This appears to be a confident benchmark for a simple convolutional network.\n",
    "\n",
    "The distribution of results is as follows:"
   ]
  },
  {
   "cell_type": "code",
   "execution_count": 17,
   "metadata": {},
   "outputs": [
    {
     "data": {
      "image/png": "[encoded data removed]",
      "text/plain": [
       "<Figure size 936x720 with 4 Axes>"
      ]
     },
     "metadata": {
      "needs_background": "light"
     },
     "output_type": "display_data"
    }
   ],
   "source": [
    "plt.rcParams['figure.figsize'] = [13, 10]\n",
    "plt.subplot(2, 2, 1)\n",
    "boxplot(DataFrame(conv_wv_scores['loss'])).set_title(\"Convolutional Network Losses\")\n",
    "plt.subplot(2, 2, 2)\n",
    "boxplot(DataFrame(conv_wv_scores['accuracies'])).set_title(\"Convolutional Network Accuracies\")\n",
    "plt.subplot(2, 2, 3)\n",
    "boxplot(DataFrame(conv_wv_scores['f1'])).set_title(\"Convolutional Network F1 Scores\")\n",
    "plt.subplot(2, 2, 4)\n",
    "boxplot(DataFrame(conv_wv_scores['auroc'])).set_title(\"Convolutional Network AUROC\")\n",
    "plt.show()"
   ]
  },
  {
   "cell_type": "markdown",
   "metadata": {},
   "source": [
    "Now let's try the model on unseen data:"
   ]
  },
  {
   "cell_type": "code",
   "execution_count": 26,
   "metadata": {},
   "outputs": [
    {
     "name": "stdout",
     "output_type": "stream",
     "text": [
      "Train on 81186 samples, validate on 34794 samples\n",
      "Epoch 1/12\n",
      "81186/81186 [==============================] - 137s 2ms/step - loss: 0.6485 - acc: 0.6256 - val_loss: 0.6260 - val_acc: 0.6526\n",
      "Epoch 2/12\n",
      "81186/81186 [==============================] - 136s 2ms/step - loss: 0.6242 - acc: 0.6541 - val_loss: 0.6272 - val_acc: 0.6517\n",
      "Epoch 3/12\n",
      "81186/81186 [==============================] - 136s 2ms/step - loss: 0.6081 - acc: 0.6727 - val_loss: 0.6189 - val_acc: 0.6581\n",
      "Epoch 4/12\n",
      "81186/81186 [==============================] - 135s 2ms/step - loss: 0.5940 - acc: 0.6828 - val_loss: 0.6121 - val_acc: 0.6670\n",
      "Epoch 5/12\n",
      "81186/81186 [==============================] - 136s 2ms/step - loss: 0.5795 - acc: 0.6974 - val_loss: 0.6121 - val_acc: 0.6675\n",
      "Epoch 6/12\n",
      "81186/81186 [==============================] - 136s 2ms/step - loss: 0.5644 - acc: 0.7110 - val_loss: 0.6200 - val_acc: 0.6597\n",
      "Epoch 7/12\n",
      "81186/81186 [==============================] - 136s 2ms/step - loss: 0.5502 - acc: 0.7193 - val_loss: 0.6173 - val_acc: 0.6630\n"
     ]
    },
    {
     "data": {
      "text/plain": [
       "<tensorflow.python.keras.callbacks.History at 0x7fc80748d320>"
      ]
     },
     "execution_count": 26,
     "metadata": {},
     "output_type": "execute_result"
    }
   ],
   "source": [
    "from tensorflow.keras.callbacks import EarlyStopping\n",
    "conv_model = get_conv_wv_model()\n",
    "conv_model.fit(training_vectors, to_categorical(training_labels), epochs=12, batch_size=128, validation_split=0.3,\n",
    "               callbacks=[EarlyStopping(monitor='val_loss', patience=3)])"
   ]
  },
  {
   "cell_type": "code",
   "execution_count": 34,
   "metadata": {},
   "outputs": [],
   "source": [
    "categorical_labels = to_categorical(held_labels)"
   ]
  },
  {
   "cell_type": "code",
   "execution_count": 35,
   "metadata": {},
   "outputs": [
    {
     "name": "stdout",
     "output_type": "stream",
     "text": [
      "10000/10000 [==============================] - 6s 609us/step\n"
     ]
    },
    {
     "data": {
      "text/plain": [
       "0.6657"
      ]
     },
     "execution_count": 35,
     "metadata": {},
     "output_type": "execute_result"
    }
   ],
   "source": [
    "conv_model.evaluate(held_vectors, categorical_labels)[1]"
   ]
  },
  {
   "cell_type": "markdown",
   "metadata": {},
   "source": [
    "The model performs very similarly on the unseen data as the data used to create the model. There was not a lot of tweaking, so it is not unreasonable that this should occur. If this can be maintained then this model could do well with slight changes in the domain, something very easy to do with product and service reviews."
   ]
  }
 ],
 "metadata": {
  "kernelspec": {
   "display_name": "Python 3",
   "language": "python",
   "name": "python3"
  },
  "language_info": {
   "codemirror_mode": {
    "name": "ipython",
    "version": 3
   },
   "file_extension": ".py",
   "mimetype": "text/x-python",
   "name": "python",
   "nbconvert_exporter": "python",
   "pygments_lexer": "ipython3",
   "version": "3.6.8"
  }
 },
 "nbformat": 4,
 "nbformat_minor": 2
}
