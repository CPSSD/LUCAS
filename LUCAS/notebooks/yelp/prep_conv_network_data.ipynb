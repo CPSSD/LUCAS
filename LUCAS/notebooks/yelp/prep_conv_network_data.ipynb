{
 "cells": [
  {
   "cell_type": "markdown",
   "metadata": {},
   "source": [
    "# Convolutional Data Preparation\n",
    "This notebook creates the data used by Convolutional Networks in this project. This is done by vectorizing the words of a review, placing them beside each other in a numpy array and converting this to TFRecord format. Additionally, the TFRecord contains the reviewer data for each sample."
   ]
  },
  {
   "cell_type": "code",
   "execution_count": 1,
   "metadata": {},
   "outputs": [
    {
     "name": "stderr",
     "output_type": "stream",
     "text": [
      "Using TensorFlow backend.\n"
     ]
    }
   ],
   "source": [
    "from exp8_feature_extraction import get_balanced_dataset\n",
    "from tensorflow.keras.preprocessing.text import text_to_word_sequence\n",
    "from sklearn.preprocessing import StandardScaler\n",
    "from exp2_feature_extraction import reviewer_features, reviews_by_reviewer\n",
    "\n",
    "import gensim\n",
    "import numpy as np\n",
    "\n",
    "import tensorflow as tf\n",
    "from keras.preprocessing.sequence import pad_sequences"
   ]
  },
  {
   "cell_type": "code",
   "execution_count": 2,
   "metadata": {},
   "outputs": [],
   "source": [
    "all_reviews = get_balanced_dataset()"
   ]
  },
  {
   "cell_type": "markdown",
   "metadata": {},
   "source": [
    "We must create labels in 'categorical' form as this is what the Conv2D layer expects."
   ]
  },
  {
   "cell_type": "code",
   "execution_count": 3,
   "metadata": {},
   "outputs": [],
   "source": [
    "reviews_contents = [x.review_content for x in all_reviews]\n",
    "labels = [[0, 1] if x.label else [1, 0] for x in all_reviews]"
   ]
  },
  {
   "cell_type": "code",
   "execution_count": 4,
   "metadata": {},
   "outputs": [],
   "source": [
    "def scaled_reviewer_features(reviews):\n",
    "  reviewer_reviews = reviews_by_reviewer(reviews)\n",
    "  reviewer_predictors = [list(reviewer_features(x.user_id, reviewer_reviews)) for x in reviews]\n",
    "  return StandardScaler().fit_transform(reviewer_predictors)"
   ]
  },
  {
   "cell_type": "code",
   "execution_count": 5,
   "metadata": {},
   "outputs": [],
   "source": [
    "reviewer_features = scaled_reviewer_features(all_reviews)"
   ]
  },
  {
   "cell_type": "code",
   "execution_count": 6,
   "metadata": {},
   "outputs": [],
   "source": [
    "max_review_words = 225\n",
    "tokenizer = tf.keras.preprocessing.text.Tokenizer()\n",
    "tokenizer.fit_on_texts(reviews_contents)\n",
    "\n",
    "short_sequences = []\n",
    "short_reviewer = []\n",
    "short_labels = []\n",
    "for sequence, reviewer, label in zip(tokenizer.texts_to_sequences(reviews_contents), reviewer_features, labels):\n",
    "    if len(sequence) <= max_review_words:\n",
    "        short_sequences.append(sequence)\n",
    "        short_reviewer.append(reviewer)\n",
    "        short_labels.append(label)\n",
    "        \n",
    "word_sequences = np.array(pad_sequences(short_sequences))"
   ]
  },
  {
   "cell_type": "code",
   "execution_count": 7,
   "metadata": {},
   "outputs": [],
   "source": [
    "corpus_words = tokenizer.word_index\n",
    "corpus_vocab_size = len(corpus_words)+1"
   ]
  },

 ],
 "metadata": {
  "kernelspec": {
   "display_name": "Python 3",
   "language": "python",
   "name": "python3"
  },
  "language_info": {
   "codemirror_mode": {
    "name": "ipython",
    "version": 3
   },
   "file_extension": ".py",
   "mimetype": "text/x-python",
   "name": "python",
   "nbconvert_exporter": "python",
   "pygments_lexer": "ipython3",
   "version": "3.6.6"
  }
 },
 "nbformat": 4,
 "nbformat_minor": 2
}
