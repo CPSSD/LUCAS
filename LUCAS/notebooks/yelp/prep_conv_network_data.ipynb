{
 "cells": [
  {
   "cell_type": "markdown",
   "metadata": {},
   "source": [
    "# Convolutional Data Preparation\n",
    "This notebook creates the data used by Convolutional Networks in this project. This is done by vectorizing the words of a review, placing them beside each other in a numpy array and converting this to TFRecord format. Additionally, the TFRecord contains the reviewer data for each sample."
   ]
  },
  {
   "cell_type": "code",
   "execution_count": 1,
   "metadata": {},
   "outputs": [
    {
     "name": "stderr",
     "output_type": "stream",
     "text": [
      "Using TensorFlow backend.\n"
     ]
    }
   ],
   "source": [
    "from exp8_feature_extraction import get_balanced_dataset\n",
    "from tensorflow.keras.preprocessing.text import text_to_word_sequence\n",
    "from sklearn.preprocessing import StandardScaler\n",
    "from exp2_feature_extraction import reviewer_features, reviews_by_reviewer\n",
    "\n",
    "import gensim\n",
    "import numpy as np\n",
    "\n",
    "import tensorflow as tf\n",
    "from keras.preprocessing.sequence import pad_sequences"
   ]
  },
  {
   "cell_type": "code",
   "execution_count": 2,
   "metadata": {},
   "outputs": [],
   "source": [
    "all_reviews = get_balanced_dataset()"
   ]
  },
  {
   "cell_type": "markdown",
   "metadata": {},
   "source": [
    "We must create labels in 'categorical' form as this is what the Conv2D layer expects."
   ]
  },
  {
   "cell_type": "code",
   "execution_count": 3,
   "metadata": {},
   "outputs": [],
   "source": [
    "reviews_contents = [x.review_content for x in all_reviews]\n",
    "labels = [[0, 1] if x.label else [1, 0] for x in all_reviews]"
   ]
  },
  {
   "cell_type": "code",
   "execution_count": 4,
   "metadata": {},
   "outputs": [],
   "source": [
    "def scaled_reviewer_features(reviews):\n",
    "  reviewer_reviews = reviews_by_reviewer(reviews)\n",
    "  reviewer_predictors = [list(reviewer_features(x.user_id, reviewer_reviews)) for x in reviews]\n",
    "  return StandardScaler().fit_transform(reviewer_predictors)"
   ]
  },
  {
   "cell_type": "code",
   "execution_count": 5,
   "metadata": {},
   "outputs": [],
   "source": [
    "reviewer_features = scaled_reviewer_features(all_reviews)"
   ]
  },
  {
   "cell_type": "code",
   "execution_count": 6,
   "metadata": {},
   "outputs": [],
   "source": [
    "max_review_words = 225\n",
    "tokenizer = tf.keras.preprocessing.text.Tokenizer()\n",
    "tokenizer.fit_on_texts(reviews_contents)\n",
    "\n",
    "short_sequences = []\n",
    "short_reviewer = []\n",
    "short_labels = []\n",
    "for sequence, reviewer, label in zip(tokenizer.texts_to_sequences(reviews_contents), reviewer_features, labels):\n",
    "    if len(sequence) <= max_review_words:\n",
    "        short_sequences.append(sequence)\n",
    "        short_reviewer.append(reviewer)\n",
    "        short_labels.append(label)\n",
    "        \n",
    "word_sequences = np.array(pad_sequences(short_sequences))"
   ]
  },
  {
   "cell_type": "code",
   "execution_count": 7,
   "metadata": {},
   "outputs": [],
   "source": [
    "corpus_words = tokenizer.word_index\n",
    "corpus_vocab_size = len(corpus_words)+1"
   ]
  },
  {
   "cell_type": "code",
   "execution_count": 8,
   "metadata": {},
   "outputs": [],
   "source": [
    "word_vectors = gensim.models.KeyedVectors.load_word2vec_format(\"../../data/GoogleNews-vectors-negative300.bin\",\n",
    "                                                               binary=True)"
   ]
  },
  {
   "cell_type": "code",
   "execution_count": 9,
   "metadata": {},
   "outputs": [],
   "source": [
    "embedding_length = word_vectors.vector_size\n",
    "\n",
    "embedding_matrix = np.zeros((corpus_vocab_size, embedding_length))\n",
    "for word, index in corpus_words.items():\n",
    "  if word in word_vectors.vocab:\n",
    "    embedding_matrix[index] = np.array(word_vectors[word], dtype=np.float32)"
   ]
  },
  {
   "cell_type": "code",
   "execution_count": 10,
   "metadata": {},
   "outputs": [],
   "source": [
    "hello_wv = embedding_matrix[tokenizer.texts_to_sequences([\"hello\"])[0][0]]\n",
    "assert hello_wv[0] > -0.055 and hello_wv[0] < -0.054\n",
    "assert hello_wv[1] > 0.017 and hello_wv[1] < 0.018\n",
    "assert hello_wv[2] > -0.006 and hello_wv[2] < -0.005"
   ]
  },
  {
   "cell_type": "code",
   "execution_count": 11,
   "metadata": {},
   "outputs": [],
   "source": [
    "def to_vectorized_reviews(word_sequences, max_review_len, embedding_matrix):\n",
    "    vectorized_reviews = np.zeros((len(word_sequences), max_review_len, embedding_matrix.shape[1], 1))\n",
    "    for i, word_sequence in enumerate(word_sequences):\n",
    "        for j, word in enumerate(word_sequence):\n",
    "            for k, val in enumerate(embedding_matrix[word]):\n",
    "                vectorized_reviews[i][j][k][0] = val\n",
    "    return vectorized_reviews"
   ]
  },
  {
   "cell_type": "code",
   "execution_count": 12,
   "metadata": {},
   "outputs": [],
   "source": [
    "test_embedding_matrix = np.array([[1, 2, 3], [3, 2, 1]])\n",
    "\n",
    "actual_vectorized_reviews = to_vectorized_reviews([[0, 1]], 2, test_embedding_matrix)\n",
    "assert np.array_equal(actual_vectorized_reviews, np.array([[[[1], [2], [3]], [[3], [2], [1]]]]))\n",
    "\n",
    "actual_vectorized_reviews = to_vectorized_reviews([[1, 0]], 2, test_embedding_matrix)\n",
    "assert np.array_equal(actual_vectorized_reviews, np.array([[[[3], [2], [1]], [[1], [2], [3]]]]))"
   ]
  },
  {
   "cell_type": "code",
   "execution_count": 13,
   "metadata": {},
   "outputs": [],
   "source": [
    "vectorized_reviews = to_vectorized_reviews(word_sequences, len(word_sequences[0]), embedding_matrix)"
   ]
  },
  {
   "cell_type": "markdown",
   "metadata": {},
   "source": [
    "To make sure that our labels stay correctly aligned as we filter our reviews, I will calculate vectors with their corresponding labels, and later check that they are correctly connected."
   ]
  },
  {
   "cell_type": "code",
   "execution_count": 14,
   "metadata": {},
   "outputs": [
    {
     "data": {
      "text/plain": [
       "(96, 218, 300, 1)"
      ]
     },
     "execution_count": 14,
     "metadata": {},
     "output_type": "execute_result"
    }
   ],
   "source": [
    "vectorized_reviews.shape"
   ]
  },
  {
   "cell_type": "code",
   "execution_count": 15,
   "metadata": {},
   "outputs": [],
   "source": [
    "def embedded_words(review_content, embedding_dims=10):\n",
    "    sequence = tokenizer.texts_to_sequences([review_content])[0]\n",
    "    bound = min(10, len(sequence))\n",
    "    return [embedding_matrix[sequence[-bound+i]] for i in range(bound)]"
   ]
  },
  {
   "cell_type": "code",
   "execution_count": 16,
   "metadata": {},
   "outputs": [],
   "source": [
    "def find_matching_index(search_last, search_space, start_search):\n",
    "    for i in range(start_search, -1, -1):\n",
    "        search_space_val = search_space[i][-len(search_last):].reshape(-1, 300)\n",
    "        if np.array_equal(search_last, search_space[i][-len(search_last):].reshape(-1, 300)):\n",
    "            return i\n",
    "    return None"
   ]
  },
  {
   "cell_type": "code",
   "execution_count": 17,
   "metadata": {},
   "outputs": [
    {
     "data": {
      "text/plain": [
       "4"
      ]
     },
     "execution_count": 17,
     "metadata": {},
     "output_type": "execute_result"
    }
   ],
   "source": [
    "search_index = 6\n",
    "found_index = find_matching_index(embedded_words(reviews_contents[search_index]), vectorized_reviews, search_index)\n",
    "found_index"
   ]
  },
  {
   "cell_type": "code",
   "execution_count": 18,
   "metadata": {},
   "outputs": [],
   "source": [
    "for i in range(4000, 4100):\n",
    "    found_index = find_matching_index(embedded_words(reviews_contents[i]), vectorized_reviews, i)\n",
    "    if found_index is not None:\n",
    "        assert labels[i] == short_labels[found_index]"
   ]
  },
  {
   "cell_type": "markdown",
   "metadata": {},
   "source": [
    "A number of reviews are held separate from the training set. This is done so that after we have applied a number of tweaks to improve our model, we can check how the tweaked model performs this separate data. This tells us if we have tweaked our model in a way that works generally, or if it was in way that specifically works with that data."
   ]
  },
  {
   "cell_type": "code",
   "execution_count": 19,
   "metadata": {},
   "outputs": [],
   "source": [
    "training_vectors = vectorized_reviews[:-10000]\n",
    "training_reviewers = short_reviewer[:-10000]\n",
    "training_labels = short_labels[:-10000]"
   ]
  },
  {
   "cell_type": "markdown",
   "metadata": {},
   "source": [
    "Split our training data into 10, to create 10 files for 10-fold cross validation."
   ]
  },
  {
   "cell_type": "code",
   "execution_count": 20,
   "metadata": {},
   "outputs": [],
   "source": [
    "split_training_vectors = np.split(training_vectors[:-6], 10)\n",
    "split_training_reviewers = np.split(np.array(training_reviewers[:-6]), 10)\n",
    "split_training_labels = np.split(np.array(training_labels[:-6]), 10)"
   ]
  },
  {
   "cell_type": "code",
   "execution_count": 21,
   "metadata": {},
   "outputs": [
    {
     "name": "stdout",
     "output_type": "stream",
     "text": [
      "13478\n"
     ]
    }
   ],
   "source": [
    "print(len(split_training_vectors[0]))"
   ]
  },
 ],
 "metadata": {
  "kernelspec": {
   "display_name": "Python 3",
   "language": "python",
   "name": "python3"
  },
  "language_info": {
   "codemirror_mode": {
    "name": "ipython",
    "version": 3
   },
   "file_extension": ".py",
   "mimetype": "text/x-python",
   "name": "python",
   "nbconvert_exporter": "python",
   "pygments_lexer": "ipython3",
   "version": "3.6.6"
  }
 },
 "nbformat": 4,
 "nbformat_minor": 2
}
