{
 "cells": [
  {
   "cell_type": "markdown",
   "metadata": {},
   "source": [
    "# Convolutional Network Benchmark\n",
    "\n",
    "To obtain a benchmark for a basic convolutional network, we will create a simple network that informs us what to expect when using these networks. This will not contain any novel specializations, it is done to find a baseline which we can improve upon.\n",
    "\n",
    "The architecture used here is inspired by the research in the form of the paper ['A Sensitivity Analysis of (and Practitioners’ Guide to) Convolutional Neural Networks for Sentence Classification'](https://arxiv.org/pdf/1510.03820.pdf), and it not complex.\n",
    "\n",
    "While previous experiments have been done to find applicability of convolutional networks, this is the first to run it over a large set of data."
   ]
  },
  {
   "cell_type": "code",
   "execution_count": 1,
   "metadata": {},
   "outputs": [
    {
     "name": "stderr",
     "output_type": "stream",
     "text": [
      "Using TensorFlow backend.\n"
     ]
    }
   ],
   "source": [
    "from exp8_feature_extraction import get_balanced_dataset\n",
    "from scripts.cross_validate import run_cross_validate\n",
    "from tensorflow.keras.preprocessing.text import text_to_word_sequence\n",
    "from tensorflow.keras import Sequential\n",
    "from tensorflow.keras.layers import Conv2D, Dense, Dropout, Flatten, MaxPooling2D\n",
    "from tensorflow.keras.activations import relu, sigmoid\n",
    "\n",
    "import numpy as np\n",
    "import gensim\n",
    "import json\n",
    "import pickle\n",
    "\n",
    "import tensorflow as tf\n",
    "from keras.preprocessing.sequence import pad_sequences"
   ]
  },
  {
   "cell_type": "code",
   "execution_count": 2,
   "metadata": {},
   "outputs": [],
   "source": [
    "all_reviews = get_balanced_dataset()"
   ]
  },
  {
   "cell_type": "code",
   "execution_count": 3,
   "metadata": {},
   "outputs": [],
   "source": [
    "reviews_contents = [x.review_content for x in all_reviews]\n",
    "labels = [1 if x.label else 0 for x in all_reviews]"
   ]
  },
  {
   "cell_type": "code",
   "execution_count": 4,
   "metadata": {},
   "outputs": [],
   "source": [
    "short_reviews = []\n",
    "filtered_labels = []\n",
    "max_review_chars = 1000\n",
    "for i, review in enumerate(reviews_contents):\n",
    "    if len(review.split()) > max_review_chars:\n",
    "        continue\n",
    "    short_reviews.append(review)\n",
    "    filtered_labels.append(labels[i])"
   ]
  },
  {
   "cell_type": "code",
   "execution_count": 5,
   "metadata": {},
   "outputs": [],
   "source": [
    "max_review_words = 150\n",
    "tokenizer = tf.keras.preprocessing.text.Tokenizer()\n",
    "tokenizer.fit_on_texts(short_reviews)\n",
    "\n",
    "short_sequences = []\n",
    "short_labels = []\n",
    "for i, sequence in enumerate(tokenizer.texts_to_sequences(short_reviews)):\n",
    "    if len(x) <= max_review_words:\n",
    "        short_sequences.append(sequence)\n",
    "        short_labels.append(labels[i])\n",
    "        \n",
    "word_sequences = np.array(pad_sequences(short_sequences))"
   ]
  },
  {
   "cell_type": "code",
   "execution_count": 9,
   "metadata": {},
   "outputs": [],
   "source": [
    "corpus_words = tokenizer.word_index\n",
    "corpus_vocab_size = len(corpus_words)+1"
   ]
  },
  {
   "cell_type": "code",
   "execution_count": 10,
   "metadata": {},
   "outputs": [],
   "source": [
    "word_vectors = gensim.models.KeyedVectors.load_word2vec_format(\"../../data/GoogleNews-vectors-negative300.bin\",\n",
    "                                                             binary=True)\n",
    "embedding_length = word_vectors.vector_size\n",
    "\n",
    "embedding_matrix = np.zeros((corpus_vocab_size, embedding_length))\n",
    "for word, index in corpus_words.items():\n",
    "if word in word_vectors.vocab:\n",
    "  embedding_matrix[index] = np.array(word_vectors[word], dtype=np.float32)\n",
    "\n",
    "with open(embeddings_file_name, 'w') as outfile:\n",
    "  json.dump(embedding_matrix.tolist(), outfile)"
   ]
  },
  {
   "cell_type": "markdown",
   "metadata": {},
   "source": [
    "We add a quick check to make sure any modifications haven't caused our sequences and embedding matrix to misalign:"
   ]
  },
  {
   "cell_type": "code",
   "execution_count": 11,
   "metadata": {
    "scrolled": true
   },
   "outputs": [],
   "source": [
    "hello_wv = embedding_matrix[tokenizer.texts_to_sequences([\"hello\"])[0][0]]\n",
    "assert hello_wv[0] > -0.055 and hello_wv[0] < -0.054\n",
    "assert hello_wv[1] > 0.017 and hello_wv[1] < 0.018\n",
    "assert hello_wv[2] > -0.006 and hello_wv[2] < -0.005"
   ]
  },
  {
   "cell_type": "code",
   "execution_count": 12,
   "metadata": {},
   "outputs": [],
   "source": [
    "def to_vectorized_reviews(word_sequences, max_review_len, embedding_matrix):\n",
    "    vectorized_reviews = np.zeros((len(word_sequences), max_review_len, embedding_matrix.shape[1], 1))\n",
    "    for i, word_sequence in enumerate(word_sequences):\n",
    "        for j, word in enumerate(word_sequence):\n",
    "            for k, val in enumerate(embedding_matrix[word]):\n",
    "                vectorized_reviews[i][j][k][0] = val\n",
    "    return vectorized_reviews"
   ]
  },
  {
   "cell_type": "code",
   "execution_count": 13,
   "metadata": {},
   "outputs": [],
   "source": [
    "test_embedding_matrix = np.array([[1, 2, 3], [3, 2, 1]])\n",
    "\n",
    "actual_vectorized_reviews = to_vectorized_reviews([[0, 1]], 2, test_embedding_matrix)\n",
    "assert np.array_equal(actual_vectorized_reviews, np.array([[[[1], [2], [3]], [[3], [2], [1]]]]))\n",
    "\n",
    "actual_vectorized_reviews = to_vectorized_reviews([[1, 0]], 2, test_embedding_matrix)\n",
    "assert np.array_equal(actual_vectorized_reviews, np.array([[[[3], [2], [1]], [[1], [2], [3]]]]))"
   ]
  },
  {
   "cell_type": "code",
   "execution_count": 14,
   "metadata": {},
   "outputs": [],
   "source": [
    "vectorized_reviews = to_vectorized_reviews(word_sequences, len(word_sequences[0]), embedding_matrix)"
   ]
  },
  {
   "cell_type": "markdown",
   "metadata": {},
   "source": [
    "I will separate some data, holding it until after I have finished tweaking the model. This is because tweaking the model towards the data I'm testing against is likely to cause a misrepresentation of how well the model performs. Using unseen data is better representative of future unseen data."
   ]
  },
  {
   "cell_type": "code",
   "execution_count": 25,
   "metadata": {},
   "outputs": [],
   "source": [
    "training_vectors = vectorized_reviews[:-10000]\n",
    "training_labels = short_labels_2[:-10000]\n",
    "held_vectors = vectorized_reviews[-10000:]\n",
    "held_labels = short_labels_2[-10000:]"
   ]
  },
  {
   "cell_type": "code",
   "execution_count": 15,
   "metadata": {},
   "outputs": [],
   "source": [
    "#np.save(\"vectorized_reviews_abc\", vectorized_reviews)\n",
    "#with open(\"vectorized_reviews_abc\", 'w') as outfile:\n",
    "#    np.save(outfile, vectorized_reviews)\n",
    "\n",
    "import pickle\n",
    "with open(\"vectorized_reviews.pkl\", 'wb') as outfile:\n",
    "    pickle.dump(vectorized_reviews, outfile, protocol=4)\n",
    "with open(\"vectorized_reviews_targets.pkl\", 'wb') as outfile:\n",
    "    pickle.dump(short_labels_2, outfile, protocol=4)"
   ]
  },
  {
   "cell_type": "code",
   "execution_count": null,
   "metadata": {},
   "outputs": [],
   "source": []
  },
  {
   "cell_type": "code",
   "execution_count": 16,
   "metadata": {},
   "outputs": [],
   "source": [
    "import pickle\n",
    "with open(\"vectorized_reviews.pkl\", 'rb') as infile:\n",
    "  loaded_vectorized_reviews = pickle.load(infile)\n",
    "with open(\"vectorized_reviews_targets.pkl\", 'rb') as infile:\n",
    "  loaded_short_labels_2 = pickle.load(infile)"
   ]
  },
  {
   "cell_type": "code",
   "execution_count": 24,
   "metadata": {},
   "outputs": [],
   "source": [
    "def get_conv_wv_model():\n",
    "  model = Sequential([\n",
    "      Conv2D(\n",
    "          filters=50,\n",
    "          kernel_size=(10, 300), # TODO Use vector_length instead of hardcoding\n",
    "          data_format=\"channels_last\",\n",
    "          input_shape=(max_review_words, 300, 1),\n",
    "          activation=relu),\n",
    "      tf.keras.layers.GlobalMaxPooling2D(data_format=\"channels_last\"),\n",
    "      Dropout(0.5),\n",
    "      Flatten(),\n",
    "      Dense(2, activation='softmax')\n",
    "  ])\n",
    "  model.compile(\n",
    "      loss='binary_crossentropy',\n",
    "      optimizer='adam',\n",
    "      metrics=['accuracy'])\n",
    "  return model"
   ]
  },
  {
   "cell_type": "code",
   "execution_count": null,
   "metadata": {
    "scrolled": true
   },
   "outputs": [
    {
     "name": "stdout",
     "output_type": "stream",
     "text": [
      "Fitting with:  (96649, 150, 300, 1) labels (96649, 2)\n",
      "Train on 67654 samples, validate on 28995 samples\n",
      "Epoch 1/12\n",
      "67654/67654 [==============================] - 90s 1ms/step - loss: 0.6518 - acc: 0.6209 - val_loss: 0.6270 - val_acc: 0.6545\n",
      "Epoch 2/12\n",
      "67654/67654 [==============================] - 90s 1ms/step - loss: 0.6257 - acc: 0.6550 - val_loss: 0.6215 - val_acc: 0.6603\n",
      "Epoch 3/12\n",
      "67654/67654 [==============================] - 92s 1ms/step - loss: 0.6092 - acc: 0.6709 - val_loss: 0.6169 - val_acc: 0.6621\n",
      "Epoch 4/12\n",
      "67654/67654 [==============================] - 91s 1ms/step - loss: 0.5909 - acc: 0.6868 - val_loss: 0.6173 - val_acc: 0.6614\n",
      "Epoch 5/12\n",
      "67654/67654 [==============================] - 90s 1ms/step - loss: 0.5795 - acc: 0.6980 - val_loss: 0.6190 - val_acc: 0.6623\n",
      "Epoch 6/12\n",
      "67654/67654 [==============================] - 91s 1ms/step - loss: 0.5596 - acc: 0.7139 - val_loss: 0.6192 - val_acc: 0.6598\n",
      "Epoch 7/12\n",
      "67654/67654 [==============================] - 92s 1ms/step - loss: 0.5422 - acc: 0.7270 - val_loss: 0.6234 - val_acc: 0.6609\n",
      "19331/19331 [==============================] - 10s 525us/step\n",
      "Fitting with:  (96649, 150, 300, 1) labels (96649, 2)\n",
      "Train on 67654 samples, validate on 28995 samples\n",
      "Epoch 1/12\n",
      "67654/67654 [==============================] - 93s 1ms/step - loss: 0.6523 - acc: 0.6192 - val_loss: 0.6317 - val_acc: 0.6475\n",
      "Epoch 2/12\n",
      "67654/67654 [==============================] - 91s 1ms/step - loss: 0.6259 - acc: 0.6543 - val_loss: 0.6258 - val_acc: 0.6548\n",
      "Epoch 3/12\n",
      "67654/67654 [==============================] - 92s 1ms/step - loss: 0.6108 - acc: 0.6685 - val_loss: 0.6188 - val_acc: 0.6616\n",
      "Epoch 4/12\n",
      "67654/67654 [==============================] - 92s 1ms/step - loss: 0.5940 - acc: 0.6833 - val_loss: 0.6167 - val_acc: 0.6615\n",
      "Epoch 5/12\n",
      "67654/67654 [==============================] - 91s 1ms/step - loss: 0.5768 - acc: 0.6995 - val_loss: 0.6163 - val_acc: 0.6637\n",
      "Epoch 6/12\n",
      "67654/67654 [==============================] - 94s 1ms/step - loss: 0.5575 - acc: 0.7144 - val_loss: 0.6259 - val_acc: 0.6610\n",
      "Epoch 7/12\n",
      "67654/67654 [==============================] - 94s 1ms/step - loss: 0.5418 - acc: 0.7259 - val_loss: 0.6231 - val_acc: 0.6609\n",
      "Epoch 8/12\n",
      "67654/67654 [==============================] - 94s 1ms/step - loss: 0.5233 - acc: 0.7401 - val_loss: 0.6312 - val_acc: 0.6597\n",
      "Epoch 9/12\n",
      "67654/67654 [==============================] - 94s 1ms/step - loss: 0.5048 - acc: 0.7508 - val_loss: 0.6355 - val_acc: 0.6569\n",
      "19331/19331 [==============================] - 11s 544us/step\n",
      "Fitting with:  (96649, 150, 300, 1) labels (96649, 2)\n",
      "Train on 67654 samples, validate on 28995 samples\n",
      "Epoch 1/12\n",
      "67654/67654 [==============================] - 92s 1ms/step - loss: 0.6540 - acc: 0.6169 - val_loss: 0.6300 - val_acc: 0.6490\n",
      "Epoch 2/12\n",
      "67654/67654 [==============================] - 90s 1ms/step - loss: 0.6287 - acc: 0.6496 - val_loss: 0.6248 - val_acc: 0.6558\n",
      "Epoch 3/12\n",
      "67654/67654 [==============================] - 91s 1ms/step - loss: 0.6132 - acc: 0.6676 - val_loss: 0.6209 - val_acc: 0.6603\n",
      "Epoch 4/12\n",
      "67654/67654 [==============================] - 90s 1ms/step - loss: 0.5954 - acc: 0.6836 - val_loss: 0.6167 - val_acc: 0.6654\n",
      "Epoch 5/12\n",
      "67654/67654 [==============================] - 90s 1ms/step - loss: 0.5804 - acc: 0.6954 - val_loss: 0.6153 - val_acc: 0.6683\n",
      "Epoch 6/12\n",
      "67654/67654 [==============================] - 90s 1ms/step - loss: 0.5644 - acc: 0.7077 - val_loss: 0.6203 - val_acc: 0.6613\n",
      "Epoch 7/12\n",
      "67654/67654 [==============================] - 90s 1ms/step - loss: 0.5456 - acc: 0.7230 - val_loss: 0.6227 - val_acc: 0.6636\n",
      "Epoch 8/12\n",
      "67654/67654 [==============================] - 91s 1ms/step - loss: 0.5284 - acc: 0.7351 - val_loss: 0.6307 - val_acc: 0.6611\n",
      "Epoch 9/12\n",
      "17700/67654 [======>.......................] - ETA: 55s - loss: 0.5009 - acc: 0.7542"
     ]
    }
   ],
   "source": [
    "conv_wv_scores = run_cross_validate(get_conv_wv_model, training_vectors, training_labels, cv=6, categorical=True)\n",
    "print(conv_wv_scores)"
   ]
  },
  {
   "cell_type": "code",
   "execution_count": 29,
   "metadata": {},
   "outputs": [
    {
     "name": "stdout",
     "output_type": "stream",
     "text": [
      "{'accuracies': [0.66613211939372, 0.6612177331746935, 0.6639077130029282, 0.6568368772311035, 0.654612240674634, 0.6592684567230587]}\n",
      "Average accuracy: 0.6603291900333562\n"
     ]
    }
   ],
   "source": [
    "print(conv_wv_scores)\n",
    "print(\"Average accuracy:\", sum(conv_wv_scores['accuracies'])/len(conv_wv_scores['accuracies']))"
   ]
  },
  {
   "cell_type": "code",
   "execution_count": null,
   "metadata": {},
   "outputs": [],
   "source": []
  }
 ],
 "metadata": {
  "kernelspec": {
   "display_name": "Python 3",
   "language": "python",
   "name": "python3"
  },
  "language_info": {
   "codemirror_mode": {
    "name": "ipython",
    "version": 3
   },
   "file_extension": ".py",
   "mimetype": "text/x-python",
   "name": "python",
   "nbconvert_exporter": "python",
   "pygments_lexer": "ipython3",
   "version": "3.6.6"
  }
 },
 "nbformat": 4,
 "nbformat_minor": 2
}
