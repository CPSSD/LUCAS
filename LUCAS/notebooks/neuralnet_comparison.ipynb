{
 "cells": [
  {
   "cell_type": "markdown",
   "metadata": {},
   "source": [
    "# Comparison of neural Models\n",
    "This notebook creates a comparison of how our neural models perform. We will try each model with and without word embeddings, and produce visualisations of model performance. \n",
    "\n",
    "# Feed-Forward Neural Networks\n",
    "First we will find this difference for Feed-Forward Neural Networks (FFNN):"
   ]
  },
  {
   "cell_type": "code",
   "execution_count": 1,
   "metadata": {},
   "outputs": [],
   "source": [
    "import numpy as np\n",
    "import matplotlib.pyplot as plt\n",
    "\n",
    "from tensorflow.keras import Sequential\n",
    "from tensorflow.keras.layers import Conv2D, Dense, Dropout, Embedding, Flatten, MaxPooling2D\n",
    "from tensorflow.keras.activations import relu, sigmoid\n",
    "from tensorflow.keras.preprocessing.sequence import pad_sequences\n",
    "from tensorflow.keras.preprocessing.text import text_to_word_sequence, Tokenizer\n",
    "from tensorflow.keras.regularizers import l2\n",
    "from tensorflow.keras.callbacks import EarlyStopping\n",
    "from tensorflow.keras.utils import to_categorical\n",
    "from scripts import training_helpers\n",
    "from sklearn.model_selection import train_test_split, StratifiedKFold\n",
    "\n",
    "from gensim.models import KeyedVectors\n",
    "from seaborn import boxplot\n",
    "from pandas import DataFrame"
   ]
  },
  {
   "cell_type": "markdown",
   "metadata": {},
   "source": [
    "We will cross validate our model, so lets create a function to handle this for us. It will use StratifiedKFold splitting:"
   ]
  },
  {
   "cell_type": "code",
   "execution_count": 64,
   "metadata": {},
   "outputs": [],
   "source": [
    "def run_cross_validate(get_model, X, y, cv=5, categorical=False):\n",
    "  skfSplitter = StratifiedKFold(n_splits=cv, shuffle=True)\n",
    "  metrics = {\n",
    "    \"accuracies\": [],\n",
    "  }\n",
    "    \n",
    "  for train_indices, test_indices in skfSplitter.split(X, y):\n",
    "    training_X = np.array([X[x] for x in train_indices])\n",
    "    training_y = [y[x] for x in train_indices]\n",
    "    test_X = np.array([X[x] for x in test_indices])\n",
    "    test_y = [y[x] for x in test_indices]\n",
    "    \n",
    "    if categorical:\n",
    "      training_y = to_categorical(training_y)\n",
    "      test_y = to_categorical(test_y)\n",
    "    \n",
    "    model = get_model()\n",
    "    model.fit(np.array(training_X), training_y, epochs=12, batch_size=16, validation_split=0.3,\n",
    "              callbacks=[EarlyStopping(monitor='val_loss', patience=4)])\n",
    "    metrics[\"accuracies\"].append(model.evaluate(np.array(test_X), test_y)[1])\n",
    "  return metrics"
   ]
  },
  {
   "cell_type": "markdown",
   "metadata": {},
   "source": [
    "First we find results for our Bag of Words (BoW) model:"
   ]
  },
  {
   "cell_type": "code",
   "execution_count": 4,
   "metadata": {},
   "outputs": [],
   "source": [
    "data_frame = training_helpers.get_data_frame()\n",
    "\n",
    "predictors_raw = data_frame['review']\n",
    "num_words = 20000\n",
    "\n",
    "tokenizer = Tokenizer(num_words)\n",
    "tokenizer.fit_on_texts(predictors_raw)\n",
    "bow_predictors = tokenizer.texts_to_matrix(predictors_raw, mode='tfidf')\n",
    "labels = [x for x in data_frame['deceptive']]"
   ]
  },
  {
   "cell_type": "code",
   "execution_count": 3,
   "metadata": {},
   "outputs": [
    {
     "name": "stdout",
     "output_type": "stream",
     "text": [
      "Train on 560 samples, validate on 240 samples\n",
      "Epoch 1/12\n",
      "560/560 [==============================] - 1s 3ms/step - loss: 0.8071 - acc: 0.6446 - val_loss: 0.6504 - val_acc: 0.8208\n",
      "Epoch 2/12\n",
      "560/560 [==============================] - 0s 804us/step - loss: 0.4659 - acc: 0.9321 - val_loss: 0.5257 - val_acc: 0.8625\n",
      "Epoch 3/12\n",
      "560/560 [==============================] - 0s 805us/step - loss: 0.3024 - acc: 0.9732 - val_loss: 0.4687 - val_acc: 0.8750\n",
      "Epoch 4/12\n",
      "560/560 [==============================] - 0s 856us/step - loss: 0.2227 - acc: 0.9929 - val_loss: 0.4506 - val_acc: 0.8625\n",
      "Epoch 5/12\n",
      "560/560 [==============================] - 0s 886us/step - loss: 0.2027 - acc: 0.9929 - val_loss: 0.4386 - val_acc: 0.8583\n",
      "Epoch 6/12\n",
      "560/560 [==============================] - 0s 849us/step - loss: 0.1701 - acc: 0.9982 - val_loss: 0.4258 - val_acc: 0.8708\n",
      "Epoch 7/12\n",
      "560/560 [==============================] - 0s 794us/step - loss: 0.1639 - acc: 0.9946 - val_loss: 0.4257 - val_acc: 0.8750\n",
      "Epoch 8/12\n",
      "560/560 [==============================] - 1s 896us/step - loss: 0.1509 - acc: 0.9982 - val_loss: 0.4388 - val_acc: 0.8667\n",
      "Epoch 9/12\n",
      "560/560 [==============================] - 0s 891us/step - loss: 0.1435 - acc: 1.0000 - val_loss: 0.4350 - val_acc: 0.8792\n",
      "Epoch 10/12\n",
      "560/560 [==============================] - 1s 977us/step - loss: 0.1358 - acc: 0.9946 - val_loss: 0.4369 - val_acc: 0.8708\n",
      "Epoch 11/12\n",
      "560/560 [==============================] - 0s 845us/step - loss: 0.1376 - acc: 0.9964 - val_loss: 0.4608 - val_acc: 0.8417\n",
      "800/800 [==============================] - 0s 196us/step\n",
      "Train on 560 samples, validate on 240 samples\n",
      "Epoch 1/12\n",
      "560/560 [==============================] - 1s 2ms/step - loss: 0.8048 - acc: 0.6268 - val_loss: 0.6342 - val_acc: 0.8333\n",
      "Epoch 2/12\n",
      "560/560 [==============================] - 0s 842us/step - loss: 0.3943 - acc: 0.9429 - val_loss: 0.5230 - val_acc: 0.8333\n",
      "Epoch 3/12\n",
      "560/560 [==============================] - 0s 809us/step - loss: 0.2257 - acc: 0.9893 - val_loss: 0.4977 - val_acc: 0.8458\n",
      "Epoch 4/12\n",
      "560/560 [==============================] - 0s 864us/step - loss: 0.1886 - acc: 0.9946 - val_loss: 0.4853 - val_acc: 0.8583\n",
      "Epoch 5/12\n",
      "560/560 [==============================] - 1s 908us/step - loss: 0.1710 - acc: 0.9911 - val_loss: 0.5166 - val_acc: 0.8083\n",
      "Epoch 6/12\n",
      "560/560 [==============================] - 0s 866us/step - loss: 0.1555 - acc: 1.0000 - val_loss: 0.4783 - val_acc: 0.8542\n",
      "Epoch 7/12\n",
      "560/560 [==============================] - 0s 863us/step - loss: 0.1413 - acc: 0.9982 - val_loss: 0.4799 - val_acc: 0.8667\n",
      "Epoch 8/12\n",
      "560/560 [==============================] - 0s 852us/step - loss: 0.1355 - acc: 0.9982 - val_loss: 0.4918 - val_acc: 0.8458\n",
      "Epoch 9/12\n",
      "560/560 [==============================] - 0s 832us/step - loss: 0.1286 - acc: 0.9982 - val_loss: 0.4684 - val_acc: 0.8667\n",
      "Epoch 10/12\n",
      "560/560 [==============================] - 0s 841us/step - loss: 0.1211 - acc: 0.9982 - val_loss: 0.4659 - val_acc: 0.8667\n",
      "Epoch 11/12\n",
      "560/560 [==============================] - 0s 855us/step - loss: 0.1186 - acc: 1.0000 - val_loss: 0.4657 - val_acc: 0.8708\n",
      "Epoch 12/12\n",
      "560/560 [==============================] - 0s 882us/step - loss: 0.1183 - acc: 0.9982 - val_loss: 0.5181 - val_acc: 0.8417\n",
      "800/800 [==============================] - 0s 211us/step\n"
     ]
    }
   ],
   "source": [
    "def get_ff_bow_model():\n",
    "  model = Sequential([\n",
    "      Dense(16, activation=relu, input_shape=(num_words,), kernel_regularizer=l2(0.01)),\n",
    "      Dropout(0.25),\n",
    "      Dense(8, activation=relu, kernel_regularizer=l2(0.01)),\n",
    "      Dense(1, activation=sigmoid)\n",
    "  ])\n",
    "  model.compile(optimizer='adam', loss='binary_crossentropy', metrics=['accuracy'])\n",
    "  return model\n",
    "\n",
    "ff_bow_scores = run_cross_validate(get_ff_bow_model, bow_predictors, labels, cv=2)"
   ]
  },
  {
   "cell_type": "markdown",
   "metadata": {},
   "source": [
    "And for our word vector method. First we must create our word vectors using a word vectorizing model generated in another experiment:"
   ]
  },
  {
   "cell_type": "code",
   "execution_count": 5,
   "metadata": {},
   "outputs": [],
   "source": [
    "word_vectors = KeyedVectors.load(\"opspam_w2v.kv\", mmap=\"r\")\n",
    "\n",
    "predictors_sequences = pad_sequences(tokenizer.texts_to_sequences(predictors_raw))\n",
    "max_sequence_length = max([len(x) for x in predictors_sequences])"
   ]
  },
  {
   "cell_type": "code",
   "execution_count": 6,
   "metadata": {},
   "outputs": [],
   "source": [
    "embedding_length = word_vectors.vector_size\n",
    "\n",
    "corpus_words = tokenizer.word_index\n",
    "corpus_vocab_size = len(corpus_words)+1\n",
    "vectorizer_words = word_vectors.wv\n",
    "embedding_matrix = np.zeros((corpus_vocab_size, embedding_length))\n",
    "for word, idx in corpus_words.items():\n",
    "  if word in vectorizer_words.vocab:\n",
    "    embedding_matrix[idx] = np.array(vectorizer_words[word], dtype=np.float32)"
   ]
  },
  {
   "cell_type": "code",
   "execution_count": 6,
   "metadata": {},
   "outputs": [
    {
     "name": "stdout",
     "output_type": "stream",
     "text": [
      "Train on 1007 samples, validate on 433 samples\n",
      "Epoch 1/12\n",
      "1007/1007 [==============================] - 4s 4ms/step - loss: 0.8892 - acc: 0.5114 - val_loss: 0.8111 - val_acc: 0.5681\n",
      "Epoch 2/12\n",
      "1007/1007 [==============================] - 2s 2ms/step - loss: 0.7886 - acc: 0.5968 - val_loss: 0.7751 - val_acc: 0.6189\n",
      "Epoch 3/12\n",
      "1007/1007 [==============================] - 2s 2ms/step - loss: 0.7564 - acc: 0.6216 - val_loss: 0.7772 - val_acc: 0.6005\n",
      "Epoch 4/12\n",
      "1007/1007 [==============================] - 2s 2ms/step - loss: 0.7434 - acc: 0.6504 - val_loss: 0.7879 - val_acc: 0.6143\n",
      "Epoch 5/12\n",
      "1007/1007 [==============================] - 2s 2ms/step - loss: 0.6938 - acc: 0.6862 - val_loss: 0.7597 - val_acc: 0.6189\n",
      "Epoch 6/12\n",
      "1007/1007 [==============================] - 2s 2ms/step - loss: 0.6735 - acc: 0.6951 - val_loss: 0.7771 - val_acc: 0.6328\n",
      "Epoch 7/12\n",
      "1007/1007 [==============================] - 2s 2ms/step - loss: 0.6624 - acc: 0.7051 - val_loss: 0.7744 - val_acc: 0.6005\n",
      "Epoch 8/12\n",
      "1007/1007 [==============================] - 2s 2ms/step - loss: 0.6650 - acc: 0.6892 - val_loss: 0.7679 - val_acc: 0.6374\n",
      "Epoch 9/12\n",
      "1007/1007 [==============================] - 2s 2ms/step - loss: 0.6427 - acc: 0.7001 - val_loss: 0.7927 - val_acc: 0.6074\n",
      "160/160 [==============================] - 0s 501us/step\n",
      "Train on 1007 samples, validate on 433 samples\n",
      "Epoch 1/12\n",
      "1007/1007 [==============================] - 4s 4ms/step - loss: 0.8793 - acc: 0.5174 - val_loss: 0.8131 - val_acc: 0.4850\n",
      "Epoch 2/12\n",
      "1007/1007 [==============================] - 2s 2ms/step - loss: 0.7761 - acc: 0.5084 - val_loss: 0.7622 - val_acc: 0.5358\n",
      "Epoch 3/12\n",
      "1007/1007 [==============================] - 2s 2ms/step - loss: 0.7892 - acc: 0.5521 - val_loss: 0.7899 - val_acc: 0.4850\n",
      "Epoch 4/12\n",
      "1007/1007 [==============================] - 2s 2ms/step - loss: 0.7456 - acc: 0.5462 - val_loss: 0.7498 - val_acc: 0.5196\n",
      "Epoch 5/12\n",
      "1007/1007 [==============================] - 2s 2ms/step - loss: 0.7224 - acc: 0.6097 - val_loss: 0.7618 - val_acc: 0.5312\n",
      "Epoch 6/12\n",
      "1007/1007 [==============================] - 2s 2ms/step - loss: 0.7098 - acc: 0.6137 - val_loss: 0.7470 - val_acc: 0.5935\n",
      "Epoch 7/12\n",
      "1007/1007 [==============================] - 2s 2ms/step - loss: 0.7114 - acc: 0.6385 - val_loss: 0.7482 - val_acc: 0.5889\n",
      "Epoch 8/12\n",
      "1007/1007 [==============================] - 2s 2ms/step - loss: 0.6977 - acc: 0.6415 - val_loss: 0.7432 - val_acc: 0.5982\n",
      "Epoch 9/12\n",
      "1007/1007 [==============================] - 2s 2ms/step - loss: 0.6865 - acc: 0.6504 - val_loss: 0.7682 - val_acc: 0.5681\n",
      "Epoch 10/12\n",
      "1007/1007 [==============================] - 2s 2ms/step - loss: 0.6843 - acc: 0.6395 - val_loss: 0.7978 - val_acc: 0.5612\n",
      "Epoch 11/12\n",
      "1007/1007 [==============================] - 2s 2ms/step - loss: 0.6784 - acc: 0.6723 - val_loss: 0.7464 - val_acc: 0.6305\n",
      "Epoch 12/12\n",
      "1007/1007 [==============================] - 2s 2ms/step - loss: 0.6675 - acc: 0.6614 - val_loss: 0.7450 - val_acc: 0.6351\n",
      "160/160 [==============================] - 0s 378us/step\n",
      "Train on 1007 samples, validate on 433 samples\n",
      "Epoch 1/12\n",
      "1007/1007 [==============================] - 4s 4ms/step - loss: 0.9339 - acc: 0.4965 - val_loss: 0.8415 - val_acc: 0.5266\n",
      "Epoch 2/12\n",
      "1007/1007 [==============================] - 2s 2ms/step - loss: 0.8042 - acc: 0.5243 - val_loss: 0.7882 - val_acc: 0.5058\n",
      "Epoch 3/12\n",
      "1007/1007 [==============================] - 2s 2ms/step - loss: 0.7702 - acc: 0.5948 - val_loss: 0.7674 - val_acc: 0.5450\n",
      "Epoch 4/12\n",
      "1007/1007 [==============================] - 2s 2ms/step - loss: 0.7445 - acc: 0.6137 - val_loss: 0.7869 - val_acc: 0.5058\n",
      "Epoch 5/12\n",
      "1007/1007 [==============================] - 2s 2ms/step - loss: 0.7464 - acc: 0.6068 - val_loss: 0.7683 - val_acc: 0.5797\n",
      "Epoch 6/12\n",
      "1007/1007 [==============================] - 2s 2ms/step - loss: 0.7240 - acc: 0.6296 - val_loss: 0.7488 - val_acc: 0.5820\n",
      "Epoch 7/12\n",
      "1007/1007 [==============================] - 2s 2ms/step - loss: 0.7101 - acc: 0.6643 - val_loss: 0.7541 - val_acc: 0.5727\n",
      "Epoch 8/12\n",
      "1007/1007 [==============================] - 2s 2ms/step - loss: 0.7180 - acc: 0.6455 - val_loss: 0.7520 - val_acc: 0.6328\n",
      "Epoch 9/12\n",
      "1007/1007 [==============================] - 2s 2ms/step - loss: 0.6834 - acc: 0.6961 - val_loss: 0.7522 - val_acc: 0.5958\n",
      "Epoch 10/12\n",
      "1007/1007 [==============================] - 2s 2ms/step - loss: 0.6734 - acc: 0.6991 - val_loss: 0.7758 - val_acc: 0.5866\n",
      "160/160 [==============================] - 0s 300us/step\n",
      "Train on 1007 samples, validate on 433 samples\n",
      "Epoch 1/12\n",
      "1007/1007 [==============================] - 4s 4ms/step - loss: 0.8810 - acc: 0.5144 - val_loss: 0.8163 - val_acc: 0.5012\n",
      "Epoch 2/12\n",
      "1007/1007 [==============================] - 2s 2ms/step - loss: 0.8084 - acc: 0.5611 - val_loss: 0.8017 - val_acc: 0.5473\n",
      "Epoch 3/12\n",
      "1007/1007 [==============================] - 2s 2ms/step - loss: 0.7666 - acc: 0.5859 - val_loss: 0.7694 - val_acc: 0.5404\n",
      "Epoch 4/12\n",
      "1007/1007 [==============================] - 2s 2ms/step - loss: 0.7510 - acc: 0.5740 - val_loss: 0.7846 - val_acc: 0.5012\n",
      "Epoch 5/12\n",
      "1007/1007 [==============================] - 2s 2ms/step - loss: 0.7396 - acc: 0.5501 - val_loss: 0.7544 - val_acc: 0.5242\n",
      "Epoch 6/12\n",
      "1007/1007 [==============================] - 2s 2ms/step - loss: 0.7215 - acc: 0.5809 - val_loss: 0.7358 - val_acc: 0.5427\n",
      "Epoch 7/12\n",
      "1007/1007 [==============================] - 2s 2ms/step - loss: 0.7173 - acc: 0.5819 - val_loss: 0.7329 - val_acc: 0.6097\n",
      "Epoch 8/12\n",
      "1007/1007 [==============================] - 2s 2ms/step - loss: 0.7073 - acc: 0.6207 - val_loss: 0.7324 - val_acc: 0.5843\n",
      "Epoch 9/12\n",
      "1007/1007 [==============================] - 2s 2ms/step - loss: 0.7008 - acc: 0.6286 - val_loss: 0.7331 - val_acc: 0.6097\n",
      "Epoch 10/12\n",
      "1007/1007 [==============================] - 2s 2ms/step - loss: 0.7005 - acc: 0.6435 - val_loss: 0.7295 - val_acc: 0.5727\n",
      "Epoch 11/12\n",
      "1007/1007 [==============================] - 2s 2ms/step - loss: 0.6953 - acc: 0.6216 - val_loss: 0.7563 - val_acc: 0.5589\n",
      "Epoch 12/12\n",
      "1007/1007 [==============================] - 2s 2ms/step - loss: 0.6889 - acc: 0.6435 - val_loss: 0.7501 - val_acc: 0.5635\n",
      "160/160 [==============================] - 0s 323us/step\n",
      "Train on 1007 samples, validate on 433 samples\n",
      "Epoch 1/12\n",
      "1007/1007 [==============================] - 4s 4ms/step - loss: 0.8440 - acc: 0.4737 - val_loss: 0.7721 - val_acc: 0.4988\n",
      "Epoch 2/12\n",
      "1007/1007 [==============================] - 2s 2ms/step - loss: 0.7584 - acc: 0.5333 - val_loss: 0.7625 - val_acc: 0.5035\n",
      "Epoch 3/12\n",
      "1007/1007 [==============================] - 2s 2ms/step - loss: 0.7466 - acc: 0.5392 - val_loss: 0.7526 - val_acc: 0.5797\n",
      "Epoch 4/12\n",
      "1007/1007 [==============================] - 2s 2ms/step - loss: 0.7296 - acc: 0.5730 - val_loss: 0.7233 - val_acc: 0.5566\n",
      "Epoch 5/12\n",
      "1007/1007 [==============================] - 2s 2ms/step - loss: 0.7142 - acc: 0.5631 - val_loss: 0.7198 - val_acc: 0.5843\n",
      "Epoch 6/12\n",
      "1007/1007 [==============================] - 2s 2ms/step - loss: 0.7068 - acc: 0.5899 - val_loss: 0.7166 - val_acc: 0.6120\n",
      "Epoch 7/12\n",
      "1007/1007 [==============================] - 2s 2ms/step - loss: 0.7006 - acc: 0.6236 - val_loss: 0.7357 - val_acc: 0.5058\n",
      "Epoch 8/12\n",
      "1007/1007 [==============================] - 2s 2ms/step - loss: 0.7066 - acc: 0.5938 - val_loss: 0.7147 - val_acc: 0.6028\n",
      "Epoch 9/12\n",
      "1007/1007 [==============================] - 2s 2ms/step - loss: 0.6984 - acc: 0.6306 - val_loss: 0.7115 - val_acc: 0.5751\n",
      "Epoch 10/12\n",
      "1007/1007 [==============================] - 2s 2ms/step - loss: 0.6867 - acc: 0.6187 - val_loss: 0.7070 - val_acc: 0.6490\n",
      "Epoch 11/12\n",
      "1007/1007 [==============================] - 2s 2ms/step - loss: 0.6780 - acc: 0.6534 - val_loss: 0.7261 - val_acc: 0.6028\n",
      "Epoch 12/12\n",
      "1007/1007 [==============================] - 2s 2ms/step - loss: 0.6897 - acc: 0.6514 - val_loss: 0.7084 - val_acc: 0.6051\n",
      "160/160 [==============================] - 0s 331us/step\n",
      "Train on 1007 samples, validate on 433 samples\n",
      "Epoch 1/12\n",
      "1007/1007 [==============================] - 4s 4ms/step - loss: 0.9152 - acc: 0.5005 - val_loss: 0.8182 - val_acc: 0.4919\n",
      "Epoch 2/12\n",
      "1007/1007 [==============================] - 2s 2ms/step - loss: 0.8013 - acc: 0.5025 - val_loss: 0.7734 - val_acc: 0.4919\n"
     ]
    },
    {
     "name": "stdout",
     "output_type": "stream",
     "text": [
      "Epoch 3/12\n",
      "1007/1007 [==============================] - 2s 2ms/step - loss: 0.7586 - acc: 0.4975 - val_loss: 0.7512 - val_acc: 0.5358\n",
      "Epoch 4/12\n",
      "1007/1007 [==============================] - 2s 2ms/step - loss: 0.7373 - acc: 0.4965 - val_loss: 0.7273 - val_acc: 0.5081\n",
      "Epoch 5/12\n",
      "1007/1007 [==============================] - 2s 2ms/step - loss: 0.7221 - acc: 0.4777 - val_loss: 0.7171 - val_acc: 0.5081\n",
      "Epoch 6/12\n",
      "1007/1007 [==============================] - 2s 2ms/step - loss: 0.7135 - acc: 0.4965 - val_loss: 0.7101 - val_acc: 0.5081\n",
      "Epoch 7/12\n",
      "1007/1007 [==============================] - 2s 2ms/step - loss: 0.7077 - acc: 0.4965 - val_loss: 0.7053 - val_acc: 0.5081\n",
      "Epoch 8/12\n",
      "1007/1007 [==============================] - 2s 2ms/step - loss: 0.7036 - acc: 0.4995 - val_loss: 0.7020 - val_acc: 0.4919\n",
      "Epoch 9/12\n",
      "1007/1007 [==============================] - 2s 2ms/step - loss: 0.7007 - acc: 0.5035 - val_loss: 0.6996 - val_acc: 0.4919\n",
      "Epoch 10/12\n",
      "1007/1007 [==============================] - 2s 2ms/step - loss: 0.6987 - acc: 0.5035 - val_loss: 0.6980 - val_acc: 0.4919\n",
      "Epoch 11/12\n",
      "1007/1007 [==============================] - 2s 2ms/step - loss: 0.6973 - acc: 0.5035 - val_loss: 0.6968 - val_acc: 0.4919\n",
      "Epoch 12/12\n",
      "1007/1007 [==============================] - 2s 2ms/step - loss: 0.6964 - acc: 0.5035 - val_loss: 0.6961 - val_acc: 0.4919\n",
      "160/160 [==============================] - 0s 296us/step\n",
      "Train on 1007 samples, validate on 433 samples\n",
      "Epoch 1/12\n",
      "1007/1007 [==============================] - 5s 5ms/step - loss: 0.8823 - acc: 0.5074 - val_loss: 0.8056 - val_acc: 0.5681\n",
      "Epoch 2/12\n",
      "1007/1007 [==============================] - 2s 2ms/step - loss: 0.7783 - acc: 0.5402 - val_loss: 0.7581 - val_acc: 0.5797\n",
      "Epoch 3/12\n",
      "1007/1007 [==============================] - 2s 2ms/step - loss: 0.7892 - acc: 0.5144 - val_loss: 0.7879 - val_acc: 0.4988\n",
      "Epoch 4/12\n",
      "1007/1007 [==============================] - 2s 2ms/step - loss: 0.7573 - acc: 0.5432 - val_loss: 0.7567 - val_acc: 0.5358\n",
      "Epoch 5/12\n",
      "1007/1007 [==============================] - 2s 2ms/step - loss: 0.7561 - acc: 0.5829 - val_loss: 0.7791 - val_acc: 0.5658\n",
      "Epoch 6/12\n",
      "1007/1007 [==============================] - 2s 2ms/step - loss: 0.7518 - acc: 0.5521 - val_loss: 0.7613 - val_acc: 0.4896\n",
      "Epoch 7/12\n",
      "1007/1007 [==============================] - 2s 2ms/step - loss: 0.7306 - acc: 0.6048 - val_loss: 0.7492 - val_acc: 0.5774\n",
      "Epoch 8/12\n",
      "1007/1007 [==============================] - 2s 2ms/step - loss: 0.7213 - acc: 0.6137 - val_loss: 0.7645 - val_acc: 0.5173\n",
      "Epoch 9/12\n",
      "1007/1007 [==============================] - 2s 2ms/step - loss: 0.7238 - acc: 0.6058 - val_loss: 0.7305 - val_acc: 0.6282\n",
      "Epoch 10/12\n",
      "1007/1007 [==============================] - 2s 2ms/step - loss: 0.7110 - acc: 0.6097 - val_loss: 0.7268 - val_acc: 0.6028\n",
      "Epoch 11/12\n",
      "1007/1007 [==============================] - 2s 2ms/step - loss: 0.7180 - acc: 0.6008 - val_loss: 0.7249 - val_acc: 0.5289\n",
      "Epoch 12/12\n",
      "1007/1007 [==============================] - 2s 2ms/step - loss: 0.6984 - acc: 0.6336 - val_loss: 0.7228 - val_acc: 0.6166\n",
      "160/160 [==============================] - 0s 440us/step\n",
      "Train on 1007 samples, validate on 433 samples\n",
      "Epoch 1/12\n",
      "1007/1007 [==============================] - 4s 4ms/step - loss: 0.8812 - acc: 0.4826 - val_loss: 0.8145 - val_acc: 0.4850\n",
      "Epoch 2/12\n",
      "1007/1007 [==============================] - 2s 2ms/step - loss: 0.8048 - acc: 0.5233 - val_loss: 0.7943 - val_acc: 0.5035\n",
      "Epoch 3/12\n",
      "1007/1007 [==============================] - 2s 2ms/step - loss: 0.7643 - acc: 0.5283 - val_loss: 0.7436 - val_acc: 0.5704\n",
      "Epoch 4/12\n",
      "1007/1007 [==============================] - 2s 2ms/step - loss: 0.7417 - acc: 0.5750 - val_loss: 0.7334 - val_acc: 0.5751\n",
      "Epoch 5/12\n",
      "1007/1007 [==============================] - 2s 2ms/step - loss: 0.7324 - acc: 0.5581 - val_loss: 0.7337 - val_acc: 0.5958\n",
      "Epoch 6/12\n",
      "1007/1007 [==============================] - 2s 2ms/step - loss: 0.7260 - acc: 0.6167 - val_loss: 0.7470 - val_acc: 0.6074\n",
      "Epoch 7/12\n",
      "1007/1007 [==============================] - 2s 2ms/step - loss: 0.7200 - acc: 0.6127 - val_loss: 0.7555 - val_acc: 0.5242\n",
      "Epoch 8/12\n",
      "1007/1007 [==============================] - 2s 2ms/step - loss: 0.7075 - acc: 0.6465 - val_loss: 0.7231 - val_acc: 0.6674\n",
      "Epoch 9/12\n",
      "1007/1007 [==============================] - 2s 2ms/step - loss: 0.7135 - acc: 0.6346 - val_loss: 0.7582 - val_acc: 0.5958\n",
      "Epoch 10/12\n",
      "1007/1007 [==============================] - 2s 2ms/step - loss: 0.6950 - acc: 0.6614 - val_loss: 0.7344 - val_acc: 0.6143\n",
      "Epoch 11/12\n",
      "1007/1007 [==============================] - 2s 2ms/step - loss: 0.6913 - acc: 0.6723 - val_loss: 0.7260 - val_acc: 0.6282\n",
      "Epoch 12/12\n",
      "1007/1007 [==============================] - 2s 2ms/step - loss: 0.6762 - acc: 0.6783 - val_loss: 0.7787 - val_acc: 0.5266\n",
      "160/160 [==============================] - 0s 423us/step\n",
      "Train on 1007 samples, validate on 433 samples\n",
      "Epoch 1/12\n",
      "1007/1007 [==============================] - 5s 5ms/step - loss: 0.8875 - acc: 0.5174 - val_loss: 0.8045 - val_acc: 0.5751\n",
      "Epoch 2/12\n",
      "1007/1007 [==============================] - 2s 2ms/step - loss: 0.7872 - acc: 0.5482 - val_loss: 0.7768 - val_acc: 0.5727\n",
      "Epoch 3/12\n",
      "1007/1007 [==============================] - 2s 2ms/step - loss: 0.7536 - acc: 0.5839 - val_loss: 0.7668 - val_acc: 0.6074\n",
      "Epoch 4/12\n",
      "1007/1007 [==============================] - 2s 2ms/step - loss: 0.7258 - acc: 0.6415 - val_loss: 0.7642 - val_acc: 0.6005\n",
      "Epoch 5/12\n",
      "1007/1007 [==============================] - 2s 2ms/step - loss: 0.7147 - acc: 0.6336 - val_loss: 0.7606 - val_acc: 0.6166\n",
      "Epoch 6/12\n",
      "1007/1007 [==============================] - 2s 2ms/step - loss: 0.6841 - acc: 0.6852 - val_loss: 0.7601 - val_acc: 0.6236\n",
      "Epoch 7/12\n",
      "1007/1007 [==============================] - 2s 2ms/step - loss: 0.6749 - acc: 0.6852 - val_loss: 0.7843 - val_acc: 0.6189\n",
      "Epoch 8/12\n",
      "1007/1007 [==============================] - 2s 2ms/step - loss: 0.6623 - acc: 0.7080 - val_loss: 0.7861 - val_acc: 0.6028\n",
      "Epoch 9/12\n",
      "1007/1007 [==============================] - 2s 2ms/step - loss: 0.6589 - acc: 0.6912 - val_loss: 0.7743 - val_acc: 0.5912\n",
      "Epoch 10/12\n",
      "1007/1007 [==============================] - 2s 2ms/step - loss: 0.6491 - acc: 0.7090 - val_loss: 0.8071 - val_acc: 0.5935\n",
      "160/160 [==============================] - 0s 366us/step\n",
      "Train on 1007 samples, validate on 433 samples\n",
      "Epoch 1/12\n",
      "1007/1007 [==============================] - 5s 5ms/step - loss: 0.9038 - acc: 0.5402 - val_loss: 0.8186 - val_acc: 0.5797\n",
      "Epoch 2/12\n",
      "1007/1007 [==============================] - 2s 2ms/step - loss: 0.7911 - acc: 0.5621 - val_loss: 0.7799 - val_acc: 0.5035\n",
      "Epoch 3/12\n",
      "1007/1007 [==============================] - 2s 2ms/step - loss: 0.7673 - acc: 0.5899 - val_loss: 0.7556 - val_acc: 0.5820\n",
      "Epoch 4/12\n",
      "1007/1007 [==============================] - 2s 2ms/step - loss: 0.7397 - acc: 0.5958 - val_loss: 0.7490 - val_acc: 0.5843\n",
      "Epoch 5/12\n",
      "1007/1007 [==============================] - 2s 2ms/step - loss: 0.7373 - acc: 0.6226 - val_loss: 0.7429 - val_acc: 0.6282\n",
      "Epoch 6/12\n",
      "1007/1007 [==============================] - 2s 2ms/step - loss: 0.7195 - acc: 0.6276 - val_loss: 0.7544 - val_acc: 0.5612\n",
      "Epoch 7/12\n",
      "1007/1007 [==============================] - 2s 2ms/step - loss: 0.7004 - acc: 0.6544 - val_loss: 0.7304 - val_acc: 0.5612\n",
      "Epoch 8/12\n",
      "1007/1007 [==============================] - 2s 2ms/step - loss: 0.6969 - acc: 0.6544 - val_loss: 0.7300 - val_acc: 0.6189\n",
      "Epoch 9/12\n",
      "1007/1007 [==============================] - 2s 2ms/step - loss: 0.6897 - acc: 0.6584 - val_loss: 0.7637 - val_acc: 0.5497\n",
      "Epoch 10/12\n",
      "1007/1007 [==============================] - 2s 2ms/step - loss: 0.6793 - acc: 0.6961 - val_loss: 0.7344 - val_acc: 0.6443\n",
      "Epoch 11/12\n",
      "1007/1007 [==============================] - 2s 2ms/step - loss: 0.6638 - acc: 0.7249 - val_loss: 0.7727 - val_acc: 0.5727\n",
      "Epoch 12/12\n",
      "1007/1007 [==============================] - 2s 2ms/step - loss: 0.6700 - acc: 0.7130 - val_loss: 0.7682 - val_acc: 0.5889\n",
      "160/160 [==============================] - 0s 361us/step\n"
     ]
    }
   ],
   "source": [
    "def get_ff_wv_model():\n",
    "  model_ff_wv = Sequential([\n",
    "      Embedding(corpus_vocab_size, embedding_length, weights=[embedding_matrix], trainable=False,\n",
    "                input_length=max_sequence_length),\n",
    "      Flatten(),\n",
    "      Dense(16, activation=relu, kernel_regularizer=l2(0.01)), #, input_shape=(num_words,)\n",
    "      Dropout(0.25),\n",
    "      Dense(8, activation=relu, kernel_regularizer=l2(0.01)),\n",
    "      Dense(1, activation=sigmoid)\n",
    "  ])\n",
    "  model_ff_wv.compile(optimizer='adam', loss='binary_crossentropy', metrics=['accuracy'])\n",
    "  return model_ff_wv\n",
    "\n",
    "ff_wv_scores = run_cross_validate(get_ff_wv_model, predictors_sequences, labels, cv=10)"
   ]
  },
  {
   "cell_type": "code",
   "execution_count": 7,
   "metadata": {},
   "outputs": [
    {
     "name": "stdout",
     "output_type": "stream",
     "text": [
      "Bag of words:  [0.84375, 0.89375, 0.8625, 0.90625, 0.85, 0.8375, 0.875, 0.8625, 0.875, 0.8875]\n",
      "Word vectors:  [0.64375, 0.625, 0.59375, 0.54375, 0.6, 0.5, 0.56875, 0.53125, 0.575, 0.56875]\n"
     ]
    }
   ],
   "source": [
    "print (\"Bag of words: \", ff_bow_scores['accuracies'])\n",
    "print (\"Word vectors: \", ff_wv_scores['accuracies'])\n",
    "\n",
    "ff_scores_entries =[('Bag of Words', x) for x in ff_bow_scores['accuracies']] + [('Word Vectors', x) for x in ff_wv_scores['accuracies']]\n",
    "ff_scores_data_frame = DataFrame(ff_scores_entries, columns=['input type', 'accuracy'])"
   ]
  },
  {
   "cell_type": "code",
   "execution_count": 8,
   "metadata": {},
   "outputs": [
    {
     "data": {
      "image/png": "[encoded data removed]",
      "text/plain": [
       "<Figure size 432x288 with 1 Axes>"
      ]
     },
     "metadata": {
      "needs_background": "light"
     },
     "output_type": "display_data"
    }
   ],
   "source": [
    "boxplot(x='input type', y='accuracy', data=ff_scores_data_frame)\n",
    "plt.show()"
   ]
  },
  {
   "cell_type": "markdown",
   "metadata": {},
   "source": [
    "The results are very strange! How could word vectors be less accurate than bag of words? This is known to occur when two conditions are met:\n",
    "    \n",
    "* The dataset is small\n",
    "* The dataset is very domain specific\n",
    "\n",
    "It is possible that these conditions actually are met here. The problem however is that running these models over our full dataset will take much longer, and will require a commited experiment to complete the investigation."
   ]
  },
  {
   "cell_type": "markdown",
   "metadata": {},
   "source": [
    "# Convolutional Network"
   ]
  },
  {
   "cell_type": "code",
   "execution_count": 6,
   "metadata": {},
   "outputs": [
    {
     "data": {
      "text/plain": [
       "(1600, 20000)"
      ]
     },
     "execution_count": 6,
     "metadata": {},
     "output_type": "execute_result"
    }
   ],
   "source": [
    "bow_predictors.shape"
   ]
  },
  {
   "cell_type": "code",
   "execution_count": 75,
   "metadata": {},
   "outputs": [
    {
     "data": {
      "text/plain": [
       "(1600, 1, 20000, 1)"
      ]
     },
     "execution_count": 75,
     "metadata": {},
     "output_type": "execute_result"
    }
   ],
   "source": [
    "batches = 1600\n",
    "convolutional_data = np.array(np.split(np.array([[[y] for y in z] for z in bow_predictors]), batches))\n",
    "convolutional_data.shape"
   ]
  },
  {
   "cell_type": "code",
   "execution_count": 76,
   "metadata": {},
   "outputs": [],
   "source": [
    "def get_conv_bow_model():\n",
    "  model = Sequential([\n",
    "      Conv2D(\n",
    "          filters=50,\n",
    "          kernel_size=(1, 10),\n",
    "          data_format=\"channels_last\",\n",
    "          input_shape=(1, 20000, 1),\n",
    "          activation=relu),\n",
    "      MaxPooling2D(pool_size=(1, 10)),\n",
    "      Dropout(0.2),\n",
    "      Flatten(),\n",
    "      Dense(2, activation='softmax')\n",
    "  ])\n",
    "  model.compile(\n",
    "      loss='binary_crossentropy',\n",
    "      optimizer='adam',\n",
    "      metrics=['accuracy'])\n",
    "  return model"
   ]
  },
  {
   "cell_type": "code",
   "execution_count": 77,
   "metadata": {},
   "outputs": [
    {
     "name": "stdout",
     "output_type": "stream",
     "text": [
      "Train on 560 samples, validate on 240 samples\n",
      "Epoch 1/12\n",
      "560/560 [==============================] - 13s 23ms/step - loss: 0.5304 - acc: 0.7357 - val_loss: 0.6516 - val_acc: 0.6667\n",
      "Epoch 2/12\n",
      "560/560 [==============================] - 11s 19ms/step - loss: 0.1653 - acc: 0.9589 - val_loss: 0.7696 - val_acc: 0.6292\n",
      "Epoch 3/12\n",
      "560/560 [==============================] - 10s 18ms/step - loss: 0.0820 - acc: 0.9804 - val_loss: 0.7386 - val_acc: 0.6708\n",
      "Epoch 4/12\n",
      "560/560 [==============================] - 11s 20ms/step - loss: 0.0499 - acc: 0.9946 - val_loss: 0.9655 - val_acc: 0.5708\n",
      "Epoch 5/12\n",
      "560/560 [==============================] - 13s 23ms/step - loss: 0.0282 - acc: 0.9964 - val_loss: 0.9687 - val_acc: 0.6167\n",
      "800/800 [==============================] - 7s 8ms/step\n",
      "Train on 560 samples, validate on 240 samples\n",
      "Epoch 1/12\n",
      "560/560 [==============================] - 13s 24ms/step - loss: 0.5012 - acc: 0.7679 - val_loss: 0.6617 - val_acc: 0.6292\n",
      "Epoch 2/12\n",
      "560/560 [==============================] - 9s 16ms/step - loss: 0.1410 - acc: 0.9696 - val_loss: 0.7467 - val_acc: 0.6292\n",
      "Epoch 3/12\n",
      "560/560 [==============================] - 10s 18ms/step - loss: 0.0662 - acc: 0.9893 - val_loss: 0.8208 - val_acc: 0.6292\n",
      "Epoch 4/12\n",
      "560/560 [==============================] - 10s 18ms/step - loss: 0.0360 - acc: 0.9982 - val_loss: 0.9100 - val_acc: 0.6333\n",
      "Epoch 5/12\n",
      "560/560 [==============================] - 12s 22ms/step - loss: 0.0225 - acc: 1.0000 - val_loss: 0.9885 - val_acc: 0.6208\n",
      "800/800 [==============================] - 6s 7ms/step\n"
     ]
    }
   ],
   "source": [
    "conv_bow_scores = run_cross_validate(get_conv_bow_model, convolutional_data, labels, cv=2, categorical=True)"
   ]
  },
  {
   "cell_type": "code",
   "execution_count": 8,
   "metadata": {},
   "outputs": [],
   "source": [
    "def vectorize_review(review_words):\n",
    "  sentence = []\n",
    "  for word in review_words:\n",
    "    if word in word_vectors.wv:\n",
    "      sentence.append(word_vectors.wv['dog'])\n",
    "  return np.array(sentence, np.float64)"
   ]
  },
  {
   "cell_type": "code",
   "execution_count": 9,
   "metadata": {},
   "outputs": [],
   "source": [
    "def pad_vectorized_review(vectorized_review, length):\n",
    "  return np.concatenate((vectorized_review, np.zeros((length - len(vectorized_review), 100))))"
   ]
  },
  {
   "cell_type": "code",
   "execution_count": 10,
   "metadata": {},
   "outputs": [],
   "source": [
    "vectorized_reviews = [vectorize_review(text_to_word_sequence(x)) for x in predictors_raw]\n",
    "pad_length = max([x.shape[0] for x in vectorized_reviews])\n",
    "vectorized_reviews = np.array([[pad_vectorized_review(x, pad_length)] for x in vectorized_reviews])"
   ]
  },
  {
   "cell_type": "code",
   "execution_count": 11,
   "metadata": {},
   "outputs": [
    {
     "name": "stdout",
     "output_type": "stream",
     "text": [
      "(1600, 1, 381, 100)\n"
     ]
    }
   ],
   "source": [
    "print(vectorized_reviews.shape)"
   ]
  },
  {
   "cell_type": "code",
   "execution_count": 57,
   "metadata": {},
   "outputs": [],
   "source": [
    "def get_conv_wv_model():\n",
    "  model = Sequential([\n",
    "      Conv2D(\n",
    "          filters=50,\n",
    "          kernel_size=(10, 100),\n",
    "          data_format=\"channels_first\",\n",
    "          input_shape=(1, 381, 100),\n",
    "          activation=relu),\n",
    "      MaxPooling2D(strides=(1, 1), pool_size=(2, 1), data_format=\"channels_first\"),\n",
    "      Dropout(0.2),\n",
    "      Flatten(),\n",
    "      Dense(2, activation='softmax')\n",
    "  ])\n",
    "  model.compile(\n",
    "      loss='binary_crossentropy',\n",
    "      optimizer='adam',\n",
    "      metrics=['accuracy'])\n",
    "  return model"
   ]
  },
  {
   "cell_type": "code",
   "execution_count": 70,
   "metadata": {},
   "outputs": [
    {
     "name": "stdout",
     "output_type": "stream",
     "text": [
      "Train on 560 samples, validate on 240 samples\n",
      "Epoch 1/12\n",
      "560/560 [==============================] - 5s 9ms/step - loss: 0.7025 - acc: 0.4911 - val_loss: 0.6932 - val_acc: 0.4917\n",
      "Epoch 2/12\n",
      "560/560 [==============================] - 3s 5ms/step - loss: 0.6923 - acc: 0.5429 - val_loss: 0.6993 - val_acc: 0.4625\n",
      "Epoch 3/12\n",
      "560/560 [==============================] - 3s 5ms/step - loss: 0.6823 - acc: 0.5571 - val_loss: 0.6747 - val_acc: 0.5792\n",
      "Epoch 4/12\n",
      "560/560 [==============================] - 3s 5ms/step - loss: 0.6699 - acc: 0.6304 - val_loss: 0.6840 - val_acc: 0.5833\n",
      "Epoch 5/12\n",
      "560/560 [==============================] - 3s 5ms/step - loss: 0.6463 - acc: 0.6589 - val_loss: 0.6832 - val_acc: 0.5667\n",
      "Epoch 6/12\n",
      "560/560 [==============================] - 3s 5ms/step - loss: 0.6338 - acc: 0.6393 - val_loss: 0.6863 - val_acc: 0.5875\n",
      "Epoch 7/12\n",
      "560/560 [==============================] - 3s 5ms/step - loss: 0.6156 - acc: 0.6821 - val_loss: 0.6981 - val_acc: 0.5667\n",
      "800/800 [==============================] - 1s 2ms/step\n",
      "Train on 560 samples, validate on 240 samples\n",
      "Epoch 1/12\n",
      "560/560 [==============================] - 5s 9ms/step - loss: 0.6998 - acc: 0.4714 - val_loss: 0.6930 - val_acc: 0.5208\n",
      "Epoch 2/12\n",
      "560/560 [==============================] - 3s 5ms/step - loss: 0.6932 - acc: 0.5018 - val_loss: 0.6941 - val_acc: 0.4875\n",
      "Epoch 3/12\n",
      "560/560 [==============================] - 3s 5ms/step - loss: 0.6897 - acc: 0.5554 - val_loss: 0.7010 - val_acc: 0.4542\n",
      "Epoch 4/12\n",
      "560/560 [==============================] - 3s 5ms/step - loss: 0.6855 - acc: 0.5643 - val_loss: 0.7088 - val_acc: 0.4542\n",
      "Epoch 5/12\n",
      "560/560 [==============================] - 4s 6ms/step - loss: 0.6791 - acc: 0.5750 - val_loss: 0.7192 - val_acc: 0.4542\n",
      "800/800 [==============================] - 2s 2ms/step\n"
     ]
    }
   ],
   "source": [
    "conv_wv_scores = run_cross_validate(get_conv_wv_model, vectorized_reviews, labels, cv=2, categorical=True)"
   ]
  },
  {
   "cell_type": "code",
   "execution_count": 78,
   "metadata": {},
   "outputs": [
    {
     "name": "stdout",
     "output_type": "stream",
     "text": [
      "Bag of words:  [0.82125, 0.7775]\n",
      "Word vectors:  [0.48, 0.51625]\n"
     ]
    }
   ],
   "source": [
    "print (\"Bag of words: \", conv_bow_scores['accuracies'])\n",
    "print (\"Word vectors: \", conv_wv_scores['accuracies'])\n",
    "\n",
    "conv_scores_entries =[('Bag of Words', x) for x in conv_bow_scores['accuracies']] + [('Word Vectors', x) for x in conv_wv_scores['accuracies']]\n",
    "conv_scores_data_frame = DataFrame(conv_scores_entries, columns=['input type', 'accuracy'])"
   ]
  },
  {
   "cell_type": "code",
   "execution_count": 79,
   "metadata": {},
   "outputs": [
    {
     "data": {
      "image/png": "[encoded data removed]",
      "text/plain": [
       "<Figure size 432x288 with 1 Axes>"
      ]
     },
     "metadata": {
      "needs_background": "light"
     },
     "output_type": "display_data"
    }
   ],
   "source": [
    "boxplot(x='input type', y='accuracy', data=conv_scores_data_frame)\n",
    "plt.show()"
   ]
  },
  {
   "cell_type": "code",
   "execution_count": null,
   "metadata": {},
   "outputs": [],
   "source": []
  }
 ],
 "metadata": {
  "kernelspec": {
   "display_name": "Python 3",
   "language": "python",
   "name": "python3"
  },
  "language_info": {
   "codemirror_mode": {
    "name": "ipython",
    "version": 3
   },
   "file_extension": ".py",
   "mimetype": "text/x-python",
   "name": "python",
   "nbconvert_exporter": "python",
   "pygments_lexer": "ipython3",
   "version": "3.6.6"
  }
 },
 "nbformat": 4,
 "nbformat_minor": 2
}
