{
 "cells": [
  {
   "cell_type": "markdown",
   "metadata": {},
   "source": [
    "# Naive Bayes Binary Classification: Proof of Concept\n",
    "\n",
    "In this notebook I demonstrate the use of a popular benchmarking ML technique, Naive Bayes, as a binary classifier for Genuine and Deceptive reviews over the small ground truth Chicago Hotel dataset.\n",
    "\n",
    "The accuracies produced in this notebook are not to be trusted as they are based on a very small dataset (1600 samples) with a TINY testing set (480 samples). However, it shows a proof of concept using simple Bag-Of-Words features such as count vectorization and Tf-idf to give a baseline model to improve on with larger datasets and more features.\n",
    "\n",
    "Without further ado, let's continue.\n",
    "\n",
    "We start by importing the modules we need."
   ]
  },
  {
   "cell_type": "code",
   "execution_count": 1,
   "metadata": {},
   "outputs": [],
   "source": [
    "import os\n",
    "import numpy as np\n",
    "import pandas as pd"
   ]
  },
  {
   "cell_type": "markdown",
   "metadata": {},
   "source": [
    "Now let's pull the dataset and process it into data frames using Pandas."
   ]
  },
  {
   "cell_type": "code",
   "execution_count": 3,
   "metadata": {},
   "outputs": [],
   "source": [
    "neg_deceptive_folder_path = r\"../data/hotels/negative_polarity/deceptive_from_MTurk/\"\n",
    "neg_true_folder_path = r'../data/hotels/negative_polarity/truthful_from_Web/'\n",
    "pos_deceptive_folder_path = r'../data/hotels/positive_polarity/deceptive_from_MTurk/'\n",
    "pos_true_folder_path = r'../data/hotels/positive_polarity/truthful_from_TripAdvisor/'\n",
    "\n",
    "sentiment_class = []\n",
    "reviews = []\n",
    "deceptive_class =[]\n",
    "\n",
    "for i in range(1,6):\n",
    "    positive_true = pos_true_folder_path + 'fold' + str(i) \n",
    "    positive_deceptive = pos_deceptive_folder_path + 'fold' + str(i)\n",
    "    negative_true = neg_true_folder_path + 'fold' + str(i) \n",
    "    negative_deceptive = neg_deceptive_folder_path + 'fold' + str(i) \n",
    "    for data_file in sorted(os.listdir(negative_deceptive)):\n",
    "      sentiment_class.append('negative')\n",
    "      deceptive_class.append(str(data_file.split('_')[0]))\n",
    "      with open(os.path.join(negative_deceptive, data_file)) as f:\n",
    "        contents = f.read()\n",
    "        reviews.append(contents)\n",
    "    for data_file in sorted(os.listdir(negative_true)):\n",
    "      sentiment_class.append('negative')\n",
    "      deceptive_class.append(str(data_file.split('_')[0]))\n",
    "      with open(os.path.join(negative_true, data_file)) as f:\n",
    "        contents = f.read()\n",
    "        reviews.append(contents)\n",
    "    for data_file in sorted(os.listdir(positive_deceptive)):\n",
    "      sentiment_class.append('positive')\n",
    "      deceptive_class.append(str(data_file.split('_')[0]))\n",
    "      with open(os.path.join(positive_deceptive, data_file)) as f:\n",
    "        contents = f.read()\n",
    "        reviews.append(contents)\n",
    "    for data_file in sorted(os.listdir(positive_true)):\n",
    "      sentiment_class.append('positive')\n",
    "      deceptive_class.append(str(data_file.split('_')[0]))\n",
    "      with open(os.path.join(positive_true, data_file)) as f:\n",
    "        contents = f.read()\n",
    "        reviews.append(contents)\n",
    "\n",
    "\n",
    "df = pd.DataFrame({'sentiment':sentiment_class,'review':reviews,'deceptive':deceptive_class})\n",
    "\n",
    "df.loc[df['deceptive']=='d','deceptive']=1\n",
    "df.loc[df['deceptive']=='t','deceptive']=0\n",
    "\n",
    "df.loc[df['sentiment']=='positive','sentiment']=1\n",
    "df.loc[df['sentiment']=='negative','sentiment']=0\n",
    "\n",
    "data_x = df['review']\n",
    "\n",
    "data_y = np.asarray(df['deceptive'],dtype=int)"
   ]
  },
  {
   "cell_type": "markdown",
   "metadata": {},
   "source": [
    "Then, we split our data into training and testing. Experiment shows that 70/30 split is ideal. The random_state parameter lets us shuffle our data randomly."
   ]
  },
  {
   "cell_type": "code",
   "execution_count": 4,
   "metadata": {},
   "outputs": [],
   "source": [
    "from sklearn.model_selection import train_test_split\n",
    "\n",
    "X_train, X_test, y_train, y_test = train_test_split(data_x, data_y, test_size=0.3, random_state=1)"
   ]
  },
  {
   "cell_type": "markdown",
   "metadata": {},
   "source": [
    "We now want to initialize our feature extractor, CountVectorizer. This turns the reviews into vectors of word counts."
   ]
  },
  {
   "cell_type": "code",
   "execution_count": 5,
   "metadata": {},
   "outputs": [],
   "source": [
    "from sklearn.feature_extraction.text import CountVectorizer\n",
    "from sklearn.feature_extraction.text import TfidfTransformer\n",
    "\n",
    "cv = CountVectorizer()\n",
    "tfidf = TfidfTransformer()"
   ]
  },
  {
   "cell_type": "markdown",
   "metadata": {},
   "source": [
    "And now we fit it to our training and testing data, respectively."
   ]
  },
  {
   "cell_type": "code",
   "execution_count": 6,
   "metadata": {},
   "outputs": [],
   "source": [
    "X_train_count = cv.fit_transform(X_train) # Transforming the Training reviews to count vectors and fitting for TF-idf\n",
    "X_test_count = cv.transform(X_test) # Only transforming the test reviews to count vectors\n",
    "\n",
    "X_train_tfidf = tfidf.fit_transform(X_train_count) # Transforming the fitted training Count Vectors to Tfidf vectors\n",
    "X_test_tfidf = tfidf.transform(X_test_count) # Transforming test count vectors to tf-df vectors"
   ]
  },
  {
   "cell_type": "markdown",
   "metadata": {},
   "source": [
    "Now we initialize our model instance, Complement Naive Bayes."
   ]
  },
  {
   "cell_type": "code",
   "execution_count": 7,
   "metadata": {},
   "outputs": [],
   "source": [
    "from sklearn.naive_bayes import ComplementNB\n",
    "\n",
    "nbayes = ComplementNB()"
   ]
  },
  {
   "cell_type": "markdown",
   "metadata": {},
   "source": [
    "And fit it to our training data."
   ]
  },
  {
   "cell_type": "code",
   "execution_count": 8,
   "metadata": {},
   "outputs": [
    {
     "data": {
      "text/plain": [
       "ComplementNB(alpha=1.0, class_prior=None, fit_prior=True, norm=False)"
      ]
     },
     "execution_count": 8,
     "metadata": {},
     "output_type": "execute_result"
    }
   ],
   "source": [
    "nbayes.fit(X_train_tfidf, y_train)"
   ]
  },
  {
   "cell_type": "markdown",
   "metadata": {},
   "source": [
    "And run it over our testing data."
   ]
  },
  {
   "cell_type": "code",
   "execution_count": 9,
   "metadata": {},
   "outputs": [],
   "source": [
    "y_predictions = list(nbayes.predict(X_test_tfidf))"
   ]
  },
  {
   "cell_type": "markdown",
   "metadata": {},
   "source": [
    "Let's see the results!"
   ]
  },
  {
   "cell_type": "code",
   "execution_count": 10,
   "metadata": {},
   "outputs": [
    {
     "name": "stdout",
     "output_type": "stream",
     "text": [
      "                                                Review Genuine(0)/Deceptive(1)\n",
      "0    I recently stayed at the Sofitel Hotel (Chicag...               Deceptive\n",
      "1    I was unimpressed by the quality of this hotel...               Deceptive\n",
      "2    I've been here for 4 days. Great location righ...                 Genuine\n",
      "3    I recently visited Chicago. I stayed at the Ho...               Deceptive\n",
      "4    Extravagant, Exuberant Experience! Our stay at...               Deceptive\n",
      "5    I stayed here in the last weekend of September...               Deceptive\n",
      "6    We booked the Amalfi looking for a great bouti...                 Genuine\n",
      "7    I've stayed at several different hotels in Chi...               Deceptive\n",
      "8    Stays here while on a business trip in Chicago...               Deceptive\n",
      "9    I just had a conference there. They have bed b...               Deceptive\n",
      "10   My family really enjoyed this hotel the weeken...               Deceptive\n",
      "11   We had our hotel reservations at another hotel...               Deceptive\n",
      "12   My experience at the Amalfi Hotel in Chicago w...               Deceptive\n",
      "13   After reading all the lukewarm reviews for thi...                 Genuine\n",
      "14   Very pleasant front staff, wine in the evening...                 Genuine\n",
      "15   I needed a place to stay for a business confer...               Deceptive\n",
      "16   My family and I vacation in Chicago and stayed...               Deceptive\n",
      "17   This is a review of a first class hotel the In...               Deceptive\n",
      "18   Amazing! I was swept away when I walked into t...               Deceptive\n",
      "19   Just back from spending Memorial Day weekend i...                 Genuine\n",
      "20   On a recent business trip to Chicago, I had th...               Deceptive\n",
      "21   The recently remodeled Affina was amazing - fr...               Deceptive\n",
      "22   This hotel is great! I love its interior desig...               Deceptive\n",
      "23   I was in Chicago for a convention and stayed a...                 Genuine\n",
      "24   I want to issue a travel-warning to folks who ...                 Genuine\n",
      "25   The Intercontinental Chicago was not as great ...               Deceptive\n",
      "26   Mostly great with a few islands of relatively ...               Deceptive\n",
      "27   Used this hotel the first time I was in Chicag...                 Genuine\n",
      "28   Set up an important meeting for some clients a...               Deceptive\n",
      "29   We had reservations (guaranteed by credit card...                 Genuine\n",
      "..                                                 ...                     ...\n",
      "450  We experienced bed bugs in our room while stay...                 Genuine\n",
      "451  I had to write this review! My tired body walk...               Deceptive\n",
      "452  This hotel is dizzying with all of the bold co...               Deceptive\n",
      "453  The Palmer House Hilton was recommended to me ...               Deceptive\n",
      "454  Upon check in - the lobby was BUSY! I was tire...               Deceptive\n",
      "455  when i first checked the hotel's website and r...               Deceptive\n",
      "456  The Ambassador East is a particularly crappy p...               Deceptive\n",
      "457  This has been one of the most pleasurable hote...               Deceptive\n",
      "458  The location of this hotel is excellent. The h...                 Genuine\n",
      "459  Stay away from the Hyatt Regency Chicago. I re...               Deceptive\n",
      "460  We just got back from a great weekend in Chica...                 Genuine\n",
      "461  Amalfi Hotel Chicago is just minutes from Navy...               Deceptive\n",
      "462  We booked this trip several months in advance ...               Deceptive\n",
      "463  I travel a lot for business and quite frankly,...               Deceptive\n",
      "464  Not worth the price! I had the unfortunate exp...               Deceptive\n",
      "465  My stay at the Sofitel was great. I loved the ...               Deceptive\n",
      "466  The Omni Chicago Hotel is one of the most beau...               Deceptive\n",
      "467  My wife and I stayed at the Ambassador East Ho...               Deceptive\n",
      "468  Whatever you do, do NOT stay at the Homewood S...               Deceptive\n",
      "469  Very friendly staff - and helpfull with whatev...                 Genuine\n",
      "470  Staying here currently. Had aspired to sleep. ...               Deceptive\n",
      "471  This is a great hotel! The views are fabulous,...                 Genuine\n",
      "472  The Hyatt Regency in Chicago was a wonderful e...               Deceptive\n",
      "473  The Fairmont Chicago Millennium Park has to be...               Deceptive\n",
      "474  A recent stay at the James Hotel-Chicago, reve...               Deceptive\n",
      "475  After staying at the Sheraton Royal Orchid Hot...                 Genuine\n",
      "476  When I walked into the Millennium Knickerbocke...               Deceptive\n",
      "477  Dissapointed with my stay at the Fairmont Chic...               Deceptive\n",
      "478  I am a fan of Kimpton Hotels, however I have n...                 Genuine\n",
      "479  We were hungry and tired when we checked into ...               Deceptive\n",
      "\n",
      "[480 rows x 2 columns]\n",
      "              precision    recall  f1-score   support\n",
      "\n",
      "     Genuine       0.97      0.72      0.83       245\n",
      "   Deceptive       0.77      0.98      0.86       235\n",
      "\n",
      "   micro avg       0.85      0.85      0.85       480\n",
      "   macro avg       0.87      0.85      0.84       480\n",
      "weighted avg       0.87      0.85      0.84       480\n",
      "\n",
      "Overall score:  0.8458333333333333\n"
     ]
    }
   ],
   "source": [
    "from sklearn import metrics\n",
    "\n",
    "yp=[\"Genuine\" if a==0 else \"Deceptive\" for a in y_predictions]\n",
    "output_fm = pd.DataFrame({'Review':list(X_test) ,'Genuine(0)/Deceptive(1)':yp})\n",
    "print(output_fm)\n",
    "print(metrics.classification_report(y_test, y_predictions, target_names=set(yp)))\n",
    "print('Overall score: ', nbayes.score(X_test_tfidf, y_test))"
   ]
  },
  {
   "cell_type": "markdown",
   "metadata": {},
   "source": [
    "87% accuracy! Wow!"
   ]
  },
  {
   "cell_type": "code",
   "execution_count": null,
   "metadata": {},
   "outputs": [],
   "source": []
  }
 ],
 "metadata": {
  "kernelspec": {
   "display_name": "Python (lucas)",
   "language": "python",
   "name": "lucas"
  },
  "language_info": {
   "codemirror_mode": {
    "name": "ipython",
    "version": 3
   },
   "file_extension": ".py",
   "mimetype": "text/x-python",
   "name": "python",
   "nbconvert_exporter": "python",
   "pygments_lexer": "ipython3",
   "version": "3.7.1"
  },
  "toc": {
   "base_numbering": 1,
   "nav_menu": {},
   "number_sections": true,
   "sideBar": true,
   "skip_h1_title": false,
   "title_cell": "Table of Contents",
   "title_sidebar": "Contents",
   "toc_cell": false,
   "toc_position": {},
   "toc_section_display": true,
   "toc_window_display": false
  }
 },
 "nbformat": 4,
 "nbformat_minor": 2
}
