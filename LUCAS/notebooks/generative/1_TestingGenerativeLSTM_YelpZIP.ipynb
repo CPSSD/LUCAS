{
 "cells": [
  {
   "cell_type": "markdown",
   "metadata": {
    "colab_type": "text",
    "id": "L5Ip7fHH2D9V"
   },
   "source": [
    "# Testing our first LSTM text generation model"
   ]
  },
  {
   "cell_type": "markdown",
   "metadata": {},
   "source": [
    "Here we'll recreate the same network that we trained our entire YelpNYC dataset on, load in the best weights, and actually generate some reviews!"
   ]
  },
  {
   "cell_type": "code",
   "execution_count": 1,
   "metadata": {
    "colab": {
     "base_uri": "https://localhost:8080/",
     "height": 105
    },
    "colab_type": "code",
    "id": "TKomcDmO2Gh7",
    "outputId": "26ddcf04-bb00-4029-edf6-8427045789f0"
   },
   "outputs": [
    {
     "name": "stderr",
     "output_type": "stream",
     "text": [
      "Using TensorFlow backend.\n"
     ]
    },
    {
     "name": "stdout",
     "output_type": "stream",
     "text": [
      "WARNING:tensorflow:From /usr/local/lib/python3.6/dist-packages/tensorflow/python/framework/op_def_library.py:263: colocate_with (from tensorflow.python.framework.ops) is deprecated and will be removed in a future version.\n",
      "Instructions for updating:\n",
      "Colocations handled automatically by placer.\n"
     ]
    }
   ],
   "source": [
    "import keras\n",
    "from keras import layers\n",
    "import sys\n",
    "import numpy as np\n",
    "\n",
    "chars=['\\n', ' ', '!', '\"', '#', '$', '%', '&', \"'\", '(', ')', '*', '+', ',', '-', '.', '/', '0', '1', '2', '3', '4', '5', '6', '7', '8', '9', ':', ';', '=', '?', '@', 'A', 'B', 'C', 'D', 'E', 'F', 'G', 'H', 'I', 'J', 'K', 'L', 'M', 'N', 'O', 'P', 'Q', 'R', 'S', 'T', 'U', 'V', 'W', 'X', 'Y', 'Z', '[', '\\\\', ']', '^', '_', '`', 'a', 'b', 'c', 'd', 'e', 'f', 'g', 'h', 'i', 'j', 'k', 'l', 'm', 'n', 'o', 'p', 'q', 'r', 's', 't', 'u', 'v', 'w', 'x', 'y', 'z', '{', '|', '}', '~']\n",
    "char_indices = dict((char, chars.index(char)) for char in chars)\n",
    "maxlen=60\n",
    "step=1\n",
    "\n",
    "model = keras.models.Sequential()\n",
    "model.add(layers.LSTM(1024, input_shape=(maxlen, len(chars)),return_sequences=True))\n",
    "model.add(layers.LSTM(1024, input_shape=(maxlen, len(chars))))\n",
    "model.add(layers.Dense(len(chars), activation='softmax'))\n",
    "model.load_weights(\"Mar-4-all-01-1.0843.hdf5\")\n",
    "\n",
    "optimizer = keras.optimizers.Adam(lr=0.0002)\n",
    "model.compile(loss='categorical_crossentropy', optimizer=optimizer)"
   ]
  },
  {
   "cell_type": "code",
   "execution_count": 2,
   "metadata": {
    "colab": {
     "base_uri": "https://localhost:8080/",
     "height": 409
    },
    "colab_type": "code",
    "id": "JekS7bmT5V_u",
    "outputId": "fbbabc5e-c628-4db3-ae55-c84a5d426593"
   },
   "outputs": [
    {
     "data": {
      "image/png": "[encoded data removed]",
      "text/plain": [
       "<IPython.core.display.Image object>"
      ]
     },
     "execution_count": 2,
     "metadata": {
      "tags": []
     },
     "output_type": "execute_result"
    }
   ],
   "source": [
    "from keras.utils import plot_model\n",
    "plot_model(model, to_file='model.png', show_shapes=True)\n",
    "from IPython.display import Image\n",
    "Image(filename='model.png')"
   ]
  },
  {
   "cell_type": "code",
   "execution_count": 0,
   "metadata": {
    "colab": {},
    "colab_type": "code",
    "id": "lPkcak2q5Xov"
   },
   "outputs": [],
   "source": [
    "def sample(preds, temperature=1.0):\n",
    "    '''\n",
    "    Generate some randomness with the given preds\n",
    "    which is a list of numbers, if the temperature\n",
    "    is very small, it will always pick the index\n",
    "    with highest pred value\n",
    "    '''\n",
    "    preds = np.asarray(preds).astype('float64')\n",
    "    preds = np.log(preds) / temperature\n",
    "    exp_preds = np.exp(preds)\n",
    "    preds = exp_preds / np.sum(exp_preds)\n",
    "    probas = np.random.multinomial(1, preds, 1)\n",
    "    return np.argmax(probas)\n",
    "\n",
    "def random_reviews():\n",
    "    start_index = np.random.randint(0, len(text) - maxlen - 1)\n",
    "    generated_text = text[start_index: start_index + maxlen]\n",
    "\n",
    "    for temperature in [0.1, 0.3, 0.5, 0.8, 1.0]:\n",
    "        print('Temperature: ', temperature)\n",
    "        sys.stdout.write(generated_text)\n",
    "        for i in range(1000):\n",
    "            sampled = np.zeros((1, maxlen, len(chars)))\n",
    "            for t, char in enumerate(generated_text):\n",
    "                sampled[0, t, char_indices[char]] = 1.\n",
    "            preds = model.predict(sampled, verbose=0)[0]\n",
    "            next_index = sample(preds, temperature)\n",
    "            next_char = chars[next_index]\n",
    "            generated_text += next_char\n",
    "            generated_text = generated_text[1:]\n",
    "            sys.stdout.write(next_char)\n",
    "            sys.stdout.flush()\n",
    "        print(generated_text)"
   ]
  },
  {
   "cell_type": "code",
   "execution_count": 9,
   "metadata": {
    "colab": {
     "base_uri": "https://localhost:8080/",
     "height": 598
    },
    "colab_type": "code",
    "id": "ZrDzmHWy5gLp",
    "outputId": "57cf75b9-e383-4ba9-cdbe-2893beb9a2ab"
   },
   "outputs": [
    {
     "name": "stdout",
     "output_type": "stream",
     "text": [
      "Temperature:  0.1\n",
      "will pick a random place in this sentence to start from, and the food is great. \\302\\240I had the chicken and cheese and cheese and cheese and cheese and cheese and cheese and sandwiches are a little small and the service was great and the service is always great. \\302\\240I had the pizza and the service was great and the service was great. \\302\\240I will be back again.\\n\"\n",
      "0 \"I love the food and service was great and the service is great. \\302\\240I will be back again.\\n\"\n",
      "0 \"The food is great and the service was great. The service is great and the service is great. The service is great and the service was great and the service was great. The service is always great and the service is always great. The service is always great and the service was great. \\302\\240I had the chicken and cheese and cheese and cheese and cheese and cheese and cheese and cheese sandwiches are a little so good. \\302\\240I will be back again.\\n\"\n",
      "0 \"I love the food and service was great and the service is great. \\302\\240I had the chicken and cheese and cheese and cheese sandw\\240I had the chicken and cheese and cheese and cheese sandw\n",
      "Temperature:  0.3\n",
      "\\240I had the chicken and cheese and cheese and cheese sandwiches and the food is amazing. \\302\\240I had a great place to eat and enjoy the food and the service is really good. \\302\\240I love the food and service and the service was a bit overwhelming. It\\'s a fantastic dinner on the menu and it was amazing. I will be back again and the food is great and the service is great. I will be back\\n\"\n",
      "0 \"I love the food and service. The food is good and the food is great. \\302\\240I had the chicken and chicken and the food is great and the service was great. \\302\\240I would go back again.\\n\"\n",
      "0 \"The place is one of the best pizza places in the city. \\302\\240I would give it a try the wait then they have a great place to go and good food and great service. \\302\\240It\\'s a fantastic place to go during a long line on a while and the food is so good. \\302\\240I will be back again.\\n\"\n",
      "0 \"Awesome food and atmosphere and service. I had the food is a little so fresh and the food is amazing. I would recommend the staff is amazing and the food is great. \\302\\240I haend the staff is amazing and the food is great. \\302\\240I ha\n",
      "Temperature:  0.5\n",
      "end the staff is amazing and the food is great. \\302\\240I had the pizza and the staff is always great. \\302\\240It\\'s a fancy place to eat.\\n\"\n",
      "1 \"I really like the food and service and fast and excellent. They had to be sure to compete the better than the long long long long around the city so you can get seating out of the for the menu. \\302\\240Good location and a great place.\\n\"\n",
      "0 \"Pretty good food and very attentive and friendly service. Always friendly and service was friendly. \\302\\240I will definitely be back.\\n\"\n",
      "0 \"The food is hit or miss the food is so good!!!!!! \\302\\240We had the sandwiches and cheese pizza and the food is amazing. Consistencable seating and good service. \\302\\240I would definitely go back.\\n\"\n",
      "1 \"The food was great and the service is fantastic. I can\\'t go wrong with the sandwiches. \\302\\240I had a bit pricey, and it was very killer and we had a real desert of the couple of sushi that they check it out. The arepas is a bit overwhelmed and so so for the donuts. The pizza is the best pizza in town and the pork chops are  The pizza is the best pizza in town and the pork chops are \n",
      "Temperature:  0.8\n",
      " The pizza is the best pizza in town and the pork chops are the best in NYC\\n\"\n",
      "1 \"Correct white sauce was great and scate is on top, it is amazing. \\302\\240Pizza is average. \\302\\240I had the roast date or soup and the green arepable and with a sandwiches and the desian food. We had to wait is has in Friends!\\n\"\n",
      "1 \"great place. \\302\\240Had a street cheese sandwiches, dinner jand again.\\n\"\n",
      "0 \"what doesn\\'t mant two times but service is great to go for any time. \\302\\240I will be back.\\n\"\n",
      "1 \"Cheese will donuts) everyone. \\302\\240one of the best yanceloni in town.\\n\"\n",
      "0 \"Looking forward to the restaurant on top. This place is an a much fend. \\302\\240And the setting at 9930peree is excellent. \\302\\240A must do in years and feels have a great experience at home. Really nice can\\'t bis point. The only thing looks good instead is nice and then it\\'s very yummy!\\n\"\n",
      "1 \"One word, both time is amazing. It\\'s amazing and one of the best pizza as I just get into sliced noodles. \\302\\240I would stick up with excellent. \\302\\240My next day is clean, and very s up with excellent. \\302\\240My next day is clean, and very s\n",
      "Temperature:  1.0\n",
      " up with excellent. \\302\\240My next day is clean, and very solid as just really good))\\n\"\n",
      "1 \"French toast with great variety of cheese. Very Yummy!\\n\"\n",
      "1 \"not so bruzgl.\\n\"\n",
      "0 \"Delicious sushi & comfortable seafood sowever, most work! Nor great fries. Not to us many of the coffee and love it\\ sum in Philadelphia. Mac Brevaha and meat\\'s over dished the annivores, cozy bar all the this sandwich. The pork sandwich and attention its a decent server, with ccunsica and acco-oicali\\'s donuts comparet! \\302\\240When you\\'re not what you as luck, but diner, you will, it\\n\"\n",
      "1 \"Grew on my Family yan. Always good for a delivery brunch and (the attitude is stimmed, were like a letter of a clattee jahann - and Jersinge stuffed feeling me) when we were drink. Overall because they went seemed to bring my taste, will be a vacation to me!\\n\"\n",
      "0 \"Yes, the food is okay. The atmosphere are excellent. And atcompacity but each one had wisni show. New one down starter when traspeed to my Nute nece people size. \\302\\240 Really good selection of japaneso ramen.\\n\"\n",
      "1 \"One o302\\240 Really good selection of japaneso ramen.\\n\"\n",
      "1 \"One o\n"
     ]
    }
   ],
   "source": [
    "text = 'This is a starter seed. The program will pick a random place in this sentence to start from, and then begin predicting the next character.'\n",
    "random_reviews()\n"
   ]
  }
 ],
 "metadata": {
  "accelerator": "GPU",
  "colab": {
   "collapsed_sections": [],
   "name": "Generative_Model_Testing.ipynb",
   "provenance": [],
   "toc_visible": true,
   "version": "0.3.2"
  },
  "kernelspec": {
   "display_name": "Python 3",
   "language": "python",
   "name": "python3"
  },
  "language_info": {
   "codemirror_mode": {
    "name": "ipython",
    "version": 3
   },
   "file_extension": ".py",
   "mimetype": "text/x-python",
   "name": "python",
   "nbconvert_exporter": "python",
   "pygments_lexer": "ipython3",
   "version": "3.6.7"
  },
  "toc": {
   "base_numbering": 1,
   "nav_menu": {},
   "number_sections": true,
   "sideBar": true,
   "skip_h1_title": false,
   "title_cell": "Table of Contents",
   "title_sidebar": "Contents",
   "toc_cell": false,
   "toc_position": {},
   "toc_section_display": true,
   "toc_window_display": false
  }
 },
 "nbformat": 4,
 "nbformat_minor": 1
}
