{
 "cells": [
  {
   "cell_type": "markdown",
   "metadata": {},
   "source": [
    "# The Data"
   ]
  },
  {
   "cell_type": "markdown",
   "metadata": {},
   "source": [
    "We need data that labels online user-submitted content as genuine or purposely falsified. We have found three sources of data.\n",
    "\n",
    "## Yelp Reviews\n",
    "\n",
    "* 426,447 reviews\n",
    "* Split into New York (359,052 reviews) and Chicago (67,395 reviews) and a third 'zip' set (608,598 reviews)\n",
    "* All New York and 'zip' reviews are for restaurants. Chicago reviews are split between restaurants and hotels.\n",
    "* Ground truth set, derived from Yelp's spam detection detection.\n",
    "* Yelp's spam detection [is accurate](https://bloom.bg/1KAxzhK).\n",
    "\n",
    "## Amazon Reviews\n",
    "\n",
    "* Compiled as a result of an investigation into fake review production\n",
    "* 628 fake reviews, 942 real reviews\n",
    "* Gold standard set. From book authors that confessed to buying fake reviews.\n",
    "* \"All reviews were between 50 and 150 words as a minimum length\"\n",
    "\n",
    "## TripAdvisor Reviews\n",
    "\n",
    "* 800 Hotel reviews\n",
    "* 400 genuine reviews, 400 fake reviews"
   ]
  },
  {
   "cell_type": "markdown",
   "metadata": {},
   "source": [
    "# What set should we use?\n",
    "\n",
    "[Review Skeptic](http://reviewskeptic.com) has been used for testing the correctness of experimental models. It's technique can achieve 90% accuracy on a specific hotel review corpus, however it does not have the same results cross-domain.\n",
    "\n",
    "We have multiple categories of reviews (resteraunts, hotels, books). There are signifigant differences between these categories (). To use all of them together we must use Multi-domain learning.\n",
    "\n",
    "# Well known points:\n",
    "\n",
    "* There are signifigant differences between product review categories. ([John Blitzer et al. Domain Adaptation for Sentiment Classification](https://www.cs.jhu.edu/~mdredze/datasets/sentiment/))\n",
    "* Trained classifiers lose accuracy when the test data distribution is significantly different from the training data distribution. \n",
    "\n",
    "## Is there a problem with interlacing all our data?"
   ]
  },
  {
   "cell_type": "code",
   "execution_count": null,
   "metadata": {},
   "outputs": [],
   "source": []
  }
 ],
 "metadata": {
  "kernelspec": {
   "display_name": "Python 3",
   "language": "python",
   "name": "python3"
  },
  "language_info": {
   "codemirror_mode": {
    "name": "ipython",
    "version": 3
   },
   "file_extension": ".py",
   "mimetype": "text/x-python",
   "name": "python",
   "nbconvert_exporter": "python",
   "pygments_lexer": "ipython3",
   "version": "3.7.0"
  }
 },
 "nbformat": 4,
 "nbformat_minor": 2
}
